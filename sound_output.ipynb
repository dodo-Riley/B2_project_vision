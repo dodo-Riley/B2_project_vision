{
 "cells": [
  {
   "cell_type": "code",
   "execution_count": 1,
   "id": "05061271",
   "metadata": {
    "ExecuteTime": {
     "end_time": "2022-03-23T11:42:07.100447Z",
     "start_time": "2022-03-23T11:42:06.844591Z"
    }
   },
   "outputs": [],
   "source": [
    "# 모듈 호출\n",
    "import playsound\n",
    "import requests\n",
    "from datetime import datetime\n",
    "import os"
   ]
  },
  {
   "cell_type": "code",
   "execution_count": 2,
   "id": "bdb79082",
   "metadata": {
    "ExecuteTime": {
     "end_time": "2022-03-23T11:42:48.609725Z",
     "start_time": "2022-03-23T11:42:46.207808Z"
    }
   },
   "outputs": [],
   "source": [
    "REST_API_KEY = \"본인의 REST API 키 입력\"\n",
    "\n",
    "class KakaoTTS: # 카카오 API 형식대로 작성\n",
    "\n",
    "\tdef __init__(self, text, API_KEY=REST_API_KEY):\n",
    "\t\tself.resp = requests.post(\n",
    "\t\t\turl=\"https://kakaoi-newtone-openapi.kakao.com/v1/synthesize\",\n",
    "\t\t\theaders={\n",
    "\t\t\t\t\"Content-Type\": \"application/xml\",\n",
    "\t\t\t\t\"Authorization\": f\"KakaoAK {API_KEY}\"\n",
    "\t\t\t},\n",
    "\t\t\tdata=f\"<speak><voice name='WOMAN_READ_CALM'>{text}</voice></speak>\".encode('utf-8')\n",
    "# 출력 음성은 성별, 속도 등 카카오가 지정한 형식에 맞춰 설정 가능\n",
    "# 카카오 ssml 가이드 참고\n",
    "#  <voice name=\"MAN_READ_CALM\"> 지금은 남성 차분한 낭독체입니다.</voice>\n",
    "#  <voice name=\"WOMAN_DIALOG_BRIGHT\"> 안녕하세요. 여성 밝은 대화체예요.</voice>\n",
    "#  <voice name=\"MAN_DIALOG_BRIGHT\"> 안녕하세요. 남성 밝은 대화체예요.</voice>\n",
    "\t\t)\n",
    "\n",
    "\tdef save(self, filename=\"output.mp3\"):\n",
    "\t\twith open(filename, \"wb\") as file:\n",
    "\t\t\tfile.write(self.resp.content)\n",
    "\n",
    "    \n",
    "date_string = datetime.now().strftime(\"%d%m%Y%H%M%S\") \n",
    "filename = \"voice\"+date_string+\".mp3\" # 출력할 파일명 지정\n",
    "tts = KakaoTTS(f'{pred_class}입니다')\n",
    "tts.save(filename) # 음성 파일 저장\n",
    "playsound.playsound(filename) # 음성 출력\n",
    "os.remove(filename) # 해당 파일 삭제"
   ]
  }
 ],
 "metadata": {
  "kernelspec": {
   "display_name": "Python 3 (ipykernel)",
   "language": "python",
   "name": "python3"
  },
  "language_info": {
   "codemirror_mode": {
    "name": "ipython",
    "version": 3
   },
   "file_extension": ".py",
   "mimetype": "text/x-python",
   "name": "python",
   "nbconvert_exporter": "python",
   "pygments_lexer": "ipython3",
   "version": "3.9.7"
  },
  "latex_envs": {
   "LaTeX_envs_menu_present": true,
   "autoclose": false,
   "autocomplete": true,
   "bibliofile": "biblio.bib",
   "cite_by": "apalike",
   "current_citInitial": 1,
   "eqLabelWithNumbers": true,
   "eqNumInitial": 1,
   "hotkeys": {
    "equation": "Ctrl-E",
    "itemize": "Ctrl-I"
   },
   "labels_anchors": false,
   "latex_user_defs": false,
   "report_style_numbering": false,
   "user_envs_cfg": false
  },
  "toc": {
   "base_numbering": 1,
   "nav_menu": {},
   "number_sections": true,
   "sideBar": true,
   "skip_h1_title": false,
   "title_cell": "Table of Contents",
   "title_sidebar": "Contents",
   "toc_cell": false,
   "toc_position": {},
   "toc_section_display": true,
   "toc_window_display": false
  },
  "varInspector": {
   "cols": {
    "lenName": 16,
    "lenType": 16,
    "lenVar": 40
   },
   "kernels_config": {
    "python": {
     "delete_cmd_postfix": "",
     "delete_cmd_prefix": "del ",
     "library": "var_list.py",
     "varRefreshCmd": "print(var_dic_list())"
    },
    "r": {
     "delete_cmd_postfix": ") ",
     "delete_cmd_prefix": "rm(",
     "library": "var_list.r",
     "varRefreshCmd": "cat(var_dic_list()) "
    }
   },
   "types_to_exclude": [
    "module",
    "function",
    "builtin_function_or_method",
    "instance",
    "_Feature"
   ],
   "window_display": false
  }
 },
 "nbformat": 4,
 "nbformat_minor": 5
}
