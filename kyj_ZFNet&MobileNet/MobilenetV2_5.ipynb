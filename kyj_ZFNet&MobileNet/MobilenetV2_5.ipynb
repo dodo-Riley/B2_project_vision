{
  "cells": [
    {
      "cell_type": "markdown",
      "source": [
        "#### 한글폰트 깨짐 현상 개선하기"
      ],
      "metadata": {
        "id": "17-3eXSVfkzd"
      }
    },
    {
      "cell_type": "code",
      "source": [
        "!sudo apt-get install -y fonts-nanum\n",
        "!sudo fc-cache -fv\n",
        "!rm ~/.cache/matplotlib -rf"
      ],
      "metadata": {
        "colab": {
          "base_uri": "https://localhost:8080/"
        },
        "id": "qNIG1PYNfpWT",
        "outputId": "09858fad-6db8-4677-954d-5edbe0b7204d"
      },
      "execution_count": 1,
      "outputs": [
        {
          "output_type": "stream",
          "name": "stdout",
          "text": [
            "Reading package lists... Done\n",
            "Building dependency tree       \n",
            "Reading state information... Done\n",
            "The following NEW packages will be installed:\n",
            "  fonts-nanum\n",
            "0 upgraded, 1 newly installed, 0 to remove and 39 not upgraded.\n",
            "Need to get 9,604 kB of archives.\n",
            "After this operation, 29.5 MB of additional disk space will be used.\n",
            "Get:1 http://archive.ubuntu.com/ubuntu bionic/universe amd64 fonts-nanum all 20170925-1 [9,604 kB]\n",
            "Fetched 9,604 kB in 2s (5,257 kB/s)\n",
            "debconf: unable to initialize frontend: Dialog\n",
            "debconf: (No usable dialog-like program is installed, so the dialog based frontend cannot be used. at /usr/share/perl5/Debconf/FrontEnd/Dialog.pm line 76, <> line 1.)\n",
            "debconf: falling back to frontend: Readline\n",
            "debconf: unable to initialize frontend: Readline\n",
            "debconf: (This frontend requires a controlling tty.)\n",
            "debconf: falling back to frontend: Teletype\n",
            "dpkg-preconfigure: unable to re-open stdin: \n",
            "Selecting previously unselected package fonts-nanum.\n",
            "(Reading database ... 155335 files and directories currently installed.)\n",
            "Preparing to unpack .../fonts-nanum_20170925-1_all.deb ...\n",
            "Unpacking fonts-nanum (20170925-1) ...\n",
            "Setting up fonts-nanum (20170925-1) ...\n",
            "Processing triggers for fontconfig (2.12.6-0ubuntu2) ...\n",
            "/usr/share/fonts: caching, new cache contents: 0 fonts, 1 dirs\n",
            "/usr/share/fonts/truetype: caching, new cache contents: 0 fonts, 3 dirs\n",
            "/usr/share/fonts/truetype/humor-sans: caching, new cache contents: 1 fonts, 0 dirs\n",
            "/usr/share/fonts/truetype/liberation: caching, new cache contents: 16 fonts, 0 dirs\n",
            "/usr/share/fonts/truetype/nanum: caching, new cache contents: 10 fonts, 0 dirs\n",
            "/usr/local/share/fonts: caching, new cache contents: 0 fonts, 0 dirs\n",
            "/root/.local/share/fonts: skipping, no such directory\n",
            "/root/.fonts: skipping, no such directory\n",
            "/var/cache/fontconfig: cleaning cache directory\n",
            "/root/.cache/fontconfig: not cleaning non-existent cache directory\n",
            "/root/.fontconfig: not cleaning non-existent cache directory\n",
            "fc-cache: succeeded\n"
          ]
        }
      ]
    },
    {
      "cell_type": "markdown",
      "source": [
        "위 셀 실행 후 런타임 다시시작"
      ],
      "metadata": {
        "id": "csggdGd3frAK"
      }
    },
    {
      "cell_type": "code",
      "source": [
        "import matplotlib.pyplot as plt\n",
        "\n",
        "plt.rc('font', family='NanumBarunGothic') "
      ],
      "metadata": {
        "id": "N2jQkroSfvHz"
      },
      "execution_count": 25,
      "outputs": []
    },
    {
      "cell_type": "markdown",
      "source": [
        "### 모듈 가져오기"
      ],
      "metadata": {
        "id": "FthRYvHOf0q4"
      }
    },
    {
      "cell_type": "code",
      "execution_count": 3,
      "metadata": {
        "id": "kty_K3yCHIJU"
      },
      "outputs": [],
      "source": [
        "import pandas as pd\n",
        "import numpy as np\n",
        "import cv2\n",
        "import matplotlib.pyplot as plt\n",
        "import glob\n",
        "import tensorflow as tf\n",
        "from tensorflow import keras\n",
        "from tensorflow.keras.models import Sequential\n",
        "from tensorflow.keras.layers import Flatten,Dense,Dropout\n",
        "from tensorflow.keras.preprocessing.image import ImageDataGenerator\n",
        "from tensorflow.keras.callbacks import EarlyStopping\n",
        "from sklearn.metrics import classification_report, confusion_matrix\n",
        "import seaborn as sns"
      ]
    },
    {
      "cell_type": "code",
      "execution_count": 4,
      "metadata": {
        "colab": {
          "base_uri": "https://localhost:8080/"
        },
        "id": "zMY9v3HqLszM",
        "outputId": "4d6d5653-782e-47b1-c326-63ab6025a1e8"
      },
      "outputs": [
        {
          "output_type": "stream",
          "name": "stdout",
          "text": [
            "Mounted at /content/drive\n"
          ]
        }
      ],
      "source": [
        "from google.colab import drive\n",
        "drive.mount('/content/drive')"
      ]
    },
    {
      "cell_type": "code",
      "execution_count": 5,
      "metadata": {
        "colab": {
          "base_uri": "https://localhost:8080/"
        },
        "id": "m4ubnikuHhRf",
        "outputId": "6567aed9-8bcd-41ed-bc61-d9781f10491b"
      },
      "outputs": [
        {
          "output_type": "stream",
          "name": "stdout",
          "text": [
            "/content/drive/MyDrive/ColabNotebooks/AI_service_develop\n"
          ]
        }
      ],
      "source": [
        "cd /content/drive/MyDrive/ColabNotebooks/AI_service_develop"
      ]
    },
    {
      "cell_type": "code",
      "execution_count": 6,
      "metadata": {
        "id": "rIBarWufHrX5"
      },
      "outputs": [],
      "source": [
        "img_size = 224\n",
        "channel=3"
      ]
    },
    {
      "cell_type": "code",
      "execution_count": 7,
      "metadata": {
        "colab": {
          "base_uri": "https://localhost:8080/"
        },
        "id": "DPiOY-GnIH0o",
        "outputId": "62aa2c78-2ec3-4c74-c976-38664ccc2ffd"
      },
      "outputs": [
        {
          "output_type": "stream",
          "name": "stdout",
          "text": [
            "Found 10529 images belonging to 10 classes.\n",
            "Found 1000 images belonging to 10 classes.\n",
            "Found 500 images belonging to 10 classes.\n"
          ]
        }
      ],
      "source": [
        "train_datagen = ImageDataGenerator( \n",
        "        rescale=1./255,         # 픽셀 값을 0~1 범위로 변환\n",
        "        rotation_range=40,      # 40도까지 회전\n",
        "        width_shift_range=0.2,  # 20%까지 좌우 이동\n",
        "        height_shift_range=0.2, # 20%까지 상하 이동\n",
        "        shear_range=0.2,        # 20%까지 기울임\n",
        "        zoom_range=0.2,         # 20%까지 확대\n",
        "        horizontal_flip=True,   # 좌우 뒤집기\n",
        "    )\n",
        "train_generator = train_datagen.flow_from_directory(\n",
        "    './dataset/train_10',\n",
        "    batch_size=50,      \n",
        "    class_mode='categorical', \n",
        "    target_size=(img_size, img_size)) \n",
        "valid_datagen = ImageDataGenerator(rescale=1./255) # 스케일링만 진행\n",
        "valid_generator = valid_datagen.flow_from_directory(\n",
        "    './dataset/valid_10',\n",
        "    batch_size=20,      \n",
        "    class_mode='categorical', \n",
        "    target_size=(img_size, img_size))\n",
        "test_datagen = ImageDataGenerator(rescale=1./255) # 스케일링만 진행\n",
        "test_generator = test_datagen.flow_from_directory(\n",
        "    './dataset/test_10',\n",
        "    batch_size=10,      \n",
        "    class_mode='categorical', \n",
        "    target_size=(img_size, img_size),\n",
        "    shuffle=False)"
      ]
    },
    {
      "cell_type": "code",
      "execution_count": 8,
      "metadata": {
        "colab": {
          "base_uri": "https://localhost:8080/"
        },
        "id": "1j8wNdWaIUqv",
        "outputId": "1723ca14-ac7f-4d5e-f6cd-9592fc2a06af"
      },
      "outputs": [
        {
          "output_type": "stream",
          "name": "stdout",
          "text": [
            "train_generator class :  {'갈아만든배': 0, '레쓰비': 1, '마운틴듀': 2, '밀키스': 3, '스프라이트': 4, '칠성사이다': 5, '코카콜라': 6, '트로피카나망고': 7, '펩시콜라': 8, '환타오렌지': 9}\n",
            "valid_generator class :  {'갈아만든배': 0, '레쓰비': 1, '마운틴듀': 2, '밀키스': 3, '스프라이트': 4, '칠성사이다': 5, '코카콜라': 6, '트로피카나망고': 7, '펩시콜라': 8, '환타오렌지': 9}\n",
            "test_generator class :  {'갈아만든배': 0, '레쓰비': 1, '마운틴듀': 2, '밀키스': 3, '스프라이트': 4, '칠성사이다': 5, '코카콜라': 6, '트로피카나망고': 7, '펩시콜라': 8, '환타오렌지': 9}\n"
          ]
        }
      ],
      "source": [
        "print('train_generator class : ', train_generator.class_indices)\n",
        "print('valid_generator class : ', valid_generator.class_indices)\n",
        "print('test_generator class : ', test_generator.class_indices)"
      ]
    },
    {
      "cell_type": "markdown",
      "metadata": {
        "id": "quID_zZvIg-f"
      },
      "source": [
        "### 모델 학습하기 - MobileNetV2\n",
        "- imagenet 전이학습\n",
        "- 은닉층\n",
        "   * Flatten(input_shape=(112,112))\n",
        "   * Dense(224, activation='relu')\n",
        "   * Dropout(0.2)\n",
        "- 출력층\n",
        "   * Dense(10, activation='softmax')\n",
        "- compile\n",
        "   * learning rate : 0.0001"
      ]
    },
    {
      "cell_type": "code",
      "execution_count": 9,
      "metadata": {
        "id": "QcLXMbIhzQjh"
      },
      "outputs": [],
      "source": [
        "# 파라미터 설정\n",
        "classes = len(train_generator.class_indices)\n",
        "epochs = 200\n",
        "batch_size = 32"
      ]
    },
    {
      "cell_type": "code",
      "execution_count": 10,
      "metadata": {
        "id": "-m3Ri2MFVS2M",
        "colab": {
          "base_uri": "https://localhost:8080/"
        },
        "outputId": "7b2a3598-7b18-419b-81ac-72d1d6ce3491"
      },
      "outputs": [
        {
          "output_type": "stream",
          "name": "stdout",
          "text": [
            "Downloading data from https://storage.googleapis.com/tensorflow/keras-applications/mobilenet_v2/mobilenet_v2_weights_tf_dim_ordering_tf_kernels_1.0_224_no_top.h5\n",
            "9412608/9406464 [==============================] - 0s 0us/step\n",
            "9420800/9406464 [==============================] - 0s 0us/step\n"
          ]
        }
      ],
      "source": [
        "MobileNet = tf.keras.applications.MobileNetV2(weights='imagenet',\n",
        "                                              include_top=False, \n",
        "                                              input_shape=(img_size, img_size, channel))\n",
        "MobileNet.trainable = False # 학습으로 기존 가중치 갱신을 하지 않도록 지정"
      ]
    },
    {
      "cell_type": "code",
      "execution_count": 11,
      "metadata": {
        "colab": {
          "base_uri": "https://localhost:8080/"
        },
        "id": "tL6Em9BrNAsL",
        "outputId": "1f383ac9-a419-47e5-e651-e6442003a92b"
      },
      "outputs": [
        {
          "output_type": "stream",
          "name": "stdout",
          "text": [
            "Model: \"sequential\"\n",
            "_________________________________________________________________\n",
            " Layer (type)                Output Shape              Param #   \n",
            "=================================================================\n",
            " mobilenetv2_1.00_224 (Funct  (None, 7, 7, 1280)       2257984   \n",
            " ional)                                                          \n",
            "                                                                 \n",
            " flatten (Flatten)           (None, 62720)             0         \n",
            "                                                                 \n",
            " dense (Dense)               (None, 224)               14049504  \n",
            "                                                                 \n",
            " dropout (Dropout)           (None, 224)               0         \n",
            "                                                                 \n",
            " dense_1 (Dense)             (None, 10)                2250      \n",
            "                                                                 \n",
            "=================================================================\n",
            "Total params: 16,309,738\n",
            "Trainable params: 14,051,754\n",
            "Non-trainable params: 2,257,984\n",
            "_________________________________________________________________\n"
          ]
        }
      ],
      "source": [
        "model = Sequential()\n",
        "model.add(MobileNet)\n",
        "model.add(Flatten(input_shape=(112,112)))\n",
        "model.add(Dense(224, activation='relu'))\n",
        "model.add(Dropout(0.2))\n",
        "model.add(Dense(10, activation='softmax'))\n",
        "model.summary()"
      ]
    },
    {
      "cell_type": "code",
      "execution_count": 12,
      "metadata": {
        "id": "ELk9v8EkItEP"
      },
      "outputs": [],
      "source": [
        "# 모델 환경설정\n",
        "model.compile(optimizer=keras.optimizers.Adam(learning_rate=0.0001),\n",
        "              loss='categorical_crossentropy',\n",
        "              metrics=['accuracy'])"
      ]
    },
    {
      "cell_type": "code",
      "execution_count": 13,
      "metadata": {
        "id": "h08eCyFZyzBs"
      },
      "outputs": [],
      "source": [
        "model_name = './model/MobileNetV2_TransferLearning02_{epoch:02d}-{val_loss:.4f}.hdf5'\n",
        "cp_callback = tf.keras.callbacks.ModelCheckpoint(filepath = model_name,\n",
        "                                                 save_weights_only=True, \n",
        "                                                 save_freq=\"epoch\")\n",
        "earlystop = EarlyStopping(monitor='val_loss',\n",
        "                          min_delta=0,\n",
        "                          patience=10,\n",
        "                          verbose=1,\n",
        "                          restore_best_weights=True)"
      ]
    },
    {
      "cell_type": "code",
      "execution_count": 14,
      "metadata": {
        "colab": {
          "base_uri": "https://localhost:8080/"
        },
        "id": "5FRUH669NZbu",
        "outputId": "824aeee1-035e-4f2d-b29d-007bdba8a4a5"
      },
      "outputs": [
        {
          "output_type": "stream",
          "name": "stdout",
          "text": [
            "Epoch 1/200\n",
            "200/200 [==============================] - 2696s 13s/step - loss: 0.5100 - accuracy: 0.8359 - val_loss: 0.0907 - val_accuracy: 0.9650\n",
            "Epoch 2/200\n",
            "200/200 [==============================] - 270s 1s/step - loss: 0.1440 - accuracy: 0.9503 - val_loss: 0.0738 - val_accuracy: 0.9737\n",
            "Epoch 3/200\n",
            "200/200 [==============================] - 125s 624ms/step - loss: 0.1115 - accuracy: 0.9629 - val_loss: 0.0400 - val_accuracy: 0.9875\n",
            "Epoch 4/200\n",
            "200/200 [==============================] - 116s 578ms/step - loss: 0.0995 - accuracy: 0.9666 - val_loss: 0.0243 - val_accuracy: 0.9900\n",
            "Epoch 5/200\n",
            "200/200 [==============================] - 114s 572ms/step - loss: 0.0995 - accuracy: 0.9682 - val_loss: 0.0226 - val_accuracy: 0.9950\n",
            "Epoch 6/200\n",
            "200/200 [==============================] - 114s 569ms/step - loss: 0.0913 - accuracy: 0.9687 - val_loss: 0.0208 - val_accuracy: 0.9912\n",
            "Epoch 7/200\n",
            "200/200 [==============================] - 114s 569ms/step - loss: 0.0631 - accuracy: 0.9775 - val_loss: 0.0254 - val_accuracy: 0.9912\n",
            "Epoch 8/200\n",
            "200/200 [==============================] - 114s 570ms/step - loss: 0.0676 - accuracy: 0.9768 - val_loss: 0.0210 - val_accuracy: 0.9937\n",
            "Epoch 9/200\n",
            "200/200 [==============================] - 114s 569ms/step - loss: 0.0672 - accuracy: 0.9770 - val_loss: 0.0099 - val_accuracy: 0.9975\n",
            "Epoch 10/200\n",
            "200/200 [==============================] - 114s 570ms/step - loss: 0.0636 - accuracy: 0.9783 - val_loss: 0.0109 - val_accuracy: 0.9962\n",
            "Epoch 11/200\n",
            "200/200 [==============================] - 114s 571ms/step - loss: 0.0566 - accuracy: 0.9809 - val_loss: 0.0177 - val_accuracy: 0.9950\n",
            "Epoch 12/200\n",
            "200/200 [==============================] - 114s 571ms/step - loss: 0.0586 - accuracy: 0.9808 - val_loss: 0.0115 - val_accuracy: 0.9975\n",
            "Epoch 13/200\n",
            "200/200 [==============================] - 114s 572ms/step - loss: 0.0658 - accuracy: 0.9790 - val_loss: 0.0089 - val_accuracy: 0.9962\n",
            "Epoch 14/200\n",
            "200/200 [==============================] - 114s 569ms/step - loss: 0.0796 - accuracy: 0.9749 - val_loss: 0.0165 - val_accuracy: 0.9912\n",
            "Epoch 15/200\n",
            "200/200 [==============================] - 114s 570ms/step - loss: 0.0538 - accuracy: 0.9823 - val_loss: 0.0114 - val_accuracy: 0.9975\n",
            "Epoch 16/200\n",
            "200/200 [==============================] - 114s 571ms/step - loss: 0.0497 - accuracy: 0.9833 - val_loss: 0.0116 - val_accuracy: 0.9950\n",
            "Epoch 17/200\n",
            "200/200 [==============================] - 116s 579ms/step - loss: 0.0510 - accuracy: 0.9825 - val_loss: 0.0116 - val_accuracy: 0.9962\n",
            "Epoch 18/200\n",
            "200/200 [==============================] - 116s 578ms/step - loss: 0.0529 - accuracy: 0.9837 - val_loss: 0.0086 - val_accuracy: 0.9950\n",
            "Epoch 19/200\n",
            "200/200 [==============================] - 114s 570ms/step - loss: 0.0481 - accuracy: 0.9848 - val_loss: 0.0252 - val_accuracy: 0.9912\n",
            "Epoch 20/200\n",
            "200/200 [==============================] - 114s 570ms/step - loss: 0.0495 - accuracy: 0.9841 - val_loss: 0.0086 - val_accuracy: 0.9975\n",
            "Epoch 21/200\n",
            "200/200 [==============================] - 114s 572ms/step - loss: 0.0468 - accuracy: 0.9862 - val_loss: 0.0219 - val_accuracy: 0.9962\n",
            "Epoch 22/200\n",
            "200/200 [==============================] - 114s 572ms/step - loss: 0.0488 - accuracy: 0.9848 - val_loss: 0.0146 - val_accuracy: 0.9937\n",
            "Epoch 23/200\n",
            "200/200 [==============================] - 115s 572ms/step - loss: 0.0448 - accuracy: 0.9850 - val_loss: 0.0248 - val_accuracy: 0.9925\n",
            "Epoch 24/200\n",
            "200/200 [==============================] - 115s 574ms/step - loss: 0.0351 - accuracy: 0.9889 - val_loss: 0.0075 - val_accuracy: 0.9962\n",
            "Epoch 25/200\n",
            "200/200 [==============================] - 114s 572ms/step - loss: 0.0499 - accuracy: 0.9851 - val_loss: 0.0106 - val_accuracy: 0.9950\n",
            "Epoch 26/200\n",
            "200/200 [==============================] - 115s 574ms/step - loss: 0.0486 - accuracy: 0.9859 - val_loss: 0.0087 - val_accuracy: 0.9975\n",
            "Epoch 27/200\n",
            "200/200 [==============================] - 114s 571ms/step - loss: 0.0542 - accuracy: 0.9843 - val_loss: 0.0160 - val_accuracy: 0.9937\n",
            "Epoch 28/200\n",
            "200/200 [==============================] - 115s 573ms/step - loss: 0.0527 - accuracy: 0.9847 - val_loss: 0.0082 - val_accuracy: 0.9962\n",
            "Epoch 29/200\n",
            "200/200 [==============================] - 115s 575ms/step - loss: 0.0497 - accuracy: 0.9866 - val_loss: 0.0052 - val_accuracy: 0.9975\n",
            "Epoch 30/200\n",
            "200/200 [==============================] - 115s 573ms/step - loss: 0.0425 - accuracy: 0.9876 - val_loss: 0.0015 - val_accuracy: 1.0000\n",
            "Epoch 31/200\n",
            "200/200 [==============================] - 114s 571ms/step - loss: 0.0372 - accuracy: 0.9895 - val_loss: 0.0083 - val_accuracy: 0.9950\n",
            "Epoch 32/200\n",
            "200/200 [==============================] - 115s 574ms/step - loss: 0.0361 - accuracy: 0.9892 - val_loss: 0.0385 - val_accuracy: 0.9900\n",
            "Epoch 33/200\n",
            "200/200 [==============================] - 114s 572ms/step - loss: 0.0363 - accuracy: 0.9890 - val_loss: 0.0160 - val_accuracy: 0.9950\n",
            "Epoch 34/200\n",
            "200/200 [==============================] - 114s 571ms/step - loss: 0.0485 - accuracy: 0.9865 - val_loss: 0.0114 - val_accuracy: 0.9950\n",
            "Epoch 35/200\n",
            "200/200 [==============================] - 115s 573ms/step - loss: 0.0282 - accuracy: 0.9919 - val_loss: 0.0164 - val_accuracy: 0.9962\n",
            "Epoch 36/200\n",
            "200/200 [==============================] - 115s 573ms/step - loss: 0.0311 - accuracy: 0.9899 - val_loss: 0.0098 - val_accuracy: 0.9962\n",
            "Epoch 37/200\n",
            "200/200 [==============================] - 115s 573ms/step - loss: 0.0479 - accuracy: 0.9859 - val_loss: 0.0166 - val_accuracy: 0.9950\n",
            "Epoch 38/200\n",
            "200/200 [==============================] - 115s 573ms/step - loss: 0.0345 - accuracy: 0.9895 - val_loss: 0.0150 - val_accuracy: 0.9975\n",
            "Epoch 39/200\n",
            "200/200 [==============================] - 116s 577ms/step - loss: 0.0292 - accuracy: 0.9914 - val_loss: 0.0401 - val_accuracy: 0.9925\n",
            "Epoch 40/200\n",
            "200/200 [==============================] - ETA: 0s - loss: 0.0442 - accuracy: 0.9860Restoring model weights from the end of the best epoch: 30.\n",
            "200/200 [==============================] - 115s 574ms/step - loss: 0.0442 - accuracy: 0.9860 - val_loss: 0.0244 - val_accuracy: 0.9937\n",
            "Epoch 40: early stopping\n"
          ]
        }
      ],
      "source": [
        "history = model.fit(train_generator,\n",
        "                    steps_per_epoch=200, \n",
        "                    epochs=epochs, \n",
        "                    validation_data=valid_generator, \n",
        "                    validation_steps=40,\n",
        "                    callbacks = [[earlystop, cp_callback]]) "
      ]
    },
    {
      "cell_type": "code",
      "source": [
        "max(history.history['accuracy'])"
      ],
      "metadata": {
        "id": "oSLhIF3e-503"
      },
      "execution_count": null,
      "outputs": []
    },
    {
      "cell_type": "code",
      "execution_count": 16,
      "metadata": {
        "id": "Jm81uXJH5K6M"
      },
      "outputs": [],
      "source": [
        "# 모델 저장\n",
        "accuracy = round(max(history.history['accuracy'])*100,0)\n",
        "model.save(f'./model/MobileNetV2_05_model_acc{accuracy}.h5') # 최종 모델 저장"
      ]
    },
    {
      "cell_type": "code",
      "execution_count": 17,
      "metadata": {
        "id": "RKe56hTfuLz3",
        "colab": {
          "base_uri": "https://localhost:8080/",
          "height": 369
        },
        "outputId": "bc8b5f04-ae3b-4cc2-f8cd-c718f8336f4f"
      },
      "outputs": [
        {
          "output_type": "execute_result",
          "data": {
            "text/plain": [
              "<matplotlib.legend.Legend at 0x7f36a0eec210>"
            ]
          },
          "metadata": {},
          "execution_count": 17
        },
        {
          "output_type": "stream",
          "name": "stderr",
          "text": [
            "findfont: Font family ['NanumBarunGothic'] not found. Falling back to DejaVu Sans.\n",
            "findfont: Font family ['NanumBarunGothic'] not found. Falling back to DejaVu Sans.\n"
          ]
        },
        {
          "output_type": "display_data",
          "data": {
            "text/plain": [
              "<Figure size 1152x360 with 2 Axes>"
            ],
            "image/png": "[encoded data removed]"
          },
          "metadata": {
            "needs_background": "light"
          }
        }
      ],
      "source": [
        "plt.figure(figsize=(16,5))\n",
        "\n",
        "# 만들어진 모델에 대해 train dataset과 validation dataset의 loss 를 그래프로 표현해 봅니다.\n",
        "plt.subplot(1, 2, 1)\n",
        "plt.plot(history.history['loss'])\n",
        "plt.plot(history.history['val_loss'])\n",
        "plt.title('model loss')\n",
        "plt.ylabel('loss')\n",
        "plt.xlabel('epoch')\n",
        "plt.legend(['train', 'validation'], loc=0)\n",
        "\n",
        "# 만들어진 모델에 대해 train dataset과 validation dataset의 accuracy 를 그래프로 표현해 봅니다.\n",
        "plt.subplot(1, 2, 2)\n",
        "plt.plot(history.history['accuracy'])\n",
        "plt.plot(history.history['val_accuracy'])\n",
        "plt.title('model accuracy')\n",
        "plt.ylabel('accuracy')\n",
        "plt.xlabel('epoch')\n",
        "plt.legend(['train', 'validation'], loc=0)"
      ]
    },
    {
      "cell_type": "code",
      "execution_count": 18,
      "metadata": {
        "id": "s5ox0b-o95HZ",
        "colab": {
          "base_uri": "https://localhost:8080/"
        },
        "outputId": "ea4a58a4-2651-413a-a599-79f83ee3cce6"
      },
      "outputs": [
        {
          "output_type": "stream",
          "name": "stdout",
          "text": [
            "50/50 [==============================] - 166s 3s/step - loss: 3.7237e-04 - accuracy: 1.0000\n"
          ]
        },
        {
          "output_type": "execute_result",
          "data": {
            "text/plain": [
              "[0.000372372247511521, 1.0]"
            ]
          },
          "metadata": {},
          "execution_count": 18
        }
      ],
      "source": [
        "model.evaluate(test_generator)"
      ]
    }
  ],
  "metadata": {
    "accelerator": "GPU",
    "colab": {
      "machine_shape": "hm",
      "name": "MobilenetV2_05_transferlearning02_epo200_acc_97.ipynb",
      "provenance": [],
      "collapsed_sections": [
        "17-3eXSVfkzd"
      ]
    },
    "kernelspec": {
      "display_name": "Python 3",
      "name": "python3"
    },
    "language_info": {
      "name": "python"
    }
  },
  "nbformat": 4,
  "nbformat_minor": 0
}