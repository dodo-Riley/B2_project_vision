{
 "cells": [
  {
   "cell_type": "code",
   "execution_count": null,
   "metadata": {
    "id": "5oWwpOqv65Vc"
   },
   "outputs": [],
   "source": [
    "# 모듈 호출\n",
    "import os\n",
    "import sys\n",
    "import glob\n",
    "import shutil\n",
    "from PIL import Image\n",
    "import numpy as np\n",
    "import cv2\n",
    "import matplotlib.pyplot as plt\n",
    "import pandas as pd\n",
    "from tqdm import tqdm\n",
    "import tensorflow as tf\n",
    "from tensorflow import keras\n",
    "from tensorflow.keras.applications import VGG16\n",
    "from tensorflow.keras.models import Sequential\n",
    "from tensorflow.keras.layers import Conv2D,Dense,Flatten,Dropout,MaxPooling2D\n",
    "from tensorflow.keras.preprocessing.image import ImageDataGenerator\n",
    "from tensorflow.keras.callbacks import EarlyStopping"
   ]
  },
  {
   "cell_type": "markdown",
   "metadata": {
    "id": "gg-ObkJW72gx"
   },
   "source": [
    "### 데이터가져오기"
   ]
  },
  {
   "cell_type": "code",
   "execution_count": null,
   "metadata": {
    "id": "KUioDjew3esG"
   },
   "outputs": [],
   "source": [
    "img_size = 224"
   ]
  },
  {
   "cell_type": "code",
   "execution_count": null,
   "metadata": {
    "colab": {
     "base_uri": "https://localhost:8080/"
    },
    "executionInfo": {
     "elapsed": 17137,
     "status": "ok",
     "timestamp": 1647908475477,
     "user": {
      "displayName": "김유정",
      "photoUrl": "https://lh3.googleusercontent.com/a/default-user=s64",
      "userId": "01261970241974990583"
     },
     "user_tz": -540
    },
    "id": "LlDhd6qfBLPY",
    "outputId": "29dae405-5115-47df-d443-9412e7154cdf"
   },
   "outputs": [
    {
     "name": "stdout",
     "output_type": "stream",
     "text": [
      "Found 10529 images belonging to 10 classes.\n",
      "Found 1000 images belonging to 10 classes.\n",
      "Found 500 images belonging to 10 classes.\n"
     ]
    }
   ],
   "source": [
    "train_datagen = ImageDataGenerator( \n",
    "        rescale=1./255,         # 픽셀 값을 0~1 범위로 변환\n",
    "        rotation_range=40,      # 40도까지 회전\n",
    "        width_shift_range=0.2,  # 20%까지 좌우 이동\n",
    "        height_shift_range=0.2, # 20%까지 상하 이동\n",
    "        shear_range=0.2,        # 20%까지 기울임\n",
    "        zoom_range=0.2,         # 20%까지 확대\n",
    "        horizontal_flip=True,   # 좌우 뒤집기\n",
    "    )\n",
    "train_generator = train_datagen.flow_from_directory(\n",
    "    './train_10',\n",
    "    batch_size=50,      \n",
    "    class_mode='categorical', \n",
    "    target_size=(224, 224)) \n",
    "valid_datagen = ImageDataGenerator(rescale=1./255) # 스케일링만 진행\n",
    "valid_generator = valid_datagen.flow_from_directory(\n",
    "    './valid_10',\n",
    "    batch_size=20,      \n",
    "    class_mode='categorical', \n",
    "    target_size=(224, 224))"
   ]
  },
  {
   "cell_type": "code",
   "execution_count": null,
   "metadata": {
    "colab": {
     "base_uri": "https://localhost:8080/"
    },
    "executionInfo": {
     "elapsed": 284,
     "status": "ok",
     "timestamp": 1647913882831,
     "user": {
      "displayName": "김유정",
      "photoUrl": "https://lh3.googleusercontent.com/a/default-user=s64",
      "userId": "01261970241974990583"
     },
     "user_tz": -540
    },
    "id": "mPO4iDTkUjE-",
    "outputId": "bbc1fc73-4225-498d-f002-fa97eef837f0"
   },
   "outputs": [
    {
     "name": "stdout",
     "output_type": "stream",
     "text": [
      "Found 500 images belonging to 10 classes.\n"
     ]
    }
   ],
   "source": [
    "test_datagen = ImageDataGenerator(rescale=1./255) # 스케일링만 진행\n",
    "test_generator = test_datagen.flow_from_directory(\n",
    "    './test_10',\n",
    "    batch_size=10,      \n",
    "    class_mode='categorical', \n",
    "    target_size=(224, 224),\n",
    "    shuffle=False)"
   ]
  },
  {
   "cell_type": "code",
   "execution_count": null,
   "metadata": {
    "colab": {
     "base_uri": "https://localhost:8080/"
    },
    "executionInfo": {
     "elapsed": 295,
     "status": "ok",
     "timestamp": 1647908498140,
     "user": {
      "displayName": "김유정",
      "photoUrl": "https://lh3.googleusercontent.com/a/default-user=s64",
      "userId": "01261970241974990583"
     },
     "user_tz": -540
    },
    "id": "SoXlkL3JC4cm",
    "outputId": "bb67f68b-3213-41b5-f069-e0abfaccd7d2"
   },
   "outputs": [
    {
     "name": "stdout",
     "output_type": "stream",
     "text": [
      "{'갈아만든배': 0, '레쓰비': 1, '마운틴듀': 2, '밀키스': 3, '스프라이트': 4, '칠성사이다': 5, '코카콜라': 6, '트로피카나망고': 7, '펩시콜라': 8, '환타오렌지': 9}\n"
     ]
    }
   ],
   "source": [
    "print(train_generator.class_indices)"
   ]
  },
  {
   "cell_type": "code",
   "execution_count": null,
   "metadata": {
    "colab": {
     "base_uri": "https://localhost:8080/"
    },
    "executionInfo": {
     "elapsed": 5,
     "status": "ok",
     "timestamp": 1647908500116,
     "user": {
      "displayName": "김유정",
      "photoUrl": "https://lh3.googleusercontent.com/a/default-user=s64",
      "userId": "01261970241974990583"
     },
     "user_tz": -540
    },
    "id": "tQwq1WvIC4JZ",
    "outputId": "cc06c5d7-22fa-4ae7-bf45-41f86911b32a"
   },
   "outputs": [
    {
     "name": "stdout",
     "output_type": "stream",
     "text": [
      "{'갈아만든배': 0, '레쓰비': 1, '마운틴듀': 2, '밀키스': 3, '스프라이트': 4, '칠성사이다': 5, '코카콜라': 6, '트로피카나망고': 7, '펩시콜라': 8, '환타오렌지': 9}\n"
     ]
    }
   ],
   "source": [
    "print(valid_generator.class_indices)"
   ]
  },
  {
   "cell_type": "code",
   "execution_count": null,
   "metadata": {
    "colab": {
     "base_uri": "https://localhost:8080/"
    },
    "executionInfo": {
     "elapsed": 273,
     "status": "ok",
     "timestamp": 1647908501930,
     "user": {
      "displayName": "김유정",
      "photoUrl": "https://lh3.googleusercontent.com/a/default-user=s64",
      "userId": "01261970241974990583"
     },
     "user_tz": -540
    },
    "id": "Pey3TLcSC4F9",
    "outputId": "1a1f6ee6-0602-483c-c35a-4d0b7fd7e0ee"
   },
   "outputs": [
    {
     "name": "stdout",
     "output_type": "stream",
     "text": [
      "{'갈아만든배': 0, '레쓰비': 1, '마운틴듀': 2, '밀키스': 3, '스프라이트': 4, '칠성사이다': 5, '코카콜라': 6, '트로피카나망고': 7, '펩시콜라': 8, '환타오렌지': 9}\n"
     ]
    }
   ],
   "source": [
    "print(test_generator.class_indices)"
   ]
  },
  {
   "cell_type": "markdown",
   "metadata": {
    "id": "o7MI0Ulm7Mnu"
   },
   "source": [
    "### 모델 학습하기"
   ]
  },
  {
   "cell_type": "markdown",
   "metadata": {
    "id": "WKVX_yOK8iA3"
   },
   "source": [
    "#### ZFNet 모델"
   ]
  },
  {
   "cell_type": "markdown",
   "metadata": {
    "id": "-mYLYjOo6cz5"
   },
   "source": [
    "##### [참고 git address] https://github.com/Bao-Jiarong/ZFNet"
   ]
  },
  {
   "cell_type": "code",
   "execution_count": null,
   "metadata": {
    "id": "2nV7j1Im3Tx7"
   },
   "outputs": [],
   "source": [
    "os.environ['TF_CPP_MIN_LOG_LEVEL'] = '3'\n",
    "import sys\n",
    "sys.path.append('/content/drive/MyDrive/ColabNotebooks/AI_service_develop/loader.py')\n",
    "import loader\n",
    "sys.path.append('/content/drive/MyDrive/ColabNotebooks/AI_service_develop/zfnet.py')\n",
    "import zfnet"
   ]
  },
  {
   "cell_type": "code",
   "execution_count": null,
   "metadata": {
    "id": "2rrd7krmLwfd"
   },
   "outputs": [],
   "source": [
    "# 모델 생성\n",
    "model = zfnet.ZFNet((224,224,3), classes=10, filters=8)"
   ]
  },
  {
   "cell_type": "code",
   "execution_count": null,
   "metadata": {
    "colab": {
     "base_uri": "https://localhost:8080/"
    },
    "executionInfo": {
     "elapsed": 286,
     "status": "ok",
     "timestamp": 1647908520514,
     "user": {
      "displayName": "김유정",
      "photoUrl": "https://lh3.googleusercontent.com/a/default-user=s64",
      "userId": "01261970241974990583"
     },
     "user_tz": -540
    },
    "id": "beJUQA0vMnCn",
    "outputId": "797df6aa-b351-4ac7-c780-28d79b8772ed"
   },
   "outputs": [
    {
     "name": "stdout",
     "output_type": "stream",
     "text": [
      "Model: \"zf_net\"\n",
      "_________________________________________________________________\n",
      " Layer (type)                Output Shape              Param #   \n",
      "=================================================================\n",
      " block (Block)               (None, 54, 54, 24)        3552      \n",
      "                                                                 \n",
      " block_1 (Block)             (None, 13, 13, 64)        38464     \n",
      "                                                                 \n",
      " conv2d_2 (Conv2D)           (None, 13, 13, 128)       73856     \n",
      "                                                                 \n",
      " conv2d_3 (Conv2D)           (None, 13, 13, 256)       295168    \n",
      "                                                                 \n",
      " block_2 (Block)             (None, 6, 6, 128)         295040    \n",
      "                                                                 \n",
      " flatten (Flatten)           (None, 4608)              0         \n",
      "                                                                 \n",
      " dense (Dense)               (None, 2304)              10619136  \n",
      "                                                                 \n",
      " dense_1 (Dense)             (None, 1024)              2360320   \n",
      "                                                                 \n",
      " dense_2 (Dense)             (None, 1024)              1049600   \n",
      "                                                                 \n",
      " dense_3 (Dense)             (None, 10)                10250     \n",
      "                                                                 \n",
      "=================================================================\n",
      "Total params: 14,745,386\n",
      "Trainable params: 14,745,386\n",
      "Non-trainable params: 0\n",
      "_________________________________________________________________\n"
     ]
    }
   ],
   "source": [
    "model.summary()"
   ]
  },
  {
   "cell_type": "code",
   "execution_count": null,
   "metadata": {
    "id": "ODp5_T5cL_91"
   },
   "outputs": [],
   "source": [
    "# 모델 환경설정\n",
    "model.compile(optimizer='adam',\n",
    "              loss='categorical_crossentropy',\n",
    "              metrics=['accuracy'])"
   ]
  },
  {
   "cell_type": "code",
   "execution_count": null,
   "metadata": {
    "id": "JTMF1V89Og7U"
   },
   "outputs": [],
   "source": [
    "model_name = './model/ZFNet_01_{epoch:02d}-{val_loss:.4f}.h5'"
   ]
  },
  {
   "cell_type": "code",
   "execution_count": null,
   "metadata": {
    "id": "akMCcHSKN-gd"
   },
   "outputs": [],
   "source": [
    "cp_callback = tf.keras.callbacks.ModelCheckpoint(filepath = model_name,\n",
    "                                                 save_weights_only=True,\n",
    "                                                 verbose=0, \n",
    "                                                 save_freq=\"epoch\")"
   ]
  },
  {
   "cell_type": "code",
   "execution_count": null,
   "metadata": {
    "colab": {
     "base_uri": "https://localhost:8080/"
    },
    "executionInfo": {
     "elapsed": 5168697,
     "status": "ok",
     "timestamp": 1647913706632,
     "user": {
      "displayName": "김유정",
      "photoUrl": "https://lh3.googleusercontent.com/a/default-user=s64",
      "userId": "01261970241974990583"
     },
     "user_tz": -540
    },
    "id": "SRi_lA6YMr3F",
    "outputId": "c197f276-7bb8-45a5-a339-e482537d3ff4"
   },
   "outputs": [
    {
     "name": "stdout",
     "output_type": "stream",
     "text": [
      "Epoch 1/20\n",
      "211/211 [==============================] - 2407s 11s/step - loss: 1.4318 - accuracy: 0.3767 - val_loss: 1.0711 - val_accuracy: 0.5550\n",
      "Epoch 2/20\n",
      "211/211 [==============================] - 143s 678ms/step - loss: 0.6800 - accuracy: 0.6861 - val_loss: 0.9107 - val_accuracy: 0.6450\n",
      "Epoch 3/20\n",
      "211/211 [==============================] - 144s 681ms/step - loss: 0.4396 - accuracy: 0.7898 - val_loss: 0.2474 - val_accuracy: 0.8690\n",
      "Epoch 4/20\n",
      "211/211 [==============================] - 143s 680ms/step - loss: 0.3398 - accuracy: 0.8425 - val_loss: 0.3265 - val_accuracy: 0.8470\n",
      "Epoch 5/20\n",
      "211/211 [==============================] - 143s 680ms/step - loss: 0.2460 - accuracy: 0.8909 - val_loss: 0.1342 - val_accuracy: 0.9360\n",
      "Epoch 6/20\n",
      "211/211 [==============================] - 144s 682ms/step - loss: 0.2806 - accuracy: 0.8792 - val_loss: 0.2140 - val_accuracy: 0.9240\n",
      "Epoch 7/20\n",
      "211/211 [==============================] - 145s 685ms/step - loss: 0.2455 - accuracy: 0.9060 - val_loss: 0.3108 - val_accuracy: 0.8520\n",
      "Epoch 8/20\n",
      "211/211 [==============================] - 144s 682ms/step - loss: 0.2175 - accuracy: 0.9093 - val_loss: 0.0599 - val_accuracy: 0.9820\n",
      "Epoch 9/20\n",
      "211/211 [==============================] - 145s 689ms/step - loss: 0.1232 - accuracy: 0.9544 - val_loss: 0.0887 - val_accuracy: 0.9700\n",
      "Epoch 10/20\n",
      "211/211 [==============================] - 144s 685ms/step - loss: 0.3028 - accuracy: 0.8892 - val_loss: 0.0911 - val_accuracy: 0.9540\n",
      "Epoch 11/20\n",
      "211/211 [==============================] - 144s 682ms/step - loss: 0.1269 - accuracy: 0.9480 - val_loss: 0.0922 - val_accuracy: 0.9720\n",
      "Epoch 12/20\n",
      "211/211 [==============================] - 145s 685ms/step - loss: 0.0997 - accuracy: 0.9606 - val_loss: 0.0475 - val_accuracy: 0.9850\n",
      "Epoch 13/20\n",
      "211/211 [==============================] - 143s 678ms/step - loss: 0.1248 - accuracy: 0.9548 - val_loss: 0.0862 - val_accuracy: 0.9700\n",
      "Epoch 14/20\n",
      "211/211 [==============================] - 143s 679ms/step - loss: 0.1075 - accuracy: 0.9599 - val_loss: 0.0985 - val_accuracy: 0.9660\n",
      "Epoch 15/20\n",
      "211/211 [==============================] - 143s 676ms/step - loss: 0.1137 - accuracy: 0.9572 - val_loss: 0.0509 - val_accuracy: 0.9860\n",
      "Epoch 16/20\n",
      "211/211 [==============================] - 144s 682ms/step - loss: 0.0826 - accuracy: 0.9684 - val_loss: 0.0845 - val_accuracy: 0.9530\n",
      "Epoch 17/20\n",
      "211/211 [==============================] - 145s 685ms/step - loss: 0.1087 - accuracy: 0.9630 - val_loss: 0.0287 - val_accuracy: 0.9930\n",
      "Epoch 18/20\n",
      "211/211 [==============================] - 147s 698ms/step - loss: 0.1067 - accuracy: 0.9625 - val_loss: 0.0653 - val_accuracy: 0.9760\n",
      "Epoch 19/20\n",
      "211/211 [==============================] - 148s 702ms/step - loss: 0.0821 - accuracy: 0.9707 - val_loss: 0.0220 - val_accuracy: 0.9930\n",
      "Epoch 20/20\n",
      "211/211 [==============================] - 151s 714ms/step - loss: 0.0527 - accuracy: 0.9802 - val_loss: 0.0336 - val_accuracy: 0.9890\n"
     ]
    }
   ],
   "source": [
    "# parameter 정의\n",
    "epochs = 20\n",
    "lr_rate = 0.0001\n",
    "batch_size = 32\n",
    "\n",
    "history = model.fit(train_generator,\n",
    "                    batch_size=batch_size,\n",
    "                    epochs=epochs, \n",
    "                    validation_data=valid_generator, \n",
    "                    callbacks = [cp_callback])"
   ]
  },
  {
   "cell_type": "code",
   "execution_count": null,
   "metadata": {
    "id": "musDqnPdS-nx"
   },
   "outputs": [],
   "source": [
    "# 모델 저장\n",
    "accuracy = round(max(history.history['accuracy'])*100,2)\n",
    "model.save(f'./model/ZFNet_model_ep{epochs}_acc{accuracy}.h5') # 최종 모델 저장"
   ]
  },
  {
   "cell_type": "code",
   "execution_count": null,
   "metadata": {
    "colab": {
     "base_uri": "https://localhost:8080/"
    },
    "executionInfo": {
     "elapsed": 112637,
     "status": "ok",
     "timestamp": 1647914003644,
     "user": {
      "displayName": "김유정",
      "photoUrl": "https://lh3.googleusercontent.com/a/default-user=s64",
      "userId": "01261970241974990583"
     },
     "user_tz": -540
    },
    "id": "Q76I8IpaQL2E",
    "outputId": "c02bfc05-b6af-4442-f2ea-cad22d20bc3f"
   },
   "outputs": [
    {
     "name": "stdout",
     "output_type": "stream",
     "text": [
      "50/50 [==============================] - 110s 2s/step - loss: 0.0205 - accuracy: 0.9940\n"
     ]
    },
    {
     "data": {
      "text/plain": [
       "[0.020505862310528755, 0.9940000176429749]"
      ]
     },
     "execution_count": 21,
     "metadata": {},
     "output_type": "execute_result"
    }
   ],
   "source": [
    "model.evaluate(test_generator)"
   ]
  },
  {
   "cell_type": "code",
   "execution_count": null,
   "metadata": {
    "colab": {
     "base_uri": "https://localhost:8080/",
     "height": 330
    },
    "executionInfo": {
     "elapsed": 927,
     "status": "ok",
     "timestamp": 1647914016187,
     "user": {
      "displayName": "김유정",
      "photoUrl": "https://lh3.googleusercontent.com/a/default-user=s64",
      "userId": "01261970241974990583"
     },
     "user_tz": -540
    },
    "id": "M1YEp1FGGHBy",
    "outputId": "3d862f97-ddef-46d2-e179-40904e145ef3"
   },
   "outputs": [
    {
     "data": {
      "text/plain": [
       "<matplotlib.legend.Legend at 0x7f57ea52f490>"
      ]
     },
     "execution_count": 22,
     "metadata": {},
     "output_type": "execute_result"
    },
    {
     "data": {
      "image/png": "[encoded data removed]",
      "text/plain": [
       "<Figure size 1152x360 with 2 Axes>"
      ]
     },
     "metadata": {
      "needs_background": "light"
     },
     "output_type": "display_data"
    }
   ],
   "source": [
    "plt.figure(figsize=(16,5))\n",
    "\n",
    "# 만들어진 모델에 대해 train dataset과 validation dataset의 loss 를 그래프로 표현해 봅니다.\n",
    "plt.subplot(1, 2, 1)\n",
    "plt.plot(history.history['loss'])\n",
    "plt.plot(history.history['val_loss'])\n",
    "plt.title('model loss')\n",
    "plt.ylabel('loss')\n",
    "plt.xlabel('epoch')\n",
    "plt.legend(['train', 'validation'], loc=0)\n",
    "\n",
    "# 만들어진 모델에 대해 train dataset과 validation dataset의 accuracy 를 그래프로 표현해 봅니다.\n",
    "plt.subplot(1, 2, 2)\n",
    "plt.plot(history.history['accuracy'])\n",
    "plt.plot(history.history['val_accuracy'])\n",
    "plt.title('model accuracy')\n",
    "plt.ylabel('accuracy')\n",
    "plt.xlabel('epoch')\n",
    "plt.legend(['train', 'validation'], loc=0)"
   ]
  },
  {
   "cell_type": "code",
   "execution_count": null,
   "metadata": {
    "colab": {
     "base_uri": "https://localhost:8080/"
    },
    "executionInfo": {
     "elapsed": 271,
     "status": "ok",
     "timestamp": 1647914913245,
     "user": {
      "displayName": "김유정",
      "photoUrl": "https://lh3.googleusercontent.com/a/default-user=s64",
      "userId": "01261970241974990583"
     },
     "user_tz": -540
    },
    "id": "pvPeK43sVL9U",
    "outputId": "7587ce2a-954e-4d3b-8596-02221e3b70de"
   },
   "outputs": [
    {
     "data": {
      "text/plain": [
       "{'갈아만든배': 0,\n",
       " '레쓰비': 1,\n",
       " '마운틴듀': 2,\n",
       " '밀키스': 3,\n",
       " '스프라이트': 4,\n",
       " '칠성사이다': 5,\n",
       " '코카콜라': 6,\n",
       " '트로피카나망고': 7,\n",
       " '펩시콜라': 8,\n",
       " '환타오렌지': 9}"
      ]
     },
     "execution_count": 23,
     "metadata": {},
     "output_type": "execute_result"
    }
   ],
   "source": [
    "train_generator.class_indices"
   ]
  },
  {
   "cell_type": "code",
   "execution_count": null,
   "metadata": {
    "colab": {
     "base_uri": "https://localhost:8080/"
    },
    "executionInfo": {
     "elapsed": 278,
     "status": "ok",
     "timestamp": 1647915071484,
     "user": {
      "displayName": "김유정",
      "photoUrl": "https://lh3.googleusercontent.com/a/default-user=s64",
      "userId": "01261970241974990583"
     },
     "user_tz": -540
    },
    "id": "XBBAmHfjYfw6",
    "outputId": "6a1f2249-b4a5-4786-ee35-c612095236da"
   },
   "outputs": [
    {
     "data": {
      "text/plain": [
       "array([[0.0000000e+00, 3.2855604e-11, 0.0000000e+00, 8.1943983e-15,\n",
       "        0.0000000e+00, 0.0000000e+00, 0.0000000e+00, 0.0000000e+00,\n",
       "        1.0000000e+00, 1.8053230e-24]], dtype=float32)"
      ]
     },
     "execution_count": 26,
     "metadata": {},
     "output_type": "execute_result"
    }
   ],
   "source": [
    "test_img = cv2.imread('./2205722_1.jpg')  # 펩시콜라 : 8\n",
    "test_img = cv2.cvtColor(test_img, cv2.COLOR_BGR2RGB)\n",
    "test_img = cv2.resize(test_img,(224,224))/255.0\n",
    "test_img = test_img.reshape((1,)+test_img.shape)\n",
    "model.predict(test_img)"
   ]
  },
  {
   "cell_type": "code",
   "execution_count": null,
   "metadata": {
    "colab": {
     "base_uri": "https://localhost:8080/"
    },
    "executionInfo": {
     "elapsed": 698,
     "status": "ok",
     "timestamp": 1647915115584,
     "user": {
      "displayName": "김유정",
      "photoUrl": "https://lh3.googleusercontent.com/a/default-user=s64",
      "userId": "01261970241974990583"
     },
     "user_tz": -540
    },
    "id": "2-8VSxKxYuv-",
    "outputId": "7c66bb9c-1b93-40ed-d537-34cb9f5b0ece"
   },
   "outputs": [
    {
     "data": {
      "text/plain": [
       "array([[2.29299847e-12, 1.07922435e-26, 2.43103697e-36, 1.48838569e-33,\n",
       "        1.83888911e-37, 0.00000000e+00, 3.17779444e-18, 1.14305639e-14,\n",
       "        1.11835422e-23, 1.00000000e+00]], dtype=float32)"
      ]
     },
     "execution_count": 27,
     "metadata": {},
     "output_type": "execute_result"
    }
   ],
   "source": [
    "test_img = cv2.imread('./11.jpg')  # 환타오렌지 : 9\n",
    "test_img = cv2.cvtColor(test_img, cv2.COLOR_BGR2RGB)\n",
    "test_img = cv2.resize(test_img,(224,224))/255.0\n",
    "test_img = test_img.reshape((1,)+test_img.shape)\n",
    "model.predict(test_img)"
   ]
  },
  {
   "cell_type": "code",
   "execution_count": null,
   "metadata": {
    "id": "FCPrIeIVZRz9"
   },
   "outputs": [],
   "source": []
  }
 ],
 "metadata": {
  "accelerator": "GPU",
  "colab": {
   "authorship_tag": "ABX9TyOJcpOkQYWCagazsdnEN9yQ",
   "collapsed_sections": [],
   "machine_shape": "hm",
   "mount_file_id": "1VL0Z_txiX0uan99QI3ej8vVoh4B0dwBb",
   "name": "01_ZFNet_20220322_ep20_acc98.ipynb",
   "provenance": []
  },
  "kernelspec": {
   "display_name": "Python 3 (ipykernel)",
   "language": "python",
   "name": "python3"
  },
  "language_info": {
   "codemirror_mode": {
    "name": "ipython",
    "version": 3
   },
   "file_extension": ".py",
   "mimetype": "text/x-python",
   "name": "python",
   "nbconvert_exporter": "python",
   "pygments_lexer": "ipython3",
   "version": "3.9.7"
  }
 },
 "nbformat": 4,
 "nbformat_minor": 1
}
