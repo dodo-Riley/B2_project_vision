{
 "cells": [
  {
   "cell_type": "code",
   "execution_count": 2,
   "metadata": {
    "executionInfo": {
     "elapsed": 1117,
     "status": "ok",
     "timestamp": 1648012735553,
     "user": {
      "displayName": "김유정",
      "photoUrl": "https://lh3.googleusercontent.com/a/default-user=s64",
      "userId": "01261970241974990583"
     },
     "user_tz": -540
    },
    "id": "kty_K3yCHIJU"
   },
   "outputs": [],
   "source": [
    "# 모듈 호출\n",
    "import os\n",
    "import sys\n",
    "import glob\n",
    "import shutil\n",
    "from PIL import Image\n",
    "import numpy as np\n",
    "import cv2\n",
    "import matplotlib.pyplot as plt\n",
    "import pandas as pd\n",
    "from tqdm import tqdm\n",
    "import tensorflow as tf\n",
    "from tensorflow import keras\n",
    "from tensorflow.keras.applications import mobilenet, mobilenet_v3, MobileNet\n",
    "from tensorflow.keras.models import Sequential,Model \n",
    "from tensorflow.keras.layers import Conv2D,Dense,Flatten,Dropout,MaxPooling2D, GlobalAveragePooling2D\n",
    "from tensorflow.keras.preprocessing.image import ImageDataGenerator\n",
    "from tensorflow.keras.callbacks import EarlyStopping"
   ]
  },
  {
   "cell_type": "code",
   "execution_count": 3,
   "metadata": {
    "colab": {
     "base_uri": "https://localhost:8080/"
    },
    "executionInfo": {
     "elapsed": 25211,
     "status": "ok",
     "timestamp": 1648012765139,
     "user": {
      "displayName": "김유정",
      "photoUrl": "https://lh3.googleusercontent.com/a/default-user=s64",
      "userId": "01261970241974990583"
     },
     "user_tz": -540
    },
    "id": "zMY9v3HqLszM",
    "outputId": "4e8b9664-5099-418a-ecec-85a46f237491"
   },
   "outputs": [
    {
     "name": "stdout",
     "output_type": "stream",
     "text": [
      "Mounted at /content/drive\n"
     ]
    }
   ],
   "source": [
    "from google.colab import drive\n",
    "drive.mount('/content/drive')"
   ]
  },
  {
   "cell_type": "code",
   "execution_count": 8,
   "metadata": {
    "executionInfo": {
     "elapsed": 450,
     "status": "ok",
     "timestamp": 1648012878650,
     "user": {
      "displayName": "김유정",
      "photoUrl": "https://lh3.googleusercontent.com/a/default-user=s64",
      "userId": "01261970241974990583"
     },
     "user_tz": -540
    },
    "id": "rIBarWufHrX5"
   },
   "outputs": [],
   "source": [
    "img_size = 224\n",
    "channel=3"
   ]
  },
  {
   "cell_type": "code",
   "execution_count": 9,
   "metadata": {
    "colab": {
     "base_uri": "https://localhost:8080/"
    },
    "executionInfo": {
     "elapsed": 6418,
     "status": "ok",
     "timestamp": 1648012887109,
     "user": {
      "displayName": "김유정",
      "photoUrl": "https://lh3.googleusercontent.com/a/default-user=s64",
      "userId": "01261970241974990583"
     },
     "user_tz": -540
    },
    "id": "DPiOY-GnIH0o",
    "outputId": "472b9baf-bc67-4ff5-d756-3939df518c8b"
   },
   "outputs": [
    {
     "name": "stdout",
     "output_type": "stream",
     "text": [
      "Found 10529 images belonging to 10 classes.\n",
      "Found 1000 images belonging to 10 classes.\n",
      "Found 500 images belonging to 10 classes.\n"
     ]
    }
   ],
   "source": [
    "train_datagen = ImageDataGenerator( \n",
    "        rescale=1./255,         # 픽셀 값을 0~1 범위로 변환\n",
    "        rotation_range=40,      # 40도까지 회전\n",
    "        width_shift_range=0.2,  # 20%까지 좌우 이동\n",
    "        height_shift_range=0.2, # 20%까지 상하 이동\n",
    "        shear_range=0.2,        # 20%까지 기울임\n",
    "        zoom_range=0.2,         # 20%까지 확대\n",
    "        horizontal_flip=True,   # 좌우 뒤집기\n",
    "    )\n",
    "train_generator = train_datagen.flow_from_directory(\n",
    "    './dataset/train_10',\n",
    "    batch_size=50,      \n",
    "    class_mode='categorical', \n",
    "    target_size=(img_size, img_size)) \n",
    "valid_datagen = ImageDataGenerator(rescale=1./255) # 스케일링만 진행\n",
    "valid_generator = valid_datagen.flow_from_directory(\n",
    "    './dataset/valid_10',\n",
    "    batch_size=20,      \n",
    "    class_mode='categorical', \n",
    "    target_size=(img_size, img_size))\n",
    "test_datagen = ImageDataGenerator(rescale=1./255) # 스케일링만 진행\n",
    "test_generator = test_datagen.flow_from_directory(\n",
    "    './dataset/test_10',\n",
    "    batch_size=10,      \n",
    "    class_mode='categorical', \n",
    "    target_size=(img_size, img_size),\n",
    "    shuffle=False)"
   ]
  },
  {
   "cell_type": "code",
   "execution_count": null,
   "metadata": {
    "colab": {
     "base_uri": "https://localhost:8080/"
    },
    "executionInfo": {
     "elapsed": 9,
     "status": "ok",
     "timestamp": 1647957161087,
     "user": {
      "displayName": "김유정",
      "photoUrl": "https://lh3.googleusercontent.com/a/default-user=s64",
      "userId": "01261970241974990583"
     },
     "user_tz": -540
    },
    "id": "1j8wNdWaIUqv",
    "outputId": "b3177e1c-977b-4117-f0c7-a5afbfe0fbcd"
   },
   "outputs": [
    {
     "name": "stdout",
     "output_type": "stream",
     "text": [
      "train_generator class :  {'갈아만든배': 0, '레쓰비': 1, '마운틴듀': 2, '밀키스': 3, '스프라이트': 4, '칠성사이다': 5, '코카콜라': 6, '트로피카나망고': 7, '펩시콜라': 8, '환타오렌지': 9}\n",
      "valid_generator class :  {'갈아만든배': 0, '레쓰비': 1, '마운틴듀': 2, '밀키스': 3, '스프라이트': 4, '칠성사이다': 5, '코카콜라': 6, '트로피카나망고': 7, '펩시콜라': 8, '환타오렌지': 9}\n",
      "test_generator class :  {'갈아만든배': 0, '레쓰비': 1, '마운틴듀': 2, '밀키스': 3, '스프라이트': 4, '칠성사이다': 5, '코카콜라': 6, '트로피카나망고': 7, '펩시콜라': 8, '환타오렌지': 9}\n"
     ]
    }
   ],
   "source": [
    "print('train_generator class : ', train_generator.class_indices)\n",
    "print('valid_generator class : ', valid_generator.class_indices)\n",
    "print('test_generator class : ', test_generator.class_indices)"
   ]
  },
  {
   "cell_type": "markdown",
   "metadata": {
    "id": "quID_zZvIg-f"
   },
   "source": [
    "### 모델 학습하기 - MobileNet\n",
    "- 은닉층\n",
    "    * Dense(224, activation='relu')\n",
    "- 출력층\n",
    "    * Dense(10, activation='softmax')\n",
    "- complie\n",
    "    * optimizer : adam\n",
    "    * loss : categorical_crossentropy\n",
    "    * metrics : accuracy"
   ]
  },
  {
   "cell_type": "code",
   "execution_count": null,
   "metadata": {
    "id": "QcLXMbIhzQjh"
   },
   "outputs": [],
   "source": [
    "# 파라미터 설정\n",
    "classes = len(train_generator.class_indices)\n",
    "epochs = 200\n",
    "batch_size = 32"
   ]
  },
  {
   "cell_type": "code",
   "execution_count": null,
   "metadata": {
    "id": "-m3Ri2MFVS2M"
   },
   "outputs": [],
   "source": [
    "MobileNet = MobileNet()\n",
    "MobileNet.trainable = False # 학습으로 기존 가중치 갱신을 하지 않도록 지정"
   ]
  },
  {
   "cell_type": "code",
   "execution_count": null,
   "metadata": {
    "colab": {
     "base_uri": "https://localhost:8080/"
    },
    "executionInfo": {
     "elapsed": 559,
     "status": "ok",
     "timestamp": 1647957163353,
     "user": {
      "displayName": "김유정",
      "photoUrl": "https://lh3.googleusercontent.com/a/default-user=s64",
      "userId": "01261970241974990583"
     },
     "user_tz": -540
    },
    "id": "HLz3qHpZV8kZ",
    "outputId": "2ef52345-bb4c-45b7-849e-c6d1c05df483"
   },
   "outputs": [
    {
     "name": "stdout",
     "output_type": "stream",
     "text": [
      "Model: \"mobilenet_1.00_224\"\n",
      "_________________________________________________________________\n",
      " Layer (type)                Output Shape              Param #   \n",
      "=================================================================\n",
      " input_1 (InputLayer)        [(None, 224, 224, 3)]     0         \n",
      "                                                                 \n",
      " conv1 (Conv2D)              (None, 112, 112, 32)      864       \n",
      "                                                                 \n",
      " conv1_bn (BatchNormalizatio  (None, 112, 112, 32)     128       \n",
      " n)                                                              \n",
      "                                                                 \n",
      " conv1_relu (ReLU)           (None, 112, 112, 32)      0         \n",
      "                                                                 \n",
      " conv_dw_1 (DepthwiseConv2D)  (None, 112, 112, 32)     288       \n",
      "                                                                 \n",
      " conv_dw_1_bn (BatchNormaliz  (None, 112, 112, 32)     128       \n",
      " ation)                                                          \n",
      "                                                                 \n",
      " conv_dw_1_relu (ReLU)       (None, 112, 112, 32)      0         \n",
      "                                                                 \n",
      " conv_pw_1 (Conv2D)          (None, 112, 112, 64)      2048      \n",
      "                                                                 \n",
      " conv_pw_1_bn (BatchNormaliz  (None, 112, 112, 64)     256       \n",
      " ation)                                                          \n",
      "                                                                 \n",
      " conv_pw_1_relu (ReLU)       (None, 112, 112, 64)      0         \n",
      "                                                                 \n",
      " conv_pad_2 (ZeroPadding2D)  (None, 113, 113, 64)      0         \n",
      "                                                                 \n",
      " conv_dw_2 (DepthwiseConv2D)  (None, 56, 56, 64)       576       \n",
      "                                                                 \n",
      " conv_dw_2_bn (BatchNormaliz  (None, 56, 56, 64)       256       \n",
      " ation)                                                          \n",
      "                                                                 \n",
      " conv_dw_2_relu (ReLU)       (None, 56, 56, 64)        0         \n",
      "                                                                 \n",
      " conv_pw_2 (Conv2D)          (None, 56, 56, 128)       8192      \n",
      "                                                                 \n",
      " conv_pw_2_bn (BatchNormaliz  (None, 56, 56, 128)      512       \n",
      " ation)                                                          \n",
      "                                                                 \n",
      " conv_pw_2_relu (ReLU)       (None, 56, 56, 128)       0         \n",
      "                                                                 \n",
      " conv_dw_3 (DepthwiseConv2D)  (None, 56, 56, 128)      1152      \n",
      "                                                                 \n",
      " conv_dw_3_bn (BatchNormaliz  (None, 56, 56, 128)      512       \n",
      " ation)                                                          \n",
      "                                                                 \n",
      " conv_dw_3_relu (ReLU)       (None, 56, 56, 128)       0         \n",
      "                                                                 \n",
      " conv_pw_3 (Conv2D)          (None, 56, 56, 128)       16384     \n",
      "                                                                 \n",
      " conv_pw_3_bn (BatchNormaliz  (None, 56, 56, 128)      512       \n",
      " ation)                                                          \n",
      "                                                                 \n",
      " conv_pw_3_relu (ReLU)       (None, 56, 56, 128)       0         \n",
      "                                                                 \n",
      " conv_pad_4 (ZeroPadding2D)  (None, 57, 57, 128)       0         \n",
      "                                                                 \n",
      " conv_dw_4 (DepthwiseConv2D)  (None, 28, 28, 128)      1152      \n",
      "                                                                 \n",
      " conv_dw_4_bn (BatchNormaliz  (None, 28, 28, 128)      512       \n",
      " ation)                                                          \n",
      "                                                                 \n",
      " conv_dw_4_relu (ReLU)       (None, 28, 28, 128)       0         \n",
      "                                                                 \n",
      " conv_pw_4 (Conv2D)          (None, 28, 28, 256)       32768     \n",
      "                                                                 \n",
      " conv_pw_4_bn (BatchNormaliz  (None, 28, 28, 256)      1024      \n",
      " ation)                                                          \n",
      "                                                                 \n",
      " conv_pw_4_relu (ReLU)       (None, 28, 28, 256)       0         \n",
      "                                                                 \n",
      " conv_dw_5 (DepthwiseConv2D)  (None, 28, 28, 256)      2304      \n",
      "                                                                 \n",
      " conv_dw_5_bn (BatchNormaliz  (None, 28, 28, 256)      1024      \n",
      " ation)                                                          \n",
      "                                                                 \n",
      " conv_dw_5_relu (ReLU)       (None, 28, 28, 256)       0         \n",
      "                                                                 \n",
      " conv_pw_5 (Conv2D)          (None, 28, 28, 256)       65536     \n",
      "                                                                 \n",
      " conv_pw_5_bn (BatchNormaliz  (None, 28, 28, 256)      1024      \n",
      " ation)                                                          \n",
      "                                                                 \n",
      " conv_pw_5_relu (ReLU)       (None, 28, 28, 256)       0         \n",
      "                                                                 \n",
      " conv_pad_6 (ZeroPadding2D)  (None, 29, 29, 256)       0         \n",
      "                                                                 \n",
      " conv_dw_6 (DepthwiseConv2D)  (None, 14, 14, 256)      2304      \n",
      "                                                                 \n",
      " conv_dw_6_bn (BatchNormaliz  (None, 14, 14, 256)      1024      \n",
      " ation)                                                          \n",
      "                                                                 \n",
      " conv_dw_6_relu (ReLU)       (None, 14, 14, 256)       0         \n",
      "                                                                 \n",
      " conv_pw_6 (Conv2D)          (None, 14, 14, 512)       131072    \n",
      "                                                                 \n",
      " conv_pw_6_bn (BatchNormaliz  (None, 14, 14, 512)      2048      \n",
      " ation)                                                          \n",
      "                                                                 \n",
      " conv_pw_6_relu (ReLU)       (None, 14, 14, 512)       0         \n",
      "                                                                 \n",
      " conv_dw_7 (DepthwiseConv2D)  (None, 14, 14, 512)      4608      \n",
      "                                                                 \n",
      " conv_dw_7_bn (BatchNormaliz  (None, 14, 14, 512)      2048      \n",
      " ation)                                                          \n",
      "                                                                 \n",
      " conv_dw_7_relu (ReLU)       (None, 14, 14, 512)       0         \n",
      "                                                                 \n",
      " conv_pw_7 (Conv2D)          (None, 14, 14, 512)       262144    \n",
      "                                                                 \n",
      " conv_pw_7_bn (BatchNormaliz  (None, 14, 14, 512)      2048      \n",
      " ation)                                                          \n",
      "                                                                 \n",
      " conv_pw_7_relu (ReLU)       (None, 14, 14, 512)       0         \n",
      "                                                                 \n",
      " conv_dw_8 (DepthwiseConv2D)  (None, 14, 14, 512)      4608      \n",
      "                                                                 \n",
      " conv_dw_8_bn (BatchNormaliz  (None, 14, 14, 512)      2048      \n",
      " ation)                                                          \n",
      "                                                                 \n",
      " conv_dw_8_relu (ReLU)       (None, 14, 14, 512)       0         \n",
      "                                                                 \n",
      " conv_pw_8 (Conv2D)          (None, 14, 14, 512)       262144    \n",
      "                                                                 \n",
      " conv_pw_8_bn (BatchNormaliz  (None, 14, 14, 512)      2048      \n",
      " ation)                                                          \n",
      "                                                                 \n",
      " conv_pw_8_relu (ReLU)       (None, 14, 14, 512)       0         \n",
      "                                                                 \n",
      " conv_dw_9 (DepthwiseConv2D)  (None, 14, 14, 512)      4608      \n",
      "                                                                 \n",
      " conv_dw_9_bn (BatchNormaliz  (None, 14, 14, 512)      2048      \n",
      " ation)                                                          \n",
      "                                                                 \n",
      " conv_dw_9_relu (ReLU)       (None, 14, 14, 512)       0         \n",
      "                                                                 \n",
      " conv_pw_9 (Conv2D)          (None, 14, 14, 512)       262144    \n",
      "                                                                 \n",
      " conv_pw_9_bn (BatchNormaliz  (None, 14, 14, 512)      2048      \n",
      " ation)                                                          \n",
      "                                                                 \n",
      " conv_pw_9_relu (ReLU)       (None, 14, 14, 512)       0         \n",
      "                                                                 \n",
      " conv_dw_10 (DepthwiseConv2D  (None, 14, 14, 512)      4608      \n",
      " )                                                               \n",
      "                                                                 \n",
      " conv_dw_10_bn (BatchNormali  (None, 14, 14, 512)      2048      \n",
      " zation)                                                         \n",
      "                                                                 \n",
      " conv_dw_10_relu (ReLU)      (None, 14, 14, 512)       0         \n",
      "                                                                 \n",
      " conv_pw_10 (Conv2D)         (None, 14, 14, 512)       262144    \n",
      "                                                                 \n",
      " conv_pw_10_bn (BatchNormali  (None, 14, 14, 512)      2048      \n",
      " zation)                                                         \n",
      "                                                                 \n",
      " conv_pw_10_relu (ReLU)      (None, 14, 14, 512)       0         \n",
      "                                                                 \n",
      " conv_dw_11 (DepthwiseConv2D  (None, 14, 14, 512)      4608      \n",
      " )                                                               \n",
      "                                                                 \n",
      " conv_dw_11_bn (BatchNormali  (None, 14, 14, 512)      2048      \n",
      " zation)                                                         \n",
      "                                                                 \n",
      " conv_dw_11_relu (ReLU)      (None, 14, 14, 512)       0         \n",
      "                                                                 \n",
      " conv_pw_11 (Conv2D)         (None, 14, 14, 512)       262144    \n",
      "                                                                 \n",
      " conv_pw_11_bn (BatchNormali  (None, 14, 14, 512)      2048      \n",
      " zation)                                                         \n",
      "                                                                 \n",
      " conv_pw_11_relu (ReLU)      (None, 14, 14, 512)       0         \n",
      "                                                                 \n",
      " conv_pad_12 (ZeroPadding2D)  (None, 15, 15, 512)      0         \n",
      "                                                                 \n",
      " conv_dw_12 (DepthwiseConv2D  (None, 7, 7, 512)        4608      \n",
      " )                                                               \n",
      "                                                                 \n",
      " conv_dw_12_bn (BatchNormali  (None, 7, 7, 512)        2048      \n",
      " zation)                                                         \n",
      "                                                                 \n",
      " conv_dw_12_relu (ReLU)      (None, 7, 7, 512)         0         \n",
      "                                                                 \n",
      " conv_pw_12 (Conv2D)         (None, 7, 7, 1024)        524288    \n",
      "                                                                 \n",
      " conv_pw_12_bn (BatchNormali  (None, 7, 7, 1024)       4096      \n",
      " zation)                                                         \n",
      "                                                                 \n",
      " conv_pw_12_relu (ReLU)      (None, 7, 7, 1024)        0         \n",
      "                                                                 \n",
      " conv_dw_13 (DepthwiseConv2D  (None, 7, 7, 1024)       9216      \n",
      " )                                                               \n",
      "                                                                 \n",
      " conv_dw_13_bn (BatchNormali  (None, 7, 7, 1024)       4096      \n",
      " zation)                                                         \n",
      "                                                                 \n",
      " conv_dw_13_relu (ReLU)      (None, 7, 7, 1024)        0         \n",
      "                                                                 \n",
      " conv_pw_13 (Conv2D)         (None, 7, 7, 1024)        1048576   \n",
      "                                                                 \n",
      " conv_pw_13_bn (BatchNormali  (None, 7, 7, 1024)       4096      \n",
      " zation)                                                         \n",
      "                                                                 \n",
      " conv_pw_13_relu (ReLU)      (None, 7, 7, 1024)        0         \n",
      "                                                                 \n",
      " global_average_pooling2d (G  (None, 1, 1, 1024)       0         \n",
      " lobalAveragePooling2D)                                          \n",
      "                                                                 \n",
      " dropout (Dropout)           (None, 1, 1, 1024)        0         \n",
      "                                                                 \n",
      " conv_preds (Conv2D)         (None, 1, 1, 1000)        1025000   \n",
      "                                                                 \n",
      " reshape_2 (Reshape)         (None, 1000)              0         \n",
      "                                                                 \n",
      " predictions (Activation)    (None, 1000)              0         \n",
      "                                                                 \n",
      "=================================================================\n",
      "Total params: 4,253,864\n",
      "Trainable params: 0\n",
      "Non-trainable params: 4,253,864\n",
      "_________________________________________________________________\n"
     ]
    }
   ],
   "source": [
    "# 기본 모델의 아키텍쳐 살펴보기\n",
    "MobileNet.summary()"
   ]
  },
  {
   "cell_type": "code",
   "execution_count": null,
   "metadata": {
    "colab": {
     "base_uri": "https://localhost:8080/"
    },
    "executionInfo": {
     "elapsed": 20,
     "status": "ok",
     "timestamp": 1647957163354,
     "user": {
      "displayName": "김유정",
      "photoUrl": "https://lh3.googleusercontent.com/a/default-user=s64",
      "userId": "01261970241974990583"
     },
     "user_tz": -540
    },
    "id": "tL6Em9BrNAsL",
    "outputId": "84ba0c37-e1a7-4ec8-be44-1777e4c7fe3d"
   },
   "outputs": [
    {
     "name": "stdout",
     "output_type": "stream",
     "text": [
      "Model: \"sequential\"\n",
      "_________________________________________________________________\n",
      " Layer (type)                Output Shape              Param #   \n",
      "=================================================================\n",
      " mobilenet_1.00_224 (Functio  (None, 1000)             4253864   \n",
      " nal)                                                            \n",
      "                                                                 \n",
      " dense (Dense)               (None, 224)               224224    \n",
      "                                                                 \n",
      " dense_1 (Dense)             (None, 10)                2250      \n",
      "                                                                 \n",
      "=================================================================\n",
      "Total params: 4,480,338\n",
      "Trainable params: 226,474\n",
      "Non-trainable params: 4,253,864\n",
      "_________________________________________________________________\n"
     ]
    }
   ],
   "source": [
    "model = Sequential()\n",
    "model.add(MobileNet)\n",
    "model.add(Dense(224, activation='relu'))\n",
    "model.add(Dense(10, activation='softmax'))\n",
    "model.summary()"
   ]
  },
  {
   "cell_type": "code",
   "execution_count": null,
   "metadata": {
    "id": "ELk9v8EkItEP"
   },
   "outputs": [],
   "source": [
    "# 모델 환경설정\n",
    "model.compile(optimizer='adam',\n",
    "                  loss='categorical_crossentropy',\n",
    "                  metrics=['accuracy'])"
   ]
  },
  {
   "cell_type": "code",
   "execution_count": null,
   "metadata": {
    "id": "h08eCyFZyzBs"
   },
   "outputs": [],
   "source": [
    "model_name = './model/MobileNet_01_{epoch:02d}-{val_loss:.4f}.h5'\n",
    "cp_callback = tf.keras.callbacks.ModelCheckpoint(filepath = model_name,\n",
    "                                                 save_weights_only=True, \n",
    "                                                 save_freq=\"epoch\")\n",
    "earlystop = EarlyStopping(monitor='val_loss',\n",
    "                          min_delta=0,\n",
    "                          patience=10,\n",
    "                          verbose=1,\n",
    "                          restore_best_weights=True)"
   ]
  },
  {
   "cell_type": "code",
   "execution_count": null,
   "metadata": {
    "colab": {
     "background_save": true,
     "base_uri": "https://localhost:8080/"
    },
    "id": "5FRUH669NZbu",
    "outputId": "d94d9e21-c20b-474e-d4a7-3a9419e46d9b"
   },
   "outputs": [
    {
     "name": "stdout",
     "output_type": "stream",
     "text": [
      "Epoch 1/200\n",
      "200/200 [==============================] - 3535s 18s/step - loss: 2.0748 - accuracy: 0.3537 - val_loss: 1.8321 - val_accuracy: 0.4137\n",
      "Epoch 2/200\n",
      "200/200 [==============================] - 313s 2s/step - loss: 1.6510 - accuracy: 0.4642 - val_loss: 1.6016 - val_accuracy: 0.4588\n",
      "Epoch 3/200\n",
      "200/200 [==============================] - 137s 687ms/step - loss: 1.4616 - accuracy: 0.5145 - val_loss: 1.4879 - val_accuracy: 0.4950\n",
      "Epoch 4/200\n",
      "200/200 [==============================] - 119s 594ms/step - loss: 1.3729 - accuracy: 0.5453 - val_loss: 1.4125 - val_accuracy: 0.4950\n",
      "Epoch 5/200\n",
      "200/200 [==============================] - 118s 589ms/step - loss: 1.3015 - accuracy: 0.5639 - val_loss: 1.3815 - val_accuracy: 0.5138\n",
      "Epoch 6/200\n",
      "200/200 [==============================] - 120s 602ms/step - loss: 1.2401 - accuracy: 0.5893 - val_loss: 1.2953 - val_accuracy: 0.5575\n",
      "Epoch 7/200\n",
      "200/200 [==============================] - 128s 639ms/step - loss: 1.2195 - accuracy: 0.5919 - val_loss: 1.2591 - val_accuracy: 0.5713\n",
      "Epoch 8/200\n",
      "200/200 [==============================] - 122s 611ms/step - loss: 1.1784 - accuracy: 0.6073 - val_loss: 1.2439 - val_accuracy: 0.5713\n",
      "Epoch 9/200\n",
      "200/200 [==============================] - 128s 642ms/step - loss: 1.1507 - accuracy: 0.6143 - val_loss: 1.2476 - val_accuracy: 0.5587\n",
      "Epoch 10/200\n",
      "200/200 [==============================] - 128s 641ms/step - loss: 1.1208 - accuracy: 0.6274 - val_loss: 1.1859 - val_accuracy: 0.6000\n",
      "Epoch 11/200\n",
      "200/200 [==============================] - 128s 641ms/step - loss: 1.0989 - accuracy: 0.6321 - val_loss: 1.1453 - val_accuracy: 0.6112\n",
      "Epoch 12/200\n",
      "200/200 [==============================] - 119s 597ms/step - loss: 1.0781 - accuracy: 0.6408 - val_loss: 1.1477 - val_accuracy: 0.6237\n",
      "Epoch 13/200\n",
      "200/200 [==============================] - 118s 590ms/step - loss: 1.0645 - accuracy: 0.6478 - val_loss: 1.1418 - val_accuracy: 0.6087\n",
      "Epoch 14/200\n",
      "200/200 [==============================] - 117s 585ms/step - loss: 1.0454 - accuracy: 0.6543 - val_loss: 1.0864 - val_accuracy: 0.6350\n",
      "Epoch 15/200\n",
      "200/200 [==============================] - 118s 590ms/step - loss: 1.0294 - accuracy: 0.6587 - val_loss: 1.1017 - val_accuracy: 0.6237\n",
      "Epoch 16/200\n",
      "200/200 [==============================] - 118s 589ms/step - loss: 1.0072 - accuracy: 0.6635 - val_loss: 1.0963 - val_accuracy: 0.6300\n",
      "Epoch 17/200\n",
      "200/200 [==============================] - 117s 587ms/step - loss: 0.9984 - accuracy: 0.6691 - val_loss: 1.0603 - val_accuracy: 0.6525\n",
      "Epoch 18/200\n",
      "200/200 [==============================] - 117s 587ms/step - loss: 0.9791 - accuracy: 0.6776 - val_loss: 1.0576 - val_accuracy: 0.6525\n",
      "Epoch 19/200\n",
      "200/200 [==============================] - 122s 610ms/step - loss: 0.9663 - accuracy: 0.6780 - val_loss: 1.0375 - val_accuracy: 0.6450\n",
      "Epoch 20/200\n",
      "200/200 [==============================] - 124s 620ms/step - loss: 0.9546 - accuracy: 0.6867 - val_loss: 1.0412 - val_accuracy: 0.6475\n",
      "Epoch 21/200\n",
      "200/200 [==============================] - 119s 595ms/step - loss: 0.9414 - accuracy: 0.6878 - val_loss: 1.0148 - val_accuracy: 0.6662\n",
      "Epoch 22/200\n",
      "200/200 [==============================] - 117s 586ms/step - loss: 0.9198 - accuracy: 0.6943 - val_loss: 1.0490 - val_accuracy: 0.6400\n",
      "Epoch 23/200\n",
      "200/200 [==============================] - 118s 587ms/step - loss: 0.9256 - accuracy: 0.6922 - val_loss: 1.0162 - val_accuracy: 0.6575\n",
      "Epoch 24/200\n",
      "200/200 [==============================] - 117s 586ms/step - loss: 0.9125 - accuracy: 0.6952 - val_loss: 0.9986 - val_accuracy: 0.6600\n",
      "Epoch 25/200\n",
      "200/200 [==============================] - 116s 582ms/step - loss: 0.8918 - accuracy: 0.7063 - val_loss: 0.9745 - val_accuracy: 0.6687\n",
      "Epoch 26/200\n",
      "200/200 [==============================] - 118s 588ms/step - loss: 0.8695 - accuracy: 0.7085 - val_loss: 0.9442 - val_accuracy: 0.6900\n",
      "Epoch 27/200\n",
      "200/200 [==============================] - 118s 588ms/step - loss: 0.8799 - accuracy: 0.7076 - val_loss: 0.9594 - val_accuracy: 0.6700\n",
      "Epoch 28/200\n",
      "200/200 [==============================] - 120s 599ms/step - loss: 0.8659 - accuracy: 0.7104 - val_loss: 0.9597 - val_accuracy: 0.6812\n",
      "Epoch 29/200\n",
      "200/200 [==============================] - 119s 593ms/step - loss: 0.8551 - accuracy: 0.7195 - val_loss: 0.9248 - val_accuracy: 0.6825\n",
      "Epoch 30/200\n",
      "200/200 [==============================] - 119s 597ms/step - loss: 0.8566 - accuracy: 0.7188 - val_loss: 0.9092 - val_accuracy: 0.7025\n",
      "Epoch 31/200\n",
      "200/200 [==============================] - 122s 609ms/step - loss: 0.8272 - accuracy: 0.7231 - val_loss: 0.9097 - val_accuracy: 0.6825\n",
      "Epoch 32/200\n",
      "200/200 [==============================] - 120s 600ms/step - loss: 0.8296 - accuracy: 0.7258 - val_loss: 0.9281 - val_accuracy: 0.6762\n",
      "Epoch 33/200\n",
      "200/200 [==============================] - 121s 604ms/step - loss: 0.8264 - accuracy: 0.7256 - val_loss: 0.8947 - val_accuracy: 0.7038\n",
      "Epoch 34/200\n",
      "200/200 [==============================] - 120s 600ms/step - loss: 0.8238 - accuracy: 0.7239 - val_loss: 0.9099 - val_accuracy: 0.6862\n",
      "Epoch 35/200\n",
      "200/200 [==============================] - 118s 592ms/step - loss: 0.7998 - accuracy: 0.7341 - val_loss: 0.8980 - val_accuracy: 0.7013\n",
      "Epoch 36/200\n",
      "200/200 [==============================] - 118s 588ms/step - loss: 0.8023 - accuracy: 0.7317 - val_loss: 0.8664 - val_accuracy: 0.7312\n",
      "Epoch 37/200\n",
      "200/200 [==============================] - 118s 590ms/step - loss: 0.7916 - accuracy: 0.7394 - val_loss: 0.9190 - val_accuracy: 0.6938\n",
      "Epoch 38/200\n",
      "200/200 [==============================] - 116s 582ms/step - loss: 0.7756 - accuracy: 0.7441 - val_loss: 0.8934 - val_accuracy: 0.6988\n",
      "Epoch 39/200\n",
      "200/200 [==============================] - 117s 584ms/step - loss: 0.7757 - accuracy: 0.7463 - val_loss: 0.8517 - val_accuracy: 0.7225\n",
      "Epoch 40/200\n",
      "200/200 [==============================] - 117s 586ms/step - loss: 0.7663 - accuracy: 0.7419 - val_loss: 0.8742 - val_accuracy: 0.7075\n",
      "Epoch 41/200\n",
      "200/200 [==============================] - 117s 584ms/step - loss: 0.7550 - accuracy: 0.7525 - val_loss: 0.8389 - val_accuracy: 0.7025\n",
      "Epoch 42/200\n",
      "200/200 [==============================] - 117s 584ms/step - loss: 0.7559 - accuracy: 0.7507 - val_loss: 0.8138 - val_accuracy: 0.7362\n",
      "Epoch 43/200\n",
      "200/200 [==============================] - 117s 585ms/step - loss: 0.7503 - accuracy: 0.7438 - val_loss: 0.8354 - val_accuracy: 0.7237\n",
      "Epoch 44/200\n",
      "200/200 [==============================] - 118s 589ms/step - loss: 0.7509 - accuracy: 0.7502 - val_loss: 0.8420 - val_accuracy: 0.7250\n",
      "Epoch 45/200\n",
      "200/200 [==============================] - 118s 589ms/step - loss: 0.7394 - accuracy: 0.7573 - val_loss: 0.8162 - val_accuracy: 0.7250\n",
      "Epoch 46/200\n",
      "200/200 [==============================] - 118s 589ms/step - loss: 0.7368 - accuracy: 0.7542 - val_loss: 0.8250 - val_accuracy: 0.7175\n",
      "Epoch 47/200\n",
      "200/200 [==============================] - 118s 589ms/step - loss: 0.7155 - accuracy: 0.7595 - val_loss: 0.8384 - val_accuracy: 0.7212\n",
      "Epoch 48/200\n",
      "200/200 [==============================] - 117s 586ms/step - loss: 0.7181 - accuracy: 0.7627 - val_loss: 0.8343 - val_accuracy: 0.7088\n",
      "Epoch 49/200\n",
      "200/200 [==============================] - 117s 587ms/step - loss: 0.7368 - accuracy: 0.7510 - val_loss: 0.8060 - val_accuracy: 0.7375\n",
      "Epoch 50/200\n",
      "200/200 [==============================] - 117s 585ms/step - loss: 0.7163 - accuracy: 0.7667 - val_loss: 0.7870 - val_accuracy: 0.7337\n",
      "Epoch 51/200\n",
      "200/200 [==============================] - 117s 583ms/step - loss: 0.7016 - accuracy: 0.7696 - val_loss: 0.7729 - val_accuracy: 0.7425\n",
      "Epoch 52/200\n",
      "200/200 [==============================] - 117s 584ms/step - loss: 0.6979 - accuracy: 0.7683 - val_loss: 0.7699 - val_accuracy: 0.7425\n",
      "Epoch 53/200\n",
      "200/200 [==============================] - 117s 584ms/step - loss: 0.6971 - accuracy: 0.7678 - val_loss: 0.7778 - val_accuracy: 0.7450\n",
      "Epoch 54/200\n",
      "200/200 [==============================] - 117s 584ms/step - loss: 0.6901 - accuracy: 0.7731 - val_loss: 0.7709 - val_accuracy: 0.7350\n",
      "Epoch 55/200\n",
      "200/200 [==============================] - 117s 586ms/step - loss: 0.6785 - accuracy: 0.7757 - val_loss: 0.7628 - val_accuracy: 0.7375\n",
      "Epoch 56/200\n",
      "200/200 [==============================] - 117s 586ms/step - loss: 0.6822 - accuracy: 0.7750 - val_loss: 0.7579 - val_accuracy: 0.7575\n",
      "Epoch 57/200\n",
      "200/200 [==============================] - 117s 584ms/step - loss: 0.6795 - accuracy: 0.7702 - val_loss: 0.7882 - val_accuracy: 0.7325\n",
      "Epoch 58/200\n",
      "200/200 [==============================] - 117s 587ms/step - loss: 0.6617 - accuracy: 0.7847 - val_loss: 0.7625 - val_accuracy: 0.7362\n",
      "Epoch 59/200\n",
      "200/200 [==============================] - 117s 584ms/step - loss: 0.6545 - accuracy: 0.7810 - val_loss: 0.7711 - val_accuracy: 0.7538\n",
      "Epoch 60/200\n",
      "200/200 [==============================] - 117s 585ms/step - loss: 0.6640 - accuracy: 0.7819 - val_loss: 0.7515 - val_accuracy: 0.7475\n",
      "Epoch 61/200\n",
      "200/200 [==============================] - 117s 585ms/step - loss: 0.6474 - accuracy: 0.7854 - val_loss: 0.7298 - val_accuracy: 0.7588\n",
      "Epoch 62/200\n",
      "200/200 [==============================] - 117s 586ms/step - loss: 0.6522 - accuracy: 0.7831 - val_loss: 0.7415 - val_accuracy: 0.7513\n",
      "Epoch 63/200\n",
      "200/200 [==============================] - 117s 585ms/step - loss: 0.6473 - accuracy: 0.7853 - val_loss: 0.7111 - val_accuracy: 0.7663\n",
      "Epoch 64/200\n",
      "200/200 [==============================] - 117s 583ms/step - loss: 0.6455 - accuracy: 0.7841 - val_loss: 0.7227 - val_accuracy: 0.7688\n",
      "Epoch 65/200\n",
      "200/200 [==============================] - 117s 585ms/step - loss: 0.6401 - accuracy: 0.7866 - val_loss: 0.7409 - val_accuracy: 0.7588\n",
      "Epoch 66/200\n",
      "200/200 [==============================] - 117s 583ms/step - loss: 0.6283 - accuracy: 0.7934 - val_loss: 0.7248 - val_accuracy: 0.7613\n",
      "Epoch 67/200\n",
      "200/200 [==============================] - 117s 584ms/step - loss: 0.6298 - accuracy: 0.7865 - val_loss: 0.6927 - val_accuracy: 0.7763\n",
      "Epoch 68/200\n",
      "200/200 [==============================] - 117s 584ms/step - loss: 0.6307 - accuracy: 0.7908 - val_loss: 0.7196 - val_accuracy: 0.7600\n",
      "Epoch 69/200\n",
      "200/200 [==============================] - 117s 586ms/step - loss: 0.6209 - accuracy: 0.7927 - val_loss: 0.7024 - val_accuracy: 0.7600\n",
      "Epoch 70/200\n",
      "200/200 [==============================] - 117s 584ms/step - loss: 0.6146 - accuracy: 0.7962 - val_loss: 0.6978 - val_accuracy: 0.7575\n",
      "Epoch 71/200\n",
      "200/200 [==============================] - 117s 586ms/step - loss: 0.6159 - accuracy: 0.7945 - val_loss: 0.7274 - val_accuracy: 0.7300\n",
      "Epoch 72/200\n",
      "200/200 [==============================] - 117s 584ms/step - loss: 0.6201 - accuracy: 0.7939 - val_loss: 0.7196 - val_accuracy: 0.7525\n",
      "Epoch 73/200\n",
      "200/200 [==============================] - 117s 583ms/step - loss: 0.6042 - accuracy: 0.8028 - val_loss: 0.6930 - val_accuracy: 0.7600\n",
      "Epoch 74/200\n",
      "200/200 [==============================] - 116s 581ms/step - loss: 0.5862 - accuracy: 0.8010 - val_loss: 0.6983 - val_accuracy: 0.7675\n",
      "Epoch 75/200\n",
      "200/200 [==============================] - 116s 580ms/step - loss: 0.5945 - accuracy: 0.8021 - val_loss: 0.6820 - val_accuracy: 0.7675\n",
      "Epoch 76/200\n",
      "200/200 [==============================] - 116s 581ms/step - loss: 0.5950 - accuracy: 0.7985 - val_loss: 0.6793 - val_accuracy: 0.7713\n",
      "Epoch 77/200\n",
      "200/200 [==============================] - 116s 581ms/step - loss: 0.5902 - accuracy: 0.8003 - val_loss: 0.6892 - val_accuracy: 0.7638\n",
      "Epoch 78/200\n",
      "200/200 [==============================] - 117s 583ms/step - loss: 0.6047 - accuracy: 0.7990 - val_loss: 0.6635 - val_accuracy: 0.7700\n",
      "Epoch 79/200\n",
      "200/200 [==============================] - 117s 585ms/step - loss: 0.5827 - accuracy: 0.8064 - val_loss: 0.6927 - val_accuracy: 0.7638\n",
      "Epoch 80/200\n",
      "200/200 [==============================] - 117s 585ms/step - loss: 0.5794 - accuracy: 0.8072 - val_loss: 0.6540 - val_accuracy: 0.7850\n",
      "Epoch 81/200\n",
      "200/200 [==============================] - 117s 586ms/step - loss: 0.5823 - accuracy: 0.8046 - val_loss: 0.6694 - val_accuracy: 0.7837\n",
      "Epoch 82/200\n",
      "200/200 [==============================] - 117s 587ms/step - loss: 0.5793 - accuracy: 0.8111 - val_loss: 0.6716 - val_accuracy: 0.7825\n",
      "Epoch 83/200\n",
      "200/200 [==============================] - 117s 583ms/step - loss: 0.5851 - accuracy: 0.8027 - val_loss: 0.6300 - val_accuracy: 0.7825\n",
      "Epoch 84/200\n",
      "200/200 [==============================] - 117s 582ms/step - loss: 0.5738 - accuracy: 0.8091 - val_loss: 0.6591 - val_accuracy: 0.7850\n",
      "Epoch 85/200\n",
      "200/200 [==============================] - 116s 581ms/step - loss: 0.5779 - accuracy: 0.8067 - val_loss: 0.6474 - val_accuracy: 0.7812\n",
      "Epoch 86/200\n",
      "200/200 [==============================] - 116s 579ms/step - loss: 0.5703 - accuracy: 0.8062 - val_loss: 0.6594 - val_accuracy: 0.7812\n",
      "Epoch 87/200\n",
      "200/200 [==============================] - 117s 583ms/step - loss: 0.5654 - accuracy: 0.8136 - val_loss: 0.6406 - val_accuracy: 0.7850\n",
      "Epoch 88/200\n",
      "200/200 [==============================] - 117s 583ms/step - loss: 0.5626 - accuracy: 0.8139 - val_loss: 0.6787 - val_accuracy: 0.7638\n",
      "Epoch 89/200\n",
      "200/200 [==============================] - 116s 580ms/step - loss: 0.5576 - accuracy: 0.8161 - val_loss: 0.6519 - val_accuracy: 0.7800\n",
      "Epoch 90/200\n",
      "200/200 [==============================] - 117s 583ms/step - loss: 0.5648 - accuracy: 0.8147 - val_loss: 0.6185 - val_accuracy: 0.7950\n",
      "Epoch 91/200\n",
      "200/200 [==============================] - 116s 582ms/step - loss: 0.5630 - accuracy: 0.8093 - val_loss: 0.6693 - val_accuracy: 0.7713\n",
      "Epoch 92/200\n",
      "200/200 [==============================] - 117s 583ms/step - loss: 0.5468 - accuracy: 0.8144 - val_loss: 0.6418 - val_accuracy: 0.7887\n",
      "Epoch 93/200\n",
      "200/200 [==============================] - 117s 583ms/step - loss: 0.5622 - accuracy: 0.8178 - val_loss: 0.6402 - val_accuracy: 0.7962\n",
      "Epoch 94/200\n",
      "200/200 [==============================] - 116s 582ms/step - loss: 0.5580 - accuracy: 0.8176 - val_loss: 0.6188 - val_accuracy: 0.8000\n",
      "Epoch 95/200\n",
      "200/200 [==============================] - 117s 587ms/step - loss: 0.5546 - accuracy: 0.8165 - val_loss: 0.6534 - val_accuracy: 0.7688\n",
      "Epoch 96/200\n",
      "200/200 [==============================] - 116s 582ms/step - loss: 0.5456 - accuracy: 0.8153 - val_loss: 0.6292 - val_accuracy: 0.7875\n",
      "Epoch 97/200\n",
      "200/200 [==============================] - 117s 583ms/step - loss: 0.5529 - accuracy: 0.8145 - val_loss: 0.6376 - val_accuracy: 0.7850\n",
      "Epoch 98/200\n",
      "200/200 [==============================] - 117s 587ms/step - loss: 0.5388 - accuracy: 0.8194 - val_loss: 0.6710 - val_accuracy: 0.7600\n",
      "Epoch 99/200\n",
      "200/200 [==============================] - 116s 580ms/step - loss: 0.5484 - accuracy: 0.8183 - val_loss: 0.5988 - val_accuracy: 0.7725\n",
      "Epoch 100/200\n",
      "200/200 [==============================] - 117s 583ms/step - loss: 0.5425 - accuracy: 0.8210 - val_loss: 0.6443 - val_accuracy: 0.7812\n",
      "Epoch 101/200\n",
      "200/200 [==============================] - 117s 583ms/step - loss: 0.5296 - accuracy: 0.8246 - val_loss: 0.6315 - val_accuracy: 0.7850\n",
      "Epoch 102/200\n",
      "200/200 [==============================] - 117s 585ms/step - loss: 0.5320 - accuracy: 0.8210 - val_loss: 0.6001 - val_accuracy: 0.7950\n",
      "Epoch 103/200\n",
      "200/200 [==============================] - 117s 585ms/step - loss: 0.5406 - accuracy: 0.8195 - val_loss: 0.6090 - val_accuracy: 0.8025\n",
      "Epoch 104/200\n",
      "200/200 [==============================] - 116s 582ms/step - loss: 0.5283 - accuracy: 0.8175 - val_loss: 0.6071 - val_accuracy: 0.7887\n",
      "Epoch 105/200\n",
      "200/200 [==============================] - 117s 585ms/step - loss: 0.5257 - accuracy: 0.8255 - val_loss: 0.5970 - val_accuracy: 0.7812\n",
      "Epoch 106/200\n",
      "200/200 [==============================] - 116s 582ms/step - loss: 0.5216 - accuracy: 0.8261 - val_loss: 0.5971 - val_accuracy: 0.8012\n",
      "Epoch 107/200\n",
      "200/200 [==============================] - 116s 582ms/step - loss: 0.5238 - accuracy: 0.8268 - val_loss: 0.6073 - val_accuracy: 0.7912\n",
      "Epoch 108/200\n",
      "200/200 [==============================] - 117s 584ms/step - loss: 0.5191 - accuracy: 0.8299 - val_loss: 0.6031 - val_accuracy: 0.7875\n",
      "Epoch 109/200\n",
      "200/200 [==============================] - 117s 584ms/step - loss: 0.5108 - accuracy: 0.8329 - val_loss: 0.6126 - val_accuracy: 0.7975\n",
      "Epoch 110/200\n",
      "200/200 [==============================] - 117s 586ms/step - loss: 0.5166 - accuracy: 0.8258 - val_loss: 0.6078 - val_accuracy: 0.7937\n",
      "Epoch 111/200\n",
      "200/200 [==============================] - 118s 589ms/step - loss: 0.5195 - accuracy: 0.8308 - val_loss: 0.5789 - val_accuracy: 0.8100\n",
      "Epoch 112/200\n",
      "200/200 [==============================] - 117s 583ms/step - loss: 0.5172 - accuracy: 0.8253 - val_loss: 0.6008 - val_accuracy: 0.7887\n",
      "Epoch 113/200\n",
      "200/200 [==============================] - 117s 585ms/step - loss: 0.5117 - accuracy: 0.8290 - val_loss: 0.5777 - val_accuracy: 0.7975\n",
      "Epoch 114/200\n",
      "200/200 [==============================] - 117s 586ms/step - loss: 0.4887 - accuracy: 0.8431 - val_loss: 0.5893 - val_accuracy: 0.8012\n",
      "Epoch 115/200\n",
      "200/200 [==============================] - 117s 585ms/step - loss: 0.4979 - accuracy: 0.8323 - val_loss: 0.5849 - val_accuracy: 0.7875\n",
      "Epoch 116/200\n",
      "200/200 [==============================] - 117s 587ms/step - loss: 0.5010 - accuracy: 0.8382 - val_loss: 0.6035 - val_accuracy: 0.7937\n",
      "Epoch 117/200\n",
      "200/200 [==============================] - 117s 584ms/step - loss: 0.4915 - accuracy: 0.8332 - val_loss: 0.5975 - val_accuracy: 0.7925\n",
      "Epoch 118/200\n",
      "200/200 [==============================] - 117s 585ms/step - loss: 0.4899 - accuracy: 0.8344 - val_loss: 0.5675 - val_accuracy: 0.8200\n",
      "Epoch 119/200\n",
      "200/200 [==============================] - 117s 587ms/step - loss: 0.4984 - accuracy: 0.8320 - val_loss: 0.5389 - val_accuracy: 0.8225\n",
      "Epoch 120/200\n",
      "200/200 [==============================] - 116s 582ms/step - loss: 0.4893 - accuracy: 0.8398 - val_loss: 0.5730 - val_accuracy: 0.8037\n",
      "Epoch 121/200\n",
      "200/200 [==============================] - 116s 581ms/step - loss: 0.4931 - accuracy: 0.8366 - val_loss: 0.5468 - val_accuracy: 0.8138\n",
      "Epoch 122/200\n",
      "200/200 [==============================] - 117s 583ms/step - loss: 0.4903 - accuracy: 0.8371 - val_loss: 0.5864 - val_accuracy: 0.7962\n",
      "Epoch 123/200\n",
      "200/200 [==============================] - 116s 582ms/step - loss: 0.5010 - accuracy: 0.8343 - val_loss: 0.5639 - val_accuracy: 0.8025\n",
      "Epoch 124/200\n",
      "200/200 [==============================] - 117s 583ms/step - loss: 0.4827 - accuracy: 0.8400 - val_loss: 0.5516 - val_accuracy: 0.8138\n",
      "Epoch 125/200\n",
      "200/200 [==============================] - 117s 584ms/step - loss: 0.4848 - accuracy: 0.8402 - val_loss: 0.5774 - val_accuracy: 0.8050\n",
      "Epoch 126/200\n",
      "200/200 [==============================] - 117s 584ms/step - loss: 0.4735 - accuracy: 0.8448 - val_loss: 0.5699 - val_accuracy: 0.7987\n",
      "Epoch 127/200\n",
      "200/200 [==============================] - 117s 584ms/step - loss: 0.4790 - accuracy: 0.8407 - val_loss: 0.5682 - val_accuracy: 0.8000\n",
      "Epoch 128/200\n",
      "200/200 [==============================] - 117s 584ms/step - loss: 0.4826 - accuracy: 0.8393 - val_loss: 0.5443 - val_accuracy: 0.8200\n",
      "Epoch 129/200\n",
      "200/200 [==============================] - ETA: 0s - loss: 0.4737 - accuracy: 0.8457Restoring model weights from the end of the best epoch: 119.\n",
      "200/200 [==============================] - 117s 586ms/step - loss: 0.4737 - accuracy: 0.8457 - val_loss: 0.5522 - val_accuracy: 0.8225\n",
      "Epoch 129: early stopping\n"
     ]
    }
   ],
   "source": [
    "history = model.fit(train_generator,\n",
    "                    steps_per_epoch=200, \n",
    "                    epochs=epochs, \n",
    "                    validation_data=valid_generator, \n",
    "                    validation_steps=40,\n",
    "                    callbacks = [[earlystop, cp_callback]]) "
   ]
  },
  {
   "cell_type": "markdown",
   "metadata": {
    "id": "lcX6YIWYOcvR"
   },
   "source": [
    "### 모델 저장 및 확인"
   ]
  },
  {
   "cell_type": "code",
   "execution_count": null,
   "metadata": {
    "colab": {
     "background_save": true
    },
    "id": "Jm81uXJH5K6M"
   },
   "outputs": [],
   "source": [
    "# 모델 저장\n",
    "accuracy = round(max(history.history['accuracy'])*100,2)\n",
    "model.save(f'./model/MobileNet_01_model_ep{epochs}_acc{accuracy}.h5') # 최종 모델 저장"
   ]
  },
  {
   "cell_type": "code",
   "execution_count": 5,
   "metadata": {
    "executionInfo": {
     "elapsed": 6230,
     "status": "ok",
     "timestamp": 1648012823590,
     "user": {
      "displayName": "김유정",
      "photoUrl": "https://lh3.googleusercontent.com/a/default-user=s64",
      "userId": "01261970241974990583"
     },
     "user_tz": -540
    },
    "id": "IR-SkX57NA2d"
   },
   "outputs": [],
   "source": [
    "from keras.models import load_model\n",
    "model = load_model('./MobileNet_01_acc85.0.h5')"
   ]
  },
  {
   "cell_type": "code",
   "execution_count": 10,
   "metadata": {
    "colab": {
     "base_uri": "https://localhost:8080/"
    },
    "executionInfo": {
     "elapsed": 347897,
     "status": "ok",
     "timestamp": 1648013250067,
     "user": {
      "displayName": "김유정",
      "photoUrl": "https://lh3.googleusercontent.com/a/default-user=s64",
      "userId": "01261970241974990583"
     },
     "user_tz": -540
    },
    "id": "s5ox0b-o95HZ",
    "outputId": "37ad3114-3906-4de4-aa43-84796b413315"
   },
   "outputs": [
    {
     "name": "stdout",
     "output_type": "stream",
     "text": [
      "50/50 [==============================] - 339s 7s/step - loss: 0.5674 - accuracy: 0.7980\n"
     ]
    },
    {
     "data": {
      "text/plain": [
       "[0.5673933029174805, 0.7979999780654907]"
      ]
     },
     "execution_count": 10,
     "metadata": {},
     "output_type": "execute_result"
    }
   ],
   "source": [
    "model.evaluate(test_generator)"
   ]
  },
  {
   "cell_type": "code",
   "execution_count": null,
   "metadata": {
    "colab": {
     "background_save": true
    },
    "id": "RKe56hTfuLz3",
    "outputId": "fac4f6ff-cb72-426f-ef06-a1667c9ec530"
   },
   "outputs": [
    {
     "data": {
      "text/plain": [
       "<matplotlib.legend.Legend at 0x7fded02f3f10>"
      ]
     },
     "execution_count": null,
     "metadata": {},
     "output_type": "execute_result"
    },
    {
     "data": {
      "image/png": "[encoded data removed]",
      "text/plain": [
       "<Figure size 1152x360 with 2 Axes>"
      ]
     },
     "metadata": {},
     "output_type": "display_data"
    }
   ],
   "source": [
    "plt.figure(figsize=(16,5))\n",
    "\n",
    "# 만들어진 모델에 대해 train dataset과 validation dataset의 loss 를 그래프로 표현해 봅니다.\n",
    "plt.subplot(1, 2, 1)\n",
    "plt.plot(history.history['loss'])\n",
    "plt.plot(history.history['val_loss'])\n",
    "plt.title('model loss')\n",
    "plt.ylabel('loss')\n",
    "plt.xlabel('epoch')\n",
    "plt.legend(['train', 'validation'], loc=0)\n",
    "\n",
    "# 만들어진 모델에 대해 train dataset과 validation dataset의 accuracy 를 그래프로 표현해 봅니다.\n",
    "plt.subplot(1, 2, 2)\n",
    "plt.plot(history.history['accuracy'])\n",
    "plt.plot(history.history['val_accuracy'])\n",
    "plt.title('model accuracy')\n",
    "plt.ylabel('accuracy')\n",
    "plt.xlabel('epoch')\n",
    "plt.legend(['train', 'validation'], loc=0)"
   ]
  },
  {
   "cell_type": "code",
   "execution_count": null,
   "metadata": {
    "colab": {
     "background_save": true
    },
    "id": "jhP5N4epxnin",
    "outputId": "2fb61fd7-6e40-472c-ac07-5ffd5d1a3138"
   },
   "outputs": [
    {
     "data": {
      "text/plain": [
       "{'갈아만든배': 0,\n",
       " '레쓰비': 1,\n",
       " '마운틴듀': 2,\n",
       " '밀키스': 3,\n",
       " '스프라이트': 4,\n",
       " '칠성사이다': 5,\n",
       " '코카콜라': 6,\n",
       " '트로피카나망고': 7,\n",
       " '펩시콜라': 8,\n",
       " '환타오렌지': 9}"
      ]
     },
     "execution_count": null,
     "metadata": {},
     "output_type": "execute_result"
    }
   ],
   "source": [
    "train_generator.class_indices"
   ]
  },
  {
   "cell_type": "code",
   "execution_count": null,
   "metadata": {
    "colab": {
     "base_uri": "https://localhost:8080/"
    },
    "executionInfo": {
     "elapsed": 382,
     "status": "ok",
     "timestamp": 1647986932552,
     "user": {
      "displayName": "김유정",
      "photoUrl": "https://lh3.googleusercontent.com/a/default-user=s64",
      "userId": "01261970241974990583"
     },
     "user_tz": -540
    },
    "id": "0oIHFVriqwFq",
    "outputId": "f577ae73-5e4d-406d-da22-18305f628692"
   },
   "outputs": [
    {
     "data": {
      "text/plain": [
       "array([[1.7346998e-03, 4.6902025e-04, 3.2739434e-01, 1.4882920e-02,\n",
       "        6.0109812e-01, 3.9654979e-03, 8.0637895e-03, 7.9838119e-10,\n",
       "        4.2382363e-02, 9.2892751e-06]], dtype=float32)"
      ]
     },
     "execution_count": 22,
     "metadata": {},
     "output_type": "execute_result"
    }
   ],
   "source": [
    "test_img = cv2.imread('./Pepsi_cola.jpg')  # 펩시콜라 : 8\n",
    "test_img = cv2.cvtColor(test_img, cv2.COLOR_BGR2RGB)\n",
    "test_img = cv2.resize(test_img,(224,224))/255.0\n",
    "test_img = test_img.reshape((1,)+test_img.shape)\n",
    "model.predict(test_img)"
   ]
  },
  {
   "cell_type": "code",
   "execution_count": null,
   "metadata": {
    "colab": {
     "base_uri": "https://localhost:8080/"
    },
    "executionInfo": {
     "elapsed": 512,
     "status": "ok",
     "timestamp": 1647986935344,
     "user": {
      "displayName": "김유정",
      "photoUrl": "https://lh3.googleusercontent.com/a/default-user=s64",
      "userId": "01261970241974990583"
     },
     "user_tz": -540
    },
    "id": "ugljkcho5Rqh",
    "outputId": "d3f2c576-fdab-4052-f2ca-5af94f498238"
   },
   "outputs": [
    {
     "data": {
      "text/plain": [
       "array([[0.00162187, 0.07932667, 0.09156302, 0.07575079, 0.19662555,\n",
       "        0.00214532, 0.27638397, 0.03893669, 0.00666576, 0.23098043]],\n",
       "      dtype=float32)"
      ]
     },
     "execution_count": 23,
     "metadata": {},
     "output_type": "execute_result"
    }
   ],
   "source": [
    "test_img = cv2.imread('./fanta_orange.jpg')  # 환타오렌지 : 9\n",
    "test_img = cv2.cvtColor(test_img, cv2.COLOR_BGR2RGB)\n",
    "test_img = cv2.resize(test_img,(224,224))/255.0\n",
    "test_img = test_img.reshape((1,)+test_img.shape)\n",
    "model.predict(test_img)"
   ]
  }
 ],
 "metadata": {
  "accelerator": "GPU",
  "colab": {
   "collapsed_sections": [
    "quID_zZvIg-f"
   ],
   "machine_shape": "hm",
   "name": "01_Mobilenet_ep200_acc85.ipynb",
   "provenance": [],
   "toc_visible": true
  },
  "kernelspec": {
   "display_name": "Python 3 (ipykernel)",
   "language": "python",
   "name": "python3"
  },
  "language_info": {
   "codemirror_mode": {
    "name": "ipython",
    "version": 3
   },
   "file_extension": ".py",
   "mimetype": "text/x-python",
   "name": "python",
   "nbconvert_exporter": "python",
   "pygments_lexer": "ipython3",
   "version": "3.9.7"
  }
 },
 "nbformat": 4,
 "nbformat_minor": 1
}
