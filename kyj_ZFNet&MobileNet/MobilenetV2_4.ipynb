{
 "cells": [
  {
   "cell_type": "code",
   "execution_count": 1,
   "metadata": {
    "executionInfo": {
     "elapsed": 3388,
     "status": "ok",
     "timestamp": 1648044554738,
     "user": {
      "displayName": "김유정",
      "photoUrl": "https://lh3.googleusercontent.com/a/default-user=s64",
      "userId": "01261970241974990583"
     },
     "user_tz": -540
    },
    "id": "kty_K3yCHIJU"
   },
   "outputs": [],
   "source": [
    "# 모듈 호출\n",
    "import pandas as pd\n",
    "import numpy as np\n",
    "import cv2\n",
    "import matplotlib.pyplot as plt\n",
    "import glob\n",
    "import tensorflow as tf\n",
    "from tensorflow import keras\n",
    "from tensorflow.keras.models import Sequential\n",
    "from tensorflow.keras.layers import Flatten,Dense,Dropout\n",
    "from tensorflow.keras.preprocessing.image import ImageDataGenerator\n",
    "from tensorflow.keras.callbacks import EarlyStopping"
   ]
  },
  {
   "cell_type": "code",
   "execution_count": 2,
   "metadata": {
    "colab": {
     "base_uri": "https://localhost:8080/"
    },
    "executionInfo": {
     "elapsed": 21623,
     "status": "ok",
     "timestamp": 1648044581488,
     "user": {
      "displayName": "김유정",
      "photoUrl": "https://lh3.googleusercontent.com/a/default-user=s64",
      "userId": "01261970241974990583"
     },
     "user_tz": -540
    },
    "id": "zMY9v3HqLszM",
    "outputId": "e0b23c1a-04d4-48fd-df84-fd555bcb728a"
   },
   "outputs": [
    {
     "name": "stdout",
     "output_type": "stream",
     "text": [
      "Mounted at /content/drive\n"
     ]
    }
   ],
   "source": [
    "from google.colab import drive\n",
    "drive.mount('/content/drive')"
   ]
  },
  {
   "cell_type": "code",
   "execution_count": 4,
   "metadata": {
    "executionInfo": {
     "elapsed": 546,
     "status": "ok",
     "timestamp": 1648044598950,
     "user": {
      "displayName": "김유정",
      "photoUrl": "https://lh3.googleusercontent.com/a/default-user=s64",
      "userId": "01261970241974990583"
     },
     "user_tz": -540
    },
    "id": "rIBarWufHrX5"
   },
   "outputs": [],
   "source": [
    "img_size = 224\n",
    "channel=3"
   ]
  },
  {
   "cell_type": "code",
   "execution_count": 5,
   "metadata": {
    "colab": {
     "base_uri": "https://localhost:8080/"
    },
    "executionInfo": {
     "elapsed": 23005,
     "status": "ok",
     "timestamp": 1648044626700,
     "user": {
      "displayName": "김유정",
      "photoUrl": "https://lh3.googleusercontent.com/a/default-user=s64",
      "userId": "01261970241974990583"
     },
     "user_tz": -540
    },
    "id": "DPiOY-GnIH0o",
    "outputId": "1fab8ae1-ce7e-498b-eec4-41344bfccedc"
   },
   "outputs": [
    {
     "name": "stdout",
     "output_type": "stream",
     "text": [
      "Found 10529 images belonging to 10 classes.\n",
      "Found 1000 images belonging to 10 classes.\n",
      "Found 500 images belonging to 10 classes.\n"
     ]
    }
   ],
   "source": [
    "train_datagen = ImageDataGenerator( \n",
    "        rescale=1./255,         # 픽셀 값을 0~1 범위로 변환\n",
    "        rotation_range=40,      # 40도까지 회전\n",
    "        width_shift_range=0.2,  # 20%까지 좌우 이동\n",
    "        height_shift_range=0.2, # 20%까지 상하 이동\n",
    "        shear_range=0.2,        # 20%까지 기울임\n",
    "        zoom_range=0.2,         # 20%까지 확대\n",
    "        horizontal_flip=True,   # 좌우 뒤집기\n",
    "    )\n",
    "train_generator = train_datagen.flow_from_directory(\n",
    "    './dataset/train_10',\n",
    "    batch_size=50,      \n",
    "    class_mode='categorical', \n",
    "    target_size=(img_size, img_size)) \n",
    "valid_datagen = ImageDataGenerator(rescale=1./255) # 스케일링만 진행\n",
    "valid_generator = valid_datagen.flow_from_directory(\n",
    "    './dataset/valid_10',\n",
    "    batch_size=20,      \n",
    "    class_mode='categorical', \n",
    "    target_size=(img_size, img_size))\n",
    "test_datagen = ImageDataGenerator(rescale=1./255) # 스케일링만 진행\n",
    "test_generator = test_datagen.flow_from_directory(\n",
    "    './dataset/test_10',\n",
    "    batch_size=10,      \n",
    "    class_mode='categorical', \n",
    "    target_size=(img_size, img_size),\n",
    "    shuffle=False)"
   ]
  },
  {
   "cell_type": "code",
   "execution_count": 6,
   "metadata": {
    "colab": {
     "base_uri": "https://localhost:8080/"
    },
    "executionInfo": {
     "elapsed": 603,
     "status": "ok",
     "timestamp": 1648044657778,
     "user": {
      "displayName": "김유정",
      "photoUrl": "https://lh3.googleusercontent.com/a/default-user=s64",
      "userId": "01261970241974990583"
     },
     "user_tz": -540
    },
    "id": "1j8wNdWaIUqv",
    "outputId": "670cabef-d8f5-4b2c-e776-d6a4facf2515"
   },
   "outputs": [
    {
     "name": "stdout",
     "output_type": "stream",
     "text": [
      "train_generator class :  {'갈아만든배': 0, '레쓰비': 1, '마운틴듀': 2, '밀키스': 3, '스프라이트': 4, '칠성사이다': 5, '코카콜라': 6, '트로피카나망고': 7, '펩시콜라': 8, '환타오렌지': 9}\n",
      "valid_generator class :  {'갈아만든배': 0, '레쓰비': 1, '마운틴듀': 2, '밀키스': 3, '스프라이트': 4, '칠성사이다': 5, '코카콜라': 6, '트로피카나망고': 7, '펩시콜라': 8, '환타오렌지': 9}\n",
      "test_generator class :  {'갈아만든배': 0, '레쓰비': 1, '마운틴듀': 2, '밀키스': 3, '스프라이트': 4, '칠성사이다': 5, '코카콜라': 6, '트로피카나망고': 7, '펩시콜라': 8, '환타오렌지': 9}\n"
     ]
    }
   ],
   "source": [
    "print('train_generator class : ', train_generator.class_indices)\n",
    "print('valid_generator class : ', valid_generator.class_indices)\n",
    "print('test_generator class : ', test_generator.class_indices)"
   ]
  },
  {
   "cell_type": "markdown",
   "metadata": {
    "id": "quID_zZvIg-f"
   },
   "source": [
    "### 모델 학습하기 - MobileNetV2\n",
    "- imagenet 전이학습\n",
    "- 은닉층\n",
    "    * Flatten(input_shape=(112,112))\n",
    "    * Dense(224, activation='relu')\n",
    "    * Dropout(0.2)\n",
    "- 출력층\n",
    "    * Dense(10, activation='softmax')\n",
    "- complie\n",
    "    * optimizer : adam\n",
    "    * loss : categorical_crossentropy\n",
    "    * metrics : accuracy"
   ]
  },
  {
   "cell_type": "code",
   "execution_count": 7,
   "metadata": {
    "executionInfo": {
     "elapsed": 638,
     "status": "ok",
     "timestamp": 1648044660499,
     "user": {
      "displayName": "김유정",
      "photoUrl": "https://lh3.googleusercontent.com/a/default-user=s64",
      "userId": "01261970241974990583"
     },
     "user_tz": -540
    },
    "id": "QcLXMbIhzQjh"
   },
   "outputs": [],
   "source": [
    "# 파라미터 설정\n",
    "classes = len(train_generator.class_indices)\n",
    "epochs = 200\n",
    "batch_size = 32"
   ]
  },
  {
   "cell_type": "code",
   "execution_count": 8,
   "metadata": {
    "colab": {
     "base_uri": "https://localhost:8080/"
    },
    "executionInfo": {
     "elapsed": 5203,
     "status": "ok",
     "timestamp": 1648044667111,
     "user": {
      "displayName": "김유정",
      "photoUrl": "https://lh3.googleusercontent.com/a/default-user=s64",
      "userId": "01261970241974990583"
     },
     "user_tz": -540
    },
    "id": "-m3Ri2MFVS2M",
    "outputId": "5977f7be-736c-4aa4-ff68-5e0b50c00da2"
   },
   "outputs": [
    {
     "name": "stdout",
     "output_type": "stream",
     "text": [
      "Downloading data from https://storage.googleapis.com/tensorflow/keras-applications/mobilenet_v2/mobilenet_v2_weights_tf_dim_ordering_tf_kernels_1.0_224_no_top.h5\n",
      "9412608/9406464 [==============================] - 0s 0us/step\n",
      "9420800/9406464 [==============================] - 0s 0us/step\n"
     ]
    }
   ],
   "source": [
    "MobileNet = tf.keras.applications.MobileNetV2(include_top=False,\n",
    "                                                   weights='imagenet',\n",
    "                                                   input_shape=(img_size, img_size, channel))\n",
    "MobileNet.trainable = False # 학습으로 기존 가중치 갱신을 하지 않도록 지정"
   ]
  },
  {
   "cell_type": "code",
   "execution_count": 9,
   "metadata": {
    "colab": {
     "base_uri": "https://localhost:8080/"
    },
    "executionInfo": {
     "elapsed": 578,
     "status": "ok",
     "timestamp": 1648044670612,
     "user": {
      "displayName": "김유정",
      "photoUrl": "https://lh3.googleusercontent.com/a/default-user=s64",
      "userId": "01261970241974990583"
     },
     "user_tz": -540
    },
    "id": "tL6Em9BrNAsL",
    "outputId": "4d046bf1-7a93-4861-8140-7dc8cf3d88fc"
   },
   "outputs": [
    {
     "name": "stdout",
     "output_type": "stream",
     "text": [
      "Model: \"sequential\"\n",
      "_________________________________________________________________\n",
      " Layer (type)                Output Shape              Param #   \n",
      "=================================================================\n",
      " mobilenetv2_1.00_224 (Funct  (None, 7, 7, 1280)       2257984   \n",
      " ional)                                                          \n",
      "                                                                 \n",
      " flatten (Flatten)           (None, 62720)             0         \n",
      "                                                                 \n",
      " dense (Dense)               (None, 224)               14049504  \n",
      "                                                                 \n",
      " dropout (Dropout)           (None, 224)               0         \n",
      "                                                                 \n",
      " dense_1 (Dense)             (None, 10)                2250      \n",
      "                                                                 \n",
      "=================================================================\n",
      "Total params: 16,309,738\n",
      "Trainable params: 14,051,754\n",
      "Non-trainable params: 2,257,984\n",
      "_________________________________________________________________\n"
     ]
    }
   ],
   "source": [
    "model = Sequential()\n",
    "model.add(MobileNet)\n",
    "model.add(Flatten(input_shape=(112,112)))\n",
    "model.add(Dense(224, activation='relu'))\n",
    "model.add(Dropout(0.2))\n",
    "model.add(Dense(10, activation='softmax'))\n",
    "model.summary()"
   ]
  },
  {
   "cell_type": "code",
   "execution_count": 10,
   "metadata": {
    "executionInfo": {
     "elapsed": 639,
     "status": "ok",
     "timestamp": 1648044676798,
     "user": {
      "displayName": "김유정",
      "photoUrl": "https://lh3.googleusercontent.com/a/default-user=s64",
      "userId": "01261970241974990583"
     },
     "user_tz": -540
    },
    "id": "ELk9v8EkItEP"
   },
   "outputs": [],
   "source": [
    "# 모델 환경설정\n",
    "model.compile(optimizer='adam',\n",
    "                  loss='categorical_crossentropy',\n",
    "                  metrics=['accuracy'])"
   ]
  },
  {
   "cell_type": "code",
   "execution_count": 11,
   "metadata": {
    "executionInfo": {
     "elapsed": 712,
     "status": "ok",
     "timestamp": 1648044686478,
     "user": {
      "displayName": "김유정",
      "photoUrl": "https://lh3.googleusercontent.com/a/default-user=s64",
      "userId": "01261970241974990583"
     },
     "user_tz": -540
    },
    "id": "h08eCyFZyzBs"
   },
   "outputs": [],
   "source": [
    "model_name = './model/MobileNetV2_04_{epoch:02d}-{val_loss:.4f}.hdf5'\n",
    "cp_callback = tf.keras.callbacks.ModelCheckpoint(filepath = model_name,\n",
    "                                                 save_weights_only=True, \n",
    "                                                 save_freq=\"epoch\")\n",
    "earlystop = EarlyStopping(monitor='val_loss',\n",
    "                          min_delta=0,\n",
    "                          patience=10,\n",
    "                          verbose=1,\n",
    "                          restore_best_weights=True)"
   ]
  },
  {
   "cell_type": "code",
   "execution_count": 12,
   "metadata": {
    "colab": {
     "base_uri": "https://localhost:8080/"
    },
    "executionInfo": {
     "elapsed": 9057399,
     "status": "ok",
     "timestamp": 1648053751770,
     "user": {
      "displayName": "김유정",
      "photoUrl": "https://lh3.googleusercontent.com/a/default-user=s64",
      "userId": "01261970241974990583"
     },
     "user_tz": -540
    },
    "id": "5FRUH669NZbu",
    "outputId": "635e3ffd-3d8f-4121-932e-c6dc87e0466c"
   },
   "outputs": [
    {
     "name": "stdout",
     "output_type": "stream",
     "text": [
      "Epoch 1/200\n",
      "200/200 [==============================] - 5632s 28s/step - loss: 2.0770 - accuracy: 0.6850 - val_loss: 0.2040 - val_accuracy: 0.9388\n",
      "Epoch 2/200\n",
      "200/200 [==============================] - 440s 2s/step - loss: 0.3606 - accuracy: 0.8768 - val_loss: 0.1340 - val_accuracy: 0.9613\n",
      "Epoch 3/200\n",
      "200/200 [==============================] - 144s 723ms/step - loss: 0.2750 - accuracy: 0.9056 - val_loss: 0.0828 - val_accuracy: 0.9663\n",
      "Epoch 4/200\n",
      "200/200 [==============================] - 120s 601ms/step - loss: 0.2386 - accuracy: 0.9179 - val_loss: 0.0634 - val_accuracy: 0.9837\n",
      "Epoch 5/200\n",
      "200/200 [==============================] - 118s 588ms/step - loss: 0.2189 - accuracy: 0.9275 - val_loss: 0.0480 - val_accuracy: 0.9900\n",
      "Epoch 6/200\n",
      "200/200 [==============================] - 118s 589ms/step - loss: 0.1874 - accuracy: 0.9367 - val_loss: 0.0655 - val_accuracy: 0.9775\n",
      "Epoch 7/200\n",
      "200/200 [==============================] - 118s 591ms/step - loss: 0.1733 - accuracy: 0.9399 - val_loss: 0.0212 - val_accuracy: 0.9950\n",
      "Epoch 8/200\n",
      "200/200 [==============================] - 118s 589ms/step - loss: 0.1817 - accuracy: 0.9413 - val_loss: 0.0680 - val_accuracy: 0.9775\n",
      "Epoch 9/200\n",
      "200/200 [==============================] - 117s 587ms/step - loss: 0.1795 - accuracy: 0.9416 - val_loss: 0.0359 - val_accuracy: 0.9875\n",
      "Epoch 10/200\n",
      "200/200 [==============================] - 117s 585ms/step - loss: 0.1524 - accuracy: 0.9481 - val_loss: 0.0316 - val_accuracy: 0.9925\n",
      "Epoch 11/200\n",
      "200/200 [==============================] - 117s 586ms/step - loss: 0.1302 - accuracy: 0.9568 - val_loss: 0.0163 - val_accuracy: 0.9937\n",
      "Epoch 12/200\n",
      "200/200 [==============================] - 118s 590ms/step - loss: 0.1483 - accuracy: 0.9516 - val_loss: 0.0708 - val_accuracy: 0.9837\n",
      "Epoch 13/200\n",
      "200/200 [==============================] - 118s 589ms/step - loss: 0.1408 - accuracy: 0.9543 - val_loss: 0.0176 - val_accuracy: 0.9950\n",
      "Epoch 14/200\n",
      "200/200 [==============================] - 118s 589ms/step - loss: 0.1249 - accuracy: 0.9580 - val_loss: 0.0264 - val_accuracy: 0.9900\n",
      "Epoch 15/200\n",
      "200/200 [==============================] - 117s 587ms/step - loss: 0.1392 - accuracy: 0.9546 - val_loss: 0.0209 - val_accuracy: 0.9925\n",
      "Epoch 16/200\n",
      "200/200 [==============================] - 117s 585ms/step - loss: 0.1348 - accuracy: 0.9555 - val_loss: 0.0381 - val_accuracy: 0.9862\n",
      "Epoch 17/200\n",
      "200/200 [==============================] - 118s 590ms/step - loss: 0.1294 - accuracy: 0.9578 - val_loss: 0.0107 - val_accuracy: 0.9950\n",
      "Epoch 18/200\n",
      "200/200 [==============================] - 116s 579ms/step - loss: 0.1123 - accuracy: 0.9623 - val_loss: 0.0210 - val_accuracy: 0.9937\n",
      "Epoch 19/200\n",
      "200/200 [==============================] - 116s 580ms/step - loss: 0.1070 - accuracy: 0.9636 - val_loss: 0.0379 - val_accuracy: 0.9850\n",
      "Epoch 20/200\n",
      "200/200 [==============================] - 118s 590ms/step - loss: 0.1117 - accuracy: 0.9613 - val_loss: 0.0242 - val_accuracy: 0.9937\n",
      "Epoch 21/200\n",
      "200/200 [==============================] - 116s 581ms/step - loss: 0.1214 - accuracy: 0.9636 - val_loss: 0.0285 - val_accuracy: 0.9887\n",
      "Epoch 22/200\n",
      "200/200 [==============================] - 116s 580ms/step - loss: 0.1165 - accuracy: 0.9632 - val_loss: 0.0331 - val_accuracy: 0.9912\n",
      "Epoch 23/200\n",
      "200/200 [==============================] - 116s 579ms/step - loss: 0.1173 - accuracy: 0.9607 - val_loss: 0.0339 - val_accuracy: 0.9912\n",
      "Epoch 24/200\n",
      "200/200 [==============================] - 116s 580ms/step - loss: 0.1132 - accuracy: 0.9648 - val_loss: 0.0317 - val_accuracy: 0.9912\n",
      "Epoch 25/200\n",
      "200/200 [==============================] - 116s 580ms/step - loss: 0.1121 - accuracy: 0.9669 - val_loss: 0.0314 - val_accuracy: 0.9900\n",
      "Epoch 26/200\n",
      "200/200 [==============================] - 116s 579ms/step - loss: 0.0962 - accuracy: 0.9678 - val_loss: 0.0164 - val_accuracy: 0.9950\n",
      "Epoch 27/200\n",
      "200/200 [==============================] - ETA: 0s - loss: 0.1054 - accuracy: 0.9669Restoring model weights from the end of the best epoch: 17.\n",
      "200/200 [==============================] - 117s 583ms/step - loss: 0.1054 - accuracy: 0.9669 - val_loss: 0.0443 - val_accuracy: 0.9900\n",
      "Epoch 27: early stopping\n"
     ]
    }
   ],
   "source": [
    "history = model.fit(train_generator,\n",
    "                    steps_per_epoch=200, \n",
    "                    epochs=epochs, \n",
    "                    validation_data=valid_generator, \n",
    "                    validation_steps=40,\n",
    "                    callbacks = [[earlystop, cp_callback]]) "
   ]
  },
  {
   "cell_type": "code",
   "execution_count": 13,
   "metadata": {
    "colab": {
     "base_uri": "https://localhost:8080/"
    },
    "executionInfo": {
     "elapsed": 544,
     "status": "ok",
     "timestamp": 1648053836843,
     "user": {
      "displayName": "김유정",
      "photoUrl": "https://lh3.googleusercontent.com/a/default-user=s64",
      "userId": "01261970241974990583"
     },
     "user_tz": -540
    },
    "id": "oSLhIF3e-503",
    "outputId": "9cb00d9f-d0b6-453b-da85-6eb7b5cf8076"
   },
   "outputs": [
    {
     "data": {
      "text/plain": [
       "0.9678324460983276"
      ]
     },
     "execution_count": 13,
     "metadata": {},
     "output_type": "execute_result"
    }
   ],
   "source": [
    "max(history.history['accuracy'])"
   ]
  },
  {
   "cell_type": "code",
   "execution_count": 27,
   "metadata": {
    "executionInfo": {
     "elapsed": 1008,
     "status": "ok",
     "timestamp": 1648054408566,
     "user": {
      "displayName": "김유정",
      "photoUrl": "https://lh3.googleusercontent.com/a/default-user=s64",
      "userId": "01261970241974990583"
     },
     "user_tz": -540
    },
    "id": "Jm81uXJH5K6M"
   },
   "outputs": [],
   "source": [
    "# 모델 저장\n",
    "accuracy = round(max(history.history['accuracy'])*100,0)\n",
    "model.save(f'./model/MobileNetV2_04_model_acc{accuracy}.h5') # 최종 모델 저장"
   ]
  },
  {
   "cell_type": "code",
   "execution_count": 16,
   "metadata": {
    "colab": {
     "base_uri": "https://localhost:8080/",
     "height": 368
    },
    "executionInfo": {
     "elapsed": 637,
     "status": "ok",
     "timestamp": 1648054116558,
     "user": {
      "displayName": "김유정",
      "photoUrl": "https://lh3.googleusercontent.com/a/default-user=s64",
      "userId": "01261970241974990583"
     },
     "user_tz": -540
    },
    "id": "RKe56hTfuLz3",
    "outputId": "bf2371d3-dbb5-48a1-e06f-180b41af063f"
   },
   "outputs": [
    {
     "data": {
      "text/plain": [
       "<matplotlib.legend.Legend at 0x7f4136107e10>"
      ]
     },
     "execution_count": 16,
     "metadata": {},
     "output_type": "execute_result"
    },
    {
     "data": {
      "image/png": "[encoded data removed]",
      "text/plain": [
       "<Figure size 1152x360 with 2 Axes>"
      ]
     },
     "metadata": {
      "needs_background": "light"
     },
     "output_type": "display_data"
    }
   ],
   "source": [
    "plt.figure(figsize=(16,5))\n",
    "\n",
    "# 만들어진 모델에 대해 train dataset과 validation dataset의 loss 를 그래프로 표현해 봅니다.\n",
    "plt.subplot(1, 2, 1)\n",
    "plt.plot(history.history['loss'])\n",
    "plt.plot(history.history['val_loss'])\n",
    "plt.title('model loss')\n",
    "plt.ylabel('loss')\n",
    "plt.xlabel('epoch')\n",
    "plt.legend(['train', 'validation'], loc=0)\n",
    "\n",
    "# 만들어진 모델에 대해 train dataset과 validation dataset의 accuracy 를 그래프로 표현해 봅니다.\n",
    "plt.subplot(1, 2, 2)\n",
    "plt.plot(history.history['accuracy'])\n",
    "plt.plot(history.history['val_accuracy'])\n",
    "plt.title('model accuracy')\n",
    "plt.ylabel('accuracy')\n",
    "plt.xlabel('epoch')\n",
    "plt.legend(['train', 'validation'], loc=0)"
   ]
  },
  {
   "cell_type": "code",
   "execution_count": 15,
   "metadata": {
    "colab": {
     "base_uri": "https://localhost:8080/"
    },
    "executionInfo": {
     "elapsed": 267660,
     "status": "ok",
     "timestamp": 1648054112777,
     "user": {
      "displayName": "김유정",
      "photoUrl": "https://lh3.googleusercontent.com/a/default-user=s64",
      "userId": "01261970241974990583"
     },
     "user_tz": -540
    },
    "id": "s5ox0b-o95HZ",
    "outputId": "98daf12c-9f0b-4356-8874-d0b0e1aa6b8e"
   },
   "outputs": [
    {
     "name": "stdout",
     "output_type": "stream",
     "text": [
      "50/50 [==============================] - 247s 5s/step - loss: 0.0169 - accuracy: 0.9960\n"
     ]
    },
    {
     "data": {
      "text/plain": [
       "[0.016938036307692528, 0.9959999918937683]"
      ]
     },
     "execution_count": 15,
     "metadata": {},
     "output_type": "execute_result"
    }
   ],
   "source": [
    "model.evaluate(test_generator)"
   ]
  },
  {
   "cell_type": "code",
   "execution_count": 17,
   "metadata": {
    "colab": {
     "base_uri": "https://localhost:8080/"
    },
    "executionInfo": {
     "elapsed": 536,
     "status": "ok",
     "timestamp": 1648054130807,
     "user": {
      "displayName": "김유정",
      "photoUrl": "https://lh3.googleusercontent.com/a/default-user=s64",
      "userId": "01261970241974990583"
     },
     "user_tz": -540
    },
    "id": "jhP5N4epxnin",
    "outputId": "a9e96d1e-335e-4144-da27-57bc3d2f790b"
   },
   "outputs": [
    {
     "data": {
      "text/plain": [
       "{'갈아만든배': 0,\n",
       " '레쓰비': 1,\n",
       " '마운틴듀': 2,\n",
       " '밀키스': 3,\n",
       " '스프라이트': 4,\n",
       " '칠성사이다': 5,\n",
       " '코카콜라': 6,\n",
       " '트로피카나망고': 7,\n",
       " '펩시콜라': 8,\n",
       " '환타오렌지': 9}"
      ]
     },
     "execution_count": 17,
     "metadata": {},
     "output_type": "execute_result"
    }
   ],
   "source": [
    "train_generator.class_indices"
   ]
  },
  {
   "cell_type": "code",
   "execution_count": 18,
   "metadata": {
    "colab": {
     "base_uri": "https://localhost:8080/"
    },
    "executionInfo": {
     "elapsed": 2194,
     "status": "ok",
     "timestamp": 1648054137144,
     "user": {
      "displayName": "김유정",
      "photoUrl": "https://lh3.googleusercontent.com/a/default-user=s64",
      "userId": "01261970241974990583"
     },
     "user_tz": -540
    },
    "id": "0oIHFVriqwFq",
    "outputId": "72ba28c1-0f4e-4b5d-c935-2182df7986f6"
   },
   "outputs": [
    {
     "data": {
      "text/plain": [
       "array([[2.05928959e-22, 5.01239002e-02, 1.24050895e-10, 1.73379852e-14,\n",
       "        1.71684658e-08, 1.07605444e-16, 8.26482274e-17, 1.94813804e-19,\n",
       "        9.49876070e-01, 2.26534032e-14]], dtype=float32)"
      ]
     },
     "execution_count": 18,
     "metadata": {},
     "output_type": "execute_result"
    }
   ],
   "source": [
    "test_img = cv2.imread('./Pepsi_cola.jpg')  # 펩시콜라 : 8\n",
    "test_img = cv2.cvtColor(test_img, cv2.COLOR_BGR2RGB)\n",
    "test_img = cv2.resize(test_img,(224,224))/255.0\n",
    "test_img = test_img.reshape((1,)+test_img.shape)\n",
    "model.predict(test_img)"
   ]
  },
  {
   "cell_type": "code",
   "execution_count": 19,
   "metadata": {
    "colab": {
     "base_uri": "https://localhost:8080/"
    },
    "executionInfo": {
     "elapsed": 1045,
     "status": "ok",
     "timestamp": 1648054151763,
     "user": {
      "displayName": "김유정",
      "photoUrl": "https://lh3.googleusercontent.com/a/default-user=s64",
      "userId": "01261970241974990583"
     },
     "user_tz": -540
    },
    "id": "ugljkcho5Rqh",
    "outputId": "4c982019-18b4-4183-d1fa-cd78c82ae156"
   },
   "outputs": [
    {
     "data": {
      "text/plain": [
       "array([[8.7908153e-12, 1.4060196e-08, 4.9829219e-18, 1.7124617e-25,\n",
       "        2.8017714e-12, 1.8716873e-19, 1.6027617e-17, 1.2834796e-07,\n",
       "        2.7075359e-10, 9.9999988e-01]], dtype=float32)"
      ]
     },
     "execution_count": 19,
     "metadata": {},
     "output_type": "execute_result"
    }
   ],
   "source": [
    "test_img = cv2.imread('./fanta_orange.jpg')  # 환타오렌지 : 9\n",
    "test_img = cv2.cvtColor(test_img, cv2.COLOR_BGR2RGB)\n",
    "test_img = cv2.resize(test_img,(224,224))/255.0\n",
    "test_img = test_img.reshape((1,)+test_img.shape)\n",
    "model.predict(test_img)\n",
    "# 판별 성공"
   ]
  }
 ],
 "metadata": {
  "accelerator": "GPU",
  "colab": {
   "collapsed_sections": [],
   "machine_shape": "hm",
   "name": "04_MobilenetV2_dropout_epo200_acc_97.ipynb",
   "provenance": []
  },
  "kernelspec": {
   "display_name": "Python 3 (ipykernel)",
   "language": "python",
   "name": "python3"
  },
  "language_info": {
   "codemirror_mode": {
    "name": "ipython",
    "version": 3
   },
   "file_extension": ".py",
   "mimetype": "text/x-python",
   "name": "python",
   "nbconvert_exporter": "python",
   "pygments_lexer": "ipython3",
   "version": "3.9.7"
  }
 },
 "nbformat": 4,
 "nbformat_minor": 1
}
