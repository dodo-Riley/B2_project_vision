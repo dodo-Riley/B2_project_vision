{
 "cells": [
  {
   "cell_type": "code",
   "execution_count": 1,
   "metadata": {
    "executionInfo": {
     "elapsed": 3066,
     "status": "ok",
     "timestamp": 1647937312613,
     "user": {
      "displayName": "김유정",
      "photoUrl": "https://lh3.googleusercontent.com/a/default-user=s64",
      "userId": "01261970241974990583"
     },
     "user_tz": -540
    },
    "id": "5oWwpOqv65Vc"
   },
   "outputs": [],
   "source": [
    "# 모듈 호출\n",
    "import os\n",
    "import sys\n",
    "import glob\n",
    "import shutil\n",
    "from PIL import Image\n",
    "import numpy as np\n",
    "import cv2\n",
    "import matplotlib.pyplot as plt\n",
    "import pandas as pd\n",
    "from tqdm import tqdm\n",
    "import tensorflow as tf\n",
    "from tensorflow import keras\n",
    "from tensorflow.keras.applications import VGG16\n",
    "from tensorflow.keras.models import Sequential\n",
    "from tensorflow.keras.layers import Conv2D,Dense,Flatten,Dropout,MaxPooling2D\n",
    "from tensorflow.keras.preprocessing.image import ImageDataGenerator\n",
    "from tensorflow.keras.callbacks import EarlyStopping"
   ]
  },
  {
   "cell_type": "markdown",
   "metadata": {
    "id": "gg-ObkJW72gx"
   },
   "source": [
    "### 데이터가져오기"
   ]
  },
  {
   "cell_type": "code",
   "execution_count": 3,
   "metadata": {
    "executionInfo": {
     "elapsed": 271,
     "status": "ok",
     "timestamp": 1647937691761,
     "user": {
      "displayName": "김유정",
      "photoUrl": "https://lh3.googleusercontent.com/a/default-user=s64",
      "userId": "01261970241974990583"
     },
     "user_tz": -540
    },
    "id": "KUioDjew3esG"
   },
   "outputs": [],
   "source": [
    "img_size = 224\n",
    "channel=3"
   ]
  },
  {
   "cell_type": "code",
   "execution_count": 4,
   "metadata": {
    "colab": {
     "base_uri": "https://localhost:8080/"
    },
    "executionInfo": {
     "elapsed": 999,
     "status": "ok",
     "timestamp": 1647937697793,
     "user": {
      "displayName": "김유정",
      "photoUrl": "https://lh3.googleusercontent.com/a/default-user=s64",
      "userId": "01261970241974990583"
     },
     "user_tz": -540
    },
    "id": "LlDhd6qfBLPY",
    "outputId": "f4da71e9-a1d7-4e95-b406-eeedd42293fd"
   },
   "outputs": [
    {
     "name": "stdout",
     "output_type": "stream",
     "text": [
      "Found 10529 images belonging to 10 classes.\n",
      "Found 1000 images belonging to 10 classes.\n",
      "Found 500 images belonging to 10 classes.\n"
     ]
    }
   ],
   "source": [
    "train_datagen = ImageDataGenerator( \n",
    "        rescale=1./255,         # 픽셀 값을 0~1 범위로 변환\n",
    "        rotation_range=40,      # 40도까지 회전\n",
    "        width_shift_range=0.2,  # 20%까지 좌우 이동\n",
    "        height_shift_range=0.2, # 20%까지 상하 이동\n",
    "        shear_range=0.2,        # 20%까지 기울임\n",
    "        zoom_range=0.2,         # 20%까지 확대\n",
    "        horizontal_flip=True,   # 좌우 뒤집기\n",
    "    )\n",
    "train_generator = train_datagen.flow_from_directory(\n",
    "    './train_10',\n",
    "    batch_size=50,      \n",
    "    class_mode='categorical', \n",
    "    target_size=(img_size, img_size)) \n",
    "valid_datagen = ImageDataGenerator(rescale=1./255) # 스케일링만 진행\n",
    "valid_generator = valid_datagen.flow_from_directory(\n",
    "    './valid_10',\n",
    "    batch_size=20,      \n",
    "    class_mode='categorical', \n",
    "    target_size=(img_size, img_size))\n",
    "test_datagen = ImageDataGenerator(rescale=1./255) # 스케일링만 진행\n",
    "test_generator = test_datagen.flow_from_directory(\n",
    "    './test_10',\n",
    "    batch_size=10,      \n",
    "    class_mode='categorical', \n",
    "    target_size=(img_size, img_size),\n",
    "    shuffle=False)"
   ]
  },
  {
   "cell_type": "code",
   "execution_count": 5,
   "metadata": {
    "colab": {
     "base_uri": "https://localhost:8080/"
    },
    "executionInfo": {
     "elapsed": 284,
     "status": "ok",
     "timestamp": 1647937700672,
     "user": {
      "displayName": "김유정",
      "photoUrl": "https://lh3.googleusercontent.com/a/default-user=s64",
      "userId": "01261970241974990583"
     },
     "user_tz": -540
    },
    "id": "SoXlkL3JC4cm",
    "outputId": "e2b3e1e2-0fca-4985-8797-b0d203d759b3"
   },
   "outputs": [
    {
     "name": "stdout",
     "output_type": "stream",
     "text": [
      "{'갈아만든배': 0, '레쓰비': 1, '마운틴듀': 2, '밀키스': 3, '스프라이트': 4, '칠성사이다': 5, '코카콜라': 6, '트로피카나망고': 7, '펩시콜라': 8, '환타오렌지': 9}\n"
     ]
    }
   ],
   "source": [
    "print(train_generator.class_indices)"
   ]
  },
  {
   "cell_type": "code",
   "execution_count": 6,
   "metadata": {
    "colab": {
     "base_uri": "https://localhost:8080/"
    },
    "executionInfo": {
     "elapsed": 4,
     "status": "ok",
     "timestamp": 1647937701739,
     "user": {
      "displayName": "김유정",
      "photoUrl": "https://lh3.googleusercontent.com/a/default-user=s64",
      "userId": "01261970241974990583"
     },
     "user_tz": -540
    },
    "id": "tQwq1WvIC4JZ",
    "outputId": "82486482-2da3-4508-94c5-1b7bbac26df9"
   },
   "outputs": [
    {
     "name": "stdout",
     "output_type": "stream",
     "text": [
      "{'갈아만든배': 0, '레쓰비': 1, '마운틴듀': 2, '밀키스': 3, '스프라이트': 4, '칠성사이다': 5, '코카콜라': 6, '트로피카나망고': 7, '펩시콜라': 8, '환타오렌지': 9}\n"
     ]
    }
   ],
   "source": [
    "print(valid_generator.class_indices)"
   ]
  },
  {
   "cell_type": "code",
   "execution_count": 7,
   "metadata": {
    "colab": {
     "base_uri": "https://localhost:8080/"
    },
    "executionInfo": {
     "elapsed": 9,
     "status": "ok",
     "timestamp": 1647937702834,
     "user": {
      "displayName": "김유정",
      "photoUrl": "https://lh3.googleusercontent.com/a/default-user=s64",
      "userId": "01261970241974990583"
     },
     "user_tz": -540
    },
    "id": "Pey3TLcSC4F9",
    "outputId": "8486503e-71a7-40a1-d35f-0d0a1b18fc10"
   },
   "outputs": [
    {
     "name": "stdout",
     "output_type": "stream",
     "text": [
      "{'갈아만든배': 0, '레쓰비': 1, '마운틴듀': 2, '밀키스': 3, '스프라이트': 4, '칠성사이다': 5, '코카콜라': 6, '트로피카나망고': 7, '펩시콜라': 8, '환타오렌지': 9}\n"
     ]
    }
   ],
   "source": [
    "print(test_generator.class_indices)"
   ]
  },
  {
   "cell_type": "markdown",
   "metadata": {
    "id": "o7MI0Ulm7Mnu"
   },
   "source": [
    "### 모델 학습하기"
   ]
  },
  {
   "cell_type": "markdown",
   "metadata": {
    "id": "WKVX_yOK8iA3"
   },
   "source": [
    "#### ZFNet 모델"
   ]
  },
  {
   "cell_type": "markdown",
   "metadata": {
    "id": "-mYLYjOo6cz5"
   },
   "source": [
    "##### [참고 git address](https://github.com/Bao-Jiarong/ZFNet/blob/0bc51770c78b3c8c984208c74153b7ae530f4e69/zfnet.py)"
   ]
  },
  {
   "cell_type": "code",
   "execution_count": 8,
   "metadata": {
    "executionInfo": {
     "elapsed": 275,
     "status": "ok",
     "timestamp": 1647937705928,
     "user": {
      "displayName": "김유정",
      "photoUrl": "https://lh3.googleusercontent.com/a/default-user=s64",
      "userId": "01261970241974990583"
     },
     "user_tz": -540
    },
    "id": "2nV7j1Im3Tx7"
   },
   "outputs": [],
   "source": [
    "os.environ['TF_CPP_MIN_LOG_LEVEL'] = '3'\n",
    "import sys\n",
    "sys.path.append('/content/drive/MyDrive/ColabNotebooks/AI_service_develop/loader.py')\n",
    "import loader\n",
    "sys.path.append('/content/drive/MyDrive/ColabNotebooks/AI_service_develop/zfnet.py')\n",
    "import zfnet"
   ]
  },
  {
   "cell_type": "code",
   "execution_count": 9,
   "metadata": {
    "executionInfo": {
     "elapsed": 295,
     "status": "ok",
     "timestamp": 1647937708340,
     "user": {
      "displayName": "김유정",
      "photoUrl": "https://lh3.googleusercontent.com/a/default-user=s64",
      "userId": "01261970241974990583"
     },
     "user_tz": -540
    },
    "id": "_EOwG_2ISh7s"
   },
   "outputs": [],
   "source": [
    "# parameter 정의\n",
    "epochs = 200\n",
    "lr_rate = 0.0001\n",
    "batch_size = 32\n",
    "classes= len(train_generator.class_indices)"
   ]
  },
  {
   "cell_type": "code",
   "execution_count": 10,
   "metadata": {
    "colab": {
     "base_uri": "https://localhost:8080/"
    },
    "executionInfo": {
     "elapsed": 1308,
     "status": "ok",
     "timestamp": 1647937711946,
     "user": {
      "displayName": "김유정",
      "photoUrl": "https://lh3.googleusercontent.com/a/default-user=s64",
      "userId": "01261970241974990583"
     },
     "user_tz": -540
    },
    "id": "2rrd7krmLwfd",
    "outputId": "f6db9c55-84bd-45b2-c98a-00d68f3601c1"
   },
   "outputs": [
    {
     "name": "stdout",
     "output_type": "stream",
     "text": [
      "Model: \"zf_net\"\n",
      "_________________________________________________________________\n",
      " Layer (type)                Output Shape              Param #   \n",
      "=================================================================\n",
      " block (Block)               (None, 54, 54, 24)        3552      \n",
      "                                                                 \n",
      " block_1 (Block)             (None, 13, 13, 64)        38464     \n",
      "                                                                 \n",
      " conv2d_2 (Conv2D)           (None, 13, 13, 128)       73856     \n",
      "                                                                 \n",
      " conv2d_3 (Conv2D)           (None, 13, 13, 256)       295168    \n",
      "                                                                 \n",
      " block_2 (Block)             (None, 6, 6, 128)         295040    \n",
      "                                                                 \n",
      " flatten (Flatten)           (None, 4608)              0         \n",
      "                                                                 \n",
      " dense (Dense)               (None, 2304)              10619136  \n",
      "                                                                 \n",
      " dense_1 (Dense)             (None, 1024)              2360320   \n",
      "                                                                 \n",
      " dense_2 (Dense)             (None, 1024)              1049600   \n",
      "                                                                 \n",
      " dense_3 (Dense)             (None, 10)                10250     \n",
      "                                                                 \n",
      "=================================================================\n",
      "Total params: 14,745,386\n",
      "Trainable params: 14,745,386\n",
      "Non-trainable params: 0\n",
      "_________________________________________________________________\n"
     ]
    }
   ],
   "source": [
    "# 모델 생성\n",
    "model = zfnet.ZFNet((img_size,img_size,channel), classes=classes, filters=8)\n",
    "model.summary()"
   ]
  },
  {
   "cell_type": "code",
   "execution_count": 11,
   "metadata": {
    "executionInfo": {
     "elapsed": 281,
     "status": "ok",
     "timestamp": 1647937714189,
     "user": {
      "displayName": "김유정",
      "photoUrl": "https://lh3.googleusercontent.com/a/default-user=s64",
      "userId": "01261970241974990583"
     },
     "user_tz": -540
    },
    "id": "ODp5_T5cL_91"
   },
   "outputs": [],
   "source": [
    "# 모델 환경설정\n",
    "model.compile(optimizer='adam',\n",
    "              loss='categorical_crossentropy',\n",
    "              metrics=['accuracy'])"
   ]
  },
  {
   "cell_type": "code",
   "execution_count": 12,
   "metadata": {
    "executionInfo": {
     "elapsed": 282,
     "status": "ok",
     "timestamp": 1647937716315,
     "user": {
      "displayName": "김유정",
      "photoUrl": "https://lh3.googleusercontent.com/a/default-user=s64",
      "userId": "01261970241974990583"
     },
     "user_tz": -540
    },
    "id": "JTMF1V89Og7U"
   },
   "outputs": [],
   "source": [
    "model_name = './model/{epoch:02d}-{val_loss:.4f}.hdf5'"
   ]
  },
  {
   "cell_type": "code",
   "execution_count": 13,
   "metadata": {
    "executionInfo": {
     "elapsed": 267,
     "status": "ok",
     "timestamp": 1647937718442,
     "user": {
      "displayName": "김유정",
      "photoUrl": "https://lh3.googleusercontent.com/a/default-user=s64",
      "userId": "01261970241974990583"
     },
     "user_tz": -540
    },
    "id": "akMCcHSKN-gd"
   },
   "outputs": [],
   "source": [
    "cp_callback = tf.keras.callbacks.ModelCheckpoint(filepath = model_name,\n",
    "                                                 save_weights_only=True, \n",
    "                                                 save_freq=\"epoch\")"
   ]
  },
  {
   "cell_type": "code",
   "execution_count": 14,
   "metadata": {
    "executionInfo": {
     "elapsed": 276,
     "status": "ok",
     "timestamp": 1647937720106,
     "user": {
      "displayName": "김유정",
      "photoUrl": "https://lh3.googleusercontent.com/a/default-user=s64",
      "userId": "01261970241974990583"
     },
     "user_tz": -540
    },
    "id": "kuItWFXNuIc2"
   },
   "outputs": [],
   "source": [
    "earlystop = EarlyStopping(monitor='val_loss',\n",
    "                          min_delta=0,\n",
    "                          patience=10,\n",
    "                          verbose=1,\n",
    "                          restore_best_weights=True)"
   ]
  },
  {
   "cell_type": "code",
   "execution_count": 15,
   "metadata": {
    "colab": {
     "base_uri": "https://localhost:8080/"
    },
    "executionInfo": {
     "elapsed": 6609286,
     "status": "ok",
     "timestamp": 1647944333123,
     "user": {
      "displayName": "김유정",
      "photoUrl": "https://lh3.googleusercontent.com/a/default-user=s64",
      "userId": "01261970241974990583"
     },
     "user_tz": -540
    },
    "id": "JtXDi-RrSLXB",
    "outputId": "7e6b3365-7b50-4718-e01b-a342e58f7893"
   },
   "outputs": [
    {
     "name": "stdout",
     "output_type": "stream",
     "text": [
      "Epoch 1/200\n",
      "211/211 [==============================] - 124s 575ms/step - loss: 1.5243 - accuracy: 0.3399 - val_loss: 1.3330 - val_accuracy: 0.4680\n",
      "Epoch 2/200\n",
      "211/211 [==============================] - 121s 571ms/step - loss: 0.6489 - accuracy: 0.6943 - val_loss: 0.3844 - val_accuracy: 0.8160\n",
      "Epoch 3/200\n",
      "211/211 [==============================] - 120s 569ms/step - loss: 0.3833 - accuracy: 0.8168 - val_loss: 0.4156 - val_accuracy: 0.8410\n",
      "Epoch 4/200\n",
      "211/211 [==============================] - 120s 569ms/step - loss: 0.2697 - accuracy: 0.8818 - val_loss: 0.1925 - val_accuracy: 0.9210\n",
      "Epoch 5/200\n",
      "211/211 [==============================] - 120s 570ms/step - loss: 0.2479 - accuracy: 0.8925 - val_loss: 0.1391 - val_accuracy: 0.9590\n",
      "Epoch 6/200\n",
      "211/211 [==============================] - 120s 571ms/step - loss: 0.1745 - accuracy: 0.9252 - val_loss: 0.2012 - val_accuracy: 0.9130\n",
      "Epoch 7/200\n",
      "211/211 [==============================] - 120s 569ms/step - loss: 0.2296 - accuracy: 0.9134 - val_loss: 0.0996 - val_accuracy: 0.9640\n",
      "Epoch 8/200\n",
      "211/211 [==============================] - 121s 575ms/step - loss: 0.1439 - accuracy: 0.9420 - val_loss: 0.0838 - val_accuracy: 0.9720\n",
      "Epoch 9/200\n",
      "211/211 [==============================] - 120s 570ms/step - loss: 0.1652 - accuracy: 0.9422 - val_loss: 0.0842 - val_accuracy: 0.9700\n",
      "Epoch 10/200\n",
      "211/211 [==============================] - 120s 570ms/step - loss: 0.1113 - accuracy: 0.9590 - val_loss: 0.0547 - val_accuracy: 0.9880\n",
      "Epoch 11/200\n",
      "211/211 [==============================] - 121s 571ms/step - loss: 0.1062 - accuracy: 0.9594 - val_loss: 0.1121 - val_accuracy: 0.9630\n",
      "Epoch 12/200\n",
      "211/211 [==============================] - 121s 575ms/step - loss: 0.1500 - accuracy: 0.9510 - val_loss: 0.0984 - val_accuracy: 0.9780\n",
      "Epoch 13/200\n",
      "211/211 [==============================] - 119s 565ms/step - loss: 0.1418 - accuracy: 0.9537 - val_loss: 0.0530 - val_accuracy: 0.9890\n",
      "Epoch 14/200\n",
      "211/211 [==============================] - 119s 564ms/step - loss: 0.0897 - accuracy: 0.9645 - val_loss: 0.0405 - val_accuracy: 0.9880\n",
      "Epoch 15/200\n",
      "211/211 [==============================] - 120s 570ms/step - loss: 0.0945 - accuracy: 0.9693 - val_loss: 0.0657 - val_accuracy: 0.9730\n",
      "Epoch 16/200\n",
      "211/211 [==============================] - 120s 570ms/step - loss: 0.0907 - accuracy: 0.9659 - val_loss: 0.0894 - val_accuracy: 0.9740\n",
      "Epoch 17/200\n",
      "211/211 [==============================] - 119s 562ms/step - loss: 0.0714 - accuracy: 0.9712 - val_loss: 0.0268 - val_accuracy: 0.9950\n",
      "Epoch 18/200\n",
      "211/211 [==============================] - 119s 563ms/step - loss: 0.0536 - accuracy: 0.9803 - val_loss: 0.0235 - val_accuracy: 0.9950\n",
      "Epoch 19/200\n",
      "211/211 [==============================] - 119s 563ms/step - loss: 0.1069 - accuracy: 0.9688 - val_loss: 0.2107 - val_accuracy: 0.9380\n",
      "Epoch 20/200\n",
      "211/211 [==============================] - 119s 563ms/step - loss: 0.0980 - accuracy: 0.9636 - val_loss: 0.0292 - val_accuracy: 0.9940\n",
      "Epoch 21/200\n",
      "211/211 [==============================] - 119s 563ms/step - loss: 0.0529 - accuracy: 0.9805 - val_loss: 0.0229 - val_accuracy: 0.9930\n",
      "Epoch 22/200\n",
      "211/211 [==============================] - 118s 561ms/step - loss: 0.1344 - accuracy: 0.9588 - val_loss: 0.0496 - val_accuracy: 0.9860\n",
      "Epoch 23/200\n",
      "211/211 [==============================] - 119s 563ms/step - loss: 0.1413 - accuracy: 0.9618 - val_loss: 0.2135 - val_accuracy: 0.9570\n",
      "Epoch 24/200\n",
      "211/211 [==============================] - 119s 565ms/step - loss: 0.1571 - accuracy: 0.9531 - val_loss: 0.2554 - val_accuracy: 0.9050\n",
      "Epoch 25/200\n",
      "211/211 [==============================] - 119s 563ms/step - loss: 0.0833 - accuracy: 0.9705 - val_loss: 0.0317 - val_accuracy: 0.9910\n",
      "Epoch 26/200\n",
      "211/211 [==============================] - 119s 564ms/step - loss: 0.0591 - accuracy: 0.9765 - val_loss: 0.0408 - val_accuracy: 0.9850\n",
      "Epoch 27/200\n",
      "211/211 [==============================] - 119s 564ms/step - loss: 0.0726 - accuracy: 0.9774 - val_loss: 0.0221 - val_accuracy: 0.9950\n",
      "Epoch 28/200\n",
      "211/211 [==============================] - 119s 565ms/step - loss: 0.0655 - accuracy: 0.9793 - val_loss: 0.0193 - val_accuracy: 0.9950\n",
      "Epoch 29/200\n",
      "211/211 [==============================] - 120s 569ms/step - loss: 0.0471 - accuracy: 0.9825 - val_loss: 0.0397 - val_accuracy: 0.9880\n",
      "Epoch 30/200\n",
      "211/211 [==============================] - 121s 571ms/step - loss: 0.0562 - accuracy: 0.9814 - val_loss: 0.0153 - val_accuracy: 0.9970\n",
      "Epoch 31/200\n",
      "211/211 [==============================] - 120s 570ms/step - loss: 0.0476 - accuracy: 0.9831 - val_loss: 0.0192 - val_accuracy: 0.9940\n",
      "Epoch 32/200\n",
      "211/211 [==============================] - 121s 574ms/step - loss: 0.0600 - accuracy: 0.9820 - val_loss: 0.0152 - val_accuracy: 0.9940\n",
      "Epoch 33/200\n",
      "211/211 [==============================] - 121s 573ms/step - loss: 0.0979 - accuracy: 0.9702 - val_loss: 0.0289 - val_accuracy: 0.9910\n",
      "Epoch 34/200\n",
      "211/211 [==============================] - 120s 570ms/step - loss: 0.0511 - accuracy: 0.9833 - val_loss: 0.0265 - val_accuracy: 0.9930\n",
      "Epoch 35/200\n",
      "211/211 [==============================] - 120s 570ms/step - loss: 0.0376 - accuracy: 0.9858 - val_loss: 0.0978 - val_accuracy: 0.9770\n",
      "Epoch 36/200\n",
      "211/211 [==============================] - 120s 570ms/step - loss: 0.0486 - accuracy: 0.9823 - val_loss: 0.0227 - val_accuracy: 0.9940\n",
      "Epoch 37/200\n",
      "211/211 [==============================] - 121s 571ms/step - loss: 0.0686 - accuracy: 0.9791 - val_loss: 0.2328 - val_accuracy: 0.9500\n",
      "Epoch 38/200\n",
      "211/211 [==============================] - 120s 571ms/step - loss: 0.0480 - accuracy: 0.9841 - val_loss: 0.0260 - val_accuracy: 0.9950\n",
      "Epoch 39/200\n",
      "211/211 [==============================] - 120s 569ms/step - loss: 0.0760 - accuracy: 0.9767 - val_loss: 0.0290 - val_accuracy: 0.9850\n",
      "Epoch 40/200\n",
      "211/211 [==============================] - 120s 570ms/step - loss: 0.2050 - accuracy: 0.9456 - val_loss: 0.0301 - val_accuracy: 0.9900\n",
      "Epoch 41/200\n",
      "211/211 [==============================] - 120s 568ms/step - loss: 0.0323 - accuracy: 0.9877 - val_loss: 0.0091 - val_accuracy: 0.9960\n",
      "Epoch 42/200\n",
      "211/211 [==============================] - 120s 570ms/step - loss: 0.0857 - accuracy: 0.9752 - val_loss: 0.0171 - val_accuracy: 0.9950\n",
      "Epoch 43/200\n",
      "211/211 [==============================] - 121s 572ms/step - loss: 0.0396 - accuracy: 0.9881 - val_loss: 0.0132 - val_accuracy: 0.9940\n",
      "Epoch 44/200\n",
      "211/211 [==============================] - 120s 569ms/step - loss: 0.0394 - accuracy: 0.9849 - val_loss: 0.0184 - val_accuracy: 0.9960\n",
      "Epoch 45/200\n",
      "211/211 [==============================] - 121s 572ms/step - loss: 0.0289 - accuracy: 0.9905 - val_loss: 0.0048 - val_accuracy: 0.9990\n",
      "Epoch 46/200\n",
      "211/211 [==============================] - 120s 571ms/step - loss: 0.0400 - accuracy: 0.9875 - val_loss: 0.0089 - val_accuracy: 0.9990\n",
      "Epoch 47/200\n",
      "211/211 [==============================] - 120s 569ms/step - loss: 0.0810 - accuracy: 0.9759 - val_loss: 0.0215 - val_accuracy: 0.9940\n",
      "Epoch 48/200\n",
      "211/211 [==============================] - 121s 574ms/step - loss: 0.0468 - accuracy: 0.9843 - val_loss: 0.0055 - val_accuracy: 0.9990\n",
      "Epoch 49/200\n",
      "211/211 [==============================] - 120s 567ms/step - loss: 0.0322 - accuracy: 0.9908 - val_loss: 0.0138 - val_accuracy: 0.9960\n",
      "Epoch 50/200\n",
      "211/211 [==============================] - 121s 573ms/step - loss: 0.0507 - accuracy: 0.9834 - val_loss: 0.0249 - val_accuracy: 0.9930\n",
      "Epoch 51/200\n",
      "211/211 [==============================] - 120s 570ms/step - loss: 0.0635 - accuracy: 0.9766 - val_loss: 0.0629 - val_accuracy: 0.9900\n",
      "Epoch 52/200\n",
      "211/211 [==============================] - 121s 573ms/step - loss: 0.0341 - accuracy: 0.9858 - val_loss: 0.0400 - val_accuracy: 0.9820\n",
      "Epoch 53/200\n",
      "211/211 [==============================] - 121s 573ms/step - loss: 0.0664 - accuracy: 0.9812 - val_loss: 0.0159 - val_accuracy: 0.9960\n",
      "Epoch 54/200\n",
      "211/211 [==============================] - 121s 574ms/step - loss: 0.1436 - accuracy: 0.9619 - val_loss: 0.0225 - val_accuracy: 0.9970\n",
      "Epoch 55/200\n",
      "211/211 [==============================] - ETA: 0s - loss: 0.0537 - accuracy: 0.9826Restoring model weights from the end of the best epoch: 45.\n",
      "211/211 [==============================] - 121s 574ms/step - loss: 0.0537 - accuracy: 0.9826 - val_loss: 0.0371 - val_accuracy: 0.9940\n",
      "Epoch 55: early stopping\n"
     ]
    }
   ],
   "source": [
    "history = model.fit(train_generator,\n",
    "                    batch_size=batch_size,\n",
    "                    epochs=epochs, \n",
    "                    validation_data=valid_generator, \n",
    "                    verbose=1, \n",
    "                    callbacks = [[earlystop, cp_callback]])"
   ]
  },
  {
   "cell_type": "code",
   "execution_count": 18,
   "metadata": {
    "executionInfo": {
     "elapsed": 445,
     "status": "ok",
     "timestamp": 1647944773318,
     "user": {
      "displayName": "김유정",
      "photoUrl": "https://lh3.googleusercontent.com/a/default-user=s64",
      "userId": "01261970241974990583"
     },
     "user_tz": -540
    },
    "id": "musDqnPdS-nx"
   },
   "outputs": [],
   "source": [
    "# 모델 저장\n",
    "accuracy = round(history.history['accuracy'][44],2)*100\n",
    "model.save(f'./model/ZFNet_model_ep{epochs}_acc{accuracy}.h5') # 최종 모델 저장"
   ]
  },
  {
   "cell_type": "code",
   "execution_count": 17,
   "metadata": {
    "colab": {
     "base_uri": "https://localhost:8080/"
    },
    "executionInfo": {
     "elapsed": 122465,
     "status": "ok",
     "timestamp": 1647944772897,
     "user": {
      "displayName": "김유정",
      "photoUrl": "https://lh3.googleusercontent.com/a/default-user=s64",
      "userId": "01261970241974990583"
     },
     "user_tz": -540
    },
    "id": "Q76I8IpaQL2E",
    "outputId": "9ce0b256-81cd-4204-94f5-23612a4bd057"
   },
   "outputs": [
    {
     "name": "stdout",
     "output_type": "stream",
     "text": [
      "50/50 [==============================] - 120s 2s/step - loss: 0.0039 - accuracy: 0.9980\n"
     ]
    },
    {
     "data": {
      "text/plain": [
       "[0.003947027493268251, 0.9980000257492065]"
      ]
     },
     "execution_count": 17,
     "metadata": {},
     "output_type": "execute_result"
    }
   ],
   "source": [
    "model.evaluate(test_generator)"
   ]
  },
  {
   "cell_type": "code",
   "execution_count": 19,
   "metadata": {
    "colab": {
     "base_uri": "https://localhost:8080/",
     "height": 369
    },
    "executionInfo": {
     "elapsed": 1010,
     "status": "ok",
     "timestamp": 1647944779487,
     "user": {
      "displayName": "김유정",
      "photoUrl": "https://lh3.googleusercontent.com/a/default-user=s64",
      "userId": "01261970241974990583"
     },
     "user_tz": -540
    },
    "id": "M1YEp1FGGHBy",
    "outputId": "732eb723-13f2-4b44-aaac-610b4f7e3b26"
   },
   "outputs": [
    {
     "data": {
      "text/plain": [
       "<matplotlib.legend.Legend at 0x7f75ade77b50>"
      ]
     },
     "execution_count": 19,
     "metadata": {},
     "output_type": "execute_result"
    },
    {
     "data": {
      "image/png": "[encoded data removed]",
      "text/plain": [
       "<Figure size 1152x360 with 2 Axes>"
      ]
     },
     "metadata": {
      "needs_background": "light"
     },
     "output_type": "display_data"
    }
   ],
   "source": [
    "plt.figure(figsize=(16,5))\n",
    "\n",
    "# 만들어진 모델에 대해 train dataset과 validation dataset의 loss 를 그래프로 표현해 봅니다.\n",
    "plt.subplot(1, 2, 1)\n",
    "plt.plot(history.history['loss'])\n",
    "plt.plot(history.history['val_loss'])\n",
    "plt.title('model loss')\n",
    "plt.ylabel('loss')\n",
    "plt.xlabel('epoch')\n",
    "plt.legend(['train', 'validation'], loc=0)\n",
    "\n",
    "# 만들어진 모델에 대해 train dataset과 validation dataset의 accuracy 를 그래프로 표현해 봅니다.\n",
    "plt.subplot(1, 2, 2)\n",
    "plt.plot(history.history['accuracy'])\n",
    "plt.plot(history.history['val_accuracy'])\n",
    "plt.title('model accuracy')\n",
    "plt.ylabel('accuracy')\n",
    "plt.xlabel('epoch')\n",
    "plt.legend(['train', 'validation'], loc=0)"
   ]
  },
  {
   "cell_type": "code",
   "execution_count": 20,
   "metadata": {
    "colab": {
     "base_uri": "https://localhost:8080/"
    },
    "executionInfo": {
     "elapsed": 287,
     "status": "ok",
     "timestamp": 1647944788528,
     "user": {
      "displayName": "김유정",
      "photoUrl": "https://lh3.googleusercontent.com/a/default-user=s64",
      "userId": "01261970241974990583"
     },
     "user_tz": -540
    },
    "id": "pvPeK43sVL9U",
    "outputId": "a0b8906c-a490-4ea9-9513-2911e9ba442d"
   },
   "outputs": [
    {
     "data": {
      "text/plain": [
       "{'갈아만든배': 0,\n",
       " '레쓰비': 1,\n",
       " '마운틴듀': 2,\n",
       " '밀키스': 3,\n",
       " '스프라이트': 4,\n",
       " '칠성사이다': 5,\n",
       " '코카콜라': 6,\n",
       " '트로피카나망고': 7,\n",
       " '펩시콜라': 8,\n",
       " '환타오렌지': 9}"
      ]
     },
     "execution_count": 20,
     "metadata": {},
     "output_type": "execute_result"
    }
   ],
   "source": [
    "train_generator.class_indices"
   ]
  },
  {
   "cell_type": "code",
   "execution_count": 24,
   "metadata": {
    "colab": {
     "base_uri": "https://localhost:8080/"
    },
    "executionInfo": {
     "elapsed": 356,
     "status": "ok",
     "timestamp": 1647944834052,
     "user": {
      "displayName": "김유정",
      "photoUrl": "https://lh3.googleusercontent.com/a/default-user=s64",
      "userId": "01261970241974990583"
     },
     "user_tz": -540
    },
    "id": "XBBAmHfjYfw6",
    "outputId": "844dc77e-8f16-49ad-cf5a-235d98831adb"
   },
   "outputs": [
    {
     "data": {
      "text/plain": [
       "array([[8.2806744e-33, 1.0000000e+00, 3.7751712e-37, 6.4256782e-22,\n",
       "        8.6570035e-27, 0.0000000e+00, 0.0000000e+00, 1.1607725e-23,\n",
       "        2.5033515e-09, 0.0000000e+00]], dtype=float32)"
      ]
     },
     "execution_count": 24,
     "metadata": {},
     "output_type": "execute_result"
    }
   ],
   "source": [
    "test_img = cv2.imread('./2205722_1.jpg')  # 펩시콜라 : 8\n",
    "test_img = cv2.cvtColor(test_img, cv2.COLOR_BGR2RGB)\n",
    "test_img = cv2.resize(test_img,(img_size,img_size))/255.0\n",
    "test_img = test_img.reshape((1,)+test_img.shape)\n",
    "model.predict(test_img)"
   ]
  },
  {
   "cell_type": "code",
   "execution_count": 22,
   "metadata": {
    "colab": {
     "base_uri": "https://localhost:8080/"
    },
    "executionInfo": {
     "elapsed": 742,
     "status": "ok",
     "timestamp": 1647944805635,
     "user": {
      "displayName": "김유정",
      "photoUrl": "https://lh3.googleusercontent.com/a/default-user=s64",
      "userId": "01261970241974990583"
     },
     "user_tz": -540
    },
    "id": "2-8VSxKxYuv-",
    "outputId": "3dbbd03b-c96c-4c59-c52f-fa383e0ca283"
   },
   "outputs": [
    {
     "data": {
      "text/plain": [
       "array([[7.6847192e-04, 2.5656066e-12, 5.3842183e-24, 3.3727817e-22,\n",
       "        1.6286898e-21, 1.3393714e-28, 6.3435941e-08, 4.3546339e-07,\n",
       "        2.3039060e-18, 9.9923098e-01]], dtype=float32)"
      ]
     },
     "execution_count": 22,
     "metadata": {},
     "output_type": "execute_result"
    }
   ],
   "source": [
    "test_img = cv2.imread('./11.jpg')  # 환타오렌지 : 9\n",
    "test_img = cv2.cvtColor(test_img, cv2.COLOR_BGR2RGB)\n",
    "test_img = cv2.resize(test_img,(img_size,img_size))/255.0\n",
    "test_img = test_img.reshape((1,)+test_img.shape)\n",
    "model.predict(test_img)"
   ]
  },
  {
   "cell_type": "code",
   "execution_count": null,
   "metadata": {
    "id": "FCPrIeIVZRz9"
   },
   "outputs": [],
   "source": []
  }
 ],
 "metadata": {
  "accelerator": "GPU",
  "colab": {
   "authorship_tag": "ABX9TyPSjDjG1bT8TknVon+AGPMQ",
   "collapsed_sections": [],
   "machine_shape": "hm",
   "mount_file_id": "1ifX20C9rsnJwXqjtEsB32yKc73ih1_N7",
   "name": "ZFNet_20220322_ep200_acc99.ipynb",
   "provenance": [
    {
     "file_id": "1VL0Z_txiX0uan99QI3ej8vVoh4B0dwBb",
     "timestamp": 1647915248099
    }
   ]
  },
  "kernelspec": {
   "display_name": "Python 3 (ipykernel)",
   "language": "python",
   "name": "python3"
  },
  "language_info": {
   "codemirror_mode": {
    "name": "ipython",
    "version": 3
   },
   "file_extension": ".py",
   "mimetype": "text/x-python",
   "name": "python",
   "nbconvert_exporter": "python",
   "pygments_lexer": "ipython3",
   "version": "3.9.7"
  }
 },
 "nbformat": 4,
 "nbformat_minor": 1
}
