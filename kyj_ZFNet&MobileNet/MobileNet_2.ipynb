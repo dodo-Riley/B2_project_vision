{
 "cells": [
  {
   "cell_type": "code",
   "execution_count": 18,
   "metadata": {
    "executionInfo": {
     "elapsed": 439,
     "status": "ok",
     "timestamp": 1648028312105,
     "user": {
      "displayName": "김유정",
      "photoUrl": "https://lh3.googleusercontent.com/a/default-user=s64",
      "userId": "01261970241974990583"
     },
     "user_tz": -540
    },
    "id": "kty_K3yCHIJU"
   },
   "outputs": [],
   "source": [
    "# 모듈 호출\n",
    "import numpy as np\n",
    "import pandas as pd\n",
    "import matplotlib.pyplot as plt\n",
    "import cv2\n",
    "import tensorflow as tf\n",
    "from tensorflow import keras\n",
    "from keras.models import load_model\n",
    "from tensorflow.keras.models import Sequential\n",
    "from tensorflow.keras.layers import Dense\n",
    "from tensorflow.keras.preprocessing.image import ImageDataGenerator\n",
    "from tensorflow.keras.callbacks import EarlyStopping"
   ]
  },
  {
   "cell_type": "code",
   "execution_count": null,
   "metadata": {
    "colab": {
     "base_uri": "https://localhost:8080/"
    },
    "executionInfo": {
     "elapsed": 20545,
     "status": "ok",
     "timestamp": 1648013457626,
     "user": {
      "displayName": "김유정",
      "photoUrl": "https://lh3.googleusercontent.com/a/default-user=s64",
      "userId": "01261970241974990583"
     },
     "user_tz": -540
    },
    "id": "zMY9v3HqLszM",
    "outputId": "d1593eba-ae40-4e56-c6df-da3471223cb1"
   },
   "outputs": [
    {
     "name": "stdout",
     "output_type": "stream",
     "text": [
      "Mounted at /content/drive\n"
     ]
    }
   ],
   "source": [
    "from google.colab import drive\n",
    "drive.mount('/content/drive')"
   ]
  },
  {
   "cell_type": "code",
   "execution_count": null,
   "metadata": {
    "id": "rIBarWufHrX5"
   },
   "outputs": [],
   "source": [
    "img_size = 224\n",
    "channel=3"
   ]
  },
  {
   "cell_type": "code",
   "execution_count": null,
   "metadata": {
    "colab": {
     "base_uri": "https://localhost:8080/"
    },
    "executionInfo": {
     "elapsed": 19319,
     "status": "ok",
     "timestamp": 1648013526408,
     "user": {
      "displayName": "김유정",
      "photoUrl": "https://lh3.googleusercontent.com/a/default-user=s64",
      "userId": "01261970241974990583"
     },
     "user_tz": -540
    },
    "id": "DPiOY-GnIH0o",
    "outputId": "3085d19d-2355-4f5e-86df-0b6ed3acb926"
   },
   "outputs": [
    {
     "name": "stdout",
     "output_type": "stream",
     "text": [
      "Found 10529 images belonging to 10 classes.\n",
      "Found 1000 images belonging to 10 classes.\n",
      "Found 500 images belonging to 10 classes.\n"
     ]
    }
   ],
   "source": [
    "train_datagen = ImageDataGenerator( \n",
    "        rescale=1./255,         # 픽셀 값을 0~1 범위로 변환\n",
    "        rotation_range=40,      # 40도까지 회전\n",
    "        width_shift_range=0.2,  # 20%까지 좌우 이동\n",
    "        height_shift_range=0.2, # 20%까지 상하 이동\n",
    "        shear_range=0.2,        # 20%까지 기울임\n",
    "        zoom_range=0.2,         # 20%까지 확대\n",
    "        horizontal_flip=True,   # 좌우 뒤집기\n",
    "    )\n",
    "train_generator = train_datagen.flow_from_directory(\n",
    "    './dataset/train_10',\n",
    "    batch_size=50,      \n",
    "    class_mode='categorical', \n",
    "    target_size=(img_size, img_size)) \n",
    "valid_datagen = ImageDataGenerator(rescale=1./255) # 스케일링만 진행\n",
    "valid_generator = valid_datagen.flow_from_directory(\n",
    "    './dataset/valid_10',\n",
    "    batch_size=20,      \n",
    "    class_mode='categorical', \n",
    "    target_size=(img_size, img_size))\n",
    "test_datagen = ImageDataGenerator(rescale=1./255) # 스케일링만 진행\n",
    "test_generator = test_datagen.flow_from_directory(\n",
    "    './dataset/test_10',\n",
    "    batch_size=10,      \n",
    "    class_mode='categorical', \n",
    "    target_size=(img_size, img_size),\n",
    "    shuffle=False)"
   ]
  },
  {
   "cell_type": "code",
   "execution_count": null,
   "metadata": {
    "colab": {
     "base_uri": "https://localhost:8080/"
    },
    "executionInfo": {
     "elapsed": 443,
     "status": "ok",
     "timestamp": 1648013538831,
     "user": {
      "displayName": "김유정",
      "photoUrl": "https://lh3.googleusercontent.com/a/default-user=s64",
      "userId": "01261970241974990583"
     },
     "user_tz": -540
    },
    "id": "1j8wNdWaIUqv",
    "outputId": "bfcca41a-e690-4b08-8735-38575c3b83b7"
   },
   "outputs": [
    {
     "name": "stdout",
     "output_type": "stream",
     "text": [
      "train_generator class :  {'갈아만든배': 0, '레쓰비': 1, '마운틴듀': 2, '밀키스': 3, '스프라이트': 4, '칠성사이다': 5, '코카콜라': 6, '트로피카나망고': 7, '펩시콜라': 8, '환타오렌지': 9}\n",
      "valid_generator class :  {'갈아만든배': 0, '레쓰비': 1, '마운틴듀': 2, '밀키스': 3, '스프라이트': 4, '칠성사이다': 5, '코카콜라': 6, '트로피카나망고': 7, '펩시콜라': 8, '환타오렌지': 9}\n",
      "test_generator class :  {'갈아만든배': 0, '레쓰비': 1, '마운틴듀': 2, '밀키스': 3, '스프라이트': 4, '칠성사이다': 5, '코카콜라': 6, '트로피카나망고': 7, '펩시콜라': 8, '환타오렌지': 9}\n"
     ]
    }
   ],
   "source": [
    "print('train_generator class : ', train_generator.class_indices)\n",
    "print('valid_generator class : ', valid_generator.class_indices)\n",
    "print('test_generator class : ', test_generator.class_indices)"
   ]
  },
  {
   "cell_type": "markdown",
   "metadata": {
    "id": "quID_zZvIg-f"
   },
   "source": [
    "### 모델 학습하기 - MobileNet\n",
    "MobileNet_01_acc85.0.h5 파일 load하여 사용\n",
    "- 은닉층\n",
    "    * Dense(224, activation='relu')\n",
    "- 출력층\n",
    "    * Dense(10, activation='softmax')\n",
    "- complie\n",
    "    * optimizer : adam\n",
    "    * loss : categorical_crossentropy\n",
    "    * metrics : accuracy"
   ]
  },
  {
   "cell_type": "code",
   "execution_count": null,
   "metadata": {
    "id": "QcLXMbIhzQjh"
   },
   "outputs": [],
   "source": [
    "# 파라미터 설정\n",
    "classes = len(train_generator.class_indices)\n",
    "epochs = 300\n",
    "batch_size = 32"
   ]
  },
  {
   "cell_type": "code",
   "execution_count": null,
   "metadata": {
    "id": "MKWSOxdit2x7"
   },
   "outputs": [],
   "source": [
    "# 모델 가져오기 - 훈련 이어서 하기\n",
    "model = load_model('./MobileNet_01_acc85.0.h5')"
   ]
  },
  {
   "cell_type": "code",
   "execution_count": 9,
   "metadata": {
    "executionInfo": {
     "elapsed": 409,
     "status": "ok",
     "timestamp": 1648013579171,
     "user": {
      "displayName": "김유정",
      "photoUrl": "https://lh3.googleusercontent.com/a/default-user=s64",
      "userId": "01261970241974990583"
     },
     "user_tz": -540
    },
    "id": "uf9DssaUPYbP"
   },
   "outputs": [],
   "source": [
    "model_name = './model/MobileNet_02_{epoch:02d}-{val_loss:.4f}.hdf5'\n",
    "cp_callback = tf.keras.callbacks.ModelCheckpoint(filepath = model_name,\n",
    "                                                 save_weights_only=True, \n",
    "                                                 save_freq=\"epoch\")\n",
    "earlystop = EarlyStopping(monitor='val_loss',\n",
    "                          min_delta=0,\n",
    "                          patience=10,\n",
    "                          verbose=1,\n",
    "                          restore_best_weights=True)"
   ]
  },
  {
   "cell_type": "code",
   "execution_count": 11,
   "metadata": {
    "colab": {
     "base_uri": "https://localhost:8080/"
    },
    "executionInfo": {
     "elapsed": 7602418,
     "status": "ok",
     "timestamp": 1648027538084,
     "user": {
      "displayName": "김유정",
      "photoUrl": "https://lh3.googleusercontent.com/a/default-user=s64",
      "userId": "01261970241974990583"
     },
     "user_tz": -540
    },
    "id": "5FRUH669NZbu",
    "outputId": "020a37ee-3574-4174-bcd8-08ed96775b7f"
   },
   "outputs": [
    {
     "name": "stdout",
     "output_type": "stream",
     "text": [
      "Epoch 1/300\n",
      "200/200 [==============================] - 398s 2s/step - loss: 0.4864 - accuracy: 0.8385 - val_loss: 0.5791 - val_accuracy: 0.8012\n",
      "Epoch 2/300\n",
      "200/200 [==============================] - 146s 732ms/step - loss: 0.4956 - accuracy: 0.8347 - val_loss: 0.5554 - val_accuracy: 0.8112\n",
      "Epoch 3/300\n",
      "200/200 [==============================] - 118s 591ms/step - loss: 0.4789 - accuracy: 0.8426 - val_loss: 0.5805 - val_accuracy: 0.7937\n",
      "Epoch 4/300\n",
      "200/200 [==============================] - 116s 579ms/step - loss: 0.4800 - accuracy: 0.8398 - val_loss: 0.5778 - val_accuracy: 0.8037\n",
      "Epoch 5/300\n",
      "200/200 [==============================] - 115s 575ms/step - loss: 0.4934 - accuracy: 0.8350 - val_loss: 0.5750 - val_accuracy: 0.7987\n",
      "Epoch 6/300\n",
      "200/200 [==============================] - 115s 576ms/step - loss: 0.4723 - accuracy: 0.8470 - val_loss: 0.5605 - val_accuracy: 0.8087\n",
      "Epoch 7/300\n",
      "200/200 [==============================] - 115s 575ms/step - loss: 0.4831 - accuracy: 0.8408 - val_loss: 0.5687 - val_accuracy: 0.8025\n",
      "Epoch 8/300\n",
      "200/200 [==============================] - 116s 578ms/step - loss: 0.4720 - accuracy: 0.8427 - val_loss: 0.5566 - val_accuracy: 0.8050\n",
      "Epoch 9/300\n",
      "200/200 [==============================] - 116s 579ms/step - loss: 0.4815 - accuracy: 0.8373 - val_loss: 0.5494 - val_accuracy: 0.8037\n",
      "Epoch 10/300\n",
      "200/200 [==============================] - 115s 575ms/step - loss: 0.4719 - accuracy: 0.8453 - val_loss: 0.5962 - val_accuracy: 0.7887\n",
      "Epoch 11/300\n",
      "200/200 [==============================] - 115s 577ms/step - loss: 0.4694 - accuracy: 0.8475 - val_loss: 0.5427 - val_accuracy: 0.8175\n",
      "Epoch 12/300\n",
      "200/200 [==============================] - 116s 580ms/step - loss: 0.4852 - accuracy: 0.8383 - val_loss: 0.5656 - val_accuracy: 0.8112\n",
      "Epoch 13/300\n",
      "200/200 [==============================] - 115s 576ms/step - loss: 0.4590 - accuracy: 0.8438 - val_loss: 0.5444 - val_accuracy: 0.8087\n",
      "Epoch 14/300\n",
      "200/200 [==============================] - 116s 578ms/step - loss: 0.4699 - accuracy: 0.8434 - val_loss: 0.5509 - val_accuracy: 0.8125\n",
      "Epoch 15/300\n",
      "200/200 [==============================] - 116s 577ms/step - loss: 0.4724 - accuracy: 0.8398 - val_loss: 0.5419 - val_accuracy: 0.8250\n",
      "Epoch 16/300\n",
      "200/200 [==============================] - 115s 574ms/step - loss: 0.4713 - accuracy: 0.8424 - val_loss: 0.5378 - val_accuracy: 0.8125\n",
      "Epoch 17/300\n",
      "200/200 [==============================] - 116s 578ms/step - loss: 0.4478 - accuracy: 0.8482 - val_loss: 0.5384 - val_accuracy: 0.8138\n",
      "Epoch 18/300\n",
      "200/200 [==============================] - 115s 575ms/step - loss: 0.4635 - accuracy: 0.8492 - val_loss: 0.5333 - val_accuracy: 0.8225\n",
      "Epoch 19/300\n",
      "200/200 [==============================] - 116s 578ms/step - loss: 0.4613 - accuracy: 0.8454 - val_loss: 0.5301 - val_accuracy: 0.8188\n",
      "Epoch 20/300\n",
      "200/200 [==============================] - 116s 578ms/step - loss: 0.4665 - accuracy: 0.8456 - val_loss: 0.5137 - val_accuracy: 0.8338\n",
      "Epoch 21/300\n",
      "200/200 [==============================] - 115s 577ms/step - loss: 0.4535 - accuracy: 0.8469 - val_loss: 0.5329 - val_accuracy: 0.8225\n",
      "Epoch 22/300\n",
      "200/200 [==============================] - 115s 576ms/step - loss: 0.4587 - accuracy: 0.8486 - val_loss: 0.5499 - val_accuracy: 0.8125\n",
      "Epoch 23/300\n",
      "200/200 [==============================] - 115s 576ms/step - loss: 0.4552 - accuracy: 0.8442 - val_loss: 0.5506 - val_accuracy: 0.8050\n",
      "Epoch 24/300\n",
      "200/200 [==============================] - 115s 575ms/step - loss: 0.4526 - accuracy: 0.8479 - val_loss: 0.5464 - val_accuracy: 0.8200\n",
      "Epoch 25/300\n",
      "200/200 [==============================] - 116s 577ms/step - loss: 0.4584 - accuracy: 0.8457 - val_loss: 0.5519 - val_accuracy: 0.8112\n",
      "Epoch 26/300\n",
      "200/200 [==============================] - 116s 579ms/step - loss: 0.4428 - accuracy: 0.8503 - val_loss: 0.5450 - val_accuracy: 0.8188\n",
      "Epoch 27/300\n",
      "200/200 [==============================] - 116s 579ms/step - loss: 0.4420 - accuracy: 0.8534 - val_loss: 0.4986 - val_accuracy: 0.8325\n",
      "Epoch 28/300\n",
      "200/200 [==============================] - 116s 579ms/step - loss: 0.4544 - accuracy: 0.8562 - val_loss: 0.5291 - val_accuracy: 0.8300\n",
      "Epoch 29/300\n",
      "200/200 [==============================] - 116s 579ms/step - loss: 0.4451 - accuracy: 0.8540 - val_loss: 0.5167 - val_accuracy: 0.8112\n",
      "Epoch 30/300\n",
      "200/200 [==============================] - 116s 578ms/step - loss: 0.4574 - accuracy: 0.8452 - val_loss: 0.4896 - val_accuracy: 0.8288\n",
      "Epoch 31/300\n",
      "200/200 [==============================] - 116s 579ms/step - loss: 0.4405 - accuracy: 0.8513 - val_loss: 0.5196 - val_accuracy: 0.8138\n",
      "Epoch 32/300\n",
      "200/200 [==============================] - 115s 577ms/step - loss: 0.4425 - accuracy: 0.8513 - val_loss: 0.5228 - val_accuracy: 0.8263\n",
      "Epoch 33/300\n",
      "200/200 [==============================] - 116s 580ms/step - loss: 0.4555 - accuracy: 0.8463 - val_loss: 0.4918 - val_accuracy: 0.8475\n",
      "Epoch 34/300\n",
      "200/200 [==============================] - 116s 578ms/step - loss: 0.4424 - accuracy: 0.8534 - val_loss: 0.4966 - val_accuracy: 0.8375\n",
      "Epoch 35/300\n",
      "200/200 [==============================] - 115s 576ms/step - loss: 0.4401 - accuracy: 0.8563 - val_loss: 0.5323 - val_accuracy: 0.8200\n",
      "Epoch 36/300\n",
      "200/200 [==============================] - 115s 576ms/step - loss: 0.4412 - accuracy: 0.8514 - val_loss: 0.5127 - val_accuracy: 0.8350\n",
      "Epoch 37/300\n",
      "200/200 [==============================] - 116s 578ms/step - loss: 0.4462 - accuracy: 0.8511 - val_loss: 0.5048 - val_accuracy: 0.8388\n",
      "Epoch 38/300\n",
      "200/200 [==============================] - 115s 577ms/step - loss: 0.4284 - accuracy: 0.8626 - val_loss: 0.4854 - val_accuracy: 0.8325\n",
      "Epoch 39/300\n",
      "200/200 [==============================] - 115s 577ms/step - loss: 0.4234 - accuracy: 0.8593 - val_loss: 0.5254 - val_accuracy: 0.8200\n",
      "Epoch 40/300\n",
      "200/200 [==============================] - 115s 577ms/step - loss: 0.4481 - accuracy: 0.8479 - val_loss: 0.4961 - val_accuracy: 0.8413\n",
      "Epoch 41/300\n",
      "200/200 [==============================] - 116s 580ms/step - loss: 0.4253 - accuracy: 0.8618 - val_loss: 0.5258 - val_accuracy: 0.8213\n",
      "Epoch 42/300\n",
      "200/200 [==============================] - 115s 576ms/step - loss: 0.4330 - accuracy: 0.8577 - val_loss: 0.5295 - val_accuracy: 0.8100\n",
      "Epoch 43/300\n",
      "200/200 [==============================] - 115s 577ms/step - loss: 0.4260 - accuracy: 0.8554 - val_loss: 0.5081 - val_accuracy: 0.8238\n",
      "Epoch 44/300\n",
      "200/200 [==============================] - 115s 577ms/step - loss: 0.4318 - accuracy: 0.8587 - val_loss: 0.4925 - val_accuracy: 0.8425\n",
      "Epoch 45/300\n",
      "200/200 [==============================] - 116s 578ms/step - loss: 0.4254 - accuracy: 0.8565 - val_loss: 0.4800 - val_accuracy: 0.8400\n",
      "Epoch 46/300\n",
      "200/200 [==============================] - 116s 578ms/step - loss: 0.4282 - accuracy: 0.8556 - val_loss: 0.4860 - val_accuracy: 0.8400\n",
      "Epoch 47/300\n",
      "200/200 [==============================] - 116s 580ms/step - loss: 0.4252 - accuracy: 0.8600 - val_loss: 0.5110 - val_accuracy: 0.8400\n",
      "Epoch 48/300\n",
      "200/200 [==============================] - 116s 579ms/step - loss: 0.4241 - accuracy: 0.8623 - val_loss: 0.5173 - val_accuracy: 0.8100\n",
      "Epoch 49/300\n",
      "200/200 [==============================] - 116s 578ms/step - loss: 0.4211 - accuracy: 0.8622 - val_loss: 0.5207 - val_accuracy: 0.8225\n",
      "Epoch 50/300\n",
      "200/200 [==============================] - 116s 578ms/step - loss: 0.4226 - accuracy: 0.8607 - val_loss: 0.4967 - val_accuracy: 0.8263\n",
      "Epoch 51/300\n",
      "200/200 [==============================] - 116s 580ms/step - loss: 0.4171 - accuracy: 0.8611 - val_loss: 0.5157 - val_accuracy: 0.8225\n",
      "Epoch 52/300\n",
      "200/200 [==============================] - 116s 578ms/step - loss: 0.4172 - accuracy: 0.8591 - val_loss: 0.4887 - val_accuracy: 0.8325\n",
      "Epoch 53/300\n",
      "200/200 [==============================] - 116s 579ms/step - loss: 0.4140 - accuracy: 0.8622 - val_loss: 0.4690 - val_accuracy: 0.8425\n",
      "Epoch 54/300\n",
      "200/200 [==============================] - 116s 579ms/step - loss: 0.4086 - accuracy: 0.8642 - val_loss: 0.4953 - val_accuracy: 0.8225\n",
      "Epoch 55/300\n",
      "200/200 [==============================] - 116s 579ms/step - loss: 0.4151 - accuracy: 0.8576 - val_loss: 0.5096 - val_accuracy: 0.8125\n",
      "Epoch 56/300\n",
      "200/200 [==============================] - 115s 577ms/step - loss: 0.4295 - accuracy: 0.8538 - val_loss: 0.4727 - val_accuracy: 0.8462\n",
      "Epoch 57/300\n",
      "200/200 [==============================] - 116s 582ms/step - loss: 0.4097 - accuracy: 0.8635 - val_loss: 0.5086 - val_accuracy: 0.8200\n",
      "Epoch 58/300\n",
      "200/200 [==============================] - 116s 582ms/step - loss: 0.3993 - accuracy: 0.8652 - val_loss: 0.5104 - val_accuracy: 0.8338\n",
      "Epoch 59/300\n",
      "200/200 [==============================] - 116s 582ms/step - loss: 0.4204 - accuracy: 0.8584 - val_loss: 0.4849 - val_accuracy: 0.8363\n",
      "Epoch 60/300\n",
      "200/200 [==============================] - 116s 580ms/step - loss: 0.4152 - accuracy: 0.8659 - val_loss: 0.4920 - val_accuracy: 0.8338\n",
      "Epoch 61/300\n",
      "200/200 [==============================] - 116s 580ms/step - loss: 0.3948 - accuracy: 0.8678 - val_loss: 0.4926 - val_accuracy: 0.8388\n",
      "Epoch 62/300\n",
      "200/200 [==============================] - 116s 579ms/step - loss: 0.4019 - accuracy: 0.8654 - val_loss: 0.4985 - val_accuracy: 0.8288\n",
      "Epoch 63/300\n",
      "200/200 [==============================] - ETA: 0s - loss: 0.3994 - accuracy: 0.8653Restoring model weights from the end of the best epoch: 53.\n",
      "200/200 [==============================] - 117s 583ms/step - loss: 0.3994 - accuracy: 0.8653 - val_loss: 0.4907 - val_accuracy: 0.8300\n",
      "Epoch 63: early stopping\n"
     ]
    }
   ],
   "source": [
    "history = model.fit(train_generator,\n",
    "                    steps_per_epoch=200, \n",
    "                    epochs=epochs, \n",
    "                    validation_data=valid_generator, \n",
    "                    validation_steps=40,\n",
    "                    callbacks = [[earlystop, cp_callback]]) "
   ]
  },
  {
   "cell_type": "code",
   "execution_count": 12,
   "metadata": {
    "executionInfo": {
     "elapsed": 438,
     "status": "ok",
     "timestamp": 1648027741410,
     "user": {
      "displayName": "김유정",
      "photoUrl": "https://lh3.googleusercontent.com/a/default-user=s64",
      "userId": "01261970241974990583"
     },
     "user_tz": -540
    },
    "id": "Jm81uXJH5K6M"
   },
   "outputs": [],
   "source": [
    "# 모델 저장\n",
    "accuracy = round(max(history.history['accuracy'])*100,2)\n",
    "model.save(f'./model/MobileNet_02_model_acc{accuracy}.h5') # 최종 모델 저장"
   ]
  },
  {
   "cell_type": "code",
   "execution_count": 13,
   "metadata": {
    "colab": {
     "base_uri": "https://localhost:8080/"
    },
    "executionInfo": {
     "elapsed": 242383,
     "status": "ok",
     "timestamp": 1648027985499,
     "user": {
      "displayName": "김유정",
      "photoUrl": "https://lh3.googleusercontent.com/a/default-user=s64",
      "userId": "01261970241974990583"
     },
     "user_tz": -540
    },
    "id": "s5ox0b-o95HZ",
    "outputId": "1d5ea410-bea1-4f6e-c3a2-5dfcb480fe8e"
   },
   "outputs": [
    {
     "name": "stdout",
     "output_type": "stream",
     "text": [
      "50/50 [==============================] - 236s 5s/step - loss: 0.5082 - accuracy: 0.8120\n"
     ]
    },
    {
     "data": {
      "text/plain": [
       "[0.508197009563446, 0.8119999766349792]"
      ]
     },
     "execution_count": 13,
     "metadata": {},
     "output_type": "execute_result"
    }
   ],
   "source": [
    "model.evaluate(test_generator)"
   ]
  },
  {
   "cell_type": "code",
   "execution_count": 14,
   "metadata": {
    "colab": {
     "base_uri": "https://localhost:8080/",
     "height": 368
    },
    "executionInfo": {
     "elapsed": 30,
     "status": "ok",
     "timestamp": 1648027985500,
     "user": {
      "displayName": "김유정",
      "photoUrl": "https://lh3.googleusercontent.com/a/default-user=s64",
      "userId": "01261970241974990583"
     },
     "user_tz": -540
    },
    "id": "RKe56hTfuLz3",
    "outputId": "f367dcd3-54ec-4797-b5b0-41fd9fdab401"
   },
   "outputs": [
    {
     "data": {
      "text/plain": [
       "<matplotlib.legend.Legend at 0x7fbc7c13fd90>"
      ]
     },
     "execution_count": 14,
     "metadata": {},
     "output_type": "execute_result"
    },
    {
     "data": {
      "image/png": "[encoded data removed]",
      "text/plain": [
       "<Figure size 1152x360 with 2 Axes>"
      ]
     },
     "metadata": {
      "needs_background": "light"
     },
     "output_type": "display_data"
    }
   ],
   "source": [
    "plt.figure(figsize=(16,5))\n",
    "\n",
    "# 만들어진 모델에 대해 train dataset과 validation dataset의 loss 를 그래프로 표현해 봅니다.\n",
    "plt.subplot(1, 2, 1)\n",
    "plt.plot(history.history['loss'])\n",
    "plt.plot(history.history['val_loss'])\n",
    "plt.title('model loss')\n",
    "plt.ylabel('loss')\n",
    "plt.xlabel('epoch')\n",
    "plt.legend(['train', 'validation'], loc=0)\n",
    "\n",
    "# 만들어진 모델에 대해 train dataset과 validation dataset의 accuracy 를 그래프로 표현해 봅니다.\n",
    "plt.subplot(1, 2, 2)\n",
    "plt.plot(history.history['accuracy'])\n",
    "plt.plot(history.history['val_accuracy'])\n",
    "plt.title('model accuracy')\n",
    "plt.ylabel('accuracy')\n",
    "plt.xlabel('epoch')\n",
    "plt.legend(['train', 'validation'], loc=0)"
   ]
  },
  {
   "cell_type": "code",
   "execution_count": 15,
   "metadata": {
    "colab": {
     "base_uri": "https://localhost:8080/"
    },
    "executionInfo": {
     "elapsed": 16,
     "status": "ok",
     "timestamp": 1648027985501,
     "user": {
      "displayName": "김유정",
      "photoUrl": "https://lh3.googleusercontent.com/a/default-user=s64",
      "userId": "01261970241974990583"
     },
     "user_tz": -540
    },
    "id": "jhP5N4epxnin",
    "outputId": "507f4d4b-c41f-416c-ec51-9d84d5f00f35"
   },
   "outputs": [
    {
     "data": {
      "text/plain": [
       "{'갈아만든배': 0,\n",
       " '레쓰비': 1,\n",
       " '마운틴듀': 2,\n",
       " '밀키스': 3,\n",
       " '스프라이트': 4,\n",
       " '칠성사이다': 5,\n",
       " '코카콜라': 6,\n",
       " '트로피카나망고': 7,\n",
       " '펩시콜라': 8,\n",
       " '환타오렌지': 9}"
      ]
     },
     "execution_count": 15,
     "metadata": {},
     "output_type": "execute_result"
    }
   ],
   "source": [
    "train_generator.class_indices"
   ]
  },
  {
   "cell_type": "code",
   "execution_count": 19,
   "metadata": {
    "colab": {
     "base_uri": "https://localhost:8080/"
    },
    "executionInfo": {
     "elapsed": 1628,
     "status": "ok",
     "timestamp": 1648028320850,
     "user": {
      "displayName": "김유정",
      "photoUrl": "https://lh3.googleusercontent.com/a/default-user=s64",
      "userId": "01261970241974990583"
     },
     "user_tz": -540
    },
    "id": "0oIHFVriqwFq",
    "outputId": "fcb69c73-75c1-455b-f67e-fe4611080a77"
   },
   "outputs": [
    {
     "data": {
      "text/plain": [
       "array([[3.3294384e-03, 2.6362916e-04, 2.0264409e-01, 1.6727677e-03,\n",
       "        7.5279331e-01, 7.1511499e-04, 4.5437426e-03, 5.6303420e-11,\n",
       "        3.4014057e-02, 2.3776251e-05]], dtype=float32)"
      ]
     },
     "execution_count": 19,
     "metadata": {},
     "output_type": "execute_result"
    }
   ],
   "source": [
    "test_img = cv2.imread('./Pepsi_cola.jpg')  # 펩시콜라 : 8\n",
    "test_img = cv2.cvtColor(test_img, cv2.COLOR_BGR2RGB)\n",
    "test_img = cv2.resize(test_img,(224,224))/255.0\n",
    "test_img = test_img.reshape((1,)+test_img.shape)\n",
    "model.predict(test_img)"
   ]
  },
  {
   "cell_type": "code",
   "execution_count": 20,
   "metadata": {
    "colab": {
     "base_uri": "https://localhost:8080/"
    },
    "executionInfo": {
     "elapsed": 973,
     "status": "ok",
     "timestamp": 1648028325172,
     "user": {
      "displayName": "김유정",
      "photoUrl": "https://lh3.googleusercontent.com/a/default-user=s64",
      "userId": "01261970241974990583"
     },
     "user_tz": -540
    },
    "id": "ugljkcho5Rqh",
    "outputId": "5cc1b0b7-9b82-47f3-f55e-b98b0882b6c9"
   },
   "outputs": [
    {
     "data": {
      "text/plain": [
       "array([[0.00688446, 0.09320181, 0.25960538, 0.06761499, 0.17126873,\n",
       "        0.00167747, 0.18287961, 0.04183627, 0.00332389, 0.17170738]],\n",
       "      dtype=float32)"
      ]
     },
     "execution_count": 20,
     "metadata": {},
     "output_type": "execute_result"
    }
   ],
   "source": [
    "test_img = cv2.imread('./fanta_orange.jpg')  # 환타오렌지 : 9\n",
    "test_img = cv2.cvtColor(test_img, cv2.COLOR_BGR2RGB)\n",
    "test_img = cv2.resize(test_img,(224,224))/255.0\n",
    "test_img = test_img.reshape((1,)+test_img.shape)\n",
    "model.predict(test_img)"
   ]
  }
 ],
 "metadata": {
  "accelerator": "GPU",
  "colab": {
   "collapsed_sections": [],
   "machine_shape": "hm",
   "name": "02_MobileNet_continue_ep300_acc86.ipynb",
   "provenance": []
  },
  "kernelspec": {
   "display_name": "Python 3 (ipykernel)",
   "language": "python",
   "name": "python3"
  },
  "language_info": {
   "codemirror_mode": {
    "name": "ipython",
    "version": 3
   },
   "file_extension": ".py",
   "mimetype": "text/x-python",
   "name": "python",
   "nbconvert_exporter": "python",
   "pygments_lexer": "ipython3",
   "version": "3.9.7"
  }
 },
 "nbformat": 4,
 "nbformat_minor": 1
}
