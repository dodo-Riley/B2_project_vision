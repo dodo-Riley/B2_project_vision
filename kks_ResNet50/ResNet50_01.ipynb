{
 "cells": [
  {
   "cell_type": "markdown",
   "metadata": {
    "id": "NUX05Eq-IpxJ"
   },
   "source": [
    "## 필요 모듈 불러오기"
   ]
  },
  {
   "cell_type": "code",
   "execution_count": 1,
   "metadata": {
    "executionInfo": {
     "elapsed": 236,
     "status": "ok",
     "timestamp": 1647845115124,
     "user": {
      "displayName": "김강산",
      "photoUrl": "https://lh3.googleusercontent.com/a/default-user=s64",
      "userId": "05796532777041092256"
     },
     "user_tz": -540
    },
    "id": "QD7V2m3Fti9L"
   },
   "outputs": [],
   "source": [
    "import tensorflow as tf\n",
    "import matplotlib.pyplot as plt\n",
    "import numpy as np\n",
    "import glob\n",
    "from PIL import Image\n",
    "from tensorflow import keras\n",
    "from keras.models import Sequential\n",
    "from keras.layers import Conv2D,Dense,Flatten,Dropout,MaxPooling2D\n",
    "from keras.callbacks import EarlyStopping, ModelCheckpoint\n",
    "from keras.preprocessing.image import ImageDataGenerator"
   ]
  },
  {
   "cell_type": "code",
   "execution_count": 2,
   "metadata": {
    "colab": {
     "base_uri": "https://localhost:8080/"
    },
    "executionInfo": {
     "elapsed": 388,
     "status": "ok",
     "timestamp": 1647843965051,
     "user": {
      "displayName": "김강산",
      "photoUrl": "https://lh3.googleusercontent.com/a/default-user=s64",
      "userId": "05796532777041092256"
     },
     "user_tz": -540
    },
    "id": "MfwZyrcFGZKd",
    "outputId": "5b6bbfb9-ce9e-4c8a-db20-889fa1d94d2a"
   },
   "outputs": [],
   "source": [
    "# len(glob.glob('/content/drive/MyDrive/안봐도보이조_project/train_10/*/*'))"
   ]
  },
  {
   "cell_type": "markdown",
   "metadata": {
    "id": "rHTs4wL3It1Z"
   },
   "source": [
    "## 이미지 생성기 선언"
   ]
  },
  {
   "cell_type": "code",
   "execution_count": 3,
   "metadata": {
    "colab": {
     "base_uri": "https://localhost:8080/"
    },
    "executionInfo": {
     "elapsed": 636,
     "status": "ok",
     "timestamp": 1647845117339,
     "user": {
      "displayName": "김강산",
      "photoUrl": "https://lh3.googleusercontent.com/a/default-user=s64",
      "userId": "05796532777041092256"
     },
     "user_tz": -540
    },
    "id": "Id5dlh09AE2q",
    "outputId": "0346269f-5a8f-43d6-8a40-3bfeee087391"
   },
   "outputs": [
    {
     "name": "stdout",
     "output_type": "stream",
     "text": [
      "Found 10529 images belonging to 10 classes.\n",
      "Found 1000 images belonging to 10 classes.\n",
      "Found 500 images belonging to 10 classes.\n"
     ]
    }
   ],
   "source": [
    "train_datagen = ImageDataGenerator( \n",
    "        rescale=1./255,         # 픽셀 값을 0~1 범위로 변환\n",
    "        rotation_range=40,      # 40도까지 회전\n",
    "        width_shift_range=0.2,  # 20%까지 좌우 이동\n",
    "        height_shift_range=0.2, # 20%까지 상하 이동\n",
    "        shear_range=0.2,        # 20%까지 기울임\n",
    "        zoom_range=0.2,         # 20%까지 확대\n",
    "        horizontal_flip=True,   # 좌우 뒤집기\n",
    "    )\n",
    "train_generator = train_datagen.flow_from_directory(\n",
    "    './train_10',\n",
    "    batch_size=64,      \n",
    "    class_mode='categorical', \n",
    "    target_size=(64, 64)) \n",
    "valid_datagen = ImageDataGenerator(rescale=1./255) # 스케일링만 진행\n",
    "valid_generator = valid_datagen.flow_from_directory(\n",
    "    './valid_10',\n",
    "    batch_size=8,      \n",
    "    class_mode='categorical', \n",
    "    target_size=(64, 64))\n",
    "test_datagen = ImageDataGenerator(rescale=1./255) # 스케일링만 진행\n",
    "test_generator = test_datagen.flow_from_directory(\n",
    "    './test_10',\n",
    "    batch_size=10,      \n",
    "    class_mode='categorical', \n",
    "    target_size=(64, 64), shuffle = False)"
   ]
  },
  {
   "cell_type": "markdown",
   "metadata": {
    "id": "F3IcHqRPIxG_"
   },
   "source": [
    "## 모델 생성 및 학습\n",
    "- ResNet50 모델 사용\n",
    "- early_stopping, modelcheckpoint 적용"
   ]
  },
  {
   "cell_type": "code",
   "execution_count": 4,
   "metadata": {
    "colab": {
     "base_uri": "https://localhost:8080/"
    },
    "executionInfo": {
     "elapsed": 2620,
     "status": "ok",
     "timestamp": 1647845127178,
     "user": {
      "displayName": "김강산",
      "photoUrl": "https://lh3.googleusercontent.com/a/default-user=s64",
      "userId": "05796532777041092256"
     },
     "user_tz": -540
    },
    "id": "HnszNlS5wFvY",
    "outputId": "320f7433-7f22-43d1-96ac-0fae856e6b7c"
   },
   "outputs": [
    {
     "name": "stdout",
     "output_type": "stream",
     "text": [
      "Model: \"sequential\"\n",
      "_________________________________________________________________\n",
      " Layer (type)                Output Shape              Param #   \n",
      "=================================================================\n",
      " resnet50 (Functional)       (None, 2, 2, 2048)        23587712  \n",
      "                                                                 \n",
      " flatten (Flatten)           (None, 8192)              0         \n",
      "                                                                 \n",
      " dense (Dense)               (None, 10)                81930     \n",
      "                                                                 \n",
      "=================================================================\n",
      "Total params: 23,669,642\n",
      "Trainable params: 23,616,522\n",
      "Non-trainable params: 53,120\n",
      "_________________________________________________________________\n"
     ]
    }
   ],
   "source": [
    "resnet50 = tf.keras.applications.ResNet50(\n",
    "    include_top=False,\n",
    "    input_shape=(64 ,64 ,3))\n",
    "\n",
    "model = Sequential()\n",
    "model.add(resnet50)\n",
    "model.add(Flatten())\n",
    "model.add(Dense(10, activation='softmax'))\n",
    "model.summary()"
   ]
  },
  {
   "cell_type": "code",
   "execution_count": 5,
   "metadata": {
    "executionInfo": {
     "elapsed": 3,
     "status": "ok",
     "timestamp": 1647845154433,
     "user": {
      "displayName": "김강산",
      "photoUrl": "https://lh3.googleusercontent.com/a/default-user=s64",
      "userId": "05796532777041092256"
     },
     "user_tz": -540
    },
    "id": "_mNRFMWFxqGy"
   },
   "outputs": [],
   "source": [
    "model.compile(optimizer = 'adam',\n",
    "              loss = 'categorical_crossentropy',\n",
    "              metrics = ['accuracy'])"
   ]
  },
  {
   "cell_type": "code",
   "execution_count": 6,
   "metadata": {
    "executionInfo": {
     "elapsed": 12,
     "status": "ok",
     "timestamp": 1647845157029,
     "user": {
      "displayName": "김강산",
      "photoUrl": "https://lh3.googleusercontent.com/a/default-user=s64",
      "userId": "05796532777041092256"
     },
     "user_tz": -540
    },
    "id": "fj54z9JIJX9u"
   },
   "outputs": [],
   "source": [
    "#early_stopping\n",
    "early_stopping_callback = EarlyStopping(monitor='val_loss', patience=10)"
   ]
  },
  {
   "cell_type": "code",
   "execution_count": 7,
   "metadata": {
    "executionInfo": {
     "elapsed": 3,
     "status": "ok",
     "timestamp": 1647845157293,
     "user": {
      "displayName": "김강산",
      "photoUrl": "https://lh3.googleusercontent.com/a/default-user=s64",
      "userId": "05796532777041092256"
     },
     "user_tz": -540
    },
    "id": "aDoNLCoeNfAn"
   },
   "outputs": [],
   "source": [
    "# model_path = './model/ResNet50.hdf5'\n",
    "\n",
    "# checkpointer = ModelCheckpoint(filepath=model_path, monitor='val_loss', \n",
    "#                                verbose=1, save_best_only=True)"
   ]
  },
  {
   "cell_type": "code",
   "execution_count": 8,
   "metadata": {
    "colab": {
     "base_uri": "https://localhost:8080/"
    },
    "id": "kK4NTYo04R2h",
    "outputId": "765f8e93-6ba3-4e7d-80bd-070d07649d96"
   },
   "outputs": [
    {
     "name": "stdout",
     "output_type": "stream",
     "text": [
      "Epoch 1/300\n",
      "164/164 [==============================] - 29s 128ms/step - loss: 0.5278 - accuracy: 0.8738 - val_loss: 3.1369 - val_accuracy: 0.1000\n",
      "Epoch 2/300\n",
      "164/164 [==============================] - 16s 97ms/step - loss: 0.3765 - accuracy: 0.9373 - val_loss: 6589.1455 - val_accuracy: 0.1000\n",
      "Epoch 3/300\n",
      "164/164 [==============================] - 16s 98ms/step - loss: 0.3064 - accuracy: 0.9238 - val_loss: 2.8793 - val_accuracy: 0.1030\n",
      "Epoch 4/300\n",
      "164/164 [==============================] - 16s 97ms/step - loss: 0.0735 - accuracy: 0.9756 - val_loss: 2.3202 - val_accuracy: 0.1620\n",
      "Epoch 5/300\n",
      "164/164 [==============================] - 16s 98ms/step - loss: 0.1320 - accuracy: 0.9825 - val_loss: 6.1763 - val_accuracy: 0.2070\n",
      "Epoch 6/300\n",
      "164/164 [==============================] - 16s 99ms/step - loss: 0.1720 - accuracy: 0.9659 - val_loss: 4.3996 - val_accuracy: 0.3540\n",
      "Epoch 7/300\n",
      "164/164 [==============================] - 16s 98ms/step - loss: 0.0494 - accuracy: 0.9845 - val_loss: 0.1354 - val_accuracy: 0.9580\n",
      "Epoch 8/300\n",
      "164/164 [==============================] - 16s 98ms/step - loss: 0.0432 - accuracy: 0.9865 - val_loss: 0.2396 - val_accuracy: 0.9370\n",
      "Epoch 9/300\n",
      "164/164 [==============================] - 16s 99ms/step - loss: 0.0269 - accuracy: 0.9909 - val_loss: 0.0952 - val_accuracy: 0.9670\n",
      "Epoch 10/300\n",
      "164/164 [==============================] - 16s 99ms/step - loss: 0.0433 - accuracy: 0.9877 - val_loss: 0.6702 - val_accuracy: 0.8780\n",
      "Epoch 11/300\n",
      "164/164 [==============================] - 16s 98ms/step - loss: 0.0459 - accuracy: 0.9888 - val_loss: 17377.1953 - val_accuracy: 0.4760\n",
      "Epoch 12/300\n",
      "164/164 [==============================] - 16s 98ms/step - loss: 0.1032 - accuracy: 0.9813 - val_loss: 0.3079 - val_accuracy: 0.9120\n",
      "Epoch 13/300\n",
      "164/164 [==============================] - 16s 98ms/step - loss: 0.0333 - accuracy: 0.9893 - val_loss: 0.0828 - val_accuracy: 0.9800\n",
      "Epoch 14/300\n",
      "164/164 [==============================] - 16s 98ms/step - loss: 0.0251 - accuracy: 0.9922 - val_loss: 0.2257 - val_accuracy: 0.9430\n",
      "Epoch 15/300\n",
      "164/164 [==============================] - 16s 99ms/step - loss: 0.0170 - accuracy: 0.9947 - val_loss: 0.0845 - val_accuracy: 0.9730\n",
      "Epoch 16/300\n",
      "164/164 [==============================] - 16s 97ms/step - loss: 0.0196 - accuracy: 0.9950 - val_loss: 0.0330 - val_accuracy: 0.9910\n",
      "Epoch 17/300\n",
      "164/164 [==============================] - 16s 99ms/step - loss: 0.0280 - accuracy: 0.9913 - val_loss: 0.0256 - val_accuracy: 0.9910\n",
      "Epoch 18/300\n",
      "164/164 [==============================] - 16s 98ms/step - loss: 0.0289 - accuracy: 0.9901 - val_loss: 0.1220 - val_accuracy: 0.9660\n",
      "Epoch 19/300\n",
      "164/164 [==============================] - 16s 100ms/step - loss: 0.0349 - accuracy: 0.9895 - val_loss: 0.5906 - val_accuracy: 0.9040\n",
      "Epoch 20/300\n",
      "164/164 [==============================] - 16s 99ms/step - loss: 0.1005 - accuracy: 0.9855 - val_loss: 65640.4531 - val_accuracy: 0.2590\n",
      "Epoch 21/300\n",
      "164/164 [==============================] - 16s 99ms/step - loss: 0.6182 - accuracy: 0.9290 - val_loss: 0.5438 - val_accuracy: 0.9010\n",
      "Epoch 22/300\n",
      "164/164 [==============================] - 16s 97ms/step - loss: 0.0617 - accuracy: 0.9801 - val_loss: 0.0464 - val_accuracy: 0.9810\n",
      "Epoch 23/300\n",
      "164/164 [==============================] - 16s 98ms/step - loss: 0.0396 - accuracy: 0.9869 - val_loss: 0.0746 - val_accuracy: 0.9770\n",
      "Epoch 24/300\n",
      "164/164 [==============================] - 16s 99ms/step - loss: 0.0331 - accuracy: 0.9901 - val_loss: 0.0390 - val_accuracy: 0.9890\n",
      "Epoch 25/300\n",
      "164/164 [==============================] - 16s 99ms/step - loss: 0.0203 - accuracy: 0.9937 - val_loss: 0.0363 - val_accuracy: 0.9880\n",
      "Epoch 26/300\n",
      "164/164 [==============================] - 16s 100ms/step - loss: 0.0200 - accuracy: 0.9939 - val_loss: 0.0862 - val_accuracy: 0.9700\n",
      "Epoch 27/300\n",
      "164/164 [==============================] - 16s 99ms/step - loss: 0.0151 - accuracy: 0.9951 - val_loss: 0.0053 - val_accuracy: 0.9990\n",
      "Epoch 28/300\n",
      "164/164 [==============================] - 16s 99ms/step - loss: 0.0148 - accuracy: 0.9954 - val_loss: 0.0503 - val_accuracy: 0.9840\n",
      "Epoch 29/300\n",
      "164/164 [==============================] - 16s 98ms/step - loss: 0.0171 - accuracy: 0.9946 - val_loss: 0.0299 - val_accuracy: 0.9920\n",
      "Epoch 30/300\n",
      "164/164 [==============================] - 16s 98ms/step - loss: 0.0190 - accuracy: 0.9937 - val_loss: 0.0973 - val_accuracy: 0.9710\n",
      "Epoch 31/300\n",
      "164/164 [==============================] - 16s 100ms/step - loss: 0.0225 - accuracy: 0.9929 - val_loss: 0.0274 - val_accuracy: 0.9910\n",
      "Epoch 32/300\n",
      "164/164 [==============================] - 16s 98ms/step - loss: 0.0131 - accuracy: 0.9966 - val_loss: 0.0567 - val_accuracy: 0.9770\n",
      "Epoch 33/300\n",
      "164/164 [==============================] - 16s 99ms/step - loss: 0.0128 - accuracy: 0.9960 - val_loss: 0.0195 - val_accuracy: 0.9930\n",
      "Epoch 34/300\n",
      "164/164 [==============================] - 16s 99ms/step - loss: 0.0233 - accuracy: 0.9927 - val_loss: 0.8310 - val_accuracy: 0.8920\n",
      "Epoch 35/300\n",
      "164/164 [==============================] - 16s 98ms/step - loss: 0.0244 - accuracy: 0.9927 - val_loss: 0.0927 - val_accuracy: 0.9680\n",
      "Epoch 36/300\n",
      "164/164 [==============================] - 16s 99ms/step - loss: 0.0158 - accuracy: 0.9949 - val_loss: 0.3030 - val_accuracy: 0.9360\n",
      "Epoch 37/300\n",
      "164/164 [==============================] - 16s 99ms/step - loss: 0.0155 - accuracy: 0.9946 - val_loss: 0.0491 - val_accuracy: 0.9880\n"
     ]
    }
   ],
   "source": [
    "history = model.fit(train_generator,\n",
    "                    steps_per_epoch=10529//64, \n",
    "                    epochs=300, \n",
    "                    validation_data=valid_generator,\n",
    "                    validation_steps=1000//8,\n",
    "                    callbacks=[early_stopping_callback])"
   ]
  },
  {
   "cell_type": "code",
   "execution_count": 9,
   "metadata": {
    "id": "b52_i4Co6vvq"
   },
   "outputs": [
    {
     "name": "stdout",
     "output_type": "stream",
     "text": [
      "50/50 [==============================] - 1s 15ms/step - loss: 0.0033 - accuracy: 1.0000\n"
     ]
    },
    {
     "data": {
      "text/plain": [
       "[0.00326677062548697, 1.0]"
      ]
     },
     "execution_count": 9,
     "metadata": {},
     "output_type": "execute_result"
    }
   ],
   "source": [
    "model.evaluate(test_generator)"
   ]
  },
  {
   "cell_type": "code",
   "execution_count": 10,
   "metadata": {},
   "outputs": [
    {
     "data": {
      "text/plain": [
       "<matplotlib.legend.Legend at 0x1e72d974a00>"
      ]
     },
     "execution_count": 10,
     "metadata": {},
     "output_type": "execute_result"
    },
    {
     "data": {
      "image/png": "[encoded data removed]",
      "text/plain": [
       "<Figure size 1152x360 with 2 Axes>"
      ]
     },
     "metadata": {
      "needs_background": "light"
     },
     "output_type": "display_data"
    }
   ],
   "source": [
    "# 모델 학습 과정 시각화\n",
    "plt.figure(figsize=(16,5))\n",
    "\n",
    "plt.subplot(1, 2, 1)\n",
    "plt.plot(history.history['loss'])\n",
    "plt.plot(history.history['val_loss'])\n",
    "plt.title('model loss')\n",
    "plt.ylabel('loss')\n",
    "plt.xlabel('epoch')\n",
    "plt.legend(['train', 'validation'], loc=0)\n",
    "\n",
    "plt.subplot(1, 2, 2)\n",
    "plt.plot(history.history['accuracy'])\n",
    "plt.plot(history.history['val_accuracy'])\n",
    "plt.title('model accuracy')\n",
    "plt.ylabel('accuracy')\n",
    "plt.xlabel('epoch')\n",
    "plt.legend(['train', 'validation'], loc=0)"
   ]
  },
  {
   "cell_type": "code",
   "execution_count": 11,
   "metadata": {},
   "outputs": [
    {
     "name": "stderr",
     "output_type": "stream",
     "text": [
      "C:\\Users\\OWNER\\anaconda3\\lib\\site-packages\\keras\\engine\\functional.py:1410: CustomMaskWarning: Custom mask layers require a config and must override get_config. When loading, the custom mask layer must be passed to the custom_objects argument.\n",
      "  layer_config = serialize_layer_fn(layer)\n"
     ]
    }
   ],
   "source": [
    "model.save('./model/ResNet_1.h5')"
   ]
  },
  {
   "cell_type": "code",
   "execution_count": 12,
   "metadata": {},
   "outputs": [],
   "source": [
    "import cv2"
   ]
  },
  {
   "cell_type": "code",
   "execution_count": 13,
   "metadata": {},
   "outputs": [
    {
     "data": {
      "text/plain": [
       "array([[6.3700711e-09, 9.9999547e-01, 4.1544063e-10, 2.8066427e-08,\n",
       "        6.3083650e-07, 1.4593415e-09, 9.5728425e-10, 2.0386423e-10,\n",
       "        3.9745651e-06, 1.2609242e-08]], dtype=float32)"
      ]
     },
     "execution_count": 13,
     "metadata": {},
     "output_type": "execute_result"
    }
   ],
   "source": [
    "# 새로운 데이터로 예측 결과 확인\n",
    "test_img = cv2.imread('./123.jpg')\n",
    "test_img = cv2.cvtColor(test_img, cv2.COLOR_BGR2RGB)\n",
    "test_img = cv2.resize(test_img,(64,64))/255.0\n",
    "test_img = test_img.reshape((1,)+test_img.shape)\n",
    "pred = model.predict(test_img)\n",
    "pred"
   ]
  },
  {
   "cell_type": "code",
   "execution_count": 14,
   "metadata": {},
   "outputs": [
    {
     "data": {
      "text/plain": [
       "1"
      ]
     },
     "execution_count": 14,
     "metadata": {},
     "output_type": "execute_result"
    }
   ],
   "source": [
    "pred.argmax()"
   ]
  },
  {
   "cell_type": "code",
   "execution_count": 15,
   "metadata": {},
   "outputs": [
    {
     "data": {
      "text/plain": [
       "{'갈아만든배': 0,\n",
       " '레쓰비': 1,\n",
       " '마운틴듀': 2,\n",
       " '밀키스': 3,\n",
       " '스프라이트': 4,\n",
       " '칠성사이다': 5,\n",
       " '코카콜라': 6,\n",
       " '트로피카나망고': 7,\n",
       " '펩시콜라': 8,\n",
       " '환타오렌지': 9}"
      ]
     },
     "execution_count": 15,
     "metadata": {},
     "output_type": "execute_result"
    }
   ],
   "source": [
    "train_generator.class_indices"
   ]
  },
  {
   "cell_type": "code",
   "execution_count": 16,
   "metadata": {},
   "outputs": [
    {
     "data": {
      "text/plain": [
       "{0: '갈아만든배',\n",
       " 1: '레쓰비',\n",
       " 2: '마운틴듀',\n",
       " 3: '밀키스',\n",
       " 4: '스프라이트',\n",
       " 5: '칠성사이다',\n",
       " 6: '코카콜라',\n",
       " 7: '트로피카나망고',\n",
       " 8: '펩시콜라',\n",
       " 9: '환타오렌지'}"
      ]
     },
     "execution_count": 16,
     "metadata": {},
     "output_type": "execute_result"
    }
   ],
   "source": [
    "result_dict = dict(map(reversed, train_generator.class_indices.items()))\n",
    "# 딕셔너리의 key, values 뒤집기\n",
    "result_dict"
   ]
  },
  {
   "cell_type": "code",
   "execution_count": 17,
   "metadata": {},
   "outputs": [
    {
     "data": {
      "text/plain": [
       "'레쓰비'"
      ]
     },
     "execution_count": 17,
     "metadata": {},
     "output_type": "execute_result"
    }
   ],
   "source": [
    "result_dict[pred.argmax()]"
   ]
  },
  {
   "cell_type": "code",
   "execution_count": 18,
   "metadata": {},
   "outputs": [
    {
     "data": {
      "text/plain": [
       "['갈아만든배',\n",
       " '레쓰비',\n",
       " '마운틴듀',\n",
       " '밀키스',\n",
       " '스프라이트',\n",
       " '칠성사이다',\n",
       " '코카콜라',\n",
       " '트로피카나망고',\n",
       " '펩시콜라',\n",
       " '환타오렌지']"
      ]
     },
     "execution_count": 18,
     "metadata": {},
     "output_type": "execute_result"
    }
   ],
   "source": [
    "categories = list(result_dict.values())\n",
    "# 딕셔너리의 value 값을 리스트로 받기\n",
    "categories"
   ]
  },
  {
   "cell_type": "code",
   "execution_count": 19,
   "metadata": {},
   "outputs": [],
   "source": [
    "import matplotlib.pyplot as plt\n",
    "plt.rcParams['font.family'] = 'Malgun Gothic'\n",
    "# from tensorflow.keras.models import load_model\n",
    "# model = load_model('./VGG16_1.h5')"
   ]
  },
  {
   "cell_type": "code",
   "execution_count": 20,
   "metadata": {},
   "outputs": [
    {
     "name": "stdout",
     "output_type": "stream",
     "text": [
      "-- Confusion Matrix --\n",
      "[[50  0  0  0  0  0  0  0  0  0]\n",
      " [ 0 50  0  0  0  0  0  0  0  0]\n",
      " [ 0  0 50  0  0  0  0  0  0  0]\n",
      " [ 0  0  0 50  0  0  0  0  0  0]\n",
      " [ 0  0  0  0 50  0  0  0  0  0]\n",
      " [ 0  0  0  0  0 50  0  0  0  0]\n",
      " [ 0  0  0  0  0  0 50  0  0  0]\n",
      " [ 0  0  0  0  0  0  0 50  0  0]\n",
      " [ 0  0  0  0  0  0  0  0 50  0]\n",
      " [ 0  0  0  0  0  0  0  0  0 50]]\n",
      "-- Classification Report --\n",
      "              precision    recall  f1-score   support\n",
      "\n",
      "       갈아만든배       1.00      1.00      1.00        50\n",
      "         레쓰비       1.00      1.00      1.00        50\n",
      "        마운틴듀       1.00      1.00      1.00        50\n",
      "         밀키스       1.00      1.00      1.00        50\n",
      "       스프라이트       1.00      1.00      1.00        50\n",
      "       칠성사이다       1.00      1.00      1.00        50\n",
      "        코카콜라       1.00      1.00      1.00        50\n",
      "     트로피카나망고       1.00      1.00      1.00        50\n",
      "        펩시콜라       1.00      1.00      1.00        50\n",
      "       환타오렌지       1.00      1.00      1.00        50\n",
      "\n",
      "    accuracy                           1.00       500\n",
      "   macro avg       1.00      1.00      1.00       500\n",
      "weighted avg       1.00      1.00      1.00       500\n",
      "\n"
     ]
    }
   ],
   "source": [
    "from sklearn.metrics import classification_report, confusion_matrix\n",
    "\n",
    "np.set_printoptions(precision=2)\n",
    "\n",
    "Y_pred = model.predict(test_generator)\n",
    "classes = test_generator.classes[test_generator.index_array]\n",
    "y_pred = np.argmax(Y_pred, axis=1)  # Returns maximum indices in each row\n",
    "\n",
    "class_names = categories\n",
    "\n",
    "print('-- Confusion Matrix --')\n",
    "print(confusion_matrix(classes, y_pred))\n",
    "\n",
    "\n",
    "\n",
    "print('-- Classification Report --')\n",
    "print(classification_report(classes, y_pred, target_names=class_names))"
   ]
  },
  {
   "cell_type": "code",
   "execution_count": 21,
   "metadata": {},
   "outputs": [
    {
     "data": {
      "text/plain": [
       "<AxesSubplot:>"
      ]
     },
     "execution_count": 21,
     "metadata": {},
     "output_type": "execute_result"
    },
    {
     "data": {
      "image/png": "[encoded data removed]",
      "text/plain": [
       "<Figure size 720x720 with 2 Axes>"
      ]
     },
     "metadata": {
      "needs_background": "light"
     },
     "output_type": "display_data"
    }
   ],
   "source": [
    "import seaborn as sns\n",
    "plt.figure(figsize=(10,10))\n",
    "sns.heatmap(confusion_matrix(classes, y_pred), annot=True, fmt='d',\n",
    "            xticklabels=categories,\n",
    "            yticklabels=categories)\n",
    "# 코랩에서 한글 도저히 안나오는듯\n",
    "# 뒤에부분은 로컬에서 주피터로 진행해서 히트맵뽑기"
   ]
  },
  {
   "cell_type": "code",
   "execution_count": null,
   "metadata": {},
   "outputs": [],
   "source": []
  }
 ],
 "metadata": {
  "accelerator": "GPU",
  "colab": {
   "authorship_tag": "ABX9TyONIIYtR9HyaXcLxiUlOk4S",
   "mount_file_id": "1UwH8ZrysM63hXlNGTKWgiDSkTArxxzP3",
   "name": "ResNet.ipynb",
   "provenance": []
  },
  "kernelspec": {
   "display_name": "Python 3 (ipykernel)",
   "language": "python",
   "name": "python3"
  },
  "language_info": {
   "codemirror_mode": {
    "name": "ipython",
    "version": 3
   },
   "file_extension": ".py",
   "mimetype": "text/x-python",
   "name": "python",
   "nbconvert_exporter": "python",
   "pygments_lexer": "ipython3",
   "version": "3.9.7"
  }
 },
 "nbformat": 4,
 "nbformat_minor": 1
}
