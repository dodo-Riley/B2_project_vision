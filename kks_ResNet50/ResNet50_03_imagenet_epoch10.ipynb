{
 "cells": [
  {
   "cell_type": "markdown",
   "metadata": {
    "id": "NUX05Eq-IpxJ"
   },
   "source": [
    "## 필요 모듈 불러오기"
   ]
  },
  {
   "cell_type": "code",
   "execution_count": 1,
   "metadata": {
    "executionInfo": {
     "elapsed": 236,
     "status": "ok",
     "timestamp": 1647845115124,
     "user": {
      "displayName": "김강산",
      "photoUrl": "https://lh3.googleusercontent.com/a/default-user=s64",
      "userId": "05796532777041092256"
     },
     "user_tz": -540
    },
    "id": "QD7V2m3Fti9L"
   },
   "outputs": [],
   "source": [
    "import tensorflow as tf\n",
    "import matplotlib.pyplot as plt\n",
    "import numpy as np\n",
    "import glob\n",
    "from PIL import Image\n",
    "from tensorflow import keras\n",
    "from keras.models import Sequential\n",
    "from keras.layers import Conv2D,Dense,Flatten,Dropout,MaxPooling2D\n",
    "from keras.callbacks import EarlyStopping, ModelCheckpoint\n",
    "from keras.preprocessing.image import ImageDataGenerator\n",
    "from tensorflow.keras.optimizers import Adam"
   ]
  },
  {
   "cell_type": "code",
   "execution_count": 2,
   "metadata": {
    "colab": {
     "base_uri": "https://localhost:8080/"
    },
    "executionInfo": {
     "elapsed": 388,
     "status": "ok",
     "timestamp": 1647843965051,
     "user": {
      "displayName": "김강산",
      "photoUrl": "https://lh3.googleusercontent.com/a/default-user=s64",
      "userId": "05796532777041092256"
     },
     "user_tz": -540
    },
    "id": "MfwZyrcFGZKd",
    "outputId": "5b6bbfb9-ce9e-4c8a-db20-889fa1d94d2a"
   },
   "outputs": [],
   "source": [
    "# len(glob.glob('/content/drive/MyDrive/안봐도보이조_project/train_10/*/*'))"
   ]
  },
  {
   "cell_type": "markdown",
   "metadata": {
    "id": "rHTs4wL3It1Z"
   },
   "source": [
    "## 이미지 생성기 선언"
   ]
  },
  {
   "cell_type": "code",
   "execution_count": 3,
   "metadata": {
    "colab": {
     "base_uri": "https://localhost:8080/"
    },
    "executionInfo": {
     "elapsed": 636,
     "status": "ok",
     "timestamp": 1647845117339,
     "user": {
      "displayName": "김강산",
      "photoUrl": "https://lh3.googleusercontent.com/a/default-user=s64",
      "userId": "05796532777041092256"
     },
     "user_tz": -540
    },
    "id": "Id5dlh09AE2q",
    "outputId": "0346269f-5a8f-43d6-8a40-3bfeee087391"
   },
   "outputs": [
    {
     "name": "stdout",
     "output_type": "stream",
     "text": [
      "Found 10529 images belonging to 10 classes.\n",
      "Found 1000 images belonging to 10 classes.\n",
      "Found 500 images belonging to 10 classes.\n"
     ]
    }
   ],
   "source": [
    "train_datagen = ImageDataGenerator( \n",
    "        rescale=1./255,         # 픽셀 값을 0~1 범위로 변환\n",
    "        rotation_range=40,      # 40도까지 회전\n",
    "        width_shift_range=0.2,  # 20%까지 좌우 이동\n",
    "        height_shift_range=0.2, # 20%까지 상하 이동\n",
    "        shear_range=0.2,        # 20%까지 기울임\n",
    "        zoom_range=0.2,         # 20%까지 확대\n",
    "        horizontal_flip=True,   # 좌우 뒤집기\n",
    "    )\n",
    "train_generator = train_datagen.flow_from_directory(\n",
    "    './train_10',\n",
    "    batch_size=50,      \n",
    "    class_mode='categorical', \n",
    "    target_size=(64, 64)) \n",
    "valid_datagen = ImageDataGenerator(rescale=1./255) # 스케일링만 진행\n",
    "valid_generator = valid_datagen.flow_from_directory(\n",
    "    './valid_10',\n",
    "    batch_size=20,      \n",
    "    class_mode='categorical', \n",
    "    target_size=(64, 64))\n",
    "test_datagen = ImageDataGenerator(rescale=1./255) # 스케일링만 진행\n",
    "test_generator = test_datagen.flow_from_directory(\n",
    "    './test_10',\n",
    "    batch_size=10,      \n",
    "    class_mode='categorical', \n",
    "    target_size=(64, 64), shuffle = False)"
   ]
  },
  {
   "cell_type": "markdown",
   "metadata": {
    "id": "F3IcHqRPIxG_"
   },
   "source": [
    "## 모델 생성 및 학습\n",
    "- ResNet50 모델 사용\n",
    "- early_stopping, modelcheckpoint 적용"
   ]
  },
  {
   "cell_type": "code",
   "execution_count": 4,
   "metadata": {
    "colab": {
     "base_uri": "https://localhost:8080/"
    },
    "executionInfo": {
     "elapsed": 2620,
     "status": "ok",
     "timestamp": 1647845127178,
     "user": {
      "displayName": "김강산",
      "photoUrl": "https://lh3.googleusercontent.com/a/default-user=s64",
      "userId": "05796532777041092256"
     },
     "user_tz": -540
    },
    "id": "HnszNlS5wFvY",
    "outputId": "320f7433-7f22-43d1-96ac-0fae856e6b7c"
   },
   "outputs": [
    {
     "name": "stdout",
     "output_type": "stream",
     "text": [
      "Model: \"sequential\"\n",
      "_________________________________________________________________\n",
      " Layer (type)                Output Shape              Param #   \n",
      "=================================================================\n",
      " resnet50 (Functional)       (None, 2, 2, 2048)        23587712  \n",
      "                                                                 \n",
      " flatten (Flatten)           (None, 8192)              0         \n",
      "                                                                 \n",
      " dense (Dense)               (None, 10)                81930     \n",
      "                                                                 \n",
      "=================================================================\n",
      "Total params: 23,669,642\n",
      "Trainable params: 23,616,522\n",
      "Non-trainable params: 53,120\n",
      "_________________________________________________________________\n"
     ]
    }
   ],
   "source": [
    "resnet50 = tf.keras.applications.ResNet50(\n",
    "    include_top=False,\n",
    "    weights=\"imagenet\",\n",
    "    input_shape=(64 ,64 ,3))\n",
    "\n",
    "# resnet50.trainable = False\n",
    "model = Sequential()\n",
    "model.add(resnet50)\n",
    "model.add(Flatten())\n",
    "model.add(Dense(10, activation='softmax'))\n",
    "model.summary()"
   ]
  },
  {
   "cell_type": "code",
   "execution_count": 5,
   "metadata": {
    "executionInfo": {
     "elapsed": 3,
     "status": "ok",
     "timestamp": 1647845154433,
     "user": {
      "displayName": "김강산",
      "photoUrl": "https://lh3.googleusercontent.com/a/default-user=s64",
      "userId": "05796532777041092256"
     },
     "user_tz": -540
    },
    "id": "_mNRFMWFxqGy"
   },
   "outputs": [],
   "source": [
    "model.compile(optimizer = 'adam',\n",
    "              loss = 'categorical_crossentropy',\n",
    "              metrics = ['accuracy'])"
   ]
  },
  {
   "cell_type": "markdown",
   "metadata": {},
   "source": [
    "- optimizer의 learning rate 조절해보기"
   ]
  },
  {
   "cell_type": "code",
   "execution_count": 6,
   "metadata": {
    "executionInfo": {
     "elapsed": 12,
     "status": "ok",
     "timestamp": 1647845157029,
     "user": {
      "displayName": "김강산",
      "photoUrl": "https://lh3.googleusercontent.com/a/default-user=s64",
      "userId": "05796532777041092256"
     },
     "user_tz": -540
    },
    "id": "fj54z9JIJX9u"
   },
   "outputs": [],
   "source": [
    "# #early_stopping\n",
    "# early_stopping_callback = EarlyStopping(monitor='val_loss', patience=10)"
   ]
  },
  {
   "cell_type": "code",
   "execution_count": 7,
   "metadata": {
    "executionInfo": {
     "elapsed": 3,
     "status": "ok",
     "timestamp": 1647845157293,
     "user": {
      "displayName": "김강산",
      "photoUrl": "https://lh3.googleusercontent.com/a/default-user=s64",
      "userId": "05796532777041092256"
     },
     "user_tz": -540
    },
    "id": "aDoNLCoeNfAn"
   },
   "outputs": [],
   "source": [
    "# model_path = './model/RedNet50.hdf5'\n",
    "\n",
    "# checkpointer = ModelCheckpoint(filepath=model_path, monitor='val_loss', \n",
    "#                                verbose=1, save_best_only=True)"
   ]
  },
  {
   "cell_type": "code",
   "execution_count": 8,
   "metadata": {
    "colab": {
     "base_uri": "https://localhost:8080/"
    },
    "id": "kK4NTYo04R2h",
    "outputId": "765f8e93-6ba3-4e7d-80bd-070d07649d96"
   },
   "outputs": [
    {
     "name": "stdout",
     "output_type": "stream",
     "text": [
      "Epoch 1/10\n",
      "210/210 [==============================] - 177s 829ms/step - loss: 0.4720 - accuracy: 0.8865 - val_loss: 2.3627 - val_accuracy: 0.1020\n",
      "Epoch 2/10\n",
      "210/210 [==============================] - 166s 791ms/step - loss: 0.1149 - accuracy: 0.9654 - val_loss: 2.3113 - val_accuracy: 0.1000\n",
      "Epoch 3/10\n",
      "210/210 [==============================] - 167s 795ms/step - loss: 1.1356 - accuracy: 0.8319 - val_loss: 62902.3359 - val_accuracy: 0.1000\n",
      "Epoch 4/10\n",
      "210/210 [==============================] - 166s 788ms/step - loss: 0.3316 - accuracy: 0.8879 - val_loss: 2.1433 - val_accuracy: 0.4180\n",
      "Epoch 5/10\n",
      "210/210 [==============================] - 165s 787ms/step - loss: 0.1516 - accuracy: 0.9462 - val_loss: 1.8870 - val_accuracy: 0.6000\n",
      "Epoch 6/10\n",
      "210/210 [==============================] - 165s 787ms/step - loss: 0.0974 - accuracy: 0.9658 - val_loss: 0.1400 - val_accuracy: 0.9460\n",
      "Epoch 7/10\n",
      "210/210 [==============================] - 165s 786ms/step - loss: 0.1337 - accuracy: 0.9635 - val_loss: 0.0512 - val_accuracy: 0.9820\n",
      "Epoch 8/10\n",
      "210/210 [==============================] - 165s 787ms/step - loss: 0.0994 - accuracy: 0.9744 - val_loss: 0.1405 - val_accuracy: 0.9570\n",
      "Epoch 9/10\n",
      "210/210 [==============================] - 166s 790ms/step - loss: 0.0747 - accuracy: 0.9800 - val_loss: 1.7216 - val_accuracy: 0.8550\n",
      "Epoch 10/10\n",
      "210/210 [==============================] - 168s 799ms/step - loss: 0.2398 - accuracy: 0.9494 - val_loss: 1.1801 - val_accuracy: 0.8330\n"
     ]
    }
   ],
   "source": [
    "history = model.fit(train_generator,\n",
    "#                     batch_size=64,\n",
    "                    steps_per_epoch=10529//50, \n",
    "                    epochs=10, \n",
    "                    validation_data=valid_generator,\n",
    "                    validation_batch_size=8,\n",
    "                    validation_steps=1000//20,\n",
    "#                     callbacks=[early_stopping_callback]\n",
    "                   )"
   ]
  },
  {
   "cell_type": "code",
   "execution_count": 9,
   "metadata": {
    "id": "b52_i4Co6vvq"
   },
   "outputs": [
    {
     "name": "stdout",
     "output_type": "stream",
     "text": [
      "50/50 [==============================] - 3s 54ms/step - loss: 1.0441 - accuracy: 0.8460\n"
     ]
    },
    {
     "data": {
      "text/plain": [
       "[1.0441482067108154, 0.8460000157356262]"
      ]
     },
     "execution_count": 9,
     "metadata": {},
     "output_type": "execute_result"
    }
   ],
   "source": [
    "model.evaluate(test_generator)"
   ]
  },
  {
   "cell_type": "code",
   "execution_count": 10,
   "metadata": {},
   "outputs": [
    {
     "data": {
      "text/plain": [
       "<matplotlib.legend.Legend at 0x18824108400>"
      ]
     },
     "execution_count": 10,
     "metadata": {},
     "output_type": "execute_result"
    },
    {
     "data": {
      "image/png": "[encoded data removed]",
      "text/plain": [
       "<Figure size 1152x360 with 2 Axes>"
      ]
     },
     "metadata": {
      "needs_background": "light"
     },
     "output_type": "display_data"
    }
   ],
   "source": [
    "# 모델 학습 과정 시각화\n",
    "plt.figure(figsize=(16,5))\n",
    "\n",
    "plt.subplot(1, 2, 1)\n",
    "plt.plot(history.history['loss'])\n",
    "plt.plot(history.history['val_loss'])\n",
    "plt.title('model loss')\n",
    "plt.ylabel('loss')\n",
    "plt.xlabel('epoch')\n",
    "plt.legend(['train', 'validation'], loc=0)\n",
    "\n",
    "plt.subplot(1, 2, 2)\n",
    "plt.plot(history.history['accuracy'])\n",
    "plt.plot(history.history['val_accuracy'])\n",
    "plt.title('model accuracy')\n",
    "plt.ylabel('accuracy')\n",
    "plt.xlabel('epoch')\n",
    "plt.legend(['train', 'validation'], loc=0)"
   ]
  },
  {
   "cell_type": "code",
   "execution_count": 11,
   "metadata": {},
   "outputs": [],
   "source": [
    "model.save('./model/ResNet_3.h5')"
   ]
  },
  {
   "cell_type": "code",
   "execution_count": 12,
   "metadata": {},
   "outputs": [],
   "source": [
    "import cv2"
   ]
  },
  {
   "cell_type": "code",
   "execution_count": 13,
   "metadata": {},
   "outputs": [
    {
     "data": {
      "text/plain": [
       "array([[5.4493546e-04, 8.4738910e-01, 5.7727890e-04, 1.2943087e-02,\n",
       "        2.9743118e-03, 4.6326715e-02, 4.1982438e-04, 2.5948187e-04,\n",
       "        8.8267297e-02, 2.9793126e-04]], dtype=float32)"
      ]
     },
     "execution_count": 13,
     "metadata": {},
     "output_type": "execute_result"
    }
   ],
   "source": [
    "# 새로운 데이터로 예측 결과 확인\n",
    "test_img = cv2.imread('./123.jpg')\n",
    "test_img = cv2.cvtColor(test_img, cv2.COLOR_BGR2RGB)\n",
    "test_img = cv2.resize(test_img,(64,64))/255.0\n",
    "test_img = test_img.reshape((1,)+test_img.shape)\n",
    "pred = model.predict(test_img)\n",
    "pred"
   ]
  },
  {
   "cell_type": "code",
   "execution_count": 14,
   "metadata": {},
   "outputs": [
    {
     "data": {
      "text/plain": [
       "1"
      ]
     },
     "execution_count": 14,
     "metadata": {},
     "output_type": "execute_result"
    }
   ],
   "source": [
    "pred.argmax()"
   ]
  },
  {
   "cell_type": "code",
   "execution_count": 15,
   "metadata": {},
   "outputs": [
    {
     "data": {
      "text/plain": [
       "{'갈아만든배': 0,\n",
       " '레쓰비': 1,\n",
       " '마운틴듀': 2,\n",
       " '밀키스': 3,\n",
       " '스프라이트': 4,\n",
       " '칠성사이다': 5,\n",
       " '코카콜라': 6,\n",
       " '트로피카나망고': 7,\n",
       " '펩시콜라': 8,\n",
       " '환타오렌지': 9}"
      ]
     },
     "execution_count": 15,
     "metadata": {},
     "output_type": "execute_result"
    }
   ],
   "source": [
    "train_generator.class_indices"
   ]
  },
  {
   "cell_type": "code",
   "execution_count": 16,
   "metadata": {},
   "outputs": [
    {
     "data": {
      "text/plain": [
       "{0: '갈아만든배',\n",
       " 1: '레쓰비',\n",
       " 2: '마운틴듀',\n",
       " 3: '밀키스',\n",
       " 4: '스프라이트',\n",
       " 5: '칠성사이다',\n",
       " 6: '코카콜라',\n",
       " 7: '트로피카나망고',\n",
       " 8: '펩시콜라',\n",
       " 9: '환타오렌지'}"
      ]
     },
     "execution_count": 16,
     "metadata": {},
     "output_type": "execute_result"
    }
   ],
   "source": [
    "result_dict = dict(map(reversed, train_generator.class_indices.items()))\n",
    "# 딕셔너리의 key, values 뒤집기\n",
    "result_dict"
   ]
  },
  {
   "cell_type": "code",
   "execution_count": 17,
   "metadata": {},
   "outputs": [
    {
     "data": {
      "text/plain": [
       "'레쓰비'"
      ]
     },
     "execution_count": 17,
     "metadata": {},
     "output_type": "execute_result"
    }
   ],
   "source": [
    "result_dict[pred.argmax()]"
   ]
  },
  {
   "cell_type": "code",
   "execution_count": 18,
   "metadata": {},
   "outputs": [
    {
     "data": {
      "text/plain": [
       "['갈아만든배',\n",
       " '레쓰비',\n",
       " '마운틴듀',\n",
       " '밀키스',\n",
       " '스프라이트',\n",
       " '칠성사이다',\n",
       " '코카콜라',\n",
       " '트로피카나망고',\n",
       " '펩시콜라',\n",
       " '환타오렌지']"
      ]
     },
     "execution_count": 18,
     "metadata": {},
     "output_type": "execute_result"
    }
   ],
   "source": [
    "categories = list(result_dict.values())\n",
    "# 딕셔너리의 value 값을 리스트로 받기\n",
    "categories"
   ]
  },
  {
   "cell_type": "code",
   "execution_count": 19,
   "metadata": {},
   "outputs": [],
   "source": [
    "import matplotlib.pyplot as plt\n",
    "plt.rcParams['font.family'] = 'Malgun Gothic'\n",
    "# from tensorflow.keras.models import load_model\n",
    "# model = load_model('./VGG16_1.h5')"
   ]
  },
  {
   "cell_type": "code",
   "execution_count": 20,
   "metadata": {},
   "outputs": [
    {
     "name": "stdout",
     "output_type": "stream",
     "text": [
      "-- Confusion Matrix --\n",
      "[[48  0  0  1  0  1  0  0  0  0]\n",
      " [ 0 44  0  2  0  0  0  0  4  0]\n",
      " [ 0  0 39  0  1 10  0  0  0  0]\n",
      " [ 0  0  0 47  1  2  0  0  0  0]\n",
      " [ 0  0  0  0  0 50  0  0  0  0]\n",
      " [ 0  0  0  0  0 50  0  0  0  0]\n",
      " [ 0  0  0  0  0  0 50  0  0  0]\n",
      " [ 0  0  0  0  0  0  0 50  0  0]\n",
      " [ 0  1  0  0  0  4  0  0 45  0]\n",
      " [ 0  0  0  0  0  0  0  0  0 50]]\n",
      "-- Classification Report --\n",
      "              precision    recall  f1-score   support\n",
      "\n",
      "       갈아만든배       1.00      0.96      0.98        50\n",
      "         레쓰비       0.98      0.88      0.93        50\n",
      "        마운틴듀       1.00      0.78      0.88        50\n",
      "         밀키스       0.94      0.94      0.94        50\n",
      "       스프라이트       0.00      0.00      0.00        50\n",
      "       칠성사이다       0.43      1.00      0.60        50\n",
      "        코카콜라       1.00      1.00      1.00        50\n",
      "     트로피카나망고       1.00      1.00      1.00        50\n",
      "        펩시콜라       0.92      0.90      0.91        50\n",
      "       환타오렌지       1.00      1.00      1.00        50\n",
      "\n",
      "    accuracy                           0.85       500\n",
      "   macro avg       0.83      0.85      0.82       500\n",
      "weighted avg       0.83      0.85      0.82       500\n",
      "\n"
     ]
    }
   ],
   "source": [
    "from sklearn.metrics import classification_report, confusion_matrix\n",
    "\n",
    "np.set_printoptions(precision=2)\n",
    "\n",
    "Y_pred = model.predict(test_generator)\n",
    "classes = test_generator.classes[test_generator.index_array]\n",
    "y_pred = np.argmax(Y_pred, axis=1)  # Returns maximum indices in each row\n",
    "\n",
    "class_names = categories\n",
    "\n",
    "print('-- Confusion Matrix --')\n",
    "print(confusion_matrix(classes, y_pred))\n",
    "\n",
    "\n",
    "\n",
    "print('-- Classification Report --')\n",
    "print(classification_report(classes, y_pred, target_names=class_names))"
   ]
  },
  {
   "cell_type": "code",
   "execution_count": 21,
   "metadata": {},
   "outputs": [
    {
     "data": {
      "text/plain": [
       "<AxesSubplot:>"
      ]
     },
     "execution_count": 21,
     "metadata": {},
     "output_type": "execute_result"
    },
    {
     "data": {
      "image/png": "[encoded data removed]",
      "text/plain": [
       "<Figure size 720x720 with 2 Axes>"
      ]
     },
     "metadata": {
      "needs_background": "light"
     },
     "output_type": "display_data"
    }
   ],
   "source": [
    "import seaborn as sns\n",
    "plt.figure(figsize=(10,10))\n",
    "sns.heatmap(confusion_matrix(classes, y_pred), annot=True, fmt='d',\n",
    "            xticklabels=categories,\n",
    "            yticklabels=categories)\n",
    "# 코랩에서 한글 도저히 안나오는듯\n",
    "# 뒤에부분은 로컬에서 주피터로 진행해서 히트맵뽑기"
   ]
  },
  {
   "cell_type": "code",
   "execution_count": null,
   "metadata": {},
   "outputs": [],
   "source": []
  }
 ],
 "metadata": {
  "accelerator": "GPU",
  "colab": {
   "authorship_tag": "ABX9TyONIIYtR9HyaXcLxiUlOk4S",
   "mount_file_id": "1UwH8ZrysM63hXlNGTKWgiDSkTArxxzP3",
   "name": "ResNet.ipynb",
   "provenance": []
  },
  "kernelspec": {
   "display_name": "Python 3 (ipykernel)",
   "language": "python",
   "name": "python3"
  },
  "language_info": {
   "codemirror_mode": {
    "name": "ipython",
    "version": 3
   },
   "file_extension": ".py",
   "mimetype": "text/x-python",
   "name": "python",
   "nbconvert_exporter": "python",
   "pygments_lexer": "ipython3",
   "version": "3.9.7"
  }
 },
 "nbformat": 4,
 "nbformat_minor": 1
}
