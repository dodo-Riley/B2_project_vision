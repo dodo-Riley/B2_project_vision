{
 "cells": [
  {
   "cell_type": "markdown",
   "metadata": {
    "id": "NUX05Eq-IpxJ"
   },
   "source": [
    "## 필요 모듈 불러오기"
   ]
  },
  {
   "cell_type": "code",
   "execution_count": 1,
   "metadata": {
    "executionInfo": {
     "elapsed": 236,
     "status": "ok",
     "timestamp": 1647845115124,
     "user": {
      "displayName": "김강산",
      "photoUrl": "https://lh3.googleusercontent.com/a/default-user=s64",
      "userId": "05796532777041092256"
     },
     "user_tz": -540
    },
    "id": "QD7V2m3Fti9L"
   },
   "outputs": [],
   "source": [
    "import tensorflow as tf\n",
    "import matplotlib.pyplot as plt\n",
    "import numpy as np\n",
    "import glob\n",
    "from PIL import Image\n",
    "from tensorflow import keras\n",
    "from keras.models import Sequential\n",
    "from keras.layers import Conv2D,Dense,Flatten,Dropout,MaxPooling2D\n",
    "from keras.callbacks import EarlyStopping, ModelCheckpoint\n",
    "from keras.preprocessing.image import ImageDataGenerator"
   ]
  },
  {
   "cell_type": "code",
   "execution_count": 2,
   "metadata": {
    "colab": {
     "base_uri": "https://localhost:8080/"
    },
    "executionInfo": {
     "elapsed": 388,
     "status": "ok",
     "timestamp": 1647843965051,
     "user": {
      "displayName": "김강산",
      "photoUrl": "https://lh3.googleusercontent.com/a/default-user=s64",
      "userId": "05796532777041092256"
     },
     "user_tz": -540
    },
    "id": "MfwZyrcFGZKd",
    "outputId": "5b6bbfb9-ce9e-4c8a-db20-889fa1d94d2a"
   },
   "outputs": [],
   "source": [
    "# len(glob.glob('/content/drive/MyDrive/안봐도보이조_project/train_10/*/*'))"
   ]
  },
  {
   "cell_type": "markdown",
   "metadata": {
    "id": "rHTs4wL3It1Z"
   },
   "source": [
    "## 이미지 생성기 선언"
   ]
  },
  {
   "cell_type": "code",
   "execution_count": 3,
   "metadata": {
    "colab": {
     "base_uri": "https://localhost:8080/"
    },
    "executionInfo": {
     "elapsed": 636,
     "status": "ok",
     "timestamp": 1647845117339,
     "user": {
      "displayName": "김강산",
      "photoUrl": "https://lh3.googleusercontent.com/a/default-user=s64",
      "userId": "05796532777041092256"
     },
     "user_tz": -540
    },
    "id": "Id5dlh09AE2q",
    "outputId": "0346269f-5a8f-43d6-8a40-3bfeee087391"
   },
   "outputs": [
    {
     "name": "stdout",
     "output_type": "stream",
     "text": [
      "Found 10529 images belonging to 10 classes.\n",
      "Found 1000 images belonging to 10 classes.\n",
      "Found 500 images belonging to 10 classes.\n"
     ]
    }
   ],
   "source": [
    "train_datagen = ImageDataGenerator( \n",
    "        rescale=1./255,         # 픽셀 값을 0~1 범위로 변환\n",
    "        rotation_range=40,      # 40도까지 회전\n",
    "        width_shift_range=0.2,  # 20%까지 좌우 이동\n",
    "        height_shift_range=0.2, # 20%까지 상하 이동\n",
    "        shear_range=0.2,        # 20%까지 기울임\n",
    "        zoom_range=0.2,         # 20%까지 확대\n",
    "        horizontal_flip=True,   # 좌우 뒤집기\n",
    "    )\n",
    "train_generator = train_datagen.flow_from_directory(\n",
    "    './train_10',\n",
    "    batch_size=50,      \n",
    "    class_mode='categorical', \n",
    "    target_size=(64, 64)) \n",
    "valid_datagen = ImageDataGenerator(rescale=1./255) # 스케일링만 진행\n",
    "valid_generator = valid_datagen.flow_from_directory(\n",
    "    './valid_10',\n",
    "    batch_size=20,      \n",
    "    class_mode='categorical', \n",
    "    target_size=(64, 64))\n",
    "test_datagen = ImageDataGenerator(rescale=1./255) # 스케일링만 진행\n",
    "test_generator = test_datagen.flow_from_directory(\n",
    "    './test_10',\n",
    "    batch_size=10,      \n",
    "    class_mode='categorical', \n",
    "    target_size=(64, 64), shuffle = False)"
   ]
  },
  {
   "cell_type": "markdown",
   "metadata": {
    "id": "F3IcHqRPIxG_"
   },
   "source": [
    "## 모델 생성 및 학습\n",
    "- ResNet50 모델 사용\n",
    "- early_stopping, modelcheckpoint 적용"
   ]
  },
  {
   "cell_type": "code",
   "execution_count": 4,
   "metadata": {
    "colab": {
     "base_uri": "https://localhost:8080/"
    },
    "executionInfo": {
     "elapsed": 2620,
     "status": "ok",
     "timestamp": 1647845127178,
     "user": {
      "displayName": "김강산",
      "photoUrl": "https://lh3.googleusercontent.com/a/default-user=s64",
      "userId": "05796532777041092256"
     },
     "user_tz": -540
    },
    "id": "HnszNlS5wFvY",
    "outputId": "320f7433-7f22-43d1-96ac-0fae856e6b7c"
   },
   "outputs": [
    {
     "name": "stdout",
     "output_type": "stream",
     "text": [
      "Model: \"sequential\"\n",
      "_________________________________________________________________\n",
      " Layer (type)                Output Shape              Param #   \n",
      "=================================================================\n",
      " resnet50 (Functional)       (None, 2, 2, 2048)        23587712  \n",
      "                                                                 \n",
      " flatten (Flatten)           (None, 8192)              0         \n",
      "                                                                 \n",
      " dense (Dense)               (None, 10)                81930     \n",
      "                                                                 \n",
      "=================================================================\n",
      "Total params: 23,669,642\n",
      "Trainable params: 81,930\n",
      "Non-trainable params: 23,587,712\n",
      "_________________________________________________________________\n"
     ]
    }
   ],
   "source": [
    "resnet50 = tf.keras.applications.ResNet50(\n",
    "    include_top=False,\n",
    "    weights=\"imagenet\",\n",
    "    input_shape=(64 ,64 ,3))\n",
    "\n",
    "resnet50.trainable = False\n",
    "model = Sequential()\n",
    "model.add(resnet50)\n",
    "model.add(Flatten())\n",
    "model.add(Dense(10, activation='softmax'))\n",
    "model.summary()"
   ]
  },
  {
   "cell_type": "code",
   "execution_count": 5,
   "metadata": {
    "executionInfo": {
     "elapsed": 3,
     "status": "ok",
     "timestamp": 1647845154433,
     "user": {
      "displayName": "김강산",
      "photoUrl": "https://lh3.googleusercontent.com/a/default-user=s64",
      "userId": "05796532777041092256"
     },
     "user_tz": -540
    },
    "id": "_mNRFMWFxqGy"
   },
   "outputs": [],
   "source": [
    "model.compile(optimizer = 'adam',\n",
    "              loss = 'categorical_crossentropy',\n",
    "              metrics = ['accuracy'])"
   ]
  },
  {
   "cell_type": "markdown",
   "metadata": {},
   "source": [
    "- optimizer의 learning rate 조절해보기"
   ]
  },
  {
   "cell_type": "code",
   "execution_count": 6,
   "metadata": {
    "executionInfo": {
     "elapsed": 12,
     "status": "ok",
     "timestamp": 1647845157029,
     "user": {
      "displayName": "김강산",
      "photoUrl": "https://lh3.googleusercontent.com/a/default-user=s64",
      "userId": "05796532777041092256"
     },
     "user_tz": -540
    },
    "id": "fj54z9JIJX9u"
   },
   "outputs": [],
   "source": [
    "#early_stopping\n",
    "early_stopping_callback = EarlyStopping(monitor='val_loss', patience=30)"
   ]
  },
  {
   "cell_type": "code",
   "execution_count": 7,
   "metadata": {
    "executionInfo": {
     "elapsed": 3,
     "status": "ok",
     "timestamp": 1647845157293,
     "user": {
      "displayName": "김강산",
      "photoUrl": "https://lh3.googleusercontent.com/a/default-user=s64",
      "userId": "05796532777041092256"
     },
     "user_tz": -540
    },
    "id": "aDoNLCoeNfAn"
   },
   "outputs": [],
   "source": [
    "# model_path = './model/RedNet50.hdf5'\n",
    "\n",
    "# checkpointer = ModelCheckpoint(filepath=model_path, monitor='val_loss', \n",
    "#                                verbose=1, save_best_only=True)"
   ]
  },
  {
   "cell_type": "code",
   "execution_count": 8,
   "metadata": {
    "colab": {
     "base_uri": "https://localhost:8080/"
    },
    "id": "kK4NTYo04R2h",
    "outputId": "765f8e93-6ba3-4e7d-80bd-070d07649d96"
   },
   "outputs": [
    {
     "name": "stdout",
     "output_type": "stream",
     "text": [
      "Epoch 1/1000\n",
      "210/210 [==============================] - 38s 172ms/step - loss: 2.2018 - accuracy: 0.1869 - val_loss: 2.1451 - val_accuracy: 0.2010\n",
      "Epoch 2/1000\n",
      "210/210 [==============================] - 36s 170ms/step - loss: 2.0765 - accuracy: 0.2443 - val_loss: 2.0622 - val_accuracy: 0.2470\n",
      "Epoch 3/1000\n",
      "210/210 [==============================] - 36s 169ms/step - loss: 2.0293 - accuracy: 0.2596 - val_loss: 2.0088 - val_accuracy: 0.2480\n",
      "Epoch 4/1000\n",
      "210/210 [==============================] - 36s 170ms/step - loss: 1.9791 - accuracy: 0.2892 - val_loss: 1.9301 - val_accuracy: 0.2890\n",
      "Epoch 5/1000\n",
      "210/210 [==============================] - 36s 171ms/step - loss: 1.9558 - accuracy: 0.2960 - val_loss: 1.9404 - val_accuracy: 0.3070\n",
      "Epoch 6/1000\n",
      "210/210 [==============================] - 36s 171ms/step - loss: 1.9211 - accuracy: 0.3170 - val_loss: 1.8876 - val_accuracy: 0.3210\n",
      "Epoch 7/1000\n",
      "210/210 [==============================] - 36s 170ms/step - loss: 1.8933 - accuracy: 0.3235 - val_loss: 1.8983 - val_accuracy: 0.3110\n",
      "Epoch 8/1000\n",
      "210/210 [==============================] - 36s 170ms/step - loss: 1.8699 - accuracy: 0.3365 - val_loss: 1.8808 - val_accuracy: 0.3010\n",
      "Epoch 9/1000\n",
      "210/210 [==============================] - 36s 172ms/step - loss: 1.8620 - accuracy: 0.3409 - val_loss: 1.8481 - val_accuracy: 0.3550\n",
      "Epoch 10/1000\n",
      "210/210 [==============================] - 36s 172ms/step - loss: 1.8430 - accuracy: 0.3517 - val_loss: 1.8061 - val_accuracy: 0.3990\n",
      "Epoch 11/1000\n",
      "210/210 [==============================] - 36s 171ms/step - loss: 1.8298 - accuracy: 0.3477 - val_loss: 1.7839 - val_accuracy: 0.3690\n",
      "Epoch 12/1000\n",
      "210/210 [==============================] - 36s 172ms/step - loss: 1.8166 - accuracy: 0.3544 - val_loss: 1.7641 - val_accuracy: 0.3830\n",
      "Epoch 13/1000\n",
      "210/210 [==============================] - 36s 170ms/step - loss: 1.8014 - accuracy: 0.3655 - val_loss: 1.7548 - val_accuracy: 0.3980\n",
      "Epoch 14/1000\n",
      "210/210 [==============================] - 36s 174ms/step - loss: 1.7881 - accuracy: 0.3752 - val_loss: 1.7493 - val_accuracy: 0.3900\n",
      "Epoch 15/1000\n",
      "210/210 [==============================] - 37s 174ms/step - loss: 1.7608 - accuracy: 0.3809 - val_loss: 1.7445 - val_accuracy: 0.3830\n",
      "Epoch 16/1000\n",
      "210/210 [==============================] - 36s 171ms/step - loss: 1.7641 - accuracy: 0.3788 - val_loss: 1.7273 - val_accuracy: 0.4160\n",
      "Epoch 17/1000\n",
      "210/210 [==============================] - 36s 173ms/step - loss: 1.7645 - accuracy: 0.3778 - val_loss: 1.7450 - val_accuracy: 0.4030\n",
      "Epoch 18/1000\n",
      "210/210 [==============================] - 36s 173ms/step - loss: 1.7323 - accuracy: 0.3860 - val_loss: 1.7066 - val_accuracy: 0.4080\n",
      "Epoch 19/1000\n",
      "210/210 [==============================] - 36s 171ms/step - loss: 1.7390 - accuracy: 0.3914 - val_loss: 1.7037 - val_accuracy: 0.4160\n",
      "Epoch 20/1000\n",
      "210/210 [==============================] - 37s 175ms/step - loss: 1.7261 - accuracy: 0.3889 - val_loss: 1.6768 - val_accuracy: 0.4390\n",
      "Epoch 21/1000\n",
      "210/210 [==============================] - 37s 178ms/step - loss: 1.7135 - accuracy: 0.3932 - val_loss: 1.7332 - val_accuracy: 0.4050\n",
      "Epoch 22/1000\n",
      "210/210 [==============================] - 37s 177ms/step - loss: 1.7112 - accuracy: 0.3975 - val_loss: 1.6772 - val_accuracy: 0.4020\n",
      "Epoch 23/1000\n",
      "210/210 [==============================] - 37s 175ms/step - loss: 1.6900 - accuracy: 0.4001 - val_loss: 1.7091 - val_accuracy: 0.4290\n",
      "Epoch 24/1000\n",
      "210/210 [==============================] - 37s 176ms/step - loss: 1.6941 - accuracy: 0.4043 - val_loss: 1.6430 - val_accuracy: 0.4270\n",
      "Epoch 25/1000\n",
      "210/210 [==============================] - 37s 175ms/step - loss: 1.6822 - accuracy: 0.4069 - val_loss: 1.6222 - val_accuracy: 0.4410\n",
      "Epoch 26/1000\n",
      "210/210 [==============================] - 37s 175ms/step - loss: 1.6706 - accuracy: 0.4132 - val_loss: 1.6733 - val_accuracy: 0.4250\n",
      "Epoch 27/1000\n",
      "210/210 [==============================] - 37s 176ms/step - loss: 1.6748 - accuracy: 0.4085 - val_loss: 1.6448 - val_accuracy: 0.4590\n",
      "Epoch 28/1000\n",
      "210/210 [==============================] - 37s 175ms/step - loss: 1.6699 - accuracy: 0.4135 - val_loss: 1.6298 - val_accuracy: 0.4510\n",
      "Epoch 29/1000\n",
      "210/210 [==============================] - 37s 176ms/step - loss: 1.6586 - accuracy: 0.4150 - val_loss: 1.6569 - val_accuracy: 0.4360\n",
      "Epoch 30/1000\n",
      "210/210 [==============================] - 37s 176ms/step - loss: 1.6663 - accuracy: 0.4092 - val_loss: 1.6200 - val_accuracy: 0.4370\n",
      "Epoch 31/1000\n",
      "210/210 [==============================] - 37s 174ms/step - loss: 1.6505 - accuracy: 0.4172 - val_loss: 1.6518 - val_accuracy: 0.4430\n",
      "Epoch 32/1000\n",
      "210/210 [==============================] - 37s 175ms/step - loss: 1.6439 - accuracy: 0.4228 - val_loss: 1.5926 - val_accuracy: 0.4540\n",
      "Epoch 33/1000\n",
      "210/210 [==============================] - 37s 177ms/step - loss: 1.6283 - accuracy: 0.4284 - val_loss: 1.5844 - val_accuracy: 0.4470\n",
      "Epoch 34/1000\n",
      "210/210 [==============================] - 37s 177ms/step - loss: 1.6333 - accuracy: 0.4219 - val_loss: 1.5817 - val_accuracy: 0.4570\n",
      "Epoch 35/1000\n",
      "210/210 [==============================] - 37s 176ms/step - loss: 1.6270 - accuracy: 0.4272 - val_loss: 1.5796 - val_accuracy: 0.4690\n",
      "Epoch 36/1000\n",
      "210/210 [==============================] - 37s 176ms/step - loss: 1.6229 - accuracy: 0.4292 - val_loss: 1.5971 - val_accuracy: 0.4570\n",
      "Epoch 37/1000\n",
      "210/210 [==============================] - 37s 176ms/step - loss: 1.6147 - accuracy: 0.4304 - val_loss: 1.5997 - val_accuracy: 0.4510\n",
      "Epoch 38/1000\n",
      "210/210 [==============================] - 37s 177ms/step - loss: 1.6209 - accuracy: 0.4256 - val_loss: 1.5567 - val_accuracy: 0.4810\n",
      "Epoch 39/1000\n",
      "210/210 [==============================] - 37s 178ms/step - loss: 1.6090 - accuracy: 0.4334 - val_loss: 1.5483 - val_accuracy: 0.4660\n",
      "Epoch 40/1000\n",
      "210/210 [==============================] - 38s 179ms/step - loss: 1.6190 - accuracy: 0.4317 - val_loss: 1.5164 - val_accuracy: 0.4930\n",
      "Epoch 41/1000\n",
      "210/210 [==============================] - 37s 177ms/step - loss: 1.6174 - accuracy: 0.4257 - val_loss: 1.5502 - val_accuracy: 0.4570\n",
      "Epoch 42/1000\n",
      "210/210 [==============================] - 37s 177ms/step - loss: 1.6047 - accuracy: 0.4345 - val_loss: 1.5774 - val_accuracy: 0.4550\n",
      "Epoch 43/1000\n",
      "210/210 [==============================] - 37s 177ms/step - loss: 1.6038 - accuracy: 0.4348 - val_loss: 1.6127 - val_accuracy: 0.4490\n",
      "Epoch 44/1000\n",
      "210/210 [==============================] - 37s 176ms/step - loss: 1.5985 - accuracy: 0.4335 - val_loss: 1.5505 - val_accuracy: 0.4760\n",
      "Epoch 45/1000\n",
      "210/210 [==============================] - 38s 179ms/step - loss: 1.5878 - accuracy: 0.4453 - val_loss: 1.5737 - val_accuracy: 0.4540\n",
      "Epoch 46/1000\n",
      "210/210 [==============================] - 37s 177ms/step - loss: 1.6077 - accuracy: 0.4347 - val_loss: 1.5391 - val_accuracy: 0.4810\n",
      "Epoch 47/1000\n",
      "210/210 [==============================] - 37s 176ms/step - loss: 1.5776 - accuracy: 0.4482 - val_loss: 1.5594 - val_accuracy: 0.4680\n",
      "Epoch 48/1000\n",
      "210/210 [==============================] - 37s 177ms/step - loss: 1.5855 - accuracy: 0.4391 - val_loss: 1.5444 - val_accuracy: 0.4760\n",
      "Epoch 49/1000\n",
      "210/210 [==============================] - 38s 178ms/step - loss: 1.5786 - accuracy: 0.4393 - val_loss: 1.5460 - val_accuracy: 0.4670\n",
      "Epoch 50/1000\n",
      "210/210 [==============================] - 38s 179ms/step - loss: 1.5858 - accuracy: 0.4457 - val_loss: 1.5664 - val_accuracy: 0.4340\n",
      "Epoch 51/1000\n",
      "210/210 [==============================] - 37s 177ms/step - loss: 1.5866 - accuracy: 0.4336 - val_loss: 1.5561 - val_accuracy: 0.4530\n",
      "Epoch 52/1000\n",
      "210/210 [==============================] - 37s 178ms/step - loss: 1.5843 - accuracy: 0.4330 - val_loss: 1.5997 - val_accuracy: 0.4460\n",
      "Epoch 53/1000\n",
      "210/210 [==============================] - 37s 177ms/step - loss: 1.5664 - accuracy: 0.4518 - val_loss: 1.5353 - val_accuracy: 0.4970\n",
      "Epoch 54/1000\n",
      "210/210 [==============================] - 37s 177ms/step - loss: 1.5511 - accuracy: 0.4486 - val_loss: 1.5431 - val_accuracy: 0.4640\n",
      "Epoch 55/1000\n",
      "210/210 [==============================] - 37s 175ms/step - loss: 1.5591 - accuracy: 0.4516 - val_loss: 1.5427 - val_accuracy: 0.4920\n",
      "Epoch 56/1000\n",
      "210/210 [==============================] - 37s 174ms/step - loss: 1.5596 - accuracy: 0.4508 - val_loss: 1.5455 - val_accuracy: 0.4800\n",
      "Epoch 57/1000\n",
      "210/210 [==============================] - 37s 174ms/step - loss: 1.5597 - accuracy: 0.4501 - val_loss: 1.5505 - val_accuracy: 0.4540\n",
      "Epoch 58/1000\n",
      "210/210 [==============================] - 37s 176ms/step - loss: 1.5555 - accuracy: 0.4530 - val_loss: 1.5167 - val_accuracy: 0.4710\n",
      "Epoch 59/1000\n",
      "210/210 [==============================] - 37s 175ms/step - loss: 1.5496 - accuracy: 0.4526 - val_loss: 1.5512 - val_accuracy: 0.4510\n",
      "Epoch 60/1000\n",
      "210/210 [==============================] - 37s 175ms/step - loss: 1.5435 - accuracy: 0.4567 - val_loss: 1.5407 - val_accuracy: 0.4520\n",
      "Epoch 61/1000\n",
      "210/210 [==============================] - 36s 173ms/step - loss: 1.5512 - accuracy: 0.4547 - val_loss: 1.5441 - val_accuracy: 0.4700\n",
      "Epoch 62/1000\n",
      "210/210 [==============================] - 36s 173ms/step - loss: 1.5445 - accuracy: 0.4594 - val_loss: 1.5153 - val_accuracy: 0.4830\n",
      "Epoch 63/1000\n",
      "210/210 [==============================] - 36s 171ms/step - loss: 1.5479 - accuracy: 0.4490 - val_loss: 1.4834 - val_accuracy: 0.4980\n",
      "Epoch 64/1000\n",
      "210/210 [==============================] - 36s 171ms/step - loss: 1.5420 - accuracy: 0.4520 - val_loss: 1.5900 - val_accuracy: 0.4480\n",
      "Epoch 65/1000\n",
      "210/210 [==============================] - 36s 171ms/step - loss: 1.5357 - accuracy: 0.4581 - val_loss: 1.4744 - val_accuracy: 0.4970\n",
      "Epoch 66/1000\n",
      "210/210 [==============================] - 36s 171ms/step - loss: 1.5427 - accuracy: 0.4558 - val_loss: 1.4890 - val_accuracy: 0.4830\n",
      "Epoch 67/1000\n",
      "210/210 [==============================] - 36s 171ms/step - loss: 1.5348 - accuracy: 0.4594 - val_loss: 1.5055 - val_accuracy: 0.4810\n",
      "Epoch 68/1000\n",
      "210/210 [==============================] - 36s 171ms/step - loss: 1.5312 - accuracy: 0.4569 - val_loss: 1.5056 - val_accuracy: 0.4780\n",
      "Epoch 69/1000\n",
      "210/210 [==============================] - 36s 170ms/step - loss: 1.5289 - accuracy: 0.4580 - val_loss: 1.5280 - val_accuracy: 0.4720\n",
      "Epoch 70/1000\n",
      "210/210 [==============================] - 36s 170ms/step - loss: 1.5271 - accuracy: 0.4622 - val_loss: 1.4802 - val_accuracy: 0.4850\n",
      "Epoch 71/1000\n",
      "210/210 [==============================] - 36s 173ms/step - loss: 1.5410 - accuracy: 0.4576 - val_loss: 1.5004 - val_accuracy: 0.4930\n",
      "Epoch 72/1000\n",
      "210/210 [==============================] - 36s 173ms/step - loss: 1.5242 - accuracy: 0.4684 - val_loss: 1.5233 - val_accuracy: 0.4570\n",
      "Epoch 73/1000\n",
      "210/210 [==============================] - 36s 174ms/step - loss: 1.5267 - accuracy: 0.4635 - val_loss: 1.5237 - val_accuracy: 0.5030\n",
      "Epoch 74/1000\n",
      "210/210 [==============================] - 37s 174ms/step - loss: 1.5200 - accuracy: 0.4645 - val_loss: 1.4627 - val_accuracy: 0.4820\n",
      "Epoch 75/1000\n",
      "210/210 [==============================] - 37s 174ms/step - loss: 1.5229 - accuracy: 0.4584 - val_loss: 1.5398 - val_accuracy: 0.4670\n",
      "Epoch 76/1000\n",
      "210/210 [==============================] - 37s 174ms/step - loss: 1.5202 - accuracy: 0.4606 - val_loss: 1.5082 - val_accuracy: 0.4850\n",
      "Epoch 77/1000\n",
      "210/210 [==============================] - 36s 174ms/step - loss: 1.5273 - accuracy: 0.4578 - val_loss: 1.4970 - val_accuracy: 0.4870\n",
      "Epoch 78/1000\n",
      "210/210 [==============================] - 36s 173ms/step - loss: 1.5033 - accuracy: 0.4683 - val_loss: 1.5042 - val_accuracy: 0.4860\n",
      "Epoch 79/1000\n",
      "210/210 [==============================] - 37s 175ms/step - loss: 1.5063 - accuracy: 0.4681 - val_loss: 1.5295 - val_accuracy: 0.4860\n",
      "Epoch 80/1000\n",
      "210/210 [==============================] - 37s 174ms/step - loss: 1.5223 - accuracy: 0.4664 - val_loss: 1.5292 - val_accuracy: 0.4520\n",
      "Epoch 81/1000\n",
      "210/210 [==============================] - 37s 174ms/step - loss: 1.5069 - accuracy: 0.4682 - val_loss: 1.4725 - val_accuracy: 0.4900\n",
      "Epoch 82/1000\n",
      "210/210 [==============================] - 37s 174ms/step - loss: 1.5002 - accuracy: 0.4709 - val_loss: 1.5471 - val_accuracy: 0.4660\n",
      "Epoch 83/1000\n",
      "210/210 [==============================] - 37s 174ms/step - loss: 1.5056 - accuracy: 0.4692 - val_loss: 1.4840 - val_accuracy: 0.5050\n",
      "Epoch 84/1000\n",
      "210/210 [==============================] - 37s 177ms/step - loss: 1.5039 - accuracy: 0.4662 - val_loss: 1.4847 - val_accuracy: 0.4770\n",
      "Epoch 85/1000\n",
      "210/210 [==============================] - 37s 175ms/step - loss: 1.4932 - accuracy: 0.4681 - val_loss: 1.4897 - val_accuracy: 0.4800\n",
      "Epoch 86/1000\n",
      "210/210 [==============================] - 36s 170ms/step - loss: 1.4986 - accuracy: 0.4740 - val_loss: 1.4418 - val_accuracy: 0.5050\n",
      "Epoch 87/1000\n",
      "210/210 [==============================] - 36s 172ms/step - loss: 1.5165 - accuracy: 0.4648 - val_loss: 1.4992 - val_accuracy: 0.4580\n",
      "Epoch 88/1000\n",
      "210/210 [==============================] - 36s 172ms/step - loss: 1.4873 - accuracy: 0.4730 - val_loss: 1.4997 - val_accuracy: 0.4820\n",
      "Epoch 89/1000\n",
      "210/210 [==============================] - 36s 173ms/step - loss: 1.4867 - accuracy: 0.4767 - val_loss: 1.5015 - val_accuracy: 0.4660\n",
      "Epoch 90/1000\n",
      "210/210 [==============================] - 36s 172ms/step - loss: 1.4956 - accuracy: 0.4737 - val_loss: 1.4980 - val_accuracy: 0.4720\n",
      "Epoch 91/1000\n",
      "210/210 [==============================] - 36s 172ms/step - loss: 1.5086 - accuracy: 0.4637 - val_loss: 1.4771 - val_accuracy: 0.4960\n",
      "Epoch 92/1000\n",
      "210/210 [==============================] - 36s 172ms/step - loss: 1.4941 - accuracy: 0.4636 - val_loss: 1.5061 - val_accuracy: 0.4880\n",
      "Epoch 93/1000\n",
      "210/210 [==============================] - 36s 172ms/step - loss: 1.5060 - accuracy: 0.4666 - val_loss: 1.4837 - val_accuracy: 0.4870\n",
      "Epoch 94/1000\n",
      "210/210 [==============================] - 36s 171ms/step - loss: 1.4887 - accuracy: 0.4764 - val_loss: 1.4739 - val_accuracy: 0.4970\n",
      "Epoch 95/1000\n",
      "210/210 [==============================] - 36s 171ms/step - loss: 1.4718 - accuracy: 0.4790 - val_loss: 1.4714 - val_accuracy: 0.4890\n",
      "Epoch 96/1000\n",
      "210/210 [==============================] - 37s 174ms/step - loss: 1.4900 - accuracy: 0.4711 - val_loss: 1.4632 - val_accuracy: 0.4930\n",
      "Epoch 97/1000\n",
      "210/210 [==============================] - 36s 173ms/step - loss: 1.4780 - accuracy: 0.4791 - val_loss: 1.4853 - val_accuracy: 0.4760\n",
      "Epoch 98/1000\n",
      "210/210 [==============================] - 37s 174ms/step - loss: 1.4907 - accuracy: 0.4754 - val_loss: 1.4850 - val_accuracy: 0.5010\n",
      "Epoch 99/1000\n",
      "210/210 [==============================] - 37s 176ms/step - loss: 1.4971 - accuracy: 0.4692 - val_loss: 1.4623 - val_accuracy: 0.4870\n",
      "Epoch 100/1000\n",
      "210/210 [==============================] - 38s 180ms/step - loss: 1.4764 - accuracy: 0.4754 - val_loss: 1.4959 - val_accuracy: 0.4720\n",
      "Epoch 101/1000\n",
      "210/210 [==============================] - 38s 180ms/step - loss: 1.4867 - accuracy: 0.4758 - val_loss: 1.5129 - val_accuracy: 0.4590\n",
      "Epoch 102/1000\n",
      "210/210 [==============================] - 36s 173ms/step - loss: 1.4669 - accuracy: 0.4819 - val_loss: 1.4773 - val_accuracy: 0.4940\n",
      "Epoch 103/1000\n",
      "210/210 [==============================] - 37s 174ms/step - loss: 1.4734 - accuracy: 0.4806 - val_loss: 1.4878 - val_accuracy: 0.4790\n",
      "Epoch 104/1000\n",
      "210/210 [==============================] - 37s 177ms/step - loss: 1.4741 - accuracy: 0.4810 - val_loss: 1.4968 - val_accuracy: 0.4810\n",
      "Epoch 105/1000\n",
      "210/210 [==============================] - 38s 179ms/step - loss: 1.4695 - accuracy: 0.4792 - val_loss: 1.4667 - val_accuracy: 0.4950\n",
      "Epoch 106/1000\n",
      "210/210 [==============================] - 38s 180ms/step - loss: 1.4856 - accuracy: 0.4747 - val_loss: 1.4529 - val_accuracy: 0.5070\n",
      "Epoch 107/1000\n",
      "210/210 [==============================] - 37s 177ms/step - loss: 1.4684 - accuracy: 0.4794 - val_loss: 1.4266 - val_accuracy: 0.5070\n",
      "Epoch 108/1000\n",
      "210/210 [==============================] - 38s 181ms/step - loss: 1.4625 - accuracy: 0.4877 - val_loss: 1.4408 - val_accuracy: 0.4970\n",
      "Epoch 109/1000\n",
      "210/210 [==============================] - 37s 178ms/step - loss: 1.4748 - accuracy: 0.4759 - val_loss: 1.5058 - val_accuracy: 0.4800\n",
      "Epoch 110/1000\n",
      "210/210 [==============================] - 38s 179ms/step - loss: 1.4710 - accuracy: 0.4799 - val_loss: 1.4557 - val_accuracy: 0.4990\n",
      "Epoch 111/1000\n"
     ]
    },
    {
     "name": "stdout",
     "output_type": "stream",
     "text": [
      "210/210 [==============================] - 38s 182ms/step - loss: 1.4628 - accuracy: 0.4832 - val_loss: 1.4337 - val_accuracy: 0.4940\n",
      "Epoch 112/1000\n",
      "210/210 [==============================] - 38s 182ms/step - loss: 1.4657 - accuracy: 0.4854 - val_loss: 1.3912 - val_accuracy: 0.5150\n",
      "Epoch 113/1000\n",
      "210/210 [==============================] - 38s 182ms/step - loss: 1.4549 - accuracy: 0.4833 - val_loss: 1.4654 - val_accuracy: 0.4930\n",
      "Epoch 114/1000\n",
      "210/210 [==============================] - 38s 181ms/step - loss: 1.4537 - accuracy: 0.4867 - val_loss: 1.4266 - val_accuracy: 0.5180\n",
      "Epoch 115/1000\n",
      "210/210 [==============================] - 37s 175ms/step - loss: 1.4629 - accuracy: 0.4852 - val_loss: 1.4274 - val_accuracy: 0.5050\n",
      "Epoch 116/1000\n",
      "210/210 [==============================] - 36s 172ms/step - loss: 1.4641 - accuracy: 0.4842 - val_loss: 1.4623 - val_accuracy: 0.5020\n",
      "Epoch 117/1000\n",
      "210/210 [==============================] - 37s 174ms/step - loss: 1.4426 - accuracy: 0.4912 - val_loss: 1.4537 - val_accuracy: 0.4880\n",
      "Epoch 118/1000\n",
      "210/210 [==============================] - 36s 171ms/step - loss: 1.4587 - accuracy: 0.4859 - val_loss: 1.5034 - val_accuracy: 0.4740\n",
      "Epoch 119/1000\n",
      "210/210 [==============================] - 36s 172ms/step - loss: 1.4536 - accuracy: 0.4898 - val_loss: 1.4165 - val_accuracy: 0.5130\n",
      "Epoch 120/1000\n",
      "210/210 [==============================] - 36s 173ms/step - loss: 1.4542 - accuracy: 0.4886 - val_loss: 1.4650 - val_accuracy: 0.4840\n",
      "Epoch 121/1000\n",
      "210/210 [==============================] - 36s 173ms/step - loss: 1.4450 - accuracy: 0.4885 - val_loss: 1.4214 - val_accuracy: 0.5140\n",
      "Epoch 122/1000\n",
      "210/210 [==============================] - 37s 174ms/step - loss: 1.4483 - accuracy: 0.4870 - val_loss: 1.4669 - val_accuracy: 0.4850\n",
      "Epoch 123/1000\n",
      "210/210 [==============================] - 37s 174ms/step - loss: 1.4557 - accuracy: 0.4782 - val_loss: 1.4624 - val_accuracy: 0.4870\n",
      "Epoch 124/1000\n",
      "210/210 [==============================] - 38s 181ms/step - loss: 1.4474 - accuracy: 0.4910 - val_loss: 1.4569 - val_accuracy: 0.5000\n",
      "Epoch 125/1000\n",
      "210/210 [==============================] - 37s 177ms/step - loss: 1.4455 - accuracy: 0.4875 - val_loss: 1.4377 - val_accuracy: 0.4930\n",
      "Epoch 126/1000\n",
      "210/210 [==============================] - 37s 176ms/step - loss: 1.4516 - accuracy: 0.4840 - val_loss: 1.4892 - val_accuracy: 0.4810\n",
      "Epoch 127/1000\n",
      "210/210 [==============================] - 37s 175ms/step - loss: 1.4467 - accuracy: 0.4832 - val_loss: 1.4346 - val_accuracy: 0.4940\n",
      "Epoch 128/1000\n",
      "210/210 [==============================] - 37s 175ms/step - loss: 1.4363 - accuracy: 0.4902 - val_loss: 1.4531 - val_accuracy: 0.5030\n",
      "Epoch 129/1000\n",
      "210/210 [==============================] - 37s 174ms/step - loss: 1.4349 - accuracy: 0.4946 - val_loss: 1.4568 - val_accuracy: 0.4890\n",
      "Epoch 130/1000\n",
      "210/210 [==============================] - 37s 175ms/step - loss: 1.4497 - accuracy: 0.4850 - val_loss: 1.4556 - val_accuracy: 0.4930\n",
      "Epoch 131/1000\n",
      "210/210 [==============================] - 38s 179ms/step - loss: 1.4366 - accuracy: 0.4949 - val_loss: 1.4434 - val_accuracy: 0.4910\n",
      "Epoch 132/1000\n",
      "210/210 [==============================] - 37s 177ms/step - loss: 1.4360 - accuracy: 0.4911 - val_loss: 1.5001 - val_accuracy: 0.4900\n",
      "Epoch 133/1000\n",
      "210/210 [==============================] - 36s 173ms/step - loss: 1.4371 - accuracy: 0.4893 - val_loss: 1.4690 - val_accuracy: 0.5010\n",
      "Epoch 134/1000\n",
      "210/210 [==============================] - 36s 172ms/step - loss: 1.4383 - accuracy: 0.4912 - val_loss: 1.4348 - val_accuracy: 0.5160\n",
      "Epoch 135/1000\n",
      "210/210 [==============================] - 36s 171ms/step - loss: 1.4475 - accuracy: 0.4810 - val_loss: 1.4746 - val_accuracy: 0.4880\n",
      "Epoch 136/1000\n",
      "210/210 [==============================] - 36s 170ms/step - loss: 1.4368 - accuracy: 0.4959 - val_loss: 1.4481 - val_accuracy: 0.5030\n",
      "Epoch 137/1000\n",
      "210/210 [==============================] - 36s 170ms/step - loss: 1.4590 - accuracy: 0.4822 - val_loss: 1.4515 - val_accuracy: 0.5010\n",
      "Epoch 138/1000\n",
      "210/210 [==============================] - 36s 170ms/step - loss: 1.4454 - accuracy: 0.4807 - val_loss: 1.3951 - val_accuracy: 0.5130\n",
      "Epoch 139/1000\n",
      "210/210 [==============================] - 36s 171ms/step - loss: 1.4377 - accuracy: 0.4946 - val_loss: 1.4028 - val_accuracy: 0.5250\n",
      "Epoch 140/1000\n",
      "210/210 [==============================] - 37s 174ms/step - loss: 1.4265 - accuracy: 0.4936 - val_loss: 1.4299 - val_accuracy: 0.5130\n",
      "Epoch 141/1000\n",
      "210/210 [==============================] - 37s 175ms/step - loss: 1.4349 - accuracy: 0.4939 - val_loss: 1.4240 - val_accuracy: 0.5090\n",
      "Epoch 142/1000\n",
      "210/210 [==============================] - 37s 176ms/step - loss: 1.4465 - accuracy: 0.4872 - val_loss: 1.4169 - val_accuracy: 0.4940\n"
     ]
    }
   ],
   "source": [
    "history = model.fit(train_generator,\n",
    "#                     batch_size=64,\n",
    "                    steps_per_epoch=10529//50, \n",
    "                    epochs=1000, \n",
    "                    validation_data=valid_generator,\n",
    "                    validation_batch_size=8,\n",
    "                    validation_steps=1000//20,\n",
    "                    callbacks=[early_stopping_callback])"
   ]
  },
  {
   "cell_type": "code",
   "execution_count": 22,
   "metadata": {
    "id": "b52_i4Co6vvq"
   },
   "outputs": [
    {
     "name": "stdout",
     "output_type": "stream",
     "text": [
      "50/50 [==============================] - 3s 52ms/step - loss: 1.3783 - accuracy: 0.5120\n"
     ]
    },
    {
     "data": {
      "text/plain": [
       "[1.3782647848129272, 0.5120000243186951]"
      ]
     },
     "execution_count": 22,
     "metadata": {},
     "output_type": "execute_result"
    }
   ],
   "source": [
    "model.evaluate(test_generator)"
   ]
  },
  {
   "cell_type": "code",
   "execution_count": 10,
   "metadata": {},
   "outputs": [
    {
     "data": {
      "text/plain": [
       "<matplotlib.legend.Legend at 0x25d14423310>"
      ]
     },
     "execution_count": 10,
     "metadata": {},
     "output_type": "execute_result"
    },
    {
     "data": {
      "image/png": "[encoded data removed]",
      "text/plain": [
       "<Figure size 1152x360 with 2 Axes>"
      ]
     },
     "metadata": {
      "needs_background": "light"
     },
     "output_type": "display_data"
    }
   ],
   "source": [
    "# 모델 학습 과정 시각화\n",
    "plt.figure(figsize=(16,5))\n",
    "\n",
    "plt.subplot(1, 2, 1)\n",
    "plt.plot(history.history['loss'])\n",
    "plt.plot(history.history['val_loss'])\n",
    "plt.title('model loss')\n",
    "plt.ylabel('loss')\n",
    "plt.xlabel('epoch')\n",
    "plt.legend(['train', 'validation'], loc=0)\n",
    "\n",
    "plt.subplot(1, 2, 2)\n",
    "plt.plot(history.history['accuracy'])\n",
    "plt.plot(history.history['val_accuracy'])\n",
    "plt.title('model accuracy')\n",
    "plt.ylabel('accuracy')\n",
    "plt.xlabel('epoch')\n",
    "plt.legend(['train', 'validation'], loc=0)"
   ]
  },
  {
   "cell_type": "code",
   "execution_count": 11,
   "metadata": {},
   "outputs": [],
   "source": [
    "model.save('./model/ResNet_2.h5')"
   ]
  },
  {
   "cell_type": "code",
   "execution_count": 12,
   "metadata": {},
   "outputs": [],
   "source": [
    "import cv2"
   ]
  },
  {
   "cell_type": "code",
   "execution_count": 13,
   "metadata": {},
   "outputs": [
    {
     "data": {
      "text/plain": [
       "array([[0.03504514, 0.23426619, 0.01554785, 0.03788736, 0.05986339,\n",
       "        0.0167079 , 0.02563062, 0.34950352, 0.0403662 , 0.1851818 ]],\n",
       "      dtype=float32)"
      ]
     },
     "execution_count": 13,
     "metadata": {},
     "output_type": "execute_result"
    }
   ],
   "source": [
    "# 새로운 데이터로 예측 결과 확인\n",
    "test_img = cv2.imread('./123.jpg')\n",
    "test_img = cv2.cvtColor(test_img, cv2.COLOR_BGR2RGB)\n",
    "test_img = cv2.resize(test_img,(64,64))/255.0\n",
    "test_img = test_img.reshape((1,)+test_img.shape)\n",
    "pred = model.predict(test_img)\n",
    "pred"
   ]
  },
  {
   "cell_type": "code",
   "execution_count": 14,
   "metadata": {},
   "outputs": [
    {
     "data": {
      "text/plain": [
       "7"
      ]
     },
     "execution_count": 14,
     "metadata": {},
     "output_type": "execute_result"
    }
   ],
   "source": [
    "pred.argmax()"
   ]
  },
  {
   "cell_type": "code",
   "execution_count": 15,
   "metadata": {},
   "outputs": [
    {
     "data": {
      "text/plain": [
       "{'갈아만든배': 0,\n",
       " '레쓰비': 1,\n",
       " '마운틴듀': 2,\n",
       " '밀키스': 3,\n",
       " '스프라이트': 4,\n",
       " '칠성사이다': 5,\n",
       " '코카콜라': 6,\n",
       " '트로피카나망고': 7,\n",
       " '펩시콜라': 8,\n",
       " '환타오렌지': 9}"
      ]
     },
     "execution_count": 15,
     "metadata": {},
     "output_type": "execute_result"
    }
   ],
   "source": [
    "train_generator.class_indices"
   ]
  },
  {
   "cell_type": "code",
   "execution_count": 16,
   "metadata": {},
   "outputs": [
    {
     "data": {
      "text/plain": [
       "{0: '갈아만든배',\n",
       " 1: '레쓰비',\n",
       " 2: '마운틴듀',\n",
       " 3: '밀키스',\n",
       " 4: '스프라이트',\n",
       " 5: '칠성사이다',\n",
       " 6: '코카콜라',\n",
       " 7: '트로피카나망고',\n",
       " 8: '펩시콜라',\n",
       " 9: '환타오렌지'}"
      ]
     },
     "execution_count": 16,
     "metadata": {},
     "output_type": "execute_result"
    }
   ],
   "source": [
    "result_dict = dict(map(reversed, train_generator.class_indices.items()))\n",
    "# 딕셔너리의 key, values 뒤집기\n",
    "result_dict"
   ]
  },
  {
   "cell_type": "code",
   "execution_count": 17,
   "metadata": {},
   "outputs": [
    {
     "data": {
      "text/plain": [
       "'트로피카나망고'"
      ]
     },
     "execution_count": 17,
     "metadata": {},
     "output_type": "execute_result"
    }
   ],
   "source": [
    "result_dict[pred.argmax()]"
   ]
  },
  {
   "cell_type": "code",
   "execution_count": 18,
   "metadata": {},
   "outputs": [
    {
     "data": {
      "text/plain": [
       "['갈아만든배',\n",
       " '레쓰비',\n",
       " '마운틴듀',\n",
       " '밀키스',\n",
       " '스프라이트',\n",
       " '칠성사이다',\n",
       " '코카콜라',\n",
       " '트로피카나망고',\n",
       " '펩시콜라',\n",
       " '환타오렌지']"
      ]
     },
     "execution_count": 18,
     "metadata": {},
     "output_type": "execute_result"
    }
   ],
   "source": [
    "categories = list(result_dict.values())\n",
    "# 딕셔너리의 value 값을 리스트로 받기\n",
    "categories"
   ]
  },
  {
   "cell_type": "code",
   "execution_count": 19,
   "metadata": {},
   "outputs": [],
   "source": [
    "import matplotlib.pyplot as plt\n",
    "plt.rcParams['font.family'] = 'Malgun Gothic'\n",
    "# from tensorflow.keras.models import load_model\n",
    "# model = load_model('./VGG16_1.h5')"
   ]
  },
  {
   "cell_type": "code",
   "execution_count": 20,
   "metadata": {},
   "outputs": [
    {
     "name": "stdout",
     "output_type": "stream",
     "text": [
      "-- Confusion Matrix --\n",
      "[[18  2  4  3  2  1 10  5  1  4]\n",
      " [ 1 21  1 11  1  0  6  4  3  2]\n",
      " [ 0  0 39  0  1  0  9  0  0  1]\n",
      " [ 4  1  0 36  3  2  0  2  1  1]\n",
      " [ 0  2  8  1 28  2  6  2  0  1]\n",
      " [ 4  0  5  7  8 18  6  2  0  0]\n",
      " [ 0  0  3  0  0  0 42  2  0  3]\n",
      " [ 1  0  0  0  1  0  8 32  1  7]\n",
      " [ 2  7  3  8 13  0  4  0  8  5]\n",
      " [ 3  0  0  0  2  1 21  9  0 14]]\n",
      "-- Classification Report --\n",
      "              precision    recall  f1-score   support\n",
      "\n",
      "       갈아만든배       0.55      0.36      0.43        50\n",
      "         레쓰비       0.64      0.42      0.51        50\n",
      "        마운틴듀       0.62      0.78      0.69        50\n",
      "         밀키스       0.55      0.72      0.62        50\n",
      "       스프라이트       0.47      0.56      0.51        50\n",
      "       칠성사이다       0.75      0.36      0.49        50\n",
      "        코카콜라       0.38      0.84      0.52        50\n",
      "     트로피카나망고       0.55      0.64      0.59        50\n",
      "        펩시콜라       0.57      0.16      0.25        50\n",
      "       환타오렌지       0.37      0.28      0.32        50\n",
      "\n",
      "    accuracy                           0.51       500\n",
      "   macro avg       0.54      0.51      0.49       500\n",
      "weighted avg       0.54      0.51      0.49       500\n",
      "\n"
     ]
    }
   ],
   "source": [
    "from sklearn.metrics import classification_report, confusion_matrix\n",
    "\n",
    "np.set_printoptions(precision=2)\n",
    "\n",
    "Y_pred = model.predict(test_generator)\n",
    "classes = test_generator.classes[test_generator.index_array]\n",
    "y_pred = np.argmax(Y_pred, axis=1)  # Returns maximum indices in each row\n",
    "\n",
    "class_names = categories\n",
    "\n",
    "print('-- Confusion Matrix --')\n",
    "print(confusion_matrix(classes, y_pred))\n",
    "\n",
    "\n",
    "\n",
    "print('-- Classification Report --')\n",
    "print(classification_report(classes, y_pred, target_names=class_names))"
   ]
  },
  {
   "cell_type": "code",
   "execution_count": 21,
   "metadata": {},
   "outputs": [
    {
     "data": {
      "text/plain": [
       "<AxesSubplot:>"
      ]
     },
     "execution_count": 21,
     "metadata": {},
     "output_type": "execute_result"
    },
    {
     "data": {
      "image/png": "[encoded data removed]",
      "text/plain": [
       "<Figure size 720x720 with 2 Axes>"
      ]
     },
     "metadata": {
      "needs_background": "light"
     },
     "output_type": "display_data"
    }
   ],
   "source": [
    "import seaborn as sns\n",
    "plt.figure(figsize=(10,10))\n",
    "sns.heatmap(confusion_matrix(classes, y_pred), annot=True, fmt='d',\n",
    "            xticklabels=categories,\n",
    "            yticklabels=categories)\n",
    "# 코랩에서 한글 도저히 안나오는듯\n",
    "# 뒤에부분은 로컬에서 주피터로 진행해서 히트맵뽑기"
   ]
  },
  {
   "cell_type": "code",
   "execution_count": null,
   "metadata": {},
   "outputs": [],
   "source": []
  }
 ],
 "metadata": {
  "accelerator": "GPU",
  "colab": {
   "authorship_tag": "ABX9TyONIIYtR9HyaXcLxiUlOk4S",
   "mount_file_id": "1UwH8ZrysM63hXlNGTKWgiDSkTArxxzP3",
   "name": "ResNet.ipynb",
   "provenance": []
  },
  "kernelspec": {
   "display_name": "Python 3 (ipykernel)",
   "language": "python",
   "name": "python3"
  },
  "language_info": {
   "codemirror_mode": {
    "name": "ipython",
    "version": 3
   },
   "file_extension": ".py",
   "mimetype": "text/x-python",
   "name": "python",
   "nbconvert_exporter": "python",
   "pygments_lexer": "ipython3",
   "version": "3.9.7"
  }
 },
 "nbformat": 4,
 "nbformat_minor": 1
}
