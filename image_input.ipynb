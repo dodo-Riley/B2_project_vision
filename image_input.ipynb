{
 "cells": [
  {
   "cell_type": "code",
   "execution_count": null,
   "id": "0d8b8a21",
   "metadata": {},
   "outputs": [],
   "source": [
    "# 모듈 호출\n",
    "import cv2\n",
    "import sys\n",
    "import numpy as np\n",
    "from tensorflow.keras.models import load_model"
   ]
  },
  {
   "cell_type": "code",
   "execution_count": null,
   "id": "a7501422",
   "metadata": {},
   "outputs": [],
   "source": [
    "cap = cv2.VideoCapture(0) # 카메라 지정\n",
    "\n",
    "if not cap.isOpened(): # 카메라가 제대로 불러지지 않으면 오류메세지 출력\n",
    "    print('video capture failed')\n",
    "    sys.exit()\n",
    "    \n",
    "while True: \n",
    "    ret, frame = cap.read() # 카메라 읽기\n",
    "        \n",
    "    if not ret: # 읽기 실패 시 오류 메세지 출력\n",
    "        print('videos read failed')\n",
    "        break\n",
    "    \n",
    "    cv2.imshow(\"camera\",frame) # 읽어온 카메라 영상을 출력 \n",
    "    \n",
    "    if cv2.waitKey(20) == ord('s'): # s를 누르면 해당 순간의 이미지를 저장하고 종료\n",
    "        cv2.imwrite(\"./photo.jpg\",frame) \n",
    "        break \n",
    "            \n",
    "cap.release()\n",
    "cv2.destroyAllWindows() # 카메라 및 창 닫기\n",
    "\n",
    "\n",
    "img = cv2.imread('./photo.jpg') # 저장한 이미지 불러오기\n",
    "img = cv2.cvtColor(img, cv2.COLOR_BGR2RGB) # 타입변경\n",
    "img = cv2.resize(img,(128,128))/255.0 # 모델에 맞는 input_shape로 리사이즈\n",
    "img = img.reshape((1,)+img.shape) # 입력 데이터로 사용하기 위해 데이터 reshape\n",
    "\n",
    "\n",
    "# 모델 파일 불러와서 예측 수행\n",
    "model = load_model('모델 파일 경로')\n",
    "pred = model.predict(img)\n",
    "\n",
    "# 인덱스로 상품명 추출\n",
    "class_dict = {0:'갈아만든배',\n",
    "             1:'레쓰비',\n",
    "             2:'마운틴듀',\n",
    "             3:'밀키스',\n",
    "             4:'스프라이트',\n",
    "             5:'칠성사이다',\n",
    "             6:'코카콜라',\n",
    "             7:'트로피카나망고',\n",
    "             8:'펩시콜라',\n",
    "             9:'환타오렌지'}\n",
    "\n",
    "pred_class = class_dict[np.argmax(pred,axis=1)[0]]"
   ]
  }
 ],
 "metadata": {
  "kernelspec": {
   "display_name": "Python 3 (ipykernel)",
   "language": "python",
   "name": "python3"
  },
  "language_info": {
   "codemirror_mode": {
    "name": "ipython",
    "version": 3
   },
   "file_extension": ".py",
   "mimetype": "text/x-python",
   "name": "python",
   "nbconvert_exporter": "python",
   "pygments_lexer": "ipython3",
   "version": "3.9.7"
  },
  "latex_envs": {
   "LaTeX_envs_menu_present": true,
   "autoclose": false,
   "autocomplete": true,
   "bibliofile": "biblio.bib",
   "cite_by": "apalike",
   "current_citInitial": 1,
   "eqLabelWithNumbers": true,
   "eqNumInitial": 1,
   "hotkeys": {
    "equation": "Ctrl-E",
    "itemize": "Ctrl-I"
   },
   "labels_anchors": false,
   "latex_user_defs": false,
   "report_style_numbering": false,
   "user_envs_cfg": false
  },
  "toc": {
   "base_numbering": 1,
   "nav_menu": {},
   "number_sections": true,
   "sideBar": true,
   "skip_h1_title": false,
   "title_cell": "Table of Contents",
   "title_sidebar": "Contents",
   "toc_cell": false,
   "toc_position": {},
   "toc_section_display": true,
   "toc_window_display": false
  },
  "varInspector": {
   "cols": {
    "lenName": 16,
    "lenType": 16,
    "lenVar": 40
   },
   "kernels_config": {
    "python": {
     "delete_cmd_postfix": "",
     "delete_cmd_prefix": "del ",
     "library": "var_list.py",
     "varRefreshCmd": "print(var_dic_list())"
    },
    "r": {
     "delete_cmd_postfix": ") ",
     "delete_cmd_prefix": "rm(",
     "library": "var_list.r",
     "varRefreshCmd": "cat(var_dic_list()) "
    }
   },
   "types_to_exclude": [
    "module",
    "function",
    "builtin_function_or_method",
    "instance",
    "_Feature"
   ],
   "window_display": false
  }
 },
 "nbformat": 4,
 "nbformat_minor": 5
}
