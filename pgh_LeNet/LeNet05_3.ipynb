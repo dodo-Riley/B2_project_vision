{
 "cells": [
  {
   "cell_type": "code",
   "execution_count": 1,
   "metadata": {
    "executionInfo": {
     "elapsed": 2,
     "status": "ok",
     "timestamp": 1647841162542,
     "user": {
      "displayName": "GH Park",
      "photoUrl": "https://lh3.googleusercontent.com/a-/AOh14GivJSsDPXq9kt7jR8zdgkeS3WsGCX9hjmhuf3_59A=s64",
      "userId": "09922152593640424511"
     },
     "user_tz": -540
    },
    "id": "JWcR3f97xiHT"
   },
   "outputs": [],
   "source": [
    "# 모듈 호출\n",
    "import os\n",
    "import glob\n",
    "import shutil\n",
    "from PIL import Image\n",
    "import numpy as np\n",
    "import cv2\n",
    "import matplotlib.pyplot as plt\n",
    "import pandas as pd\n",
    "from tqdm import tqdm\n",
    "import tensorflow as tf\n",
    "from tensorflow import keras\n",
    "from tensorflow.keras.models import Sequential\n",
    "from tensorflow.keras.layers import Conv2D,Dense,Flatten,Dropout,MaxPooling2D, AvgPool2D, AveragePooling2D\n",
    "from tensorflow.keras.preprocessing.image import ImageDataGenerator\n",
    "from tensorflow.keras.callbacks import EarlyStopping"
   ]
  },
  {
   "cell_type": "code",
   "execution_count": 2,
   "metadata": {
    "colab": {
     "base_uri": "https://localhost:8080/"
    },
    "executionInfo": {
     "elapsed": 14896,
     "status": "ok",
     "timestamp": 1647841179494,
     "user": {
      "displayName": "GH Park",
      "photoUrl": "https://lh3.googleusercontent.com/a-/AOh14GivJSsDPXq9kt7jR8zdgkeS3WsGCX9hjmhuf3_59A=s64",
      "userId": "09922152593640424511"
     },
     "user_tz": -540
    },
    "id": "fZpGXoGahUky",
    "outputId": "0eff6af7-ad03-4e25-db50-3e6d54440fa0"
   },
   "outputs": [],
   "source": [
    "# # 드라이브 마운트\n",
    "# from google.colab import drive\n",
    "# drive.mount('/content/drive')"
   ]
  },
  {
   "cell_type": "code",
   "execution_count": 3,
   "metadata": {
    "colab": {
     "base_uri": "https://localhost:8080/"
    },
    "executionInfo": {
     "elapsed": 234,
     "status": "ok",
     "timestamp": 1647841183606,
     "user": {
      "displayName": "GH Park",
      "photoUrl": "https://lh3.googleusercontent.com/a-/AOh14GivJSsDPXq9kt7jR8zdgkeS3WsGCX9hjmhuf3_59A=s64",
      "userId": "09922152593640424511"
     },
     "user_tz": -540
    },
    "id": "LHlfuD_FoSnX",
    "outputId": "5380339d-03fa-42be-f1c2-c38bac4c171e"
   },
   "outputs": [],
   "source": [
    "# cd /content/drive/MyDrive/안봐도보이조_project"
   ]
  },
  {
   "cell_type": "markdown",
   "metadata": {
    "id": "hB0xVhmGkdQy"
   },
   "source": [
    "# 모델링"
   ]
  },
  {
   "cell_type": "markdown",
   "metadata": {},
   "source": [
    "- 데이터셋 정의"
   ]
  },
  {
   "cell_type": "code",
   "execution_count": 4,
   "metadata": {
    "colab": {
     "base_uri": "https://localhost:8080/"
    },
    "executionInfo": {
     "elapsed": 23511,
     "status": "ok",
     "timestamp": 1647841212196,
     "user": {
      "displayName": "GH Park",
      "photoUrl": "https://lh3.googleusercontent.com/a-/AOh14GivJSsDPXq9kt7jR8zdgkeS3WsGCX9hjmhuf3_59A=s64",
      "userId": "09922152593640424511"
     },
     "user_tz": -540
    },
    "id": "bqgb-57eIEMA",
    "outputId": "2d47740b-7b3c-40e4-9bc7-eddaad2de14c"
   },
   "outputs": [
    {
     "name": "stdout",
     "output_type": "stream",
     "text": [
      "Found 10529 images belonging to 10 classes.\n",
      "Found 1000 images belonging to 10 classes.\n",
      "Found 500 images belonging to 10 classes.\n"
     ]
    }
   ],
   "source": [
    "train_datagen = ImageDataGenerator( \n",
    "        rescale=1./255,         # 픽셀 값을 0~1 범위로 변환\n",
    "        rotation_range=40,      # 40도까지 회전\n",
    "        width_shift_range=0.2,  # 20%까지 좌우 이동\n",
    "        height_shift_range=0.2, # 20%까지 상하 이동\n",
    "        shear_range=0.2,        # 20%까지 기울임\n",
    "        zoom_range=0.2,         # 20%까지 확대\n",
    "        horizontal_flip=True,   # 좌우 뒤집기\n",
    "    )\n",
    "train_generator = train_datagen.flow_from_directory(\n",
    "    './train_10',\n",
    "    batch_size=50,      \n",
    "    class_mode='categorical', \n",
    "    target_size=(64, 64)) \n",
    "valid_datagen = ImageDataGenerator(rescale=1./255) # 스케일링만 진행\n",
    "valid_generator = valid_datagen.flow_from_directory(\n",
    "    './valid_10',\n",
    "    batch_size=20,      \n",
    "    class_mode='categorical', \n",
    "    target_size=(64, 64))\n",
    "test_datagen = ImageDataGenerator(rescale=1./255) # 스케일링만 진행\n",
    "test_generator = test_datagen.flow_from_directory(\n",
    "    './test_10',\n",
    "    batch_size=10,      \n",
    "    class_mode='categorical', \n",
    "    target_size=(64, 64), shuffle = False)"
   ]
  },
  {
   "cell_type": "code",
   "execution_count": 5,
   "metadata": {
    "colab": {
     "base_uri": "https://localhost:8080/"
    },
    "executionInfo": {
     "elapsed": 248,
     "status": "ok",
     "timestamp": 1647841218088,
     "user": {
      "displayName": "GH Park",
      "photoUrl": "https://lh3.googleusercontent.com/a-/AOh14GivJSsDPXq9kt7jR8zdgkeS3WsGCX9hjmhuf3_59A=s64",
      "userId": "09922152593640424511"
     },
     "user_tz": -540
    },
    "id": "uFO_mQSRMrt8",
    "outputId": "a8c55cc7-887f-4291-db83-4739ef9c72ac"
   },
   "outputs": [
    {
     "name": "stdout",
     "output_type": "stream",
     "text": [
      "{'갈아만든배': 0, '레쓰비': 1, '마운틴듀': 2, '밀키스': 3, '스프라이트': 4, '칠성사이다': 5, '코카콜라': 6, '트로피카나망고': 7, '펩시콜라': 8, '환타오렌지': 9}\n"
     ]
    }
   ],
   "source": [
    "print(train_generator.class_indices)"
   ]
  },
  {
   "cell_type": "code",
   "execution_count": 6,
   "metadata": {
    "colab": {
     "base_uri": "https://localhost:8080/"
    },
    "executionInfo": {
     "elapsed": 421,
     "status": "ok",
     "timestamp": 1647837952965,
     "user": {
      "displayName": "GH Park",
      "photoUrl": "https://lh3.googleusercontent.com/a-/AOh14GivJSsDPXq9kt7jR8zdgkeS3WsGCX9hjmhuf3_59A=s64",
      "userId": "09922152593640424511"
     },
     "user_tz": -540
    },
    "id": "T_pB3dTahkuD",
    "outputId": "9f7f3ca1-c879-4cca-8ab1-0ebcd0df937e"
   },
   "outputs": [
    {
     "name": "stdout",
     "output_type": "stream",
     "text": [
      "{'갈아만든배': 0, '레쓰비': 1, '마운틴듀': 2, '밀키스': 3, '스프라이트': 4, '칠성사이다': 5, '코카콜라': 6, '트로피카나망고': 7, '펩시콜라': 8, '환타오렌지': 9}\n"
     ]
    }
   ],
   "source": [
    "print(valid_generator.class_indices)"
   ]
  },
  {
   "cell_type": "code",
   "execution_count": 7,
   "metadata": {
    "colab": {
     "base_uri": "https://localhost:8080/"
    },
    "executionInfo": {
     "elapsed": 404,
     "status": "ok",
     "timestamp": 1647837954591,
     "user": {
      "displayName": "GH Park",
      "photoUrl": "https://lh3.googleusercontent.com/a-/AOh14GivJSsDPXq9kt7jR8zdgkeS3WsGCX9hjmhuf3_59A=s64",
      "userId": "09922152593640424511"
     },
     "user_tz": -540
    },
    "id": "3Hq17XjdZC6X",
    "outputId": "7d9a0a98-d35f-4ce0-9493-dc22e96767db"
   },
   "outputs": [
    {
     "name": "stdout",
     "output_type": "stream",
     "text": [
      "{'갈아만든배': 0, '레쓰비': 1, '마운틴듀': 2, '밀키스': 3, '스프라이트': 4, '칠성사이다': 5, '코카콜라': 6, '트로피카나망고': 7, '펩시콜라': 8, '환타오렌지': 9}\n"
     ]
    }
   ],
   "source": [
    "print(test_generator.class_indices)"
   ]
  },
  {
   "cell_type": "markdown",
   "metadata": {
    "id": "2fvvgX6vyD_H"
   },
   "source": [
    "# LeNet-5\n",
    "- Yann LeCun (얀 르쿤)의 \"Gradient-based learning applied to document recognition\" 논문에서 손글씨 숫자 인식하는데 문제를 해결하기 위해 사용된 모델\n",
    "- 3차원인 MNIST 데이터 (28,28,1)를 input으로 함"
   ]
  },
  {
   "cell_type": "code",
   "execution_count": 8,
   "metadata": {},
   "outputs": [],
   "source": [
    "# LeNet 모델링 (class 정의 없이 사용)\n",
    "model = Sequential()\n",
    "model.add(Conv2D(6,5,strides=1,activation='relu',input_shape=(64,64,3),padding='same'))\n",
    "model.add(AvgPool2D(2,strides=2))\n",
    "model.add(Conv2D(16,5,strides=1,activation='relu'))\n",
    "model.add(AvgPool2D(2,strides=2))\n",
    "model.add(Conv2D(120,5,strides=1,activation='relu'))\n",
    "model.add(Flatten())\n",
    "model.add(Dense(84,activation='tanh'))\n",
    "model.add(Dense(10,activation='softmax'))\n",
    "model.compile(optimizer='adam',\n",
    "             loss='categorical_crossentropy',\n",
    "             metrics=['accuracy'])"
   ]
  },
  {
   "cell_type": "code",
   "execution_count": 9,
   "metadata": {},
   "outputs": [
    {
     "name": "stdout",
     "output_type": "stream",
     "text": [
      "Model: \"sequential\"\n",
      "_________________________________________________________________\n",
      " Layer (type)                Output Shape              Param #   \n",
      "=================================================================\n",
      " conv2d (Conv2D)             (None, 64, 64, 6)         456       \n",
      "                                                                 \n",
      " average_pooling2d (AverageP  (None, 32, 32, 6)        0         \n",
      " ooling2D)                                                       \n",
      "                                                                 \n",
      " conv2d_1 (Conv2D)           (None, 28, 28, 16)        2416      \n",
      "                                                                 \n",
      " average_pooling2d_1 (Averag  (None, 14, 14, 16)       0         \n",
      " ePooling2D)                                                     \n",
      "                                                                 \n",
      " conv2d_2 (Conv2D)           (None, 10, 10, 120)       48120     \n",
      "                                                                 \n",
      " flatten (Flatten)           (None, 12000)             0         \n",
      "                                                                 \n",
      " dense (Dense)               (None, 84)                1008084   \n",
      "                                                                 \n",
      " dense_1 (Dense)             (None, 10)                850       \n",
      "                                                                 \n",
      "=================================================================\n",
      "Total params: 1,059,926\n",
      "Trainable params: 1,059,926\n",
      "Non-trainable params: 0\n",
      "_________________________________________________________________\n"
     ]
    }
   ],
   "source": [
    "model.summary()"
   ]
  },
  {
   "cell_type": "code",
   "execution_count": 10,
   "metadata": {
    "colab": {
     "base_uri": "https://localhost:8080/"
    },
    "id": "GkF6XioOk2gW",
    "outputId": "1dbd3afd-1cf2-48eb-9394-b40d12a6b130"
   },
   "outputs": [
    {
     "name": "stdout",
     "output_type": "stream",
     "text": [
      "Epoch 1/10\n",
      "85/85 [==============================] - 8s 74ms/step - loss: 1.4205 - accuracy: 0.4567 - val_loss: 0.6322 - val_accuracy: 0.7450\n",
      "Epoch 2/10\n",
      "85/85 [==============================] - 6s 74ms/step - loss: 0.5380 - accuracy: 0.7749 - val_loss: 0.4176 - val_accuracy: 0.8375\n",
      "Epoch 3/10\n",
      "85/85 [==============================] - 6s 73ms/step - loss: 0.4197 - accuracy: 0.8322 - val_loss: 0.6126 - val_accuracy: 0.7300\n",
      "Epoch 4/10\n",
      "85/85 [==============================] - 6s 72ms/step - loss: 0.3695 - accuracy: 0.8489 - val_loss: 0.2939 - val_accuracy: 0.8963\n",
      "Epoch 5/10\n",
      "85/85 [==============================] - 6s 72ms/step - loss: 0.2775 - accuracy: 0.8856 - val_loss: 0.1812 - val_accuracy: 0.9200\n",
      "Epoch 6/10\n",
      "85/85 [==============================] - 6s 72ms/step - loss: 0.2183 - accuracy: 0.9162 - val_loss: 0.3194 - val_accuracy: 0.8700\n",
      "Epoch 7/10\n",
      "85/85 [==============================] - 6s 73ms/step - loss: 0.2683 - accuracy: 0.8906 - val_loss: 0.1553 - val_accuracy: 0.9375\n",
      "Epoch 8/10\n",
      "85/85 [==============================] - 6s 73ms/step - loss: 0.2297 - accuracy: 0.9071 - val_loss: 0.1540 - val_accuracy: 0.9362\n",
      "Epoch 9/10\n",
      "85/85 [==============================] - 6s 72ms/step - loss: 0.2227 - accuracy: 0.9104 - val_loss: 0.1917 - val_accuracy: 0.9225\n",
      "Epoch 10/10\n",
      "85/85 [==============================] - 6s 72ms/step - loss: 0.1959 - accuracy: 0.9216 - val_loss: 0.1319 - val_accuracy: 0.9413\n"
     ]
    }
   ],
   "source": [
    "history = model.fit(train_generator,\n",
    "                    steps_per_epoch=85, # max : 총 이미지 수 / batch_size\n",
    "                    epochs=10, \n",
    "                    validation_data=valid_generator, \n",
    "                    validation_steps=40\n",
    "                    ) "
   ]
  },
  {
   "cell_type": "code",
   "execution_count": 11,
   "metadata": {
    "colab": {
     "base_uri": "https://localhost:8080/"
    },
    "executionInfo": {
     "elapsed": 94687,
     "status": "ok",
     "timestamp": 1647783612001,
     "user": {
      "displayName": "송종호",
      "photoUrl": "https://lh3.googleusercontent.com/a-/AOh14Ggw9AtKSIFJsDxvVfGveri4440iMF0PN91N6_8RwA=s64",
      "userId": "03405166047213017267"
     },
     "user_tz": -540
    },
    "id": "4boe5N-AbGuS",
    "outputId": "51bf0bdb-c95a-4b7d-adfd-de46a6b90a6b"
   },
   "outputs": [
    {
     "name": "stdout",
     "output_type": "stream",
     "text": [
      "50/50 [==============================] - 1s 8ms/step - loss: 0.1324 - accuracy: 0.9420\n"
     ]
    },
    {
     "data": {
      "text/plain": [
       "[0.1323692351579666, 0.9419999718666077]"
      ]
     },
     "execution_count": 11,
     "metadata": {},
     "output_type": "execute_result"
    }
   ],
   "source": [
    "model.evaluate(test_generator)"
   ]
  },
  {
   "cell_type": "code",
   "execution_count": 12,
   "metadata": {
    "colab": {
     "base_uri": "https://localhost:8080/",
     "height": 368
    },
    "executionInfo": {
     "elapsed": 840,
     "status": "ok",
     "timestamp": 1647783612829,
     "user": {
      "displayName": "송종호",
      "photoUrl": "https://lh3.googleusercontent.com/a-/AOh14Ggw9AtKSIFJsDxvVfGveri4440iMF0PN91N6_8RwA=s64",
      "userId": "03405166047213017267"
     },
     "user_tz": -540
    },
    "id": "GOzc0TsbaHF8",
    "outputId": "61a1c630-df22-4f38-90ba-604ec576174b"
   },
   "outputs": [
    {
     "data": {
      "text/plain": [
       "<matplotlib.legend.Legend at 0x26d4d66f3a0>"
      ]
     },
     "execution_count": 12,
     "metadata": {},
     "output_type": "execute_result"
    },
    {
     "data": {
      "image/png": "[encoded data removed]",
      "text/plain": [
       "<Figure size 1152x360 with 2 Axes>"
      ]
     },
     "metadata": {
      "needs_background": "light"
     },
     "output_type": "display_data"
    }
   ],
   "source": [
    "plt.figure(figsize=(16,5))\n",
    "\n",
    "# 만들어진 모델에 대해 train dataset과 validation dataset의 loss 를 그래프로 표현해 봅니다.\n",
    "plt.subplot(1, 2, 1)\n",
    "plt.plot(history.history['loss'])\n",
    "plt.plot(history.history['val_loss'])\n",
    "plt.title('model loss')\n",
    "plt.ylabel('loss')\n",
    "plt.xlabel('epoch')\n",
    "plt.legend(['train', 'validation'], loc=0)\n",
    "\n",
    "# 만들어진 모델에 대해 train dataset과 validation dataset의 accuracy 를 그래프로 표현해 봅니다.\n",
    "plt.subplot(1, 2, 2)\n",
    "plt.plot(history.history['accuracy'])\n",
    "plt.plot(history.history['val_accuracy'])\n",
    "plt.title('model accuracy')\n",
    "plt.ylabel('accuracy')\n",
    "plt.xlabel('epoch')\n",
    "plt.legend(['train', 'validation'], loc=0)"
   ]
  },
  {
   "cell_type": "code",
   "execution_count": 13,
   "metadata": {
    "id": "jx-OziswaYsr"
   },
   "outputs": [],
   "source": [
    "model.save('./model/LeNet05_local_03.h5')"
   ]
  },
  {
   "cell_type": "code",
   "execution_count": 14,
   "metadata": {},
   "outputs": [],
   "source": [
    "from tensorflow.keras.models import load_model\n",
    "model = load_model('./model/LeNet05_local_03.h5')"
   ]
  },
  {
   "cell_type": "code",
   "execution_count": 15,
   "metadata": {
    "colab": {
     "base_uri": "https://localhost:8080/"
    },
    "executionInfo": {
     "elapsed": 312,
     "status": "ok",
     "timestamp": 1647785576795,
     "user": {
      "displayName": "송종호",
      "photoUrl": "https://lh3.googleusercontent.com/a-/AOh14Ggw9AtKSIFJsDxvVfGveri4440iMF0PN91N6_8RwA=s64",
      "userId": "03405166047213017267"
     },
     "user_tz": -540
    },
    "id": "LcSROMoladI9",
    "outputId": "02c98f28-681e-4c49-bfb9-b99a8469e6f0",
    "scrolled": true
   },
   "outputs": [
    {
     "data": {
      "text/plain": [
       "array([[9.9200734e-06, 6.8316001e-01, 3.0846510e-05, 2.9473397e-04,\n",
       "        2.5802565e-05, 9.5965945e-05, 3.0351952e-05, 1.6338865e-05,\n",
       "        3.1615308e-01, 1.8283092e-04]], dtype=float32)"
      ]
     },
     "execution_count": 15,
     "metadata": {},
     "output_type": "execute_result"
    }
   ],
   "source": [
    "test_img = cv2.imread('./123.jpg')\n",
    "test_img = cv2.cvtColor(test_img, cv2.COLOR_BGR2RGB)\n",
    "test_img = cv2.resize(test_img,(64,64))/255.0\n",
    "test_img = test_img.reshape((1,)+test_img.shape)\n",
    "model.predict(test_img)"
   ]
  },
  {
   "cell_type": "code",
   "execution_count": 16,
   "metadata": {},
   "outputs": [
    {
     "data": {
      "text/plain": [
       "1"
      ]
     },
     "execution_count": 16,
     "metadata": {},
     "output_type": "execute_result"
    }
   ],
   "source": [
    "pred_result = model.predict(test_img).argmax()\n",
    "pred_result"
   ]
  },
  {
   "cell_type": "code",
   "execution_count": 17,
   "metadata": {
    "colab": {
     "base_uri": "https://localhost:8080/"
    },
    "executionInfo": {
     "elapsed": 343,
     "status": "ok",
     "timestamp": 1647785509526,
     "user": {
      "displayName": "송종호",
      "photoUrl": "https://lh3.googleusercontent.com/a-/AOh14Ggw9AtKSIFJsDxvVfGveri4440iMF0PN91N6_8RwA=s64",
      "userId": "03405166047213017267"
     },
     "user_tz": -540
    },
    "id": "a6WiV6atq0wa",
    "outputId": "c4dd417c-503e-4759-a7b9-afe33e9a2ab9"
   },
   "outputs": [
    {
     "data": {
      "text/plain": [
       "{'갈아만든배': 0,\n",
       " '레쓰비': 1,\n",
       " '마운틴듀': 2,\n",
       " '밀키스': 3,\n",
       " '스프라이트': 4,\n",
       " '칠성사이다': 5,\n",
       " '코카콜라': 6,\n",
       " '트로피카나망고': 7,\n",
       " '펩시콜라': 8,\n",
       " '환타오렌지': 9}"
      ]
     },
     "execution_count": 17,
     "metadata": {},
     "output_type": "execute_result"
    }
   ],
   "source": [
    "train_generator.class_indices"
   ]
  },
  {
   "cell_type": "code",
   "execution_count": 18,
   "metadata": {},
   "outputs": [
    {
     "data": {
      "text/plain": [
       "{0: '갈아만든배',\n",
       " 1: '레쓰비',\n",
       " 2: '마운틴듀',\n",
       " 3: '밀키스',\n",
       " 4: '스프라이트',\n",
       " 5: '칠성사이다',\n",
       " 6: '코카콜라',\n",
       " 7: '트로피카나망고',\n",
       " 8: '펩시콜라',\n",
       " 9: '환타오렌지'}"
      ]
     },
     "execution_count": 18,
     "metadata": {},
     "output_type": "execute_result"
    }
   ],
   "source": [
    "result_dict = dict(map(reversed, train_generator.class_indices.items()))\n",
    "result_dict"
   ]
  },
  {
   "cell_type": "code",
   "execution_count": 19,
   "metadata": {
    "scrolled": true
   },
   "outputs": [
    {
     "data": {
      "text/plain": [
       "'레쓰비'"
      ]
     },
     "execution_count": 19,
     "metadata": {},
     "output_type": "execute_result"
    }
   ],
   "source": [
    "result_dict[pred_result]"
   ]
  },
  {
   "cell_type": "code",
   "execution_count": 20,
   "metadata": {},
   "outputs": [
    {
     "data": {
      "text/plain": [
       "['갈아만든배',\n",
       " '레쓰비',\n",
       " '마운틴듀',\n",
       " '밀키스',\n",
       " '스프라이트',\n",
       " '칠성사이다',\n",
       " '코카콜라',\n",
       " '트로피카나망고',\n",
       " '펩시콜라',\n",
       " '환타오렌지']"
      ]
     },
     "execution_count": 20,
     "metadata": {},
     "output_type": "execute_result"
    }
   ],
   "source": [
    "categories = list(result_dict.values())\n",
    "# 딕셔너리의 value 값을 리스트로 받기\n",
    "categories"
   ]
  },
  {
   "cell_type": "code",
   "execution_count": 21,
   "metadata": {},
   "outputs": [],
   "source": [
    "import matplotlib.pyplot as plt\n",
    "plt.rcParams['font.family'] = 'Malgun Gothic'"
   ]
  },
  {
   "cell_type": "code",
   "execution_count": 22,
   "metadata": {},
   "outputs": [
    {
     "name": "stdout",
     "output_type": "stream",
     "text": [
      "-- Confusion Matrix --\n",
      "[[50  0  0  0  0  0  0  0  0  0]\n",
      " [ 0 34  0  0  0  0  0  0 16  0]\n",
      " [ 0  0 50  0  0  0  0  0  0  0]\n",
      " [ 0  0  1 49  0  0  0  0  0  0]\n",
      " [ 0  0  0  0 47  3  0  0  0  0]\n",
      " [ 0  0  0  0  9 41  0  0  0  0]\n",
      " [ 0  0  0  0  0  0 50  0  0  0]\n",
      " [ 0  0  0  0  0  0  0 50  0  0]\n",
      " [ 0  0  0  0  0  0  0  0 50  0]\n",
      " [ 0  0  0  0  0  0  0  0  0 50]]\n",
      "-- Classification Report --\n",
      "              precision    recall  f1-score   support\n",
      "\n",
      "       갈아만든배       1.00      1.00      1.00        50\n",
      "         레쓰비       1.00      0.68      0.81        50\n",
      "        마운틴듀       0.98      1.00      0.99        50\n",
      "         밀키스       1.00      0.98      0.99        50\n",
      "       스프라이트       0.84      0.94      0.89        50\n",
      "       칠성사이다       0.93      0.82      0.87        50\n",
      "        코카콜라       1.00      1.00      1.00        50\n",
      "     트로피카나망고       1.00      1.00      1.00        50\n",
      "        펩시콜라       0.76      1.00      0.86        50\n",
      "       환타오렌지       1.00      1.00      1.00        50\n",
      "\n",
      "    accuracy                           0.94       500\n",
      "   macro avg       0.95      0.94      0.94       500\n",
      "weighted avg       0.95      0.94      0.94       500\n",
      "\n"
     ]
    }
   ],
   "source": [
    "from sklearn.metrics import classification_report, confusion_matrix\n",
    "\n",
    "np.set_printoptions(precision=2)\n",
    "\n",
    "Y_pred = model.predict(test_generator)\n",
    "classes = test_generator.classes[test_generator.index_array]\n",
    "y_pred = np.argmax(Y_pred, axis=1)  # Returns maximum indices in each row\n",
    "\n",
    "class_names = categories\n",
    "\n",
    "print('-- Confusion Matrix --')\n",
    "print(confusion_matrix(classes, y_pred))\n",
    "\n",
    "\n",
    "\n",
    "print('-- Classification Report --')\n",
    "print(classification_report(classes, y_pred, target_names=class_names))"
   ]
  },
  {
   "cell_type": "code",
   "execution_count": 23,
   "metadata": {},
   "outputs": [
    {
     "data": {
      "text/plain": [
       "<AxesSubplot:>"
      ]
     },
     "execution_count": 23,
     "metadata": {},
     "output_type": "execute_result"
    },
    {
     "data": {
      "image/png": "[encoded data removed]",
      "text/plain": [
       "<Figure size 720x720 with 2 Axes>"
      ]
     },
     "metadata": {
      "needs_background": "light"
     },
     "output_type": "display_data"
    }
   ],
   "source": [
    "import seaborn as sns\n",
    "plt.figure(figsize=(10,10))\n",
    "sns.heatmap(confusion_matrix(classes, y_pred), annot=True, fmt='d',\n",
    "            xticklabels=categories,\n",
    "            yticklabels=categories)\n",
    "# 코랩에서 한글 도저히 안나오는듯\n",
    "# 뒤에부분은 로컬에서 주피터로 진행해서 히트맵뽑기"
   ]
  },
  {
   "cell_type": "code",
   "execution_count": null,
   "metadata": {},
   "outputs": [],
   "source": []
  },
  {
   "cell_type": "code",
   "execution_count": null,
   "metadata": {},
   "outputs": [],
   "source": []
  }
 ],
 "metadata": {
  "accelerator": "GPU",
  "colab": {
   "collapsed_sections": [
    "tk2WnRQuJAFL",
    "vATUJNJMxeve",
    "ohfgV4EcQw1n",
    "6Sxyf4Q5Q3n7",
    "Asyf_7T2oL3B",
    "n8Ft1XSCRHcU",
    "WBctJKv-TLSE"
   ],
   "name": "LeNet-5.ipynb",
   "provenance": [
    {
     "file_id": "1TgtHEDBji4dV3a6YIUmOFESc5OVdKdHa",
     "timestamp": 1647836565932
    },
    {
     "file_id": "19U60xtpYAvZK5Z7cH1ccKsVFnYrTxB1a",
     "timestamp": 1647836546844
    }
   ]
  },
  "kernelspec": {
   "display_name": "Python 3 (ipykernel)",
   "language": "python",
   "name": "python3"
  },
  "language_info": {
   "codemirror_mode": {
    "name": "ipython",
    "version": 3
   },
   "file_extension": ".py",
   "mimetype": "text/x-python",
   "name": "python",
   "nbconvert_exporter": "python",
   "pygments_lexer": "ipython3",
   "version": "3.9.7"
  }
 },
 "nbformat": 4,
 "nbformat_minor": 1
}
