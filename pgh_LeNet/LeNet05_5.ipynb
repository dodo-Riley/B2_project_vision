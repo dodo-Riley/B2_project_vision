{
 "cells": [
  {
   "cell_type": "code",
   "execution_count": 1,
   "metadata": {
    "executionInfo": {
     "elapsed": 2,
     "status": "ok",
     "timestamp": 1647841162542,
     "user": {
      "displayName": "GH Park",
      "photoUrl": "https://lh3.googleusercontent.com/a-/AOh14GivJSsDPXq9kt7jR8zdgkeS3WsGCX9hjmhuf3_59A=s64",
      "userId": "09922152593640424511"
     },
     "user_tz": -540
    },
    "id": "JWcR3f97xiHT"
   },
   "outputs": [],
   "source": [
    "# 모듈 호출\n",
    "from PIL import Image\n",
    "import numpy as np\n",
    "import cv2\n",
    "import matplotlib.pyplot as plt\n",
    "import pandas as pd\n",
    "import tensorflow as tf\n",
    "from tensorflow import keras\n",
    "from tensorflow.keras.models import Sequential\n",
    "from tensorflow.keras.layers import Conv2D,Dense,Flatten,Dropout,AvgPool2D\n",
    "from tensorflow.keras.preprocessing.image import ImageDataGenerator\n",
    "from tensorflow.keras.callbacks import EarlyStopping, ReduceLROnPlateau"
   ]
  },
  {
   "cell_type": "code",
   "execution_count": 2,
   "metadata": {
    "colab": {
     "base_uri": "https://localhost:8080/"
    },
    "executionInfo": {
     "elapsed": 14896,
     "status": "ok",
     "timestamp": 1647841179494,
     "user": {
      "displayName": "GH Park",
      "photoUrl": "https://lh3.googleusercontent.com/a-/AOh14GivJSsDPXq9kt7jR8zdgkeS3WsGCX9hjmhuf3_59A=s64",
      "userId": "09922152593640424511"
     },
     "user_tz": -540
    },
    "id": "fZpGXoGahUky",
    "outputId": "0eff6af7-ad03-4e25-db50-3e6d54440fa0"
   },
   "outputs": [],
   "source": [
    "# # 드라이브 마운트\n",
    "# from google.colab import drive\n",
    "# drive.mount('/content/drive')"
   ]
  },
  {
   "cell_type": "code",
   "execution_count": 3,
   "metadata": {
    "colab": {
     "base_uri": "https://localhost:8080/"
    },
    "executionInfo": {
     "elapsed": 234,
     "status": "ok",
     "timestamp": 1647841183606,
     "user": {
      "displayName": "GH Park",
      "photoUrl": "https://lh3.googleusercontent.com/a-/AOh14GivJSsDPXq9kt7jR8zdgkeS3WsGCX9hjmhuf3_59A=s64",
      "userId": "09922152593640424511"
     },
     "user_tz": -540
    },
    "id": "LHlfuD_FoSnX",
    "outputId": "5380339d-03fa-42be-f1c2-c38bac4c171e"
   },
   "outputs": [],
   "source": [
    "# cd /content/drive/MyDrive/안봐도보이조_project"
   ]
  },
  {
   "cell_type": "markdown",
   "metadata": {
    "id": "hB0xVhmGkdQy"
   },
   "source": [
    "# 모델링"
   ]
  },
  {
   "cell_type": "markdown",
   "metadata": {},
   "source": [
    "- 데이터셋 정의"
   ]
  },
  {
   "cell_type": "code",
   "execution_count": 4,
   "metadata": {
    "colab": {
     "base_uri": "https://localhost:8080/"
    },
    "executionInfo": {
     "elapsed": 23511,
     "status": "ok",
     "timestamp": 1647841212196,
     "user": {
      "displayName": "GH Park",
      "photoUrl": "https://lh3.googleusercontent.com/a-/AOh14GivJSsDPXq9kt7jR8zdgkeS3WsGCX9hjmhuf3_59A=s64",
      "userId": "09922152593640424511"
     },
     "user_tz": -540
    },
    "id": "bqgb-57eIEMA",
    "outputId": "2d47740b-7b3c-40e4-9bc7-eddaad2de14c"
   },
   "outputs": [
    {
     "name": "stdout",
     "output_type": "stream",
     "text": [
      "Found 10529 images belonging to 10 classes.\n",
      "Found 1000 images belonging to 10 classes.\n",
      "Found 500 images belonging to 10 classes.\n"
     ]
    }
   ],
   "source": [
    "train_datagen = ImageDataGenerator( \n",
    "        rescale=1./255,         # 픽셀 값을 0~1 범위로 변환\n",
    "        rotation_range=40,      # 40도까지 회전\n",
    "        width_shift_range=0.2,  # 20%까지 좌우 이동\n",
    "        height_shift_range=0.2, # 20%까지 상하 이동\n",
    "        shear_range=0.2,        # 20%까지 기울임\n",
    "        zoom_range=0.2,         # 20%까지 확대\n",
    "        horizontal_flip=True,   # 좌우 뒤집기\n",
    "    )\n",
    "train_generator = train_datagen.flow_from_directory(\n",
    "    './train_10',\n",
    "    batch_size=50,      \n",
    "    class_mode='categorical', \n",
    "    target_size=(64, 64)) \n",
    "valid_datagen = ImageDataGenerator(rescale=1./255) # 스케일링만 진행\n",
    "valid_generator = valid_datagen.flow_from_directory(\n",
    "    './valid_10',\n",
    "    batch_size=20,      \n",
    "    class_mode='categorical', \n",
    "    target_size=(64, 64))\n",
    "test_datagen = ImageDataGenerator(rescale=1./255) # 스케일링만 진행\n",
    "test_generator = test_datagen.flow_from_directory(\n",
    "    './test_10',\n",
    "    batch_size=10,      \n",
    "    class_mode='categorical', \n",
    "    target_size=(64, 64),shuffle=False)"
   ]
  },
  {
   "cell_type": "code",
   "execution_count": 5,
   "metadata": {
    "colab": {
     "base_uri": "https://localhost:8080/"
    },
    "executionInfo": {
     "elapsed": 248,
     "status": "ok",
     "timestamp": 1647841218088,
     "user": {
      "displayName": "GH Park",
      "photoUrl": "https://lh3.googleusercontent.com/a-/AOh14GivJSsDPXq9kt7jR8zdgkeS3WsGCX9hjmhuf3_59A=s64",
      "userId": "09922152593640424511"
     },
     "user_tz": -540
    },
    "id": "uFO_mQSRMrt8",
    "outputId": "a8c55cc7-887f-4291-db83-4739ef9c72ac"
   },
   "outputs": [
    {
     "name": "stdout",
     "output_type": "stream",
     "text": [
      "{'갈아만든배': 0, '레쓰비': 1, '마운틴듀': 2, '밀키스': 3, '스프라이트': 4, '칠성사이다': 5, '코카콜라': 6, '트로피카나망고': 7, '펩시콜라': 8, '환타오렌지': 9}\n"
     ]
    }
   ],
   "source": [
    "print(train_generator.class_indices)"
   ]
  },
  {
   "cell_type": "code",
   "execution_count": 6,
   "metadata": {
    "colab": {
     "base_uri": "https://localhost:8080/"
    },
    "executionInfo": {
     "elapsed": 421,
     "status": "ok",
     "timestamp": 1647837952965,
     "user": {
      "displayName": "GH Park",
      "photoUrl": "https://lh3.googleusercontent.com/a-/AOh14GivJSsDPXq9kt7jR8zdgkeS3WsGCX9hjmhuf3_59A=s64",
      "userId": "09922152593640424511"
     },
     "user_tz": -540
    },
    "id": "T_pB3dTahkuD",
    "outputId": "9f7f3ca1-c879-4cca-8ab1-0ebcd0df937e"
   },
   "outputs": [
    {
     "name": "stdout",
     "output_type": "stream",
     "text": [
      "{'갈아만든배': 0, '레쓰비': 1, '마운틴듀': 2, '밀키스': 3, '스프라이트': 4, '칠성사이다': 5, '코카콜라': 6, '트로피카나망고': 7, '펩시콜라': 8, '환타오렌지': 9}\n"
     ]
    }
   ],
   "source": [
    "print(valid_generator.class_indices)"
   ]
  },
  {
   "cell_type": "code",
   "execution_count": 7,
   "metadata": {
    "colab": {
     "base_uri": "https://localhost:8080/"
    },
    "executionInfo": {
     "elapsed": 404,
     "status": "ok",
     "timestamp": 1647837954591,
     "user": {
      "displayName": "GH Park",
      "photoUrl": "https://lh3.googleusercontent.com/a-/AOh14GivJSsDPXq9kt7jR8zdgkeS3WsGCX9hjmhuf3_59A=s64",
      "userId": "09922152593640424511"
     },
     "user_tz": -540
    },
    "id": "3Hq17XjdZC6X",
    "outputId": "7d9a0a98-d35f-4ce0-9493-dc22e96767db"
   },
   "outputs": [
    {
     "name": "stdout",
     "output_type": "stream",
     "text": [
      "{'갈아만든배': 0, '레쓰비': 1, '마운틴듀': 2, '밀키스': 3, '스프라이트': 4, '칠성사이다': 5, '코카콜라': 6, '트로피카나망고': 7, '펩시콜라': 8, '환타오렌지': 9}\n"
     ]
    }
   ],
   "source": [
    "print(test_generator.class_indices)"
   ]
  },
  {
   "cell_type": "markdown",
   "metadata": {
    "id": "2fvvgX6vyD_H"
   },
   "source": [
    "# LeNet-5\n",
    "- Yann LeCun (얀 르쿤)의 \"Gradient-based learning applied to document recognition\" 논문에서 손글씨 숫자 인식하는데 문제를 해결하기 위해 사용된 모델\n",
    "- 3차원인 MNIST 데이터 (28,28,1)를 input으로 함"
   ]
  },
  {
   "cell_type": "code",
   "execution_count": 8,
   "metadata": {},
   "outputs": [],
   "source": [
    "# LeNet 모델링\n",
    "model = Sequential()\n",
    "model.add(Conv2D(6,5,strides=1,activation='relu',input_shape=(64,64,3),padding='same'))\n",
    "model.add(AvgPool2D(2,strides=2))\n",
    "model.add(Conv2D(16,5,strides=1,activation='relu'))\n",
    "model.add(AvgPool2D(2,strides=2))\n",
    "model.add(Conv2D(120,5,strides=1,activation='relu'))\n",
    "model.add(Flatten())\n",
    "model.add(Dense(84,activation='tanh'))\n",
    "model.add(Dense(10,activation='softmax'))\n",
    "model.compile(optimizer='adam',\n",
    "             loss='categorical_crossentropy',\n",
    "             metrics=['accuracy'])"
   ]
  },
  {
   "cell_type": "code",
   "execution_count": 9,
   "metadata": {},
   "outputs": [],
   "source": [
    "# Early_stopping\n",
    "early_stopping_callback = EarlyStopping(monitor='val_loss', # 판별 기준 : val_loss\n",
    "                                        patience=10,        # 10회동안 성능개선 없을시 시행 > 학습종료\n",
    "                                       verbose=1)           # 콜백 실행 시 표시"
   ]
  },
  {
   "cell_type": "code",
   "execution_count": 10,
   "metadata": {},
   "outputs": [],
   "source": [
    "# ReduceLROnPlateau\n",
    "reduce_lr_callback = ReduceLROnPlateau(monitor = 'val_loss', # 판별 기준 : val_loss\n",
    "                                      patience = 5,          # 5회동안 성능개선 없을 시 시행\n",
    "                                      factor = 0.2,          # learning rate 값에 0.2를 곱해줌\n",
    "                                      min_lr= 0.0001,        # learning rate 최소값 : 0.0001\n",
    "                                      verbose = 1)           # 콜백 실행 시 표시"
   ]
  },
  {
   "cell_type": "code",
   "execution_count": 11,
   "metadata": {},
   "outputs": [
    {
     "name": "stdout",
     "output_type": "stream",
     "text": [
      "Model: \"sequential\"\n",
      "_________________________________________________________________\n",
      " Layer (type)                Output Shape              Param #   \n",
      "=================================================================\n",
      " conv2d (Conv2D)             (None, 64, 64, 6)         456       \n",
      "                                                                 \n",
      " average_pooling2d (AverageP  (None, 32, 32, 6)        0         \n",
      " ooling2D)                                                       \n",
      "                                                                 \n",
      " conv2d_1 (Conv2D)           (None, 28, 28, 16)        2416      \n",
      "                                                                 \n",
      " average_pooling2d_1 (Averag  (None, 14, 14, 16)       0         \n",
      " ePooling2D)                                                     \n",
      "                                                                 \n",
      " conv2d_2 (Conv2D)           (None, 10, 10, 120)       48120     \n",
      "                                                                 \n",
      " flatten (Flatten)           (None, 12000)             0         \n",
      "                                                                 \n",
      " dense (Dense)               (None, 84)                1008084   \n",
      "                                                                 \n",
      " dense_1 (Dense)             (None, 10)                850       \n",
      "                                                                 \n",
      "=================================================================\n",
      "Total params: 1,059,926\n",
      "Trainable params: 1,059,926\n",
      "Non-trainable params: 0\n",
      "_________________________________________________________________\n"
     ]
    }
   ],
   "source": [
    "model.summary()"
   ]
  },
  {
   "cell_type": "markdown",
   "metadata": {},
   "source": [
    "## 모델 훈련하기\n",
    "- steps_per_epoch : max (train의 총 이미지갯수//train의 batch_size)\n",
    "- validation_steps : max (valid의 총 이미지갯수//valid의 batch_size)\n",
    "- epochs = 1000 : 1000회 반복\n",
    "- callback 함수\n",
    "    - EarlyStopping(monitor='val_loss', patience=10, verbose = 1)\n",
    "        - 10회동안 성능 개선 없을 시 학습 종료\n",
    "    - ReduceLROnPlateau(monitor='val_loss',patience=5,factor=0.2,min_lr=0.0001,verbose=1)\n",
    "        - 5회동안 성능 개선 없을 시 learning rate 조절\n",
    "        - 기존 learning rate 값에 factor(=0.2) 값을 곱함\n",
    "        - learning rate 값의 최솟값은 0.0001"
   ]
  },
  {
   "cell_type": "code",
   "execution_count": 12,
   "metadata": {
    "colab": {
     "base_uri": "https://localhost:8080/"
    },
    "id": "GkF6XioOk2gW",
    "outputId": "1dbd3afd-1cf2-48eb-9394-b40d12a6b130"
   },
   "outputs": [
    {
     "name": "stdout",
     "output_type": "stream",
     "text": [
      "Epoch 1/1000\n",
      "210/210 [==============================] - 18s 72ms/step - loss: 1.3551 - accuracy: 0.4448 - val_loss: 0.8582 - val_accuracy: 0.6520 - lr: 0.0010\n",
      "Epoch 2/1000\n",
      "210/210 [==============================] - 15s 71ms/step - loss: 0.6051 - accuracy: 0.7359 - val_loss: 0.4614 - val_accuracy: 0.7740 - lr: 0.0010\n",
      "Epoch 3/1000\n",
      "210/210 [==============================] - 15s 71ms/step - loss: 0.3647 - accuracy: 0.8468 - val_loss: 0.2963 - val_accuracy: 0.8880 - lr: 0.0010\n",
      "Epoch 4/1000\n",
      "210/210 [==============================] - 15s 71ms/step - loss: 0.2680 - accuracy: 0.8909 - val_loss: 0.3006 - val_accuracy: 0.8670 - lr: 0.0010\n",
      "Epoch 5/1000\n",
      "210/210 [==============================] - 15s 72ms/step - loss: 0.2124 - accuracy: 0.9118 - val_loss: 0.1527 - val_accuracy: 0.9440 - lr: 0.0010\n",
      "Epoch 6/1000\n",
      "210/210 [==============================] - 15s 73ms/step - loss: 0.1790 - accuracy: 0.9258 - val_loss: 0.1637 - val_accuracy: 0.9310 - lr: 0.0010\n",
      "Epoch 7/1000\n",
      "210/210 [==============================] - 15s 71ms/step - loss: 0.2050 - accuracy: 0.9164 - val_loss: 0.0960 - val_accuracy: 0.9710 - lr: 0.0010\n",
      "Epoch 8/1000\n",
      "210/210 [==============================] - 15s 71ms/step - loss: 0.1429 - accuracy: 0.9411 - val_loss: 0.1041 - val_accuracy: 0.9690 - lr: 0.0010\n",
      "Epoch 9/1000\n",
      "210/210 [==============================] - 15s 72ms/step - loss: 0.1434 - accuracy: 0.9434 - val_loss: 0.1198 - val_accuracy: 0.9630 - lr: 0.0010\n",
      "Epoch 10/1000\n",
      "210/210 [==============================] - 15s 72ms/step - loss: 0.1475 - accuracy: 0.9430 - val_loss: 0.1239 - val_accuracy: 0.9420 - lr: 0.0010\n",
      "Epoch 11/1000\n",
      "210/210 [==============================] - 15s 73ms/step - loss: 0.1494 - accuracy: 0.9425 - val_loss: 0.0979 - val_accuracy: 0.9590 - lr: 0.0010\n",
      "Epoch 12/1000\n",
      "210/210 [==============================] - ETA: 0s - loss: 0.1182 - accuracy: 0.9518\n",
      "Epoch 00012: ReduceLROnPlateau reducing learning rate to 0.00020000000949949026.\n",
      "210/210 [==============================] - 15s 72ms/step - loss: 0.1182 - accuracy: 0.9518 - val_loss: 0.1014 - val_accuracy: 0.9640 - lr: 0.0010\n",
      "Epoch 13/1000\n",
      "210/210 [==============================] - 15s 73ms/step - loss: 0.0785 - accuracy: 0.9692 - val_loss: 0.0531 - val_accuracy: 0.9800 - lr: 2.0000e-04\n",
      "Epoch 14/1000\n",
      "210/210 [==============================] - 15s 71ms/step - loss: 0.0656 - accuracy: 0.9752 - val_loss: 0.0431 - val_accuracy: 0.9870 - lr: 2.0000e-04\n",
      "Epoch 15/1000\n",
      "210/210 [==============================] - 15s 73ms/step - loss: 0.0630 - accuracy: 0.9772 - val_loss: 0.0511 - val_accuracy: 0.9830 - lr: 2.0000e-04\n",
      "Epoch 16/1000\n",
      "210/210 [==============================] - 15s 71ms/step - loss: 0.0556 - accuracy: 0.9798 - val_loss: 0.0387 - val_accuracy: 0.9890 - lr: 2.0000e-04\n",
      "Epoch 17/1000\n",
      "210/210 [==============================] - 15s 72ms/step - loss: 0.0529 - accuracy: 0.9807 - val_loss: 0.0332 - val_accuracy: 0.9900 - lr: 2.0000e-04\n",
      "Epoch 18/1000\n",
      "210/210 [==============================] - 15s 73ms/step - loss: 0.0513 - accuracy: 0.9817 - val_loss: 0.0332 - val_accuracy: 0.9910 - lr: 2.0000e-04\n",
      "Epoch 19/1000\n",
      "210/210 [==============================] - 15s 71ms/step - loss: 0.0458 - accuracy: 0.9845 - val_loss: 0.0252 - val_accuracy: 0.9940 - lr: 2.0000e-04\n",
      "Epoch 20/1000\n",
      "210/210 [==============================] - 15s 73ms/step - loss: 0.0470 - accuracy: 0.9842 - val_loss: 0.0323 - val_accuracy: 0.9920 - lr: 2.0000e-04\n",
      "Epoch 21/1000\n",
      "210/210 [==============================] - 15s 72ms/step - loss: 0.0463 - accuracy: 0.9835 - val_loss: 0.0322 - val_accuracy: 0.9870 - lr: 2.0000e-04\n",
      "Epoch 22/1000\n",
      "210/210 [==============================] - 15s 73ms/step - loss: 0.0453 - accuracy: 0.9838 - val_loss: 0.0238 - val_accuracy: 0.9940 - lr: 2.0000e-04\n",
      "Epoch 23/1000\n",
      "210/210 [==============================] - 15s 72ms/step - loss: 0.0361 - accuracy: 0.9881 - val_loss: 0.0336 - val_accuracy: 0.9910 - lr: 2.0000e-04\n",
      "Epoch 24/1000\n",
      "210/210 [==============================] - 15s 72ms/step - loss: 0.0418 - accuracy: 0.9847 - val_loss: 0.0223 - val_accuracy: 0.9950 - lr: 2.0000e-04\n",
      "Epoch 25/1000\n",
      "210/210 [==============================] - 15s 73ms/step - loss: 0.0347 - accuracy: 0.9879 - val_loss: 0.0279 - val_accuracy: 0.9920 - lr: 2.0000e-04\n",
      "Epoch 26/1000\n",
      "210/210 [==============================] - 15s 72ms/step - loss: 0.0398 - accuracy: 0.9854 - val_loss: 0.0391 - val_accuracy: 0.9870 - lr: 2.0000e-04\n",
      "Epoch 27/1000\n",
      "210/210 [==============================] - 15s 71ms/step - loss: 0.0408 - accuracy: 0.9847 - val_loss: 0.0152 - val_accuracy: 0.9970 - lr: 2.0000e-04\n",
      "Epoch 28/1000\n",
      "210/210 [==============================] - 15s 71ms/step - loss: 0.0390 - accuracy: 0.9866 - val_loss: 0.0260 - val_accuracy: 0.9920 - lr: 2.0000e-04\n",
      "Epoch 29/1000\n",
      "210/210 [==============================] - 15s 71ms/step - loss: 0.0320 - accuracy: 0.9888 - val_loss: 0.0230 - val_accuracy: 0.9930 - lr: 2.0000e-04\n",
      "Epoch 30/1000\n",
      "210/210 [==============================] - 15s 73ms/step - loss: 0.0326 - accuracy: 0.9895 - val_loss: 0.0186 - val_accuracy: 0.9950 - lr: 2.0000e-04\n",
      "Epoch 31/1000\n",
      "210/210 [==============================] - 15s 71ms/step - loss: 0.0298 - accuracy: 0.9902 - val_loss: 0.0127 - val_accuracy: 0.9990 - lr: 2.0000e-04\n",
      "Epoch 32/1000\n",
      "210/210 [==============================] - 15s 70ms/step - loss: 0.0342 - accuracy: 0.9875 - val_loss: 0.0223 - val_accuracy: 0.9910 - lr: 2.0000e-04\n",
      "Epoch 33/1000\n",
      "210/210 [==============================] - 15s 71ms/step - loss: 0.0318 - accuracy: 0.9888 - val_loss: 0.0142 - val_accuracy: 0.9980 - lr: 2.0000e-04\n",
      "Epoch 34/1000\n",
      "210/210 [==============================] - 15s 71ms/step - loss: 0.0228 - accuracy: 0.9930 - val_loss: 0.0232 - val_accuracy: 0.9920 - lr: 2.0000e-04\n",
      "Epoch 35/1000\n",
      "210/210 [==============================] - 15s 71ms/step - loss: 0.0333 - accuracy: 0.9870 - val_loss: 0.0385 - val_accuracy: 0.9870 - lr: 2.0000e-04\n",
      "Epoch 36/1000\n",
      "210/210 [==============================] - ETA: 0s - loss: 0.0285 - accuracy: 0.9896\n",
      "Epoch 00036: ReduceLROnPlateau reducing learning rate to 0.0001.\n",
      "210/210 [==============================] - 15s 71ms/step - loss: 0.0285 - accuracy: 0.9896 - val_loss: 0.0193 - val_accuracy: 0.9960 - lr: 2.0000e-04\n",
      "Epoch 37/1000\n",
      "210/210 [==============================] - 15s 71ms/step - loss: 0.0168 - accuracy: 0.9952 - val_loss: 0.0132 - val_accuracy: 0.9980 - lr: 1.0000e-04\n",
      "Epoch 38/1000\n",
      "210/210 [==============================] - 15s 71ms/step - loss: 0.0193 - accuracy: 0.9932 - val_loss: 0.0094 - val_accuracy: 0.9990 - lr: 1.0000e-04\n",
      "Epoch 39/1000\n",
      "210/210 [==============================] - 15s 71ms/step - loss: 0.0189 - accuracy: 0.9940 - val_loss: 0.0112 - val_accuracy: 0.9990 - lr: 1.0000e-04\n",
      "Epoch 40/1000\n",
      "210/210 [==============================] - 15s 71ms/step - loss: 0.0188 - accuracy: 0.9946 - val_loss: 0.0107 - val_accuracy: 0.9990 - lr: 1.0000e-04\n",
      "Epoch 41/1000\n",
      "210/210 [==============================] - 15s 71ms/step - loss: 0.0155 - accuracy: 0.9961 - val_loss: 0.0078 - val_accuracy: 0.9990 - lr: 1.0000e-04\n",
      "Epoch 42/1000\n",
      "210/210 [==============================] - 15s 71ms/step - loss: 0.0158 - accuracy: 0.9948 - val_loss: 0.0161 - val_accuracy: 0.9940 - lr: 1.0000e-04\n",
      "Epoch 43/1000\n",
      "210/210 [==============================] - 15s 71ms/step - loss: 0.0167 - accuracy: 0.9949 - val_loss: 0.0102 - val_accuracy: 0.9980 - lr: 1.0000e-04\n",
      "Epoch 44/1000\n",
      "210/210 [==============================] - 15s 71ms/step - loss: 0.0151 - accuracy: 0.9953 - val_loss: 0.0082 - val_accuracy: 0.9990 - lr: 1.0000e-04\n",
      "Epoch 45/1000\n",
      "210/210 [==============================] - 15s 71ms/step - loss: 0.0194 - accuracy: 0.9933 - val_loss: 0.0084 - val_accuracy: 0.9990 - lr: 1.0000e-04\n",
      "Epoch 46/1000\n",
      "210/210 [==============================] - 15s 71ms/step - loss: 0.0141 - accuracy: 0.9956 - val_loss: 0.0093 - val_accuracy: 0.9990 - lr: 1.0000e-04\n",
      "Epoch 47/1000\n",
      "210/210 [==============================] - 15s 71ms/step - loss: 0.0154 - accuracy: 0.9949 - val_loss: 0.0093 - val_accuracy: 0.9990 - lr: 1.0000e-04\n",
      "Epoch 48/1000\n",
      "210/210 [==============================] - 15s 71ms/step - loss: 0.0179 - accuracy: 0.9946 - val_loss: 0.0098 - val_accuracy: 0.9980 - lr: 1.0000e-04\n",
      "Epoch 49/1000\n"
     ]
    },
    {
     "name": "stdout",
     "output_type": "stream",
     "text": [
      "210/210 [==============================] - 15s 71ms/step - loss: 0.0179 - accuracy: 0.9942 - val_loss: 0.0088 - val_accuracy: 0.9990 - lr: 1.0000e-04\n",
      "Epoch 50/1000\n",
      "210/210 [==============================] - 15s 70ms/step - loss: 0.0128 - accuracy: 0.9961 - val_loss: 0.0093 - val_accuracy: 0.9990 - lr: 1.0000e-04\n",
      "Epoch 51/1000\n",
      "210/210 [==============================] - 16s 74ms/step - loss: 0.0102 - accuracy: 0.9975 - val_loss: 0.0108 - val_accuracy: 0.9980 - lr: 1.0000e-04\n",
      "Epoch 00051: early stopping\n"
     ]
    }
   ],
   "source": [
    "history = model.fit(train_generator,\n",
    "                    steps_per_epoch=10529//50, # max : 총 이미지 수 / batch_size\n",
    "                    epochs=1000, \n",
    "                    validation_data=valid_generator, \n",
    "                    validation_steps=1000//20,\n",
    "                    callbacks=[early_stopping_callback, reduce_lr_callback]\n",
    "                    ) "
   ]
  },
  {
   "cell_type": "markdown",
   "metadata": {},
   "source": [
    "- 모델 성능 평가하기"
   ]
  },
  {
   "cell_type": "code",
   "execution_count": 13,
   "metadata": {
    "colab": {
     "base_uri": "https://localhost:8080/"
    },
    "executionInfo": {
     "elapsed": 94687,
     "status": "ok",
     "timestamp": 1647783612001,
     "user": {
      "displayName": "송종호",
      "photoUrl": "https://lh3.googleusercontent.com/a-/AOh14Ggw9AtKSIFJsDxvVfGveri4440iMF0PN91N6_8RwA=s64",
      "userId": "03405166047213017267"
     },
     "user_tz": -540
    },
    "id": "4boe5N-AbGuS",
    "outputId": "51bf0bdb-c95a-4b7d-adfd-de46a6b90a6b"
   },
   "outputs": [
    {
     "name": "stdout",
     "output_type": "stream",
     "text": [
      "50/50 [==============================] - 0s 8ms/step - loss: 0.0089 - accuracy: 0.9980\n"
     ]
    },
    {
     "data": {
      "text/plain": [
       "[0.00886728148907423, 0.9980000257492065]"
      ]
     },
     "execution_count": 13,
     "metadata": {},
     "output_type": "execute_result"
    }
   ],
   "source": [
    "model.evaluate(test_generator)"
   ]
  },
  {
   "cell_type": "markdown",
   "metadata": {},
   "source": [
    "- 모델 성능 시각화"
   ]
  },
  {
   "cell_type": "code",
   "execution_count": 14,
   "metadata": {
    "colab": {
     "base_uri": "https://localhost:8080/",
     "height": 368
    },
    "executionInfo": {
     "elapsed": 840,
     "status": "ok",
     "timestamp": 1647783612829,
     "user": {
      "displayName": "송종호",
      "photoUrl": "https://lh3.googleusercontent.com/a-/AOh14Ggw9AtKSIFJsDxvVfGveri4440iMF0PN91N6_8RwA=s64",
      "userId": "03405166047213017267"
     },
     "user_tz": -540
    },
    "id": "GOzc0TsbaHF8",
    "outputId": "61a1c630-df22-4f38-90ba-604ec576174b"
   },
   "outputs": [
    {
     "data": {
      "text/plain": [
       "<matplotlib.legend.Legend at 0x1ce2d150fd0>"
      ]
     },
     "execution_count": 14,
     "metadata": {},
     "output_type": "execute_result"
    },
    {
     "data": {
      "image/png": "[encoded data removed]",
      "text/plain": [
       "<Figure size 1152x360 with 2 Axes>"
      ]
     },
     "metadata": {
      "needs_background": "light"
     },
     "output_type": "display_data"
    }
   ],
   "source": [
    "plt.figure(figsize=(16,5))\n",
    "\n",
    "# 만들어진 모델에 대해 train dataset과 validation dataset의 loss 를 그래프로 표현해 봅니다.\n",
    "plt.subplot(1, 2, 1)\n",
    "plt.plot(history.history['loss'])\n",
    "plt.plot(history.history['val_loss'])\n",
    "plt.title('model loss')\n",
    "plt.ylabel('loss')\n",
    "plt.xlabel('epoch')\n",
    "plt.legend(['train', 'validation'], loc=0)\n",
    "\n",
    "# 만들어진 모델에 대해 train dataset과 validation dataset의 accuracy 를 그래프로 표현해 봅니다.\n",
    "plt.subplot(1, 2, 2)\n",
    "plt.plot(history.history['accuracy'])\n",
    "plt.plot(history.history['val_accuracy'])\n",
    "plt.title('model accuracy')\n",
    "plt.ylabel('accuracy')\n",
    "plt.xlabel('epoch')\n",
    "plt.legend(['train', 'validation'], loc=0)"
   ]
  },
  {
   "cell_type": "markdown",
   "metadata": {},
   "source": [
    "- 모델 저장"
   ]
  },
  {
   "cell_type": "code",
   "execution_count": 15,
   "metadata": {
    "id": "jx-OziswaYsr"
   },
   "outputs": [],
   "source": [
    "model.save('./model/LeNet05_local_05.h5')"
   ]
  },
  {
   "cell_type": "markdown",
   "metadata": {},
   "source": [
    "- 모델 호출"
   ]
  },
  {
   "cell_type": "code",
   "execution_count": 16,
   "metadata": {},
   "outputs": [],
   "source": [
    "from tensorflow.keras.models import load_model\n",
    "model = load_model('./model/LeNet05_local_05.h5')"
   ]
  },
  {
   "cell_type": "markdown",
   "metadata": {},
   "source": [
    "- 모델을 이용하여 직접 촬영한 사진 분류해 보기"
   ]
  },
  {
   "cell_type": "code",
   "execution_count": 17,
   "metadata": {
    "colab": {
     "base_uri": "https://localhost:8080/"
    },
    "executionInfo": {
     "elapsed": 312,
     "status": "ok",
     "timestamp": 1647785576795,
     "user": {
      "displayName": "송종호",
      "photoUrl": "https://lh3.googleusercontent.com/a-/AOh14Ggw9AtKSIFJsDxvVfGveri4440iMF0PN91N6_8RwA=s64",
      "userId": "03405166047213017267"
     },
     "user_tz": -540
    },
    "id": "LcSROMoladI9",
    "outputId": "02c98f28-681e-4c49-bfb9-b99a8469e6f0",
    "scrolled": true
   },
   "outputs": [
    {
     "data": {
      "text/plain": [
       "array([[1.1737295e-06, 4.5501981e-02, 2.4826786e-05, 1.3089880e-06,\n",
       "        2.0472959e-04, 5.4609685e-05, 4.6267895e-05, 3.7241709e-05,\n",
       "        9.5364690e-01, 4.8094004e-04]], dtype=float32)"
      ]
     },
     "execution_count": 17,
     "metadata": {},
     "output_type": "execute_result"
    }
   ],
   "source": [
    "test_img = cv2.imread('./123.jpg')\n",
    "test_img = cv2.cvtColor(test_img, cv2.COLOR_BGR2RGB)\n",
    "test_img = cv2.resize(test_img,(64,64))/255.0\n",
    "test_img = test_img.reshape((1,)+test_img.shape)\n",
    "model.predict(test_img)"
   ]
  },
  {
   "cell_type": "code",
   "execution_count": 18,
   "metadata": {},
   "outputs": [
    {
     "data": {
      "text/plain": [
       "8"
      ]
     },
     "execution_count": 18,
     "metadata": {},
     "output_type": "execute_result"
    }
   ],
   "source": [
    "pred_result = model.predict(test_img).argmax()\n",
    "pred_result"
   ]
  },
  {
   "cell_type": "code",
   "execution_count": 19,
   "metadata": {
    "colab": {
     "base_uri": "https://localhost:8080/"
    },
    "executionInfo": {
     "elapsed": 343,
     "status": "ok",
     "timestamp": 1647785509526,
     "user": {
      "displayName": "송종호",
      "photoUrl": "https://lh3.googleusercontent.com/a-/AOh14Ggw9AtKSIFJsDxvVfGveri4440iMF0PN91N6_8RwA=s64",
      "userId": "03405166047213017267"
     },
     "user_tz": -540
    },
    "id": "a6WiV6atq0wa",
    "outputId": "c4dd417c-503e-4759-a7b9-afe33e9a2ab9"
   },
   "outputs": [
    {
     "data": {
      "text/plain": [
       "{'갈아만든배': 0,\n",
       " '레쓰비': 1,\n",
       " '마운틴듀': 2,\n",
       " '밀키스': 3,\n",
       " '스프라이트': 4,\n",
       " '칠성사이다': 5,\n",
       " '코카콜라': 6,\n",
       " '트로피카나망고': 7,\n",
       " '펩시콜라': 8,\n",
       " '환타오렌지': 9}"
      ]
     },
     "execution_count": 19,
     "metadata": {},
     "output_type": "execute_result"
    }
   ],
   "source": [
    "train_generator.class_indices"
   ]
  },
  {
   "cell_type": "code",
   "execution_count": 20,
   "metadata": {},
   "outputs": [
    {
     "data": {
      "text/plain": [
       "{0: '갈아만든배',\n",
       " 1: '레쓰비',\n",
       " 2: '마운틴듀',\n",
       " 3: '밀키스',\n",
       " 4: '스프라이트',\n",
       " 5: '칠성사이다',\n",
       " 6: '코카콜라',\n",
       " 7: '트로피카나망고',\n",
       " 8: '펩시콜라',\n",
       " 9: '환타오렌지'}"
      ]
     },
     "execution_count": 20,
     "metadata": {},
     "output_type": "execute_result"
    }
   ],
   "source": [
    "result_dict = dict(map(reversed, train_generator.class_indices.items()))\n",
    "result_dict"
   ]
  },
  {
   "cell_type": "code",
   "execution_count": 21,
   "metadata": {
    "scrolled": true
   },
   "outputs": [
    {
     "data": {
      "text/plain": [
       "'펩시콜라'"
      ]
     },
     "execution_count": 21,
     "metadata": {},
     "output_type": "execute_result"
    }
   ],
   "source": [
    "result_dict[pred_result]"
   ]
  },
  {
   "cell_type": "code",
   "execution_count": 22,
   "metadata": {},
   "outputs": [
    {
     "data": {
      "text/plain": [
       "['갈아만든배',\n",
       " '레쓰비',\n",
       " '마운틴듀',\n",
       " '밀키스',\n",
       " '스프라이트',\n",
       " '칠성사이다',\n",
       " '코카콜라',\n",
       " '트로피카나망고',\n",
       " '펩시콜라',\n",
       " '환타오렌지']"
      ]
     },
     "execution_count": 22,
     "metadata": {},
     "output_type": "execute_result"
    }
   ],
   "source": [
    "categories = list(result_dict.values())\n",
    "# 딕셔너리의 value 값을 리스트로 받기\n",
    "categories"
   ]
  },
  {
   "cell_type": "code",
   "execution_count": 23,
   "metadata": {},
   "outputs": [],
   "source": [
    "import matplotlib.pyplot as plt\n",
    "plt.rcParams['font.family'] = 'Malgun Gothic'"
   ]
  },
  {
   "cell_type": "code",
   "execution_count": 24,
   "metadata": {},
   "outputs": [
    {
     "name": "stdout",
     "output_type": "stream",
     "text": [
      "-- Confusion Matrix --\n",
      "[[50  0  0  0  0  0  0  0  0  0]\n",
      " [ 0 50  0  0  0  0  0  0  0  0]\n",
      " [ 0  0 50  0  0  0  0  0  0  0]\n",
      " [ 0  0  0 50  0  0  0  0  0  0]\n",
      " [ 0  0  0  0 50  0  0  0  0  0]\n",
      " [ 0  0  0  0  0 50  0  0  0  0]\n",
      " [ 0  0  0  0  0  0 50  0  0  0]\n",
      " [ 0  0  0  0  0  0  0 50  0  0]\n",
      " [ 0  1  0  0  0  0  0  0 49  0]\n",
      " [ 0  0  0  0  0  0  0  0  0 50]]\n",
      "-- Classification Report --\n",
      "              precision    recall  f1-score   support\n",
      "\n",
      "       갈아만든배       1.00      1.00      1.00        50\n",
      "         레쓰비       0.98      1.00      0.99        50\n",
      "        마운틴듀       1.00      1.00      1.00        50\n",
      "         밀키스       1.00      1.00      1.00        50\n",
      "       스프라이트       1.00      1.00      1.00        50\n",
      "       칠성사이다       1.00      1.00      1.00        50\n",
      "        코카콜라       1.00      1.00      1.00        50\n",
      "     트로피카나망고       1.00      1.00      1.00        50\n",
      "        펩시콜라       1.00      0.98      0.99        50\n",
      "       환타오렌지       1.00      1.00      1.00        50\n",
      "\n",
      "    accuracy                           1.00       500\n",
      "   macro avg       1.00      1.00      1.00       500\n",
      "weighted avg       1.00      1.00      1.00       500\n",
      "\n"
     ]
    }
   ],
   "source": [
    "from sklearn.metrics import classification_report, confusion_matrix\n",
    "\n",
    "np.set_printoptions(precision=2)\n",
    "\n",
    "Y_pred = model.predict(test_generator)\n",
    "classes = test_generator.classes[test_generator.index_array]\n",
    "y_pred = np.argmax(Y_pred, axis=1)  # Returns maximum indices in each row\n",
    "\n",
    "class_names = categories\n",
    "\n",
    "print('-- Confusion Matrix --')\n",
    "print(confusion_matrix(classes, y_pred))\n",
    "\n",
    "\n",
    "\n",
    "print('-- Classification Report --')\n",
    "print(classification_report(classes, y_pred, target_names=class_names))"
   ]
  },
  {
   "cell_type": "code",
   "execution_count": 25,
   "metadata": {},
   "outputs": [
    {
     "data": {
      "text/plain": [
       "<AxesSubplot:>"
      ]
     },
     "execution_count": 25,
     "metadata": {},
     "output_type": "execute_result"
    },
    {
     "data": {
      "image/png": "[encoded data removed]",
      "text/plain": [
       "<Figure size 720x720 with 2 Axes>"
      ]
     },
     "metadata": {
      "needs_background": "light"
     },
     "output_type": "display_data"
    }
   ],
   "source": [
    "import seaborn as sns\n",
    "plt.figure(figsize=(10,10))\n",
    "sns.heatmap(confusion_matrix(classes, y_pred), annot=True, fmt='d',\n",
    "            xticklabels=categories,\n",
    "            yticklabels=categories)\n",
    "# 로컬에서 주피터로 진행해서 히트맵뽑기"
   ]
  }
 ],
 "metadata": {
  "accelerator": "GPU",
  "colab": {
   "collapsed_sections": [
    "tk2WnRQuJAFL",
    "vATUJNJMxeve",
    "ohfgV4EcQw1n",
    "6Sxyf4Q5Q3n7",
    "Asyf_7T2oL3B",
    "n8Ft1XSCRHcU",
    "WBctJKv-TLSE"
   ],
   "name": "LeNet-5.ipynb",
   "provenance": [
    {
     "file_id": "1TgtHEDBji4dV3a6YIUmOFESc5OVdKdHa",
     "timestamp": 1647836565932
    },
    {
     "file_id": "19U60xtpYAvZK5Z7cH1ccKsVFnYrTxB1a",
     "timestamp": 1647836546844
    }
   ]
  },
  "kernelspec": {
   "display_name": "Python 3 (ipykernel)",
   "language": "python",
   "name": "python3"
  },
  "language_info": {
   "codemirror_mode": {
    "name": "ipython",
    "version": 3
   },
   "file_extension": ".py",
   "mimetype": "text/x-python",
   "name": "python",
   "nbconvert_exporter": "python",
   "pygments_lexer": "ipython3",
   "version": "3.9.7"
  }
 },
 "nbformat": 4,
 "nbformat_minor": 1
}
