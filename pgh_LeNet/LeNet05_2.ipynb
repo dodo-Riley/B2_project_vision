{
 "cells": [
  {
   "cell_type": "code",
   "execution_count": 1,
   "metadata": {
    "executionInfo": {
     "elapsed": 2,
     "status": "ok",
     "timestamp": 1647841162542,
     "user": {
      "displayName": "GH Park",
      "photoUrl": "https://lh3.googleusercontent.com/a-/AOh14GivJSsDPXq9kt7jR8zdgkeS3WsGCX9hjmhuf3_59A=s64",
      "userId": "09922152593640424511"
     },
     "user_tz": -540
    },
    "id": "JWcR3f97xiHT"
   },
   "outputs": [],
   "source": [
    "# 모듈 호출\n",
    "from PIL import Image\n",
    "import numpy as np\n",
    "import cv2\n",
    "import matplotlib.pyplot as plt\n",
    "import pandas as pd\n",
    "from tqdm import tqdm\n",
    "import tensorflow as tf\n",
    "from tensorflow import keras\n",
    "from tensorflow.keras.models import Sequential\n",
    "from tensorflow.keras.layers import Conv2D,Dense,Flatten,Dropout,MaxPooling2D, AvgPool2D, AveragePooling2D\n",
    "from tensorflow.keras.preprocessing.image import ImageDataGenerator\n",
    "from tensorflow.keras.callbacks import EarlyStopping"
   ]
  },
  {
   "cell_type": "code",
   "execution_count": 2,
   "metadata": {
    "colab": {
     "base_uri": "https://localhost:8080/"
    },
    "executionInfo": {
     "elapsed": 14896,
     "status": "ok",
     "timestamp": 1647841179494,
     "user": {
      "displayName": "GH Park",
      "photoUrl": "https://lh3.googleusercontent.com/a-/AOh14GivJSsDPXq9kt7jR8zdgkeS3WsGCX9hjmhuf3_59A=s64",
      "userId": "09922152593640424511"
     },
     "user_tz": -540
    },
    "id": "fZpGXoGahUky",
    "outputId": "0eff6af7-ad03-4e25-db50-3e6d54440fa0"
   },
   "outputs": [],
   "source": [
    "# # 드라이브 마운트\n",
    "# from google.colab import drive\n",
    "# drive.mount('/content/drive')"
   ]
  },
  {
   "cell_type": "code",
   "execution_count": 3,
   "metadata": {
    "colab": {
     "base_uri": "https://localhost:8080/"
    },
    "executionInfo": {
     "elapsed": 234,
     "status": "ok",
     "timestamp": 1647841183606,
     "user": {
      "displayName": "GH Park",
      "photoUrl": "https://lh3.googleusercontent.com/a-/AOh14GivJSsDPXq9kt7jR8zdgkeS3WsGCX9hjmhuf3_59A=s64",
      "userId": "09922152593640424511"
     },
     "user_tz": -540
    },
    "id": "LHlfuD_FoSnX",
    "outputId": "5380339d-03fa-42be-f1c2-c38bac4c171e"
   },
   "outputs": [],
   "source": [
    "# cd /content/drive/MyDrive/안봐도보이조_project"
   ]
  },
  {
   "cell_type": "markdown",
   "metadata": {
    "id": "hB0xVhmGkdQy"
   },
   "source": [
    "# 모델링"
   ]
  },
  {
   "cell_type": "code",
   "execution_count": 4,
   "metadata": {
    "colab": {
     "base_uri": "https://localhost:8080/"
    },
    "executionInfo": {
     "elapsed": 23511,
     "status": "ok",
     "timestamp": 1647841212196,
     "user": {
      "displayName": "GH Park",
      "photoUrl": "https://lh3.googleusercontent.com/a-/AOh14GivJSsDPXq9kt7jR8zdgkeS3WsGCX9hjmhuf3_59A=s64",
      "userId": "09922152593640424511"
     },
     "user_tz": -540
    },
    "id": "bqgb-57eIEMA",
    "outputId": "2d47740b-7b3c-40e4-9bc7-eddaad2de14c"
   },
   "outputs": [
    {
     "name": "stdout",
     "output_type": "stream",
     "text": [
      "Found 10529 images belonging to 10 classes.\n",
      "Found 1000 images belonging to 10 classes.\n",
      "Found 500 images belonging to 10 classes.\n"
     ]
    }
   ],
   "source": [
    "train_datagen = ImageDataGenerator( \n",
    "        rescale=1./255,         # 픽셀 값을 0~1 범위로 변환\n",
    "        rotation_range=40,      # 40도까지 회전\n",
    "        width_shift_range=0.2,  # 20%까지 좌우 이동\n",
    "        height_shift_range=0.2, # 20%까지 상하 이동\n",
    "        shear_range=0.2,        # 20%까지 기울임\n",
    "        zoom_range=0.2,         # 20%까지 확대\n",
    "        horizontal_flip=True,   # 좌우 뒤집기\n",
    "    )\n",
    "train_generator = train_datagen.flow_from_directory(\n",
    "    './train_10',\n",
    "    batch_size=50,      \n",
    "    class_mode='categorical', \n",
    "    target_size=(28, 28)) \n",
    "valid_datagen = ImageDataGenerator(rescale=1./255) # 스케일링만 진행\n",
    "valid_generator = valid_datagen.flow_from_directory(\n",
    "    './valid_10',\n",
    "    batch_size=20,      \n",
    "    class_mode='categorical', \n",
    "    target_size=(28, 28))\n",
    "test_datagen = ImageDataGenerator(rescale=1./255) # 스케일링만 진행\n",
    "test_generator = test_datagen.flow_from_directory(\n",
    "    './test_10',\n",
    "    batch_size=10,      \n",
    "    class_mode='categorical', \n",
    "    target_size=(28, 28), shuffle = False)"
   ]
  },
  {
   "cell_type": "code",
   "execution_count": 5,
   "metadata": {
    "colab": {
     "base_uri": "https://localhost:8080/"
    },
    "executionInfo": {
     "elapsed": 248,
     "status": "ok",
     "timestamp": 1647841218088,
     "user": {
      "displayName": "GH Park",
      "photoUrl": "https://lh3.googleusercontent.com/a-/AOh14GivJSsDPXq9kt7jR8zdgkeS3WsGCX9hjmhuf3_59A=s64",
      "userId": "09922152593640424511"
     },
     "user_tz": -540
    },
    "id": "uFO_mQSRMrt8",
    "outputId": "a8c55cc7-887f-4291-db83-4739ef9c72ac"
   },
   "outputs": [
    {
     "name": "stdout",
     "output_type": "stream",
     "text": [
      "{'갈아만든배': 0, '레쓰비': 1, '마운틴듀': 2, '밀키스': 3, '스프라이트': 4, '칠성사이다': 5, '코카콜라': 6, '트로피카나망고': 7, '펩시콜라': 8, '환타오렌지': 9}\n"
     ]
    }
   ],
   "source": [
    "print(train_generator.class_indices)"
   ]
  },
  {
   "cell_type": "code",
   "execution_count": 6,
   "metadata": {
    "colab": {
     "base_uri": "https://localhost:8080/"
    },
    "executionInfo": {
     "elapsed": 421,
     "status": "ok",
     "timestamp": 1647837952965,
     "user": {
      "displayName": "GH Park",
      "photoUrl": "https://lh3.googleusercontent.com/a-/AOh14GivJSsDPXq9kt7jR8zdgkeS3WsGCX9hjmhuf3_59A=s64",
      "userId": "09922152593640424511"
     },
     "user_tz": -540
    },
    "id": "T_pB3dTahkuD",
    "outputId": "9f7f3ca1-c879-4cca-8ab1-0ebcd0df937e"
   },
   "outputs": [
    {
     "name": "stdout",
     "output_type": "stream",
     "text": [
      "{'갈아만든배': 0, '레쓰비': 1, '마운틴듀': 2, '밀키스': 3, '스프라이트': 4, '칠성사이다': 5, '코카콜라': 6, '트로피카나망고': 7, '펩시콜라': 8, '환타오렌지': 9}\n"
     ]
    }
   ],
   "source": [
    "print(valid_generator.class_indices)"
   ]
  },
  {
   "cell_type": "code",
   "execution_count": 7,
   "metadata": {
    "colab": {
     "base_uri": "https://localhost:8080/"
    },
    "executionInfo": {
     "elapsed": 404,
     "status": "ok",
     "timestamp": 1647837954591,
     "user": {
      "displayName": "GH Park",
      "photoUrl": "https://lh3.googleusercontent.com/a-/AOh14GivJSsDPXq9kt7jR8zdgkeS3WsGCX9hjmhuf3_59A=s64",
      "userId": "09922152593640424511"
     },
     "user_tz": -540
    },
    "id": "3Hq17XjdZC6X",
    "outputId": "7d9a0a98-d35f-4ce0-9493-dc22e96767db"
   },
   "outputs": [
    {
     "name": "stdout",
     "output_type": "stream",
     "text": [
      "{'갈아만든배': 0, '레쓰비': 1, '마운틴듀': 2, '밀키스': 3, '스프라이트': 4, '칠성사이다': 5, '코카콜라': 6, '트로피카나망고': 7, '펩시콜라': 8, '환타오렌지': 9}\n"
     ]
    }
   ],
   "source": [
    "print(test_generator.class_indices)"
   ]
  },
  {
   "cell_type": "markdown",
   "metadata": {
    "id": "2fvvgX6vyD_H"
   },
   "source": [
    "# LeNet-5\n",
    "- Yann LeCun (얀 르쿤)의 \"Gradient-based learning applied to document recognition\" 논문에서 손글씨 숫자 인식하는데 문제를 해결하기 위해 사용된 모델\n",
    "- 3차원인 MNIST 데이터 (28,28,1)를 input으로 함\n",
    "- input 설정 >> (28,28,3)"
   ]
  },
  {
   "cell_type": "code",
   "execution_count": 8,
   "metadata": {
    "executionInfo": {
     "elapsed": 227,
     "status": "ok",
     "timestamp": 1647841746846,
     "user": {
      "displayName": "GH Park",
      "photoUrl": "https://lh3.googleusercontent.com/a-/AOh14GivJSsDPXq9kt7jR8zdgkeS3WsGCX9hjmhuf3_59A=s64",
      "userId": "09922152593640424511"
     },
     "user_tz": -540
    },
    "id": "8L8hRe8hkf7x"
   },
   "outputs": [],
   "source": [
    "model = Sequential()\n",
    "model.add(Conv2D(6,5,strides=1,activation='relu',input_shape=(28,28,3),padding='same'))\n",
    "model.add(AvgPool2D(2,strides=2))\n",
    "model.add(Conv2D(16,5,strides=1,activation='relu'))\n",
    "model.add(AvgPool2D(2,strides=2))\n",
    "model.add(Conv2D(120,5,strides=1,activation='relu'))\n",
    "model.add(Flatten())\n",
    "model.add(Dense(84,activation='tanh'))\n",
    "model.add(Dense(10,activation='softmax'))\n",
    "model.compile(optimizer='adam',\n",
    "             loss='categorical_crossentropy',\n",
    "             metrics=['accuracy'])"
   ]
  },
  {
   "cell_type": "code",
   "execution_count": 9,
   "metadata": {
    "colab": {
     "base_uri": "https://localhost:8080/"
    },
    "executionInfo": {
     "elapsed": 370,
     "status": "ok",
     "timestamp": 1647841748618,
     "user": {
      "displayName": "GH Park",
      "photoUrl": "https://lh3.googleusercontent.com/a-/AOh14GivJSsDPXq9kt7jR8zdgkeS3WsGCX9hjmhuf3_59A=s64",
      "userId": "09922152593640424511"
     },
     "user_tz": -540
    },
    "id": "8e2R5MFVktCI",
    "outputId": "b6ac864e-dca3-4319-a715-7a64c182a430"
   },
   "outputs": [
    {
     "name": "stdout",
     "output_type": "stream",
     "text": [
      "Model: \"sequential\"\n",
      "_________________________________________________________________\n",
      " Layer (type)                Output Shape              Param #   \n",
      "=================================================================\n",
      " conv2d (Conv2D)             (None, 28, 28, 6)         456       \n",
      "                                                                 \n",
      " average_pooling2d (AverageP  (None, 14, 14, 6)        0         \n",
      " ooling2D)                                                       \n",
      "                                                                 \n",
      " conv2d_1 (Conv2D)           (None, 10, 10, 16)        2416      \n",
      "                                                                 \n",
      " average_pooling2d_1 (Averag  (None, 5, 5, 16)         0         \n",
      " ePooling2D)                                                     \n",
      "                                                                 \n",
      " conv2d_2 (Conv2D)           (None, 1, 1, 120)         48120     \n",
      "                                                                 \n",
      " flatten (Flatten)           (None, 120)               0         \n",
      "                                                                 \n",
      " dense (Dense)               (None, 84)                10164     \n",
      "                                                                 \n",
      " dense_1 (Dense)             (None, 10)                850       \n",
      "                                                                 \n",
      "=================================================================\n",
      "Total params: 62,006\n",
      "Trainable params: 62,006\n",
      "Non-trainable params: 0\n",
      "_________________________________________________________________\n"
     ]
    }
   ],
   "source": [
    "model.summary()"
   ]
  },
  {
   "cell_type": "code",
   "execution_count": 10,
   "metadata": {
    "colab": {
     "base_uri": "https://localhost:8080/"
    },
    "id": "GkF6XioOk2gW",
    "outputId": "1dbd3afd-1cf2-48eb-9394-b40d12a6b130"
   },
   "outputs": [
    {
     "name": "stdout",
     "output_type": "stream",
     "text": [
      "Epoch 1/30\n",
      "85/85 [==============================] - 7s 54ms/step - loss: 1.8817 - accuracy: 0.2223 - val_loss: 1.5505 - val_accuracy: 0.3250\n",
      "Epoch 2/30\n",
      "85/85 [==============================] - 5s 54ms/step - loss: 1.4352 - accuracy: 0.3958 - val_loss: 1.2746 - val_accuracy: 0.4638\n",
      "Epoch 3/30\n",
      "85/85 [==============================] - 5s 53ms/step - loss: 1.0977 - accuracy: 0.5495 - val_loss: 1.0403 - val_accuracy: 0.5063\n",
      "Epoch 4/30\n",
      "85/85 [==============================] - 5s 54ms/step - loss: 0.7730 - accuracy: 0.6751 - val_loss: 0.6089 - val_accuracy: 0.7513\n",
      "Epoch 5/30\n",
      "85/85 [==============================] - 5s 54ms/step - loss: 0.6192 - accuracy: 0.7306 - val_loss: 0.5101 - val_accuracy: 0.7713\n",
      "Epoch 6/30\n",
      "85/85 [==============================] - 5s 54ms/step - loss: 0.5207 - accuracy: 0.7786 - val_loss: 0.4787 - val_accuracy: 0.7987\n",
      "Epoch 7/30\n",
      "85/85 [==============================] - 5s 54ms/step - loss: 0.4636 - accuracy: 0.8014 - val_loss: 0.6092 - val_accuracy: 0.7350\n",
      "Epoch 8/30\n",
      "85/85 [==============================] - 5s 54ms/step - loss: 0.4152 - accuracy: 0.8167 - val_loss: 0.4772 - val_accuracy: 0.7837\n",
      "Epoch 9/30\n",
      "85/85 [==============================] - 5s 54ms/step - loss: 0.3892 - accuracy: 0.8309 - val_loss: 0.2942 - val_accuracy: 0.8800\n",
      "Epoch 10/30\n",
      "85/85 [==============================] - 5s 54ms/step - loss: 0.3737 - accuracy: 0.8368 - val_loss: 0.4621 - val_accuracy: 0.7925\n",
      "Epoch 11/30\n",
      "85/85 [==============================] - 5s 54ms/step - loss: 0.3622 - accuracy: 0.8419 - val_loss: 0.3275 - val_accuracy: 0.8662\n",
      "Epoch 12/30\n",
      "85/85 [==============================] - 5s 54ms/step - loss: 0.3678 - accuracy: 0.8360 - val_loss: 0.3830 - val_accuracy: 0.8637\n",
      "Epoch 13/30\n",
      "85/85 [==============================] - 5s 54ms/step - loss: 0.3496 - accuracy: 0.8492 - val_loss: 0.2804 - val_accuracy: 0.8913\n",
      "Epoch 14/30\n",
      "85/85 [==============================] - 5s 54ms/step - loss: 0.3133 - accuracy: 0.8659 - val_loss: 0.4090 - val_accuracy: 0.8125\n",
      "Epoch 15/30\n",
      "85/85 [==============================] - 5s 53ms/step - loss: 0.3132 - accuracy: 0.8707 - val_loss: 0.2872 - val_accuracy: 0.8737\n",
      "Epoch 16/30\n",
      "85/85 [==============================] - 5s 54ms/step - loss: 0.3406 - accuracy: 0.8468 - val_loss: 0.3402 - val_accuracy: 0.8725\n",
      "Epoch 17/30\n",
      "85/85 [==============================] - 5s 54ms/step - loss: 0.2791 - accuracy: 0.8801 - val_loss: 0.2251 - val_accuracy: 0.9013\n",
      "Epoch 18/30\n",
      "85/85 [==============================] - 5s 53ms/step - loss: 0.2814 - accuracy: 0.8813 - val_loss: 0.3955 - val_accuracy: 0.8637\n",
      "Epoch 19/30\n",
      "85/85 [==============================] - 5s 54ms/step - loss: 0.3390 - accuracy: 0.8576 - val_loss: 0.3872 - val_accuracy: 0.8250\n",
      "Epoch 20/30\n",
      "85/85 [==============================] - 5s 54ms/step - loss: 0.3031 - accuracy: 0.8707 - val_loss: 0.1899 - val_accuracy: 0.9275\n",
      "Epoch 21/30\n",
      "85/85 [==============================] - 5s 55ms/step - loss: 0.2595 - accuracy: 0.8911 - val_loss: 0.2043 - val_accuracy: 0.9275\n",
      "Epoch 22/30\n",
      "85/85 [==============================] - 5s 54ms/step - loss: 0.2494 - accuracy: 0.8932 - val_loss: 0.2231 - val_accuracy: 0.9150\n",
      "Epoch 23/30\n",
      "85/85 [==============================] - 5s 55ms/step - loss: 0.2560 - accuracy: 0.8922 - val_loss: 0.3166 - val_accuracy: 0.8587\n",
      "Epoch 24/30\n",
      "85/85 [==============================] - 5s 54ms/step - loss: 0.2423 - accuracy: 0.8974 - val_loss: 0.2327 - val_accuracy: 0.9013\n",
      "Epoch 25/30\n",
      "85/85 [==============================] - 5s 56ms/step - loss: 0.2233 - accuracy: 0.9113 - val_loss: 0.1965 - val_accuracy: 0.9175\n",
      "Epoch 26/30\n",
      "85/85 [==============================] - 5s 54ms/step - loss: 0.2500 - accuracy: 0.8936 - val_loss: 0.2484 - val_accuracy: 0.9013\n",
      "Epoch 27/30\n",
      "85/85 [==============================] - 5s 54ms/step - loss: 0.2345 - accuracy: 0.8988 - val_loss: 0.2573 - val_accuracy: 0.8875\n",
      "Epoch 28/30\n",
      "85/85 [==============================] - 5s 54ms/step - loss: 0.2172 - accuracy: 0.9113 - val_loss: 0.2111 - val_accuracy: 0.9175\n",
      "Epoch 29/30\n",
      "85/85 [==============================] - 5s 55ms/step - loss: 0.2157 - accuracy: 0.9066 - val_loss: 0.3382 - val_accuracy: 0.8875\n",
      "Epoch 30/30\n",
      "85/85 [==============================] - 5s 54ms/step - loss: 0.2377 - accuracy: 0.8952 - val_loss: 0.1554 - val_accuracy: 0.9362\n"
     ]
    }
   ],
   "source": [
    "history = model.fit(train_generator,\n",
    "                    steps_per_epoch=85, # max : 총 이미지 수 / batch_size\n",
    "                    epochs=30, \n",
    "                    validation_data=valid_generator, \n",
    "                    validation_steps=40\n",
    "                    ) "
   ]
  },
  {
   "cell_type": "code",
   "execution_count": 11,
   "metadata": {
    "colab": {
     "base_uri": "https://localhost:8080/"
    },
    "executionInfo": {
     "elapsed": 94687,
     "status": "ok",
     "timestamp": 1647783612001,
     "user": {
      "displayName": "송종호",
      "photoUrl": "https://lh3.googleusercontent.com/a-/AOh14Ggw9AtKSIFJsDxvVfGveri4440iMF0PN91N6_8RwA=s64",
      "userId": "03405166047213017267"
     },
     "user_tz": -540
    },
    "id": "4boe5N-AbGuS",
    "outputId": "51bf0bdb-c95a-4b7d-adfd-de46a6b90a6b"
   },
   "outputs": [
    {
     "name": "stdout",
     "output_type": "stream",
     "text": [
      "50/50 [==============================] - 1s 8ms/step - loss: 0.1507 - accuracy: 0.9380\n"
     ]
    },
    {
     "data": {
      "text/plain": [
       "[0.1507464498281479, 0.9380000233650208]"
      ]
     },
     "execution_count": 11,
     "metadata": {},
     "output_type": "execute_result"
    }
   ],
   "source": [
    "model.evaluate(test_generator)"
   ]
  },
  {
   "cell_type": "code",
   "execution_count": 12,
   "metadata": {
    "colab": {
     "base_uri": "https://localhost:8080/",
     "height": 368
    },
    "executionInfo": {
     "elapsed": 840,
     "status": "ok",
     "timestamp": 1647783612829,
     "user": {
      "displayName": "송종호",
      "photoUrl": "https://lh3.googleusercontent.com/a-/AOh14Ggw9AtKSIFJsDxvVfGveri4440iMF0PN91N6_8RwA=s64",
      "userId": "03405166047213017267"
     },
     "user_tz": -540
    },
    "id": "GOzc0TsbaHF8",
    "outputId": "61a1c630-df22-4f38-90ba-604ec576174b"
   },
   "outputs": [
    {
     "data": {
      "text/plain": [
       "<matplotlib.legend.Legend at 0x1a6b61230a0>"
      ]
     },
     "execution_count": 12,
     "metadata": {},
     "output_type": "execute_result"
    },
    {
     "data": {
      "image/png": "[encoded data removed]",
      "text/plain": [
       "<Figure size 1152x360 with 2 Axes>"
      ]
     },
     "metadata": {
      "needs_background": "light"
     },
     "output_type": "display_data"
    }
   ],
   "source": [
    "plt.figure(figsize=(16,5))\n",
    "\n",
    "# 만들어진 모델에 대해 train dataset과 validation dataset의 loss 를 그래프로 표현해 봅니다.\n",
    "plt.subplot(1, 2, 1)\n",
    "plt.plot(history.history['loss'])\n",
    "plt.plot(history.history['val_loss'])\n",
    "plt.title('model loss')\n",
    "plt.ylabel('loss')\n",
    "plt.xlabel('epoch')\n",
    "plt.legend(['train', 'validation'], loc=0)\n",
    "\n",
    "# 만들어진 모델에 대해 train dataset과 validation dataset의 accuracy 를 그래프로 표현해 봅니다.\n",
    "plt.subplot(1, 2, 2)\n",
    "plt.plot(history.history['accuracy'])\n",
    "plt.plot(history.history['val_accuracy'])\n",
    "plt.title('model accuracy')\n",
    "plt.ylabel('accuracy')\n",
    "plt.xlabel('epoch')\n",
    "plt.legend(['train', 'validation'], loc=0)"
   ]
  },
  {
   "cell_type": "code",
   "execution_count": 13,
   "metadata": {
    "id": "jx-OziswaYsr"
   },
   "outputs": [],
   "source": [
    "model.save('./model/LeNet05_local_02.h5')"
   ]
  },
  {
   "cell_type": "code",
   "execution_count": 14,
   "metadata": {
    "colab": {
     "base_uri": "https://localhost:8080/"
    },
    "executionInfo": {
     "elapsed": 312,
     "status": "ok",
     "timestamp": 1647785576795,
     "user": {
      "displayName": "송종호",
      "photoUrl": "https://lh3.googleusercontent.com/a-/AOh14Ggw9AtKSIFJsDxvVfGveri4440iMF0PN91N6_8RwA=s64",
      "userId": "03405166047213017267"
     },
     "user_tz": -540
    },
    "id": "LcSROMoladI9",
    "outputId": "02c98f28-681e-4c49-bfb9-b99a8469e6f0"
   },
   "outputs": [
    {
     "data": {
      "text/plain": [
       "array([[2.3765967e-08, 7.9628211e-01, 5.0604280e-07, 1.9848746e-06,\n",
       "        9.7424017e-06, 9.1874739e-05, 2.9872410e-06, 2.9700760e-07,\n",
       "        2.0361030e-01, 2.3219071e-07]], dtype=float32)"
      ]
     },
     "execution_count": 14,
     "metadata": {},
     "output_type": "execute_result"
    }
   ],
   "source": [
    "test_img = cv2.imread('./123.jpg')\n",
    "test_img = cv2.cvtColor(test_img, cv2.COLOR_BGR2RGB)\n",
    "test_img = cv2.resize(test_img,(28,28))/255.0\n",
    "test_img = test_img.reshape((1,)+test_img.shape)\n",
    "model.predict(test_img)"
   ]
  },
  {
   "cell_type": "code",
   "execution_count": 15,
   "metadata": {
    "colab": {
     "base_uri": "https://localhost:8080/"
    },
    "executionInfo": {
     "elapsed": 343,
     "status": "ok",
     "timestamp": 1647785509526,
     "user": {
      "displayName": "송종호",
      "photoUrl": "https://lh3.googleusercontent.com/a-/AOh14Ggw9AtKSIFJsDxvVfGveri4440iMF0PN91N6_8RwA=s64",
      "userId": "03405166047213017267"
     },
     "user_tz": -540
    },
    "id": "a6WiV6atq0wa",
    "outputId": "c4dd417c-503e-4759-a7b9-afe33e9a2ab9",
    "scrolled": true
   },
   "outputs": [
    {
     "data": {
      "text/plain": [
       "{'갈아만든배': 0,\n",
       " '레쓰비': 1,\n",
       " '마운틴듀': 2,\n",
       " '밀키스': 3,\n",
       " '스프라이트': 4,\n",
       " '칠성사이다': 5,\n",
       " '코카콜라': 6,\n",
       " '트로피카나망고': 7,\n",
       " '펩시콜라': 8,\n",
       " '환타오렌지': 9}"
      ]
     },
     "execution_count": 15,
     "metadata": {},
     "output_type": "execute_result"
    }
   ],
   "source": [
    "train_generator.class_indices"
   ]
  },
  {
   "cell_type": "code",
   "execution_count": 16,
   "metadata": {},
   "outputs": [
    {
     "name": "stdout",
     "output_type": "stream",
     "text": [
      "{0: '갈아만든배', 1: '레쓰비', 2: '마운틴듀', 3: '밀키스', 4: '스프라이트', 5: '칠성사이다', 6: '코카콜라', 7: '트로피카나망고', 8: '펩시콜라', 9: '환타오렌지'} \n",
      " ['갈아만든배', '레쓰비', '마운틴듀', '밀키스', '스프라이트', '칠성사이다', '코카콜라', '트로피카나망고', '펩시콜라', '환타오렌지']\n"
     ]
    }
   ],
   "source": [
    "result_dict = dict(map(reversed, train_generator.class_indices.items()))\n",
    "categories = list(result_dict.values())\n",
    "# 딕셔너리의 value 값을 리스트로 받기\n",
    "print(result_dict,'\\n',categories)"
   ]
  },
  {
   "cell_type": "code",
   "execution_count": 17,
   "metadata": {},
   "outputs": [
    {
     "data": {
      "text/plain": [
       "'레쓰비'"
      ]
     },
     "execution_count": 17,
     "metadata": {},
     "output_type": "execute_result"
    }
   ],
   "source": [
    "pred = model.predict(test_img)\n",
    "result_dict[pred.argmax()]"
   ]
  },
  {
   "cell_type": "code",
   "execution_count": 18,
   "metadata": {},
   "outputs": [],
   "source": [
    "import matplotlib.pyplot as plt\n",
    "plt.rcParams['font.family'] = 'Malgun Gothic'"
   ]
  },
  {
   "cell_type": "code",
   "execution_count": 19,
   "metadata": {},
   "outputs": [
    {
     "name": "stdout",
     "output_type": "stream",
     "text": [
      "-- Confusion Matrix --\n",
      "[[48  0  0  0  0  0  0  2  0  0]\n",
      " [ 0 37  0  0  0  0  0  0 13  0]\n",
      " [ 0  0 49  0  1  0  0  0  0  0]\n",
      " [ 0  0  0 50  0  0  0  0  0  0]\n",
      " [ 0  0  0  0 50  0  0  0  0  0]\n",
      " [ 0  0  0  0 12 38  0  0  0  0]\n",
      " [ 0  0  0  0  0  0 50  0  0  0]\n",
      " [ 0  0  0  0  0  0  0 50  0  0]\n",
      " [ 0  2  0  0  0  0  0  0 48  0]\n",
      " [ 1  0  0  0  0  0  0  0  0 49]]\n",
      "-- Classification Report --\n",
      "              precision    recall  f1-score   support\n",
      "\n",
      "       갈아만든배       0.98      0.96      0.97        50\n",
      "         레쓰비       0.95      0.74      0.83        50\n",
      "        마운틴듀       1.00      0.98      0.99        50\n",
      "         밀키스       1.00      1.00      1.00        50\n",
      "       스프라이트       0.79      1.00      0.88        50\n",
      "       칠성사이다       1.00      0.76      0.86        50\n",
      "        코카콜라       1.00      1.00      1.00        50\n",
      "     트로피카나망고       0.96      1.00      0.98        50\n",
      "        펩시콜라       0.79      0.96      0.86        50\n",
      "       환타오렌지       1.00      0.98      0.99        50\n",
      "\n",
      "    accuracy                           0.94       500\n",
      "   macro avg       0.95      0.94      0.94       500\n",
      "weighted avg       0.95      0.94      0.94       500\n",
      "\n"
     ]
    }
   ],
   "source": [
    "from sklearn.metrics import classification_report, confusion_matrix\n",
    "\n",
    "np.set_printoptions(precision=2)\n",
    "\n",
    "Y_pred = model.predict(test_generator)\n",
    "classes = test_generator.classes[test_generator.index_array]\n",
    "y_pred = np.argmax(Y_pred, axis=1)  # Returns maximum indices in each row\n",
    "\n",
    "class_names = categories\n",
    "\n",
    "print('-- Confusion Matrix --')\n",
    "print(confusion_matrix(classes, y_pred))\n",
    "\n",
    "\n",
    "\n",
    "print('-- Classification Report --')\n",
    "print(classification_report(classes, y_pred, target_names=class_names))"
   ]
  },
  {
   "cell_type": "code",
   "execution_count": 20,
   "metadata": {},
   "outputs": [
    {
     "data": {
      "text/plain": [
       "<AxesSubplot:>"
      ]
     },
     "execution_count": 20,
     "metadata": {},
     "output_type": "execute_result"
    },
    {
     "data": {
      "image/png": "[encoded data removed]",
      "text/plain": [
       "<Figure size 720x720 with 2 Axes>"
      ]
     },
     "metadata": {
      "needs_background": "light"
     },
     "output_type": "display_data"
    }
   ],
   "source": [
    "import seaborn as sns\n",
    "plt.figure(figsize=(10,10))\n",
    "sns.heatmap(confusion_matrix(classes, y_pred), annot=True, fmt='d',\n",
    "            xticklabels=categories,\n",
    "            yticklabels=categories)\n",
    "# 로컬에서 주피터로 진행해서 히트맵뽑기"
   ]
  },
  {
   "cell_type": "code",
   "execution_count": null,
   "metadata": {},
   "outputs": [],
   "source": []
  }
 ],
 "metadata": {
  "accelerator": "GPU",
  "colab": {
   "collapsed_sections": [
    "tk2WnRQuJAFL",
    "vATUJNJMxeve",
    "ohfgV4EcQw1n",
    "6Sxyf4Q5Q3n7",
    "Asyf_7T2oL3B",
    "n8Ft1XSCRHcU",
    "WBctJKv-TLSE"
   ],
   "name": "LeNet-5.ipynb",
   "provenance": [
    {
     "file_id": "1TgtHEDBji4dV3a6YIUmOFESc5OVdKdHa",
     "timestamp": 1647836565932
    },
    {
     "file_id": "19U60xtpYAvZK5Z7cH1ccKsVFnYrTxB1a",
     "timestamp": 1647836546844
    }
   ]
  },
  "kernelspec": {
   "display_name": "Python 3 (ipykernel)",
   "language": "python",
   "name": "python3"
  },
  "language_info": {
   "codemirror_mode": {
    "name": "ipython",
    "version": 3
   },
   "file_extension": ".py",
   "mimetype": "text/x-python",
   "name": "python",
   "nbconvert_exporter": "python",
   "pygments_lexer": "ipython3",
   "version": "3.9.7"
  }
 },
 "nbformat": 4,
 "nbformat_minor": 1
}
